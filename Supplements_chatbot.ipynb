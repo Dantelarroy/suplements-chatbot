{
  "nbformat": 4,
  "nbformat_minor": 0,
  "metadata": {
    "colab": {
      "provenance": [],
      "authorship_tag": "ABX9TyNRTgPwRLGJmsEWRC13Bab6",
      "include_colab_link": true
    },
    "kernelspec": {
      "name": "python3",
      "display_name": "Python 3"
    },
    "language_info": {
      "name": "python"
    },
    "widgets": {
      "application/vnd.jupyter.widget-state+json": {
        "77652f75919e4f26a1cdc528af00fdf5": {
          "model_module": "@jupyter-widgets/controls",
          "model_name": "HBoxModel",
          "model_module_version": "1.5.0",
          "state": {
            "_dom_classes": [],
            "_model_module": "@jupyter-widgets/controls",
            "_model_module_version": "1.5.0",
            "_model_name": "HBoxModel",
            "_view_count": null,
            "_view_module": "@jupyter-widgets/controls",
            "_view_module_version": "1.5.0",
            "_view_name": "HBoxView",
            "box_style": "",
            "children": [
              "IPY_MODEL_ff87baa3682b41d0b302854f7fc4c577",
              "IPY_MODEL_f805e3d1a98f4bd0aa2fb6f3282d9245",
              "IPY_MODEL_00d71e2fa0634a718d7006036f61cff1"
            ],
            "layout": "IPY_MODEL_c66422a77a3849b6be5585f1c76bc699"
          }
        },
        "ff87baa3682b41d0b302854f7fc4c577": {
          "model_module": "@jupyter-widgets/controls",
          "model_name": "HTMLModel",
          "model_module_version": "1.5.0",
          "state": {
            "_dom_classes": [],
            "_model_module": "@jupyter-widgets/controls",
            "_model_module_version": "1.5.0",
            "_model_name": "HTMLModel",
            "_view_count": null,
            "_view_module": "@jupyter-widgets/controls",
            "_view_module_version": "1.5.0",
            "_view_name": "HTMLView",
            "description": "",
            "description_tooltip": null,
            "layout": "IPY_MODEL_8875b39d59d54e1490a55824711f2c52",
            "placeholder": "​",
            "style": "IPY_MODEL_e8453c48bbc44a76bc24023e5693dec8",
            "value": "tokenizer_config.json: 100%"
          }
        },
        "f805e3d1a98f4bd0aa2fb6f3282d9245": {
          "model_module": "@jupyter-widgets/controls",
          "model_name": "FloatProgressModel",
          "model_module_version": "1.5.0",
          "state": {
            "_dom_classes": [],
            "_model_module": "@jupyter-widgets/controls",
            "_model_module_version": "1.5.0",
            "_model_name": "FloatProgressModel",
            "_view_count": null,
            "_view_module": "@jupyter-widgets/controls",
            "_view_module_version": "1.5.0",
            "_view_name": "ProgressView",
            "bar_style": "success",
            "description": "",
            "description_tooltip": null,
            "layout": "IPY_MODEL_13bc123bef18404c9bf59cd660b306a3",
            "max": 418,
            "min": 0,
            "orientation": "horizontal",
            "style": "IPY_MODEL_fec3fb6ef5bb4b4c9cb2f5750e51d987",
            "value": 418
          }
        },
        "00d71e2fa0634a718d7006036f61cff1": {
          "model_module": "@jupyter-widgets/controls",
          "model_name": "HTMLModel",
          "model_module_version": "1.5.0",
          "state": {
            "_dom_classes": [],
            "_model_module": "@jupyter-widgets/controls",
            "_model_module_version": "1.5.0",
            "_model_name": "HTMLModel",
            "_view_count": null,
            "_view_module": "@jupyter-widgets/controls",
            "_view_module_version": "1.5.0",
            "_view_name": "HTMLView",
            "description": "",
            "description_tooltip": null,
            "layout": "IPY_MODEL_089227d32c6b4822ab79972c52c6c09d",
            "placeholder": "​",
            "style": "IPY_MODEL_3b3fdb02007943029d0f1df3f98bb414",
            "value": " 418/418 [00:00&lt;00:00, 11.7kB/s]"
          }
        },
        "c66422a77a3849b6be5585f1c76bc699": {
          "model_module": "@jupyter-widgets/base",
          "model_name": "LayoutModel",
          "model_module_version": "1.2.0",
          "state": {
            "_model_module": "@jupyter-widgets/base",
            "_model_module_version": "1.2.0",
            "_model_name": "LayoutModel",
            "_view_count": null,
            "_view_module": "@jupyter-widgets/base",
            "_view_module_version": "1.2.0",
            "_view_name": "LayoutView",
            "align_content": null,
            "align_items": null,
            "align_self": null,
            "border": null,
            "bottom": null,
            "display": null,
            "flex": null,
            "flex_flow": null,
            "grid_area": null,
            "grid_auto_columns": null,
            "grid_auto_flow": null,
            "grid_auto_rows": null,
            "grid_column": null,
            "grid_gap": null,
            "grid_row": null,
            "grid_template_areas": null,
            "grid_template_columns": null,
            "grid_template_rows": null,
            "height": null,
            "justify_content": null,
            "justify_items": null,
            "left": null,
            "margin": null,
            "max_height": null,
            "max_width": null,
            "min_height": null,
            "min_width": null,
            "object_fit": null,
            "object_position": null,
            "order": null,
            "overflow": null,
            "overflow_x": null,
            "overflow_y": null,
            "padding": null,
            "right": null,
            "top": null,
            "visibility": null,
            "width": null
          }
        },
        "8875b39d59d54e1490a55824711f2c52": {
          "model_module": "@jupyter-widgets/base",
          "model_name": "LayoutModel",
          "model_module_version": "1.2.0",
          "state": {
            "_model_module": "@jupyter-widgets/base",
            "_model_module_version": "1.2.0",
            "_model_name": "LayoutModel",
            "_view_count": null,
            "_view_module": "@jupyter-widgets/base",
            "_view_module_version": "1.2.0",
            "_view_name": "LayoutView",
            "align_content": null,
            "align_items": null,
            "align_self": null,
            "border": null,
            "bottom": null,
            "display": null,
            "flex": null,
            "flex_flow": null,
            "grid_area": null,
            "grid_auto_columns": null,
            "grid_auto_flow": null,
            "grid_auto_rows": null,
            "grid_column": null,
            "grid_gap": null,
            "grid_row": null,
            "grid_template_areas": null,
            "grid_template_columns": null,
            "grid_template_rows": null,
            "height": null,
            "justify_content": null,
            "justify_items": null,
            "left": null,
            "margin": null,
            "max_height": null,
            "max_width": null,
            "min_height": null,
            "min_width": null,
            "object_fit": null,
            "object_position": null,
            "order": null,
            "overflow": null,
            "overflow_x": null,
            "overflow_y": null,
            "padding": null,
            "right": null,
            "top": null,
            "visibility": null,
            "width": null
          }
        },
        "e8453c48bbc44a76bc24023e5693dec8": {
          "model_module": "@jupyter-widgets/controls",
          "model_name": "DescriptionStyleModel",
          "model_module_version": "1.5.0",
          "state": {
            "_model_module": "@jupyter-widgets/controls",
            "_model_module_version": "1.5.0",
            "_model_name": "DescriptionStyleModel",
            "_view_count": null,
            "_view_module": "@jupyter-widgets/base",
            "_view_module_version": "1.2.0",
            "_view_name": "StyleView",
            "description_width": ""
          }
        },
        "13bc123bef18404c9bf59cd660b306a3": {
          "model_module": "@jupyter-widgets/base",
          "model_name": "LayoutModel",
          "model_module_version": "1.2.0",
          "state": {
            "_model_module": "@jupyter-widgets/base",
            "_model_module_version": "1.2.0",
            "_model_name": "LayoutModel",
            "_view_count": null,
            "_view_module": "@jupyter-widgets/base",
            "_view_module_version": "1.2.0",
            "_view_name": "LayoutView",
            "align_content": null,
            "align_items": null,
            "align_self": null,
            "border": null,
            "bottom": null,
            "display": null,
            "flex": null,
            "flex_flow": null,
            "grid_area": null,
            "grid_auto_columns": null,
            "grid_auto_flow": null,
            "grid_auto_rows": null,
            "grid_column": null,
            "grid_gap": null,
            "grid_row": null,
            "grid_template_areas": null,
            "grid_template_columns": null,
            "grid_template_rows": null,
            "height": null,
            "justify_content": null,
            "justify_items": null,
            "left": null,
            "margin": null,
            "max_height": null,
            "max_width": null,
            "min_height": null,
            "min_width": null,
            "object_fit": null,
            "object_position": null,
            "order": null,
            "overflow": null,
            "overflow_x": null,
            "overflow_y": null,
            "padding": null,
            "right": null,
            "top": null,
            "visibility": null,
            "width": null
          }
        },
        "fec3fb6ef5bb4b4c9cb2f5750e51d987": {
          "model_module": "@jupyter-widgets/controls",
          "model_name": "ProgressStyleModel",
          "model_module_version": "1.5.0",
          "state": {
            "_model_module": "@jupyter-widgets/controls",
            "_model_module_version": "1.5.0",
            "_model_name": "ProgressStyleModel",
            "_view_count": null,
            "_view_module": "@jupyter-widgets/base",
            "_view_module_version": "1.2.0",
            "_view_name": "StyleView",
            "bar_color": null,
            "description_width": ""
          }
        },
        "089227d32c6b4822ab79972c52c6c09d": {
          "model_module": "@jupyter-widgets/base",
          "model_name": "LayoutModel",
          "model_module_version": "1.2.0",
          "state": {
            "_model_module": "@jupyter-widgets/base",
            "_model_module_version": "1.2.0",
            "_model_name": "LayoutModel",
            "_view_count": null,
            "_view_module": "@jupyter-widgets/base",
            "_view_module_version": "1.2.0",
            "_view_name": "LayoutView",
            "align_content": null,
            "align_items": null,
            "align_self": null,
            "border": null,
            "bottom": null,
            "display": null,
            "flex": null,
            "flex_flow": null,
            "grid_area": null,
            "grid_auto_columns": null,
            "grid_auto_flow": null,
            "grid_auto_rows": null,
            "grid_column": null,
            "grid_gap": null,
            "grid_row": null,
            "grid_template_areas": null,
            "grid_template_columns": null,
            "grid_template_rows": null,
            "height": null,
            "justify_content": null,
            "justify_items": null,
            "left": null,
            "margin": null,
            "max_height": null,
            "max_width": null,
            "min_height": null,
            "min_width": null,
            "object_fit": null,
            "object_position": null,
            "order": null,
            "overflow": null,
            "overflow_x": null,
            "overflow_y": null,
            "padding": null,
            "right": null,
            "top": null,
            "visibility": null,
            "width": null
          }
        },
        "3b3fdb02007943029d0f1df3f98bb414": {
          "model_module": "@jupyter-widgets/controls",
          "model_name": "DescriptionStyleModel",
          "model_module_version": "1.5.0",
          "state": {
            "_model_module": "@jupyter-widgets/controls",
            "_model_module_version": "1.5.0",
            "_model_name": "DescriptionStyleModel",
            "_view_count": null,
            "_view_module": "@jupyter-widgets/base",
            "_view_module_version": "1.2.0",
            "_view_name": "StyleView",
            "description_width": ""
          }
        },
        "009594dda00f410ca19c36a80e2f5c3f": {
          "model_module": "@jupyter-widgets/controls",
          "model_name": "HBoxModel",
          "model_module_version": "1.5.0",
          "state": {
            "_dom_classes": [],
            "_model_module": "@jupyter-widgets/controls",
            "_model_module_version": "1.5.0",
            "_model_name": "HBoxModel",
            "_view_count": null,
            "_view_module": "@jupyter-widgets/controls",
            "_view_module_version": "1.5.0",
            "_view_name": "HBoxView",
            "box_style": "",
            "children": [
              "IPY_MODEL_1be5b4d1baa942b19a2372f8d5203630",
              "IPY_MODEL_1793552efe314fa0ba4ec75f86b75d68",
              "IPY_MODEL_11655bb556c1486e81a063581796a835"
            ],
            "layout": "IPY_MODEL_e8a57a0919c74835ace903d3d55c0512"
          }
        },
        "1be5b4d1baa942b19a2372f8d5203630": {
          "model_module": "@jupyter-widgets/controls",
          "model_name": "HTMLModel",
          "model_module_version": "1.5.0",
          "state": {
            "_dom_classes": [],
            "_model_module": "@jupyter-widgets/controls",
            "_model_module_version": "1.5.0",
            "_model_name": "HTMLModel",
            "_view_count": null,
            "_view_module": "@jupyter-widgets/controls",
            "_view_module_version": "1.5.0",
            "_view_name": "HTMLView",
            "description": "",
            "description_tooltip": null,
            "layout": "IPY_MODEL_2979e06062c445f2978092d5e7e94ac7",
            "placeholder": "​",
            "style": "IPY_MODEL_61c9911122d84a77848039e590798df0",
            "value": "sentencepiece.bpe.model: 100%"
          }
        },
        "1793552efe314fa0ba4ec75f86b75d68": {
          "model_module": "@jupyter-widgets/controls",
          "model_name": "FloatProgressModel",
          "model_module_version": "1.5.0",
          "state": {
            "_dom_classes": [],
            "_model_module": "@jupyter-widgets/controls",
            "_model_module_version": "1.5.0",
            "_model_name": "FloatProgressModel",
            "_view_count": null,
            "_view_module": "@jupyter-widgets/controls",
            "_view_module_version": "1.5.0",
            "_view_name": "ProgressView",
            "bar_style": "success",
            "description": "",
            "description_tooltip": null,
            "layout": "IPY_MODEL_8813a7ea3dfe40aa9ccfe320e3e45cff",
            "max": 5069051,
            "min": 0,
            "orientation": "horizontal",
            "style": "IPY_MODEL_2e73984b4e524e8a82952fd80f88e067",
            "value": 5069051
          }
        },
        "11655bb556c1486e81a063581796a835": {
          "model_module": "@jupyter-widgets/controls",
          "model_name": "HTMLModel",
          "model_module_version": "1.5.0",
          "state": {
            "_dom_classes": [],
            "_model_module": "@jupyter-widgets/controls",
            "_model_module_version": "1.5.0",
            "_model_name": "HTMLModel",
            "_view_count": null,
            "_view_module": "@jupyter-widgets/controls",
            "_view_module_version": "1.5.0",
            "_view_name": "HTMLView",
            "description": "",
            "description_tooltip": null,
            "layout": "IPY_MODEL_6f096eacabd94cc4bcbd71d536f8f584",
            "placeholder": "​",
            "style": "IPY_MODEL_e8d23d0c844b4a4fb82a85835f2c879c",
            "value": " 5.07M/5.07M [00:00&lt;00:00, 57.5MB/s]"
          }
        },
        "e8a57a0919c74835ace903d3d55c0512": {
          "model_module": "@jupyter-widgets/base",
          "model_name": "LayoutModel",
          "model_module_version": "1.2.0",
          "state": {
            "_model_module": "@jupyter-widgets/base",
            "_model_module_version": "1.2.0",
            "_model_name": "LayoutModel",
            "_view_count": null,
            "_view_module": "@jupyter-widgets/base",
            "_view_module_version": "1.2.0",
            "_view_name": "LayoutView",
            "align_content": null,
            "align_items": null,
            "align_self": null,
            "border": null,
            "bottom": null,
            "display": null,
            "flex": null,
            "flex_flow": null,
            "grid_area": null,
            "grid_auto_columns": null,
            "grid_auto_flow": null,
            "grid_auto_rows": null,
            "grid_column": null,
            "grid_gap": null,
            "grid_row": null,
            "grid_template_areas": null,
            "grid_template_columns": null,
            "grid_template_rows": null,
            "height": null,
            "justify_content": null,
            "justify_items": null,
            "left": null,
            "margin": null,
            "max_height": null,
            "max_width": null,
            "min_height": null,
            "min_width": null,
            "object_fit": null,
            "object_position": null,
            "order": null,
            "overflow": null,
            "overflow_x": null,
            "overflow_y": null,
            "padding": null,
            "right": null,
            "top": null,
            "visibility": null,
            "width": null
          }
        },
        "2979e06062c445f2978092d5e7e94ac7": {
          "model_module": "@jupyter-widgets/base",
          "model_name": "LayoutModel",
          "model_module_version": "1.2.0",
          "state": {
            "_model_module": "@jupyter-widgets/base",
            "_model_module_version": "1.2.0",
            "_model_name": "LayoutModel",
            "_view_count": null,
            "_view_module": "@jupyter-widgets/base",
            "_view_module_version": "1.2.0",
            "_view_name": "LayoutView",
            "align_content": null,
            "align_items": null,
            "align_self": null,
            "border": null,
            "bottom": null,
            "display": null,
            "flex": null,
            "flex_flow": null,
            "grid_area": null,
            "grid_auto_columns": null,
            "grid_auto_flow": null,
            "grid_auto_rows": null,
            "grid_column": null,
            "grid_gap": null,
            "grid_row": null,
            "grid_template_areas": null,
            "grid_template_columns": null,
            "grid_template_rows": null,
            "height": null,
            "justify_content": null,
            "justify_items": null,
            "left": null,
            "margin": null,
            "max_height": null,
            "max_width": null,
            "min_height": null,
            "min_width": null,
            "object_fit": null,
            "object_position": null,
            "order": null,
            "overflow": null,
            "overflow_x": null,
            "overflow_y": null,
            "padding": null,
            "right": null,
            "top": null,
            "visibility": null,
            "width": null
          }
        },
        "61c9911122d84a77848039e590798df0": {
          "model_module": "@jupyter-widgets/controls",
          "model_name": "DescriptionStyleModel",
          "model_module_version": "1.5.0",
          "state": {
            "_model_module": "@jupyter-widgets/controls",
            "_model_module_version": "1.5.0",
            "_model_name": "DescriptionStyleModel",
            "_view_count": null,
            "_view_module": "@jupyter-widgets/base",
            "_view_module_version": "1.2.0",
            "_view_name": "StyleView",
            "description_width": ""
          }
        },
        "8813a7ea3dfe40aa9ccfe320e3e45cff": {
          "model_module": "@jupyter-widgets/base",
          "model_name": "LayoutModel",
          "model_module_version": "1.2.0",
          "state": {
            "_model_module": "@jupyter-widgets/base",
            "_model_module_version": "1.2.0",
            "_model_name": "LayoutModel",
            "_view_count": null,
            "_view_module": "@jupyter-widgets/base",
            "_view_module_version": "1.2.0",
            "_view_name": "LayoutView",
            "align_content": null,
            "align_items": null,
            "align_self": null,
            "border": null,
            "bottom": null,
            "display": null,
            "flex": null,
            "flex_flow": null,
            "grid_area": null,
            "grid_auto_columns": null,
            "grid_auto_flow": null,
            "grid_auto_rows": null,
            "grid_column": null,
            "grid_gap": null,
            "grid_row": null,
            "grid_template_areas": null,
            "grid_template_columns": null,
            "grid_template_rows": null,
            "height": null,
            "justify_content": null,
            "justify_items": null,
            "left": null,
            "margin": null,
            "max_height": null,
            "max_width": null,
            "min_height": null,
            "min_width": null,
            "object_fit": null,
            "object_position": null,
            "order": null,
            "overflow": null,
            "overflow_x": null,
            "overflow_y": null,
            "padding": null,
            "right": null,
            "top": null,
            "visibility": null,
            "width": null
          }
        },
        "2e73984b4e524e8a82952fd80f88e067": {
          "model_module": "@jupyter-widgets/controls",
          "model_name": "ProgressStyleModel",
          "model_module_version": "1.5.0",
          "state": {
            "_model_module": "@jupyter-widgets/controls",
            "_model_module_version": "1.5.0",
            "_model_name": "ProgressStyleModel",
            "_view_count": null,
            "_view_module": "@jupyter-widgets/base",
            "_view_module_version": "1.2.0",
            "_view_name": "StyleView",
            "bar_color": null,
            "description_width": ""
          }
        },
        "6f096eacabd94cc4bcbd71d536f8f584": {
          "model_module": "@jupyter-widgets/base",
          "model_name": "LayoutModel",
          "model_module_version": "1.2.0",
          "state": {
            "_model_module": "@jupyter-widgets/base",
            "_model_module_version": "1.2.0",
            "_model_name": "LayoutModel",
            "_view_count": null,
            "_view_module": "@jupyter-widgets/base",
            "_view_module_version": "1.2.0",
            "_view_name": "LayoutView",
            "align_content": null,
            "align_items": null,
            "align_self": null,
            "border": null,
            "bottom": null,
            "display": null,
            "flex": null,
            "flex_flow": null,
            "grid_area": null,
            "grid_auto_columns": null,
            "grid_auto_flow": null,
            "grid_auto_rows": null,
            "grid_column": null,
            "grid_gap": null,
            "grid_row": null,
            "grid_template_areas": null,
            "grid_template_columns": null,
            "grid_template_rows": null,
            "height": null,
            "justify_content": null,
            "justify_items": null,
            "left": null,
            "margin": null,
            "max_height": null,
            "max_width": null,
            "min_height": null,
            "min_width": null,
            "object_fit": null,
            "object_position": null,
            "order": null,
            "overflow": null,
            "overflow_x": null,
            "overflow_y": null,
            "padding": null,
            "right": null,
            "top": null,
            "visibility": null,
            "width": null
          }
        },
        "e8d23d0c844b4a4fb82a85835f2c879c": {
          "model_module": "@jupyter-widgets/controls",
          "model_name": "DescriptionStyleModel",
          "model_module_version": "1.5.0",
          "state": {
            "_model_module": "@jupyter-widgets/controls",
            "_model_module_version": "1.5.0",
            "_model_name": "DescriptionStyleModel",
            "_view_count": null,
            "_view_module": "@jupyter-widgets/base",
            "_view_module_version": "1.2.0",
            "_view_name": "StyleView",
            "description_width": ""
          }
        },
        "5653b16dec954c18aff51d48dc50a3ea": {
          "model_module": "@jupyter-widgets/controls",
          "model_name": "HBoxModel",
          "model_module_version": "1.5.0",
          "state": {
            "_dom_classes": [],
            "_model_module": "@jupyter-widgets/controls",
            "_model_module_version": "1.5.0",
            "_model_name": "HBoxModel",
            "_view_count": null,
            "_view_module": "@jupyter-widgets/controls",
            "_view_module_version": "1.5.0",
            "_view_name": "HBoxView",
            "box_style": "",
            "children": [
              "IPY_MODEL_9a65cbb3f21c42da950dda9e8d189cfa",
              "IPY_MODEL_c7679350f86c42f6bf0cf53d7f9d78e6",
              "IPY_MODEL_01cbae0f2a104e399729a2bb2768d1dc"
            ],
            "layout": "IPY_MODEL_f21f8f512625480b8d8d0513829f4578"
          }
        },
        "9a65cbb3f21c42da950dda9e8d189cfa": {
          "model_module": "@jupyter-widgets/controls",
          "model_name": "HTMLModel",
          "model_module_version": "1.5.0",
          "state": {
            "_dom_classes": [],
            "_model_module": "@jupyter-widgets/controls",
            "_model_module_version": "1.5.0",
            "_model_name": "HTMLModel",
            "_view_count": null,
            "_view_module": "@jupyter-widgets/controls",
            "_view_module_version": "1.5.0",
            "_view_name": "HTMLView",
            "description": "",
            "description_tooltip": null,
            "layout": "IPY_MODEL_24461f5422a54b87ad8f3b095dfee92a",
            "placeholder": "​",
            "style": "IPY_MODEL_7aac5867ad8b41f885e6cd1bf4fd94c5",
            "value": "tokenizer.json: 100%"
          }
        },
        "c7679350f86c42f6bf0cf53d7f9d78e6": {
          "model_module": "@jupyter-widgets/controls",
          "model_name": "FloatProgressModel",
          "model_module_version": "1.5.0",
          "state": {
            "_dom_classes": [],
            "_model_module": "@jupyter-widgets/controls",
            "_model_module_version": "1.5.0",
            "_model_name": "FloatProgressModel",
            "_view_count": null,
            "_view_module": "@jupyter-widgets/controls",
            "_view_module_version": "1.5.0",
            "_view_name": "ProgressView",
            "bar_style": "success",
            "description": "",
            "description_tooltip": null,
            "layout": "IPY_MODEL_c10de17b7e77467ba9f8181a01df00f9",
            "max": 17082660,
            "min": 0,
            "orientation": "horizontal",
            "style": "IPY_MODEL_033c92f95f8d4be4b79439cd85c1aae4",
            "value": 17082660
          }
        },
        "01cbae0f2a104e399729a2bb2768d1dc": {
          "model_module": "@jupyter-widgets/controls",
          "model_name": "HTMLModel",
          "model_module_version": "1.5.0",
          "state": {
            "_dom_classes": [],
            "_model_module": "@jupyter-widgets/controls",
            "_model_module_version": "1.5.0",
            "_model_name": "HTMLModel",
            "_view_count": null,
            "_view_module": "@jupyter-widgets/controls",
            "_view_module_version": "1.5.0",
            "_view_name": "HTMLView",
            "description": "",
            "description_tooltip": null,
            "layout": "IPY_MODEL_0e9c55a9c17843a2aad1fd3cb9c5f56f",
            "placeholder": "​",
            "style": "IPY_MODEL_03122cf478f248ffb827b4d87b285665",
            "value": " 17.1M/17.1M [00:00&lt;00:00, 101MB/s]"
          }
        },
        "f21f8f512625480b8d8d0513829f4578": {
          "model_module": "@jupyter-widgets/base",
          "model_name": "LayoutModel",
          "model_module_version": "1.2.0",
          "state": {
            "_model_module": "@jupyter-widgets/base",
            "_model_module_version": "1.2.0",
            "_model_name": "LayoutModel",
            "_view_count": null,
            "_view_module": "@jupyter-widgets/base",
            "_view_module_version": "1.2.0",
            "_view_name": "LayoutView",
            "align_content": null,
            "align_items": null,
            "align_self": null,
            "border": null,
            "bottom": null,
            "display": null,
            "flex": null,
            "flex_flow": null,
            "grid_area": null,
            "grid_auto_columns": null,
            "grid_auto_flow": null,
            "grid_auto_rows": null,
            "grid_column": null,
            "grid_gap": null,
            "grid_row": null,
            "grid_template_areas": null,
            "grid_template_columns": null,
            "grid_template_rows": null,
            "height": null,
            "justify_content": null,
            "justify_items": null,
            "left": null,
            "margin": null,
            "max_height": null,
            "max_width": null,
            "min_height": null,
            "min_width": null,
            "object_fit": null,
            "object_position": null,
            "order": null,
            "overflow": null,
            "overflow_x": null,
            "overflow_y": null,
            "padding": null,
            "right": null,
            "top": null,
            "visibility": null,
            "width": null
          }
        },
        "24461f5422a54b87ad8f3b095dfee92a": {
          "model_module": "@jupyter-widgets/base",
          "model_name": "LayoutModel",
          "model_module_version": "1.2.0",
          "state": {
            "_model_module": "@jupyter-widgets/base",
            "_model_module_version": "1.2.0",
            "_model_name": "LayoutModel",
            "_view_count": null,
            "_view_module": "@jupyter-widgets/base",
            "_view_module_version": "1.2.0",
            "_view_name": "LayoutView",
            "align_content": null,
            "align_items": null,
            "align_self": null,
            "border": null,
            "bottom": null,
            "display": null,
            "flex": null,
            "flex_flow": null,
            "grid_area": null,
            "grid_auto_columns": null,
            "grid_auto_flow": null,
            "grid_auto_rows": null,
            "grid_column": null,
            "grid_gap": null,
            "grid_row": null,
            "grid_template_areas": null,
            "grid_template_columns": null,
            "grid_template_rows": null,
            "height": null,
            "justify_content": null,
            "justify_items": null,
            "left": null,
            "margin": null,
            "max_height": null,
            "max_width": null,
            "min_height": null,
            "min_width": null,
            "object_fit": null,
            "object_position": null,
            "order": null,
            "overflow": null,
            "overflow_x": null,
            "overflow_y": null,
            "padding": null,
            "right": null,
            "top": null,
            "visibility": null,
            "width": null
          }
        },
        "7aac5867ad8b41f885e6cd1bf4fd94c5": {
          "model_module": "@jupyter-widgets/controls",
          "model_name": "DescriptionStyleModel",
          "model_module_version": "1.5.0",
          "state": {
            "_model_module": "@jupyter-widgets/controls",
            "_model_module_version": "1.5.0",
            "_model_name": "DescriptionStyleModel",
            "_view_count": null,
            "_view_module": "@jupyter-widgets/base",
            "_view_module_version": "1.2.0",
            "_view_name": "StyleView",
            "description_width": ""
          }
        },
        "c10de17b7e77467ba9f8181a01df00f9": {
          "model_module": "@jupyter-widgets/base",
          "model_name": "LayoutModel",
          "model_module_version": "1.2.0",
          "state": {
            "_model_module": "@jupyter-widgets/base",
            "_model_module_version": "1.2.0",
            "_model_name": "LayoutModel",
            "_view_count": null,
            "_view_module": "@jupyter-widgets/base",
            "_view_module_version": "1.2.0",
            "_view_name": "LayoutView",
            "align_content": null,
            "align_items": null,
            "align_self": null,
            "border": null,
            "bottom": null,
            "display": null,
            "flex": null,
            "flex_flow": null,
            "grid_area": null,
            "grid_auto_columns": null,
            "grid_auto_flow": null,
            "grid_auto_rows": null,
            "grid_column": null,
            "grid_gap": null,
            "grid_row": null,
            "grid_template_areas": null,
            "grid_template_columns": null,
            "grid_template_rows": null,
            "height": null,
            "justify_content": null,
            "justify_items": null,
            "left": null,
            "margin": null,
            "max_height": null,
            "max_width": null,
            "min_height": null,
            "min_width": null,
            "object_fit": null,
            "object_position": null,
            "order": null,
            "overflow": null,
            "overflow_x": null,
            "overflow_y": null,
            "padding": null,
            "right": null,
            "top": null,
            "visibility": null,
            "width": null
          }
        },
        "033c92f95f8d4be4b79439cd85c1aae4": {
          "model_module": "@jupyter-widgets/controls",
          "model_name": "ProgressStyleModel",
          "model_module_version": "1.5.0",
          "state": {
            "_model_module": "@jupyter-widgets/controls",
            "_model_module_version": "1.5.0",
            "_model_name": "ProgressStyleModel",
            "_view_count": null,
            "_view_module": "@jupyter-widgets/base",
            "_view_module_version": "1.2.0",
            "_view_name": "StyleView",
            "bar_color": null,
            "description_width": ""
          }
        },
        "0e9c55a9c17843a2aad1fd3cb9c5f56f": {
          "model_module": "@jupyter-widgets/base",
          "model_name": "LayoutModel",
          "model_module_version": "1.2.0",
          "state": {
            "_model_module": "@jupyter-widgets/base",
            "_model_module_version": "1.2.0",
            "_model_name": "LayoutModel",
            "_view_count": null,
            "_view_module": "@jupyter-widgets/base",
            "_view_module_version": "1.2.0",
            "_view_name": "LayoutView",
            "align_content": null,
            "align_items": null,
            "align_self": null,
            "border": null,
            "bottom": null,
            "display": null,
            "flex": null,
            "flex_flow": null,
            "grid_area": null,
            "grid_auto_columns": null,
            "grid_auto_flow": null,
            "grid_auto_rows": null,
            "grid_column": null,
            "grid_gap": null,
            "grid_row": null,
            "grid_template_areas": null,
            "grid_template_columns": null,
            "grid_template_rows": null,
            "height": null,
            "justify_content": null,
            "justify_items": null,
            "left": null,
            "margin": null,
            "max_height": null,
            "max_width": null,
            "min_height": null,
            "min_width": null,
            "object_fit": null,
            "object_position": null,
            "order": null,
            "overflow": null,
            "overflow_x": null,
            "overflow_y": null,
            "padding": null,
            "right": null,
            "top": null,
            "visibility": null,
            "width": null
          }
        },
        "03122cf478f248ffb827b4d87b285665": {
          "model_module": "@jupyter-widgets/controls",
          "model_name": "DescriptionStyleModel",
          "model_module_version": "1.5.0",
          "state": {
            "_model_module": "@jupyter-widgets/controls",
            "_model_module_version": "1.5.0",
            "_model_name": "DescriptionStyleModel",
            "_view_count": null,
            "_view_module": "@jupyter-widgets/base",
            "_view_module_version": "1.2.0",
            "_view_name": "StyleView",
            "description_width": ""
          }
        },
        "51fc35f3a09b496db2ccb430b49afb2a": {
          "model_module": "@jupyter-widgets/controls",
          "model_name": "HBoxModel",
          "model_module_version": "1.5.0",
          "state": {
            "_dom_classes": [],
            "_model_module": "@jupyter-widgets/controls",
            "_model_module_version": "1.5.0",
            "_model_name": "HBoxModel",
            "_view_count": null,
            "_view_module": "@jupyter-widgets/controls",
            "_view_module_version": "1.5.0",
            "_view_name": "HBoxView",
            "box_style": "",
            "children": [
              "IPY_MODEL_7dc6a6a2fb874d7bb04638ed2cffc383",
              "IPY_MODEL_b54b1a9a5afb404fa2637cf348d50d72",
              "IPY_MODEL_5fc8fae1644a4ee08711316835c735e0"
            ],
            "layout": "IPY_MODEL_eab6f08d86354272a87cf17cb629e146"
          }
        },
        "7dc6a6a2fb874d7bb04638ed2cffc383": {
          "model_module": "@jupyter-widgets/controls",
          "model_name": "HTMLModel",
          "model_module_version": "1.5.0",
          "state": {
            "_dom_classes": [],
            "_model_module": "@jupyter-widgets/controls",
            "_model_module_version": "1.5.0",
            "_model_name": "HTMLModel",
            "_view_count": null,
            "_view_module": "@jupyter-widgets/controls",
            "_view_module_version": "1.5.0",
            "_view_name": "HTMLView",
            "description": "",
            "description_tooltip": null,
            "layout": "IPY_MODEL_ddc9d3fef87d4ca5b579c7cac57bd2aa",
            "placeholder": "​",
            "style": "IPY_MODEL_ebb7acf6573149de8b2e8a7f96f2479f",
            "value": "special_tokens_map.json: 100%"
          }
        },
        "b54b1a9a5afb404fa2637cf348d50d72": {
          "model_module": "@jupyter-widgets/controls",
          "model_name": "FloatProgressModel",
          "model_module_version": "1.5.0",
          "state": {
            "_dom_classes": [],
            "_model_module": "@jupyter-widgets/controls",
            "_model_module_version": "1.5.0",
            "_model_name": "FloatProgressModel",
            "_view_count": null,
            "_view_module": "@jupyter-widgets/controls",
            "_view_module_version": "1.5.0",
            "_view_name": "ProgressView",
            "bar_style": "success",
            "description": "",
            "description_tooltip": null,
            "layout": "IPY_MODEL_24b07102142a43359d63976b5c3c48cc",
            "max": 280,
            "min": 0,
            "orientation": "horizontal",
            "style": "IPY_MODEL_6787e1dea25f49a3ad1a8d5ce8cdab54",
            "value": 280
          }
        },
        "5fc8fae1644a4ee08711316835c735e0": {
          "model_module": "@jupyter-widgets/controls",
          "model_name": "HTMLModel",
          "model_module_version": "1.5.0",
          "state": {
            "_dom_classes": [],
            "_model_module": "@jupyter-widgets/controls",
            "_model_module_version": "1.5.0",
            "_model_name": "HTMLModel",
            "_view_count": null,
            "_view_module": "@jupyter-widgets/controls",
            "_view_module_version": "1.5.0",
            "_view_name": "HTMLView",
            "description": "",
            "description_tooltip": null,
            "layout": "IPY_MODEL_248ccb4851464abb977e4b18e044faf1",
            "placeholder": "​",
            "style": "IPY_MODEL_7f993bfc388f495da9fd90b8f5ec7b14",
            "value": " 280/280 [00:00&lt;00:00, 4.60kB/s]"
          }
        },
        "eab6f08d86354272a87cf17cb629e146": {
          "model_module": "@jupyter-widgets/base",
          "model_name": "LayoutModel",
          "model_module_version": "1.2.0",
          "state": {
            "_model_module": "@jupyter-widgets/base",
            "_model_module_version": "1.2.0",
            "_model_name": "LayoutModel",
            "_view_count": null,
            "_view_module": "@jupyter-widgets/base",
            "_view_module_version": "1.2.0",
            "_view_name": "LayoutView",
            "align_content": null,
            "align_items": null,
            "align_self": null,
            "border": null,
            "bottom": null,
            "display": null,
            "flex": null,
            "flex_flow": null,
            "grid_area": null,
            "grid_auto_columns": null,
            "grid_auto_flow": null,
            "grid_auto_rows": null,
            "grid_column": null,
            "grid_gap": null,
            "grid_row": null,
            "grid_template_areas": null,
            "grid_template_columns": null,
            "grid_template_rows": null,
            "height": null,
            "justify_content": null,
            "justify_items": null,
            "left": null,
            "margin": null,
            "max_height": null,
            "max_width": null,
            "min_height": null,
            "min_width": null,
            "object_fit": null,
            "object_position": null,
            "order": null,
            "overflow": null,
            "overflow_x": null,
            "overflow_y": null,
            "padding": null,
            "right": null,
            "top": null,
            "visibility": null,
            "width": null
          }
        },
        "ddc9d3fef87d4ca5b579c7cac57bd2aa": {
          "model_module": "@jupyter-widgets/base",
          "model_name": "LayoutModel",
          "model_module_version": "1.2.0",
          "state": {
            "_model_module": "@jupyter-widgets/base",
            "_model_module_version": "1.2.0",
            "_model_name": "LayoutModel",
            "_view_count": null,
            "_view_module": "@jupyter-widgets/base",
            "_view_module_version": "1.2.0",
            "_view_name": "LayoutView",
            "align_content": null,
            "align_items": null,
            "align_self": null,
            "border": null,
            "bottom": null,
            "display": null,
            "flex": null,
            "flex_flow": null,
            "grid_area": null,
            "grid_auto_columns": null,
            "grid_auto_flow": null,
            "grid_auto_rows": null,
            "grid_column": null,
            "grid_gap": null,
            "grid_row": null,
            "grid_template_areas": null,
            "grid_template_columns": null,
            "grid_template_rows": null,
            "height": null,
            "justify_content": null,
            "justify_items": null,
            "left": null,
            "margin": null,
            "max_height": null,
            "max_width": null,
            "min_height": null,
            "min_width": null,
            "object_fit": null,
            "object_position": null,
            "order": null,
            "overflow": null,
            "overflow_x": null,
            "overflow_y": null,
            "padding": null,
            "right": null,
            "top": null,
            "visibility": null,
            "width": null
          }
        },
        "ebb7acf6573149de8b2e8a7f96f2479f": {
          "model_module": "@jupyter-widgets/controls",
          "model_name": "DescriptionStyleModel",
          "model_module_version": "1.5.0",
          "state": {
            "_model_module": "@jupyter-widgets/controls",
            "_model_module_version": "1.5.0",
            "_model_name": "DescriptionStyleModel",
            "_view_count": null,
            "_view_module": "@jupyter-widgets/base",
            "_view_module_version": "1.2.0",
            "_view_name": "StyleView",
            "description_width": ""
          }
        },
        "24b07102142a43359d63976b5c3c48cc": {
          "model_module": "@jupyter-widgets/base",
          "model_name": "LayoutModel",
          "model_module_version": "1.2.0",
          "state": {
            "_model_module": "@jupyter-widgets/base",
            "_model_module_version": "1.2.0",
            "_model_name": "LayoutModel",
            "_view_count": null,
            "_view_module": "@jupyter-widgets/base",
            "_view_module_version": "1.2.0",
            "_view_name": "LayoutView",
            "align_content": null,
            "align_items": null,
            "align_self": null,
            "border": null,
            "bottom": null,
            "display": null,
            "flex": null,
            "flex_flow": null,
            "grid_area": null,
            "grid_auto_columns": null,
            "grid_auto_flow": null,
            "grid_auto_rows": null,
            "grid_column": null,
            "grid_gap": null,
            "grid_row": null,
            "grid_template_areas": null,
            "grid_template_columns": null,
            "grid_template_rows": null,
            "height": null,
            "justify_content": null,
            "justify_items": null,
            "left": null,
            "margin": null,
            "max_height": null,
            "max_width": null,
            "min_height": null,
            "min_width": null,
            "object_fit": null,
            "object_position": null,
            "order": null,
            "overflow": null,
            "overflow_x": null,
            "overflow_y": null,
            "padding": null,
            "right": null,
            "top": null,
            "visibility": null,
            "width": null
          }
        },
        "6787e1dea25f49a3ad1a8d5ce8cdab54": {
          "model_module": "@jupyter-widgets/controls",
          "model_name": "ProgressStyleModel",
          "model_module_version": "1.5.0",
          "state": {
            "_model_module": "@jupyter-widgets/controls",
            "_model_module_version": "1.5.0",
            "_model_name": "ProgressStyleModel",
            "_view_count": null,
            "_view_module": "@jupyter-widgets/base",
            "_view_module_version": "1.2.0",
            "_view_name": "StyleView",
            "bar_color": null,
            "description_width": ""
          }
        },
        "248ccb4851464abb977e4b18e044faf1": {
          "model_module": "@jupyter-widgets/base",
          "model_name": "LayoutModel",
          "model_module_version": "1.2.0",
          "state": {
            "_model_module": "@jupyter-widgets/base",
            "_model_module_version": "1.2.0",
            "_model_name": "LayoutModel",
            "_view_count": null,
            "_view_module": "@jupyter-widgets/base",
            "_view_module_version": "1.2.0",
            "_view_name": "LayoutView",
            "align_content": null,
            "align_items": null,
            "align_self": null,
            "border": null,
            "bottom": null,
            "display": null,
            "flex": null,
            "flex_flow": null,
            "grid_area": null,
            "grid_auto_columns": null,
            "grid_auto_flow": null,
            "grid_auto_rows": null,
            "grid_column": null,
            "grid_gap": null,
            "grid_row": null,
            "grid_template_areas": null,
            "grid_template_columns": null,
            "grid_template_rows": null,
            "height": null,
            "justify_content": null,
            "justify_items": null,
            "left": null,
            "margin": null,
            "max_height": null,
            "max_width": null,
            "min_height": null,
            "min_width": null,
            "object_fit": null,
            "object_position": null,
            "order": null,
            "overflow": null,
            "overflow_x": null,
            "overflow_y": null,
            "padding": null,
            "right": null,
            "top": null,
            "visibility": null,
            "width": null
          }
        },
        "7f993bfc388f495da9fd90b8f5ec7b14": {
          "model_module": "@jupyter-widgets/controls",
          "model_name": "DescriptionStyleModel",
          "model_module_version": "1.5.0",
          "state": {
            "_model_module": "@jupyter-widgets/controls",
            "_model_module_version": "1.5.0",
            "_model_name": "DescriptionStyleModel",
            "_view_count": null,
            "_view_module": "@jupyter-widgets/base",
            "_view_module_version": "1.2.0",
            "_view_name": "StyleView",
            "description_width": ""
          }
        },
        "13addc232bfe4d5fb5697e4029db089c": {
          "model_module": "@jupyter-widgets/controls",
          "model_name": "HBoxModel",
          "model_module_version": "1.5.0",
          "state": {
            "_dom_classes": [],
            "_model_module": "@jupyter-widgets/controls",
            "_model_module_version": "1.5.0",
            "_model_name": "HBoxModel",
            "_view_count": null,
            "_view_module": "@jupyter-widgets/controls",
            "_view_module_version": "1.5.0",
            "_view_name": "HBoxView",
            "box_style": "",
            "children": [
              "IPY_MODEL_922c6dc521bb4454a6ca6214c74d39b2",
              "IPY_MODEL_52ca13fc144c40e19fb1c1997724a9d1",
              "IPY_MODEL_ec253e8320484c539995c44278944d00"
            ],
            "layout": "IPY_MODEL_4cbf8267344b4c48a97ef25db7d808e2"
          }
        },
        "922c6dc521bb4454a6ca6214c74d39b2": {
          "model_module": "@jupyter-widgets/controls",
          "model_name": "HTMLModel",
          "model_module_version": "1.5.0",
          "state": {
            "_dom_classes": [],
            "_model_module": "@jupyter-widgets/controls",
            "_model_module_version": "1.5.0",
            "_model_name": "HTMLModel",
            "_view_count": null,
            "_view_module": "@jupyter-widgets/controls",
            "_view_module_version": "1.5.0",
            "_view_name": "HTMLView",
            "description": "",
            "description_tooltip": null,
            "layout": "IPY_MODEL_811d44c5fb1e44acbf70d4341e121478",
            "placeholder": "​",
            "style": "IPY_MODEL_b4cc13cba3db40e6ab76e19d11433bff",
            "value": "config.json: 100%"
          }
        },
        "52ca13fc144c40e19fb1c1997724a9d1": {
          "model_module": "@jupyter-widgets/controls",
          "model_name": "FloatProgressModel",
          "model_module_version": "1.5.0",
          "state": {
            "_dom_classes": [],
            "_model_module": "@jupyter-widgets/controls",
            "_model_module_version": "1.5.0",
            "_model_name": "FloatProgressModel",
            "_view_count": null,
            "_view_module": "@jupyter-widgets/controls",
            "_view_module_version": "1.5.0",
            "_view_name": "ProgressView",
            "bar_style": "success",
            "description": "",
            "description_tooltip": null,
            "layout": "IPY_MODEL_8140528847444ab5bc8e282cc3cb259a",
            "max": 690,
            "min": 0,
            "orientation": "horizontal",
            "style": "IPY_MODEL_fcd6e7946d834a389fb8242f5a8d5eb6",
            "value": 690
          }
        },
        "ec253e8320484c539995c44278944d00": {
          "model_module": "@jupyter-widgets/controls",
          "model_name": "HTMLModel",
          "model_module_version": "1.5.0",
          "state": {
            "_dom_classes": [],
            "_model_module": "@jupyter-widgets/controls",
            "_model_module_version": "1.5.0",
            "_model_name": "HTMLModel",
            "_view_count": null,
            "_view_module": "@jupyter-widgets/controls",
            "_view_module_version": "1.5.0",
            "_view_name": "HTMLView",
            "description": "",
            "description_tooltip": null,
            "layout": "IPY_MODEL_59c0829cac7c454ea1c2d6969bd67928",
            "placeholder": "​",
            "style": "IPY_MODEL_83ea3fb0012d4f66a6e4285637e4e787",
            "value": " 690/690 [00:00&lt;00:00, 12.5kB/s]"
          }
        },
        "4cbf8267344b4c48a97ef25db7d808e2": {
          "model_module": "@jupyter-widgets/base",
          "model_name": "LayoutModel",
          "model_module_version": "1.2.0",
          "state": {
            "_model_module": "@jupyter-widgets/base",
            "_model_module_version": "1.2.0",
            "_model_name": "LayoutModel",
            "_view_count": null,
            "_view_module": "@jupyter-widgets/base",
            "_view_module_version": "1.2.0",
            "_view_name": "LayoutView",
            "align_content": null,
            "align_items": null,
            "align_self": null,
            "border": null,
            "bottom": null,
            "display": null,
            "flex": null,
            "flex_flow": null,
            "grid_area": null,
            "grid_auto_columns": null,
            "grid_auto_flow": null,
            "grid_auto_rows": null,
            "grid_column": null,
            "grid_gap": null,
            "grid_row": null,
            "grid_template_areas": null,
            "grid_template_columns": null,
            "grid_template_rows": null,
            "height": null,
            "justify_content": null,
            "justify_items": null,
            "left": null,
            "margin": null,
            "max_height": null,
            "max_width": null,
            "min_height": null,
            "min_width": null,
            "object_fit": null,
            "object_position": null,
            "order": null,
            "overflow": null,
            "overflow_x": null,
            "overflow_y": null,
            "padding": null,
            "right": null,
            "top": null,
            "visibility": null,
            "width": null
          }
        },
        "811d44c5fb1e44acbf70d4341e121478": {
          "model_module": "@jupyter-widgets/base",
          "model_name": "LayoutModel",
          "model_module_version": "1.2.0",
          "state": {
            "_model_module": "@jupyter-widgets/base",
            "_model_module_version": "1.2.0",
            "_model_name": "LayoutModel",
            "_view_count": null,
            "_view_module": "@jupyter-widgets/base",
            "_view_module_version": "1.2.0",
            "_view_name": "LayoutView",
            "align_content": null,
            "align_items": null,
            "align_self": null,
            "border": null,
            "bottom": null,
            "display": null,
            "flex": null,
            "flex_flow": null,
            "grid_area": null,
            "grid_auto_columns": null,
            "grid_auto_flow": null,
            "grid_auto_rows": null,
            "grid_column": null,
            "grid_gap": null,
            "grid_row": null,
            "grid_template_areas": null,
            "grid_template_columns": null,
            "grid_template_rows": null,
            "height": null,
            "justify_content": null,
            "justify_items": null,
            "left": null,
            "margin": null,
            "max_height": null,
            "max_width": null,
            "min_height": null,
            "min_width": null,
            "object_fit": null,
            "object_position": null,
            "order": null,
            "overflow": null,
            "overflow_x": null,
            "overflow_y": null,
            "padding": null,
            "right": null,
            "top": null,
            "visibility": null,
            "width": null
          }
        },
        "b4cc13cba3db40e6ab76e19d11433bff": {
          "model_module": "@jupyter-widgets/controls",
          "model_name": "DescriptionStyleModel",
          "model_module_version": "1.5.0",
          "state": {
            "_model_module": "@jupyter-widgets/controls",
            "_model_module_version": "1.5.0",
            "_model_name": "DescriptionStyleModel",
            "_view_count": null,
            "_view_module": "@jupyter-widgets/base",
            "_view_module_version": "1.2.0",
            "_view_name": "StyleView",
            "description_width": ""
          }
        },
        "8140528847444ab5bc8e282cc3cb259a": {
          "model_module": "@jupyter-widgets/base",
          "model_name": "LayoutModel",
          "model_module_version": "1.2.0",
          "state": {
            "_model_module": "@jupyter-widgets/base",
            "_model_module_version": "1.2.0",
            "_model_name": "LayoutModel",
            "_view_count": null,
            "_view_module": "@jupyter-widgets/base",
            "_view_module_version": "1.2.0",
            "_view_name": "LayoutView",
            "align_content": null,
            "align_items": null,
            "align_self": null,
            "border": null,
            "bottom": null,
            "display": null,
            "flex": null,
            "flex_flow": null,
            "grid_area": null,
            "grid_auto_columns": null,
            "grid_auto_flow": null,
            "grid_auto_rows": null,
            "grid_column": null,
            "grid_gap": null,
            "grid_row": null,
            "grid_template_areas": null,
            "grid_template_columns": null,
            "grid_template_rows": null,
            "height": null,
            "justify_content": null,
            "justify_items": null,
            "left": null,
            "margin": null,
            "max_height": null,
            "max_width": null,
            "min_height": null,
            "min_width": null,
            "object_fit": null,
            "object_position": null,
            "order": null,
            "overflow": null,
            "overflow_x": null,
            "overflow_y": null,
            "padding": null,
            "right": null,
            "top": null,
            "visibility": null,
            "width": null
          }
        },
        "fcd6e7946d834a389fb8242f5a8d5eb6": {
          "model_module": "@jupyter-widgets/controls",
          "model_name": "ProgressStyleModel",
          "model_module_version": "1.5.0",
          "state": {
            "_model_module": "@jupyter-widgets/controls",
            "_model_module_version": "1.5.0",
            "_model_name": "ProgressStyleModel",
            "_view_count": null,
            "_view_module": "@jupyter-widgets/base",
            "_view_module_version": "1.2.0",
            "_view_name": "StyleView",
            "bar_color": null,
            "description_width": ""
          }
        },
        "59c0829cac7c454ea1c2d6969bd67928": {
          "model_module": "@jupyter-widgets/base",
          "model_name": "LayoutModel",
          "model_module_version": "1.2.0",
          "state": {
            "_model_module": "@jupyter-widgets/base",
            "_model_module_version": "1.2.0",
            "_model_name": "LayoutModel",
            "_view_count": null,
            "_view_module": "@jupyter-widgets/base",
            "_view_module_version": "1.2.0",
            "_view_name": "LayoutView",
            "align_content": null,
            "align_items": null,
            "align_self": null,
            "border": null,
            "bottom": null,
            "display": null,
            "flex": null,
            "flex_flow": null,
            "grid_area": null,
            "grid_auto_columns": null,
            "grid_auto_flow": null,
            "grid_auto_rows": null,
            "grid_column": null,
            "grid_gap": null,
            "grid_row": null,
            "grid_template_areas": null,
            "grid_template_columns": null,
            "grid_template_rows": null,
            "height": null,
            "justify_content": null,
            "justify_items": null,
            "left": null,
            "margin": null,
            "max_height": null,
            "max_width": null,
            "min_height": null,
            "min_width": null,
            "object_fit": null,
            "object_position": null,
            "order": null,
            "overflow": null,
            "overflow_x": null,
            "overflow_y": null,
            "padding": null,
            "right": null,
            "top": null,
            "visibility": null,
            "width": null
          }
        },
        "83ea3fb0012d4f66a6e4285637e4e787": {
          "model_module": "@jupyter-widgets/controls",
          "model_name": "DescriptionStyleModel",
          "model_module_version": "1.5.0",
          "state": {
            "_model_module": "@jupyter-widgets/controls",
            "_model_module_version": "1.5.0",
            "_model_name": "DescriptionStyleModel",
            "_view_count": null,
            "_view_module": "@jupyter-widgets/base",
            "_view_module_version": "1.2.0",
            "_view_name": "StyleView",
            "description_width": ""
          }
        },
        "7fb285db83034b7ea2098e7f69020321": {
          "model_module": "@jupyter-widgets/controls",
          "model_name": "HBoxModel",
          "model_module_version": "1.5.0",
          "state": {
            "_dom_classes": [],
            "_model_module": "@jupyter-widgets/controls",
            "_model_module_version": "1.5.0",
            "_model_name": "HBoxModel",
            "_view_count": null,
            "_view_module": "@jupyter-widgets/controls",
            "_view_module_version": "1.5.0",
            "_view_name": "HBoxView",
            "box_style": "",
            "children": [
              "IPY_MODEL_e77fc567fe694061935d1b2ca24f18bd",
              "IPY_MODEL_52abc523311342fc8b4517c98990cd4e",
              "IPY_MODEL_7f70ed20fca84244818770a9f4b20f70"
            ],
            "layout": "IPY_MODEL_ffac4d6f1f1349c29030edbff515db8a"
          }
        },
        "e77fc567fe694061935d1b2ca24f18bd": {
          "model_module": "@jupyter-widgets/controls",
          "model_name": "HTMLModel",
          "model_module_version": "1.5.0",
          "state": {
            "_dom_classes": [],
            "_model_module": "@jupyter-widgets/controls",
            "_model_module_version": "1.5.0",
            "_model_name": "HTMLModel",
            "_view_count": null,
            "_view_module": "@jupyter-widgets/controls",
            "_view_module_version": "1.5.0",
            "_view_name": "HTMLView",
            "description": "",
            "description_tooltip": null,
            "layout": "IPY_MODEL_4f0e319ae2fe4cd8999d771f931ad8d3",
            "placeholder": "​",
            "style": "IPY_MODEL_88553838edc948ad96e1fe59cb1025f3",
            "value": "model.safetensors: 100%"
          }
        },
        "52abc523311342fc8b4517c98990cd4e": {
          "model_module": "@jupyter-widgets/controls",
          "model_name": "FloatProgressModel",
          "model_module_version": "1.5.0",
          "state": {
            "_dom_classes": [],
            "_model_module": "@jupyter-widgets/controls",
            "_model_module_version": "1.5.0",
            "_model_name": "FloatProgressModel",
            "_view_count": null,
            "_view_module": "@jupyter-widgets/controls",
            "_view_module_version": "1.5.0",
            "_view_name": "ProgressView",
            "bar_style": "success",
            "description": "",
            "description_tooltip": null,
            "layout": "IPY_MODEL_2dbbc4c8a4224f4696699758730ecb06",
            "max": 2239611368,
            "min": 0,
            "orientation": "horizontal",
            "style": "IPY_MODEL_689088414363415ba99ae643a5d30014",
            "value": 2239611368
          }
        },
        "7f70ed20fca84244818770a9f4b20f70": {
          "model_module": "@jupyter-widgets/controls",
          "model_name": "HTMLModel",
          "model_module_version": "1.5.0",
          "state": {
            "_dom_classes": [],
            "_model_module": "@jupyter-widgets/controls",
            "_model_module_version": "1.5.0",
            "_model_name": "HTMLModel",
            "_view_count": null,
            "_view_module": "@jupyter-widgets/controls",
            "_view_module_version": "1.5.0",
            "_view_name": "HTMLView",
            "description": "",
            "description_tooltip": null,
            "layout": "IPY_MODEL_581f80c72f9e4d3d9eb9aab8a84c62d8",
            "placeholder": "​",
            "style": "IPY_MODEL_e177b1ff02e24905b186c6234b7cac3d",
            "value": " 2.24G/2.24G [00:19&lt;00:00, 243MB/s]"
          }
        },
        "ffac4d6f1f1349c29030edbff515db8a": {
          "model_module": "@jupyter-widgets/base",
          "model_name": "LayoutModel",
          "model_module_version": "1.2.0",
          "state": {
            "_model_module": "@jupyter-widgets/base",
            "_model_module_version": "1.2.0",
            "_model_name": "LayoutModel",
            "_view_count": null,
            "_view_module": "@jupyter-widgets/base",
            "_view_module_version": "1.2.0",
            "_view_name": "LayoutView",
            "align_content": null,
            "align_items": null,
            "align_self": null,
            "border": null,
            "bottom": null,
            "display": null,
            "flex": null,
            "flex_flow": null,
            "grid_area": null,
            "grid_auto_columns": null,
            "grid_auto_flow": null,
            "grid_auto_rows": null,
            "grid_column": null,
            "grid_gap": null,
            "grid_row": null,
            "grid_template_areas": null,
            "grid_template_columns": null,
            "grid_template_rows": null,
            "height": null,
            "justify_content": null,
            "justify_items": null,
            "left": null,
            "margin": null,
            "max_height": null,
            "max_width": null,
            "min_height": null,
            "min_width": null,
            "object_fit": null,
            "object_position": null,
            "order": null,
            "overflow": null,
            "overflow_x": null,
            "overflow_y": null,
            "padding": null,
            "right": null,
            "top": null,
            "visibility": null,
            "width": null
          }
        },
        "4f0e319ae2fe4cd8999d771f931ad8d3": {
          "model_module": "@jupyter-widgets/base",
          "model_name": "LayoutModel",
          "model_module_version": "1.2.0",
          "state": {
            "_model_module": "@jupyter-widgets/base",
            "_model_module_version": "1.2.0",
            "_model_name": "LayoutModel",
            "_view_count": null,
            "_view_module": "@jupyter-widgets/base",
            "_view_module_version": "1.2.0",
            "_view_name": "LayoutView",
            "align_content": null,
            "align_items": null,
            "align_self": null,
            "border": null,
            "bottom": null,
            "display": null,
            "flex": null,
            "flex_flow": null,
            "grid_area": null,
            "grid_auto_columns": null,
            "grid_auto_flow": null,
            "grid_auto_rows": null,
            "grid_column": null,
            "grid_gap": null,
            "grid_row": null,
            "grid_template_areas": null,
            "grid_template_columns": null,
            "grid_template_rows": null,
            "height": null,
            "justify_content": null,
            "justify_items": null,
            "left": null,
            "margin": null,
            "max_height": null,
            "max_width": null,
            "min_height": null,
            "min_width": null,
            "object_fit": null,
            "object_position": null,
            "order": null,
            "overflow": null,
            "overflow_x": null,
            "overflow_y": null,
            "padding": null,
            "right": null,
            "top": null,
            "visibility": null,
            "width": null
          }
        },
        "88553838edc948ad96e1fe59cb1025f3": {
          "model_module": "@jupyter-widgets/controls",
          "model_name": "DescriptionStyleModel",
          "model_module_version": "1.5.0",
          "state": {
            "_model_module": "@jupyter-widgets/controls",
            "_model_module_version": "1.5.0",
            "_model_name": "DescriptionStyleModel",
            "_view_count": null,
            "_view_module": "@jupyter-widgets/base",
            "_view_module_version": "1.2.0",
            "_view_name": "StyleView",
            "description_width": ""
          }
        },
        "2dbbc4c8a4224f4696699758730ecb06": {
          "model_module": "@jupyter-widgets/base",
          "model_name": "LayoutModel",
          "model_module_version": "1.2.0",
          "state": {
            "_model_module": "@jupyter-widgets/base",
            "_model_module_version": "1.2.0",
            "_model_name": "LayoutModel",
            "_view_count": null,
            "_view_module": "@jupyter-widgets/base",
            "_view_module_version": "1.2.0",
            "_view_name": "LayoutView",
            "align_content": null,
            "align_items": null,
            "align_self": null,
            "border": null,
            "bottom": null,
            "display": null,
            "flex": null,
            "flex_flow": null,
            "grid_area": null,
            "grid_auto_columns": null,
            "grid_auto_flow": null,
            "grid_auto_rows": null,
            "grid_column": null,
            "grid_gap": null,
            "grid_row": null,
            "grid_template_areas": null,
            "grid_template_columns": null,
            "grid_template_rows": null,
            "height": null,
            "justify_content": null,
            "justify_items": null,
            "left": null,
            "margin": null,
            "max_height": null,
            "max_width": null,
            "min_height": null,
            "min_width": null,
            "object_fit": null,
            "object_position": null,
            "order": null,
            "overflow": null,
            "overflow_x": null,
            "overflow_y": null,
            "padding": null,
            "right": null,
            "top": null,
            "visibility": null,
            "width": null
          }
        },
        "689088414363415ba99ae643a5d30014": {
          "model_module": "@jupyter-widgets/controls",
          "model_name": "ProgressStyleModel",
          "model_module_version": "1.5.0",
          "state": {
            "_model_module": "@jupyter-widgets/controls",
            "_model_module_version": "1.5.0",
            "_model_name": "ProgressStyleModel",
            "_view_count": null,
            "_view_module": "@jupyter-widgets/base",
            "_view_module_version": "1.2.0",
            "_view_name": "StyleView",
            "bar_color": null,
            "description_width": ""
          }
        },
        "581f80c72f9e4d3d9eb9aab8a84c62d8": {
          "model_module": "@jupyter-widgets/base",
          "model_name": "LayoutModel",
          "model_module_version": "1.2.0",
          "state": {
            "_model_module": "@jupyter-widgets/base",
            "_model_module_version": "1.2.0",
            "_model_name": "LayoutModel",
            "_view_count": null,
            "_view_module": "@jupyter-widgets/base",
            "_view_module_version": "1.2.0",
            "_view_name": "LayoutView",
            "align_content": null,
            "align_items": null,
            "align_self": null,
            "border": null,
            "bottom": null,
            "display": null,
            "flex": null,
            "flex_flow": null,
            "grid_area": null,
            "grid_auto_columns": null,
            "grid_auto_flow": null,
            "grid_auto_rows": null,
            "grid_column": null,
            "grid_gap": null,
            "grid_row": null,
            "grid_template_areas": null,
            "grid_template_columns": null,
            "grid_template_rows": null,
            "height": null,
            "justify_content": null,
            "justify_items": null,
            "left": null,
            "margin": null,
            "max_height": null,
            "max_width": null,
            "min_height": null,
            "min_width": null,
            "object_fit": null,
            "object_position": null,
            "order": null,
            "overflow": null,
            "overflow_x": null,
            "overflow_y": null,
            "padding": null,
            "right": null,
            "top": null,
            "visibility": null,
            "width": null
          }
        },
        "e177b1ff02e24905b186c6234b7cac3d": {
          "model_module": "@jupyter-widgets/controls",
          "model_name": "DescriptionStyleModel",
          "model_module_version": "1.5.0",
          "state": {
            "_model_module": "@jupyter-widgets/controls",
            "_model_module_version": "1.5.0",
            "_model_name": "DescriptionStyleModel",
            "_view_count": null,
            "_view_module": "@jupyter-widgets/base",
            "_view_module_version": "1.2.0",
            "_view_name": "StyleView",
            "description_width": ""
          }
        }
      }
    }
  },
  "cells": [
    {
      "cell_type": "markdown",
      "metadata": {
        "id": "view-in-github",
        "colab_type": "text"
      },
      "source": [
        "<a href=\"https://colab.research.google.com/github/Dantelarroy/suplements-chatbot/blob/main/Supplements_chatbot.ipynb\" target=\"_parent\"><img src=\"https://colab.research.google.com/assets/colab-badge.svg\" alt=\"Open In Colab\"/></a>"
      ]
    },
    {
      "cell_type": "markdown",
      "source": [
        "#**Supplements Chatbot**\n"
      ],
      "metadata": {
        "id": "py9iD-mEKA7-"
      }
    },
    {
      "cell_type": "markdown",
      "source": [
        "**Autor**: Dante Larroy  \n",
        "**Fecha**: 18/12/2024  \n",
        "**Fecha de Entrega**: 02/01/2025  \n",
        "\n",
        "Resumen de Fechas:\n",
        "- EDA y Preprocesamiento de Datos: `18/12 - 21/12`\n",
        "- Desarrollo del Modelo de Sentimiento: `22/12 - 24/12`\n",
        "- Desarrollo del Modelo de Clasificación de Tópicos: `26/12 - 28/12`\n",
        "- Desarrollo de la Función IA Generativa: `29/12 - 31/12`\n",
        "- Pruebas, Evaluación y Ajustes: `01/01 - 02/01`\n",
        "- Entrega Final: `2/01/2025`"
      ],
      "metadata": {
        "id": "u-Bi86T_J16M"
      }
    },
    {
      "cell_type": "markdown",
      "source": [
        "---\n",
        "\n",
        "## **`Introducción`**\n",
        "El objetivo de este desafío es aplicar tus conocimientos en DS e IA\n",
        "Generativa para diseñar un prototipo funcional, que eventualmente se convierta\n",
        "en un chatbot capaz de ofrecer soporte a usuarios en base a sus comentarios.\n",
        "---\n",
        "## **`Contexto`**\n",
        "El cliente es una destacada empresa de venta de suplementos nutricionales en\n",
        "línea.\n",
        "\n",
        "- **`Problema`** Recientemente, se ha observado un aumento significativo en las reseñas\n",
        "negativas por parte de los usuarios, algo que anteriormente no sucedía.\n",
        "Ante esta situación, la empresa busca comprender las causas detrás de esta tendencia.\n",
        "\n",
        "- **`Solución buscada:`** Analizar los datos disponibles y desarrollar herramientas útiles para abordar el problema.\n",
        "---\n",
        "## **`Objetivo`**\n",
        "Este proyecto tiene como objetivo desarrollar una herramienta que:\n",
        "1. Analice el sentimiento y clasifique los comentarios de los clientes por temática.\n",
        "2. Genere respuestas personalizadas basadas en el análisis.  \n",
        "---\n",
        "## **`Dataset:`**\n",
        "\n",
        "- Comentarios de usuarios sobre productos de suplementos nutricionales con etiquetas de sentimientos (positivo, neutral, negativo).\n",
        "---\n",
        "## **`Etapas del Proyecto`**\n",
        "### `EDA`\n",
        "- Cargar Dataset (Asegurar que se cargue independientemente del lugar de ejecución) ☑\n",
        "- Revisar calidad de los datos ☑\n",
        "- Analizar distribución de sentimientos ☑\n",
        "- Word Cloud ☑\n",
        "- Complementar con un top de palabras ☑\n",
        "- Longitud de los comentarios ☑\n",
        "\n",
        "### `Preprocesamiento y Limpieza de Datos`\n",
        "- Preprocesar texto:\n",
        "- Mínusculas ☑\n",
        "- Eliminar caracteres especiales y puntuación ☑\n",
        "- Eliminar stopwords ☑\n",
        "- Lematización ☑\n",
        "- Tokenización 𐩃\n",
        "- Gestionar datos desbalanceados si hace falta\n",
        "\n",
        "### `Feature Engineering`\n",
        "\n",
        "### `Modelado Predictivo`\n",
        "\n",
        "  1. `Sentimental Analysis:`(Tenemos el target = Supervisado)\n",
        "- Pensar que tipo de modelo necesito\n",
        "- Pensar que problema podría surgir a la hora de entrenarlo para elegir el algoritmo.\n",
        "\n",
        "2. `Topic Modeling:` Predecir el tema del que están hablando (No tenemos el target = No supervisado)\n",
        "- Pensar que tipo de modelo necesito\n",
        "- Pensar que problema podría surgir a la hora de entrenarlo para elegir el algoritmo.\n",
        "\n",
        "3. `Evaluar el Modelo`\n",
        "\n",
        "### `IA Generativa`\n",
        "\n",
        "  1. `Generar una funcion` que tenga:\n",
        "  - Input: Comentario\n",
        "  - Tareas:\n",
        "    - Calcular el sentimiento\n",
        "    - Calcular el tópico\n",
        "  - Output: Respuesta personalizada de un LLM utilizando esa función\n",
        "---\n",
        "## **Recursos adicionales**\n",
        "Links que pueden ser de útilidad (y que probablemente influyan en su\n",
        "entregable):\n",
        "1. https://huggingface.co/intfloat/multilingual-e5-large - Modelo de\n",
        "Embedding multilenguaje.\n",
        "2. https://console.groq.com/playground - Plataforma que permite utilizar\n",
        "LLMs Open Source de manera gratuita a través de una API.\n",
        "\n",
        "---"
      ],
      "metadata": {
        "id": "zYSA4AfABvur"
      }
    },
    {
      "cell_type": "markdown",
      "source": [
        "## Research Claves por etapas:\n",
        "\n",
        "- Etapa 1: Modelado Predictivo:\n",
        "https://huggingface.co/intfloat/multilingual-e5-large - Modelo de Embedding multilenguaje.\n",
        "  - **1. Sentimental Analysis (Supervisado)**:\n",
        "    - `Text Preprocesing`: Tokenization. Stop word removal, lemmatization/stemming\n",
        "    - `Text Vectorization`: TF-IDF, Word Embeddings\n",
        "    - `Sentimental Analysis`: Elegir y analizar modelo a utilizar\n",
        "  - **2. Topic Classification (No supervisado)**\n",
        "    \n",
        "\n",
        "- Etapa 2: IA Generativa\n",
        "  - https://console.groq.com/playground - Plataforma que permite utilizar LLMs Open Source de manera gratuita a través de una API.\n",
        "\n",
        "---"
      ],
      "metadata": {
        "id": "MAXb7RJkLYYn"
      }
    },
    {
      "cell_type": "markdown",
      "source": [
        "# Configuración del Entorno de Trabajo"
      ],
      "metadata": {
        "id": "d9D0KScbQQ5Q"
      }
    },
    {
      "cell_type": "markdown",
      "source": [
        "## Instalar librerias necesarias"
      ],
      "metadata": {
        "id": "pVesRmp5QZWy"
      }
    },
    {
      "cell_type": "code",
      "source": [
        "!pip install openpyxl\n",
        "!pip install nltk\n",
        "!pip install groq\n"
      ],
      "metadata": {
        "colab": {
          "base_uri": "https://localhost:8080/"
        },
        "id": "UGh5ghm6Ot6g",
        "outputId": "a6386314-077c-4322-d289-94ae949b1ca4"
      },
      "execution_count": 1,
      "outputs": [
        {
          "output_type": "stream",
          "name": "stdout",
          "text": [
            "Requirement already satisfied: openpyxl in /usr/local/lib/python3.10/dist-packages (3.1.5)\n",
            "Requirement already satisfied: et-xmlfile in /usr/local/lib/python3.10/dist-packages (from openpyxl) (2.0.0)\n",
            "Requirement already satisfied: nltk in /usr/local/lib/python3.10/dist-packages (3.9.1)\n",
            "Requirement already satisfied: click in /usr/local/lib/python3.10/dist-packages (from nltk) (8.1.7)\n",
            "Requirement already satisfied: joblib in /usr/local/lib/python3.10/dist-packages (from nltk) (1.4.2)\n",
            "Requirement already satisfied: regex>=2021.8.3 in /usr/local/lib/python3.10/dist-packages (from nltk) (2024.11.6)\n",
            "Requirement already satisfied: tqdm in /usr/local/lib/python3.10/dist-packages (from nltk) (4.67.1)\n",
            "Collecting groq\n",
            "  Downloading groq-0.13.1-py3-none-any.whl.metadata (14 kB)\n",
            "Requirement already satisfied: anyio<5,>=3.5.0 in /usr/local/lib/python3.10/dist-packages (from groq) (3.7.1)\n",
            "Requirement already satisfied: distro<2,>=1.7.0 in /usr/local/lib/python3.10/dist-packages (from groq) (1.9.0)\n",
            "Requirement already satisfied: httpx<1,>=0.23.0 in /usr/local/lib/python3.10/dist-packages (from groq) (0.28.1)\n",
            "Requirement already satisfied: pydantic<3,>=1.9.0 in /usr/local/lib/python3.10/dist-packages (from groq) (2.10.3)\n",
            "Requirement already satisfied: sniffio in /usr/local/lib/python3.10/dist-packages (from groq) (1.3.1)\n",
            "Requirement already satisfied: typing-extensions<5,>=4.10 in /usr/local/lib/python3.10/dist-packages (from groq) (4.12.2)\n",
            "Requirement already satisfied: idna>=2.8 in /usr/local/lib/python3.10/dist-packages (from anyio<5,>=3.5.0->groq) (3.10)\n",
            "Requirement already satisfied: exceptiongroup in /usr/local/lib/python3.10/dist-packages (from anyio<5,>=3.5.0->groq) (1.2.2)\n",
            "Requirement already satisfied: certifi in /usr/local/lib/python3.10/dist-packages (from httpx<1,>=0.23.0->groq) (2024.12.14)\n",
            "Requirement already satisfied: httpcore==1.* in /usr/local/lib/python3.10/dist-packages (from httpx<1,>=0.23.0->groq) (1.0.7)\n",
            "Requirement already satisfied: h11<0.15,>=0.13 in /usr/local/lib/python3.10/dist-packages (from httpcore==1.*->httpx<1,>=0.23.0->groq) (0.14.0)\n",
            "Requirement already satisfied: annotated-types>=0.6.0 in /usr/local/lib/python3.10/dist-packages (from pydantic<3,>=1.9.0->groq) (0.7.0)\n",
            "Requirement already satisfied: pydantic-core==2.27.1 in /usr/local/lib/python3.10/dist-packages (from pydantic<3,>=1.9.0->groq) (2.27.1)\n",
            "Downloading groq-0.13.1-py3-none-any.whl (109 kB)\n",
            "\u001b[2K   \u001b[90m━━━━━━━━━━━━━━━━━━━━━━━━━━━━━━━━━━━━━━━━\u001b[0m \u001b[32m109.1/109.1 kB\u001b[0m \u001b[31m10.5 MB/s\u001b[0m eta \u001b[36m0:00:00\u001b[0m\n",
            "\u001b[?25hInstalling collected packages: groq\n",
            "Successfully installed groq-0.13.1\n"
          ]
        }
      ]
    },
    {
      "cell_type": "markdown",
      "source": [
        "## Importaciones"
      ],
      "metadata": {
        "id": "CpVtkiGhJw11"
      }
    },
    {
      "cell_type": "code",
      "execution_count": 2,
      "metadata": {
        "id": "dYoGuu9qBGps",
        "colab": {
          "base_uri": "https://localhost:8080/"
        },
        "outputId": "a86a3b57-4153-460b-fa62-aa8b4acbdf82"
      },
      "outputs": [
        {
          "output_type": "stream",
          "name": "stderr",
          "text": [
            "[nltk_data] Downloading package stopwords to /root/nltk_data...\n",
            "[nltk_data]   Unzipping corpora/stopwords.zip.\n",
            "[nltk_data] Downloading package wordnet to /root/nltk_data...\n",
            "[nltk_data] Downloading package punkt to /root/nltk_data...\n",
            "[nltk_data]   Unzipping tokenizers/punkt.zip.\n",
            "[nltk_data] Downloading package omw-1.4 to /root/nltk_data...\n",
            "[nltk_data] Downloading package punkt_tab to /root/nltk_data...\n",
            "[nltk_data]   Unzipping tokenizers/punkt_tab.zip.\n"
          ]
        },
        {
          "output_type": "execute_result",
          "data": {
            "text/plain": [
              "True"
            ]
          },
          "metadata": {},
          "execution_count": 2
        }
      ],
      "source": [
        "\n",
        "import os\n",
        "import pandas as pd\n",
        "import seaborn as sns\n",
        "from sklearn.manifold import TSNE\n",
        "import numpy as np\n",
        "import matplotlib.pyplot as plt\n",
        "from wordcloud import WordCloud\n",
        "import re\n",
        "import nltk\n",
        "from sklearn.feature_extraction.text import CountVectorizer\n",
        "from nltk.tokenize import word_tokenize\n",
        "from nltk.corpus import stopwords\n",
        "from nltk.stem import WordNetLemmatizer\n",
        "import torch\n",
        "from transformers import AutoTokenizer, AutoModel\n",
        "from sklearn.metrics import pairwise_distances\n",
        "from sklearn.model_selection import train_test_split\n",
        "from sklearn.preprocessing import LabelEncoder\n",
        "from sklearn.linear_model import LogisticRegression\n",
        "from sklearn.metrics import classification_report\n",
        "from sklearn.ensemble import RandomForestClassifier\n",
        "from sklearn.svm import SVC\n",
        "from sklearn.metrics import confusion_matrix\n",
        "from sklearn.metrics import confusion_matrix, accuracy_score\n",
        "from sklearn.cluster import KMeans\n",
        "\n",
        "\n",
        "\n",
        "# Descargas\n",
        "nltk.download('stopwords')\n",
        "nltk.download('wordnet')\n",
        "nltk.download('punkt')\n",
        "nltk.download('omw-1.4')\n",
        "nltk.download('punkt_tab')\n",
        "\n",
        "\n",
        "\n",
        "\n"
      ]
    },
    {
      "cell_type": "code",
      "source": [
        "#!git clone https://github.com/Dantelarroy/suplements-chatbot.git"
      ],
      "metadata": {
        "id": "KmM8iCKnHGYM"
      },
      "execution_count": 3,
      "outputs": []
    },
    {
      "cell_type": "markdown",
      "source": [
        "## Cargar el Dataset"
      ],
      "metadata": {
        "id": "UWwX8jXcKu7p"
      }
    },
    {
      "cell_type": "code",
      "source": [
        "# URL del repositorio de Github donde se encuentra el Dataset\n",
        "url = 'https://github.com/Dantelarroy/suplements-chatbot/raw/main/Dataset.xlsx'"
      ],
      "metadata": {
        "id": "gk87UCVJGJBm"
      },
      "execution_count": 4,
      "outputs": []
    },
    {
      "cell_type": "code",
      "source": [
        "df_supplements = pd.read_excel(url)\n"
      ],
      "metadata": {
        "id": "rtM8r91UKwCw"
      },
      "execution_count": 5,
      "outputs": []
    },
    {
      "cell_type": "code",
      "source": [
        "df_supplements.head()"
      ],
      "metadata": {
        "colab": {
          "base_uri": "https://localhost:8080/",
          "height": 206
        },
        "id": "SGvEpPiYO4lF",
        "outputId": "d0b51124-cd2b-4614-8dbb-deff7605ad23"
      },
      "execution_count": 6,
      "outputs": [
        {
          "output_type": "execute_result",
          "data": {
            "text/plain": [
              "                                              Texto Sentimiento\n",
              "0    El sabor es increíble, lo mejor que he probado    positivo\n",
              "1            Llegó tarde y el paquete estaba dañado    negativo\n",
              "2            El precio es razonable para la calidad    positivo\n",
              "3  No noto diferencia con otros productos similares     neutral\n",
              "4               El envío fue rápido y sin problemas    positivo"
            ],
            "text/html": [
              "\n",
              "  <div id=\"df-57e1c159-2ca3-44b6-8e87-76e57d1bdc35\" class=\"colab-df-container\">\n",
              "    <div>\n",
              "<style scoped>\n",
              "    .dataframe tbody tr th:only-of-type {\n",
              "        vertical-align: middle;\n",
              "    }\n",
              "\n",
              "    .dataframe tbody tr th {\n",
              "        vertical-align: top;\n",
              "    }\n",
              "\n",
              "    .dataframe thead th {\n",
              "        text-align: right;\n",
              "    }\n",
              "</style>\n",
              "<table border=\"1\" class=\"dataframe\">\n",
              "  <thead>\n",
              "    <tr style=\"text-align: right;\">\n",
              "      <th></th>\n",
              "      <th>Texto</th>\n",
              "      <th>Sentimiento</th>\n",
              "    </tr>\n",
              "  </thead>\n",
              "  <tbody>\n",
              "    <tr>\n",
              "      <th>0</th>\n",
              "      <td>El sabor es increíble, lo mejor que he probado</td>\n",
              "      <td>positivo</td>\n",
              "    </tr>\n",
              "    <tr>\n",
              "      <th>1</th>\n",
              "      <td>Llegó tarde y el paquete estaba dañado</td>\n",
              "      <td>negativo</td>\n",
              "    </tr>\n",
              "    <tr>\n",
              "      <th>2</th>\n",
              "      <td>El precio es razonable para la calidad</td>\n",
              "      <td>positivo</td>\n",
              "    </tr>\n",
              "    <tr>\n",
              "      <th>3</th>\n",
              "      <td>No noto diferencia con otros productos similares</td>\n",
              "      <td>neutral</td>\n",
              "    </tr>\n",
              "    <tr>\n",
              "      <th>4</th>\n",
              "      <td>El envío fue rápido y sin problemas</td>\n",
              "      <td>positivo</td>\n",
              "    </tr>\n",
              "  </tbody>\n",
              "</table>\n",
              "</div>\n",
              "    <div class=\"colab-df-buttons\">\n",
              "\n",
              "  <div class=\"colab-df-container\">\n",
              "    <button class=\"colab-df-convert\" onclick=\"convertToInteractive('df-57e1c159-2ca3-44b6-8e87-76e57d1bdc35')\"\n",
              "            title=\"Convert this dataframe to an interactive table.\"\n",
              "            style=\"display:none;\">\n",
              "\n",
              "  <svg xmlns=\"http://www.w3.org/2000/svg\" height=\"24px\" viewBox=\"0 -960 960 960\">\n",
              "    <path d=\"M120-120v-720h720v720H120Zm60-500h600v-160H180v160Zm220 220h160v-160H400v160Zm0 220h160v-160H400v160ZM180-400h160v-160H180v160Zm440 0h160v-160H620v160ZM180-180h160v-160H180v160Zm440 0h160v-160H620v160Z\"/>\n",
              "  </svg>\n",
              "    </button>\n",
              "\n",
              "  <style>\n",
              "    .colab-df-container {\n",
              "      display:flex;\n",
              "      gap: 12px;\n",
              "    }\n",
              "\n",
              "    .colab-df-convert {\n",
              "      background-color: #E8F0FE;\n",
              "      border: none;\n",
              "      border-radius: 50%;\n",
              "      cursor: pointer;\n",
              "      display: none;\n",
              "      fill: #1967D2;\n",
              "      height: 32px;\n",
              "      padding: 0 0 0 0;\n",
              "      width: 32px;\n",
              "    }\n",
              "\n",
              "    .colab-df-convert:hover {\n",
              "      background-color: #E2EBFA;\n",
              "      box-shadow: 0px 1px 2px rgba(60, 64, 67, 0.3), 0px 1px 3px 1px rgba(60, 64, 67, 0.15);\n",
              "      fill: #174EA6;\n",
              "    }\n",
              "\n",
              "    .colab-df-buttons div {\n",
              "      margin-bottom: 4px;\n",
              "    }\n",
              "\n",
              "    [theme=dark] .colab-df-convert {\n",
              "      background-color: #3B4455;\n",
              "      fill: #D2E3FC;\n",
              "    }\n",
              "\n",
              "    [theme=dark] .colab-df-convert:hover {\n",
              "      background-color: #434B5C;\n",
              "      box-shadow: 0px 1px 3px 1px rgba(0, 0, 0, 0.15);\n",
              "      filter: drop-shadow(0px 1px 2px rgba(0, 0, 0, 0.3));\n",
              "      fill: #FFFFFF;\n",
              "    }\n",
              "  </style>\n",
              "\n",
              "    <script>\n",
              "      const buttonEl =\n",
              "        document.querySelector('#df-57e1c159-2ca3-44b6-8e87-76e57d1bdc35 button.colab-df-convert');\n",
              "      buttonEl.style.display =\n",
              "        google.colab.kernel.accessAllowed ? 'block' : 'none';\n",
              "\n",
              "      async function convertToInteractive(key) {\n",
              "        const element = document.querySelector('#df-57e1c159-2ca3-44b6-8e87-76e57d1bdc35');\n",
              "        const dataTable =\n",
              "          await google.colab.kernel.invokeFunction('convertToInteractive',\n",
              "                                                    [key], {});\n",
              "        if (!dataTable) return;\n",
              "\n",
              "        const docLinkHtml = 'Like what you see? Visit the ' +\n",
              "          '<a target=\"_blank\" href=https://colab.research.google.com/notebooks/data_table.ipynb>data table notebook</a>'\n",
              "          + ' to learn more about interactive tables.';\n",
              "        element.innerHTML = '';\n",
              "        dataTable['output_type'] = 'display_data';\n",
              "        await google.colab.output.renderOutput(dataTable, element);\n",
              "        const docLink = document.createElement('div');\n",
              "        docLink.innerHTML = docLinkHtml;\n",
              "        element.appendChild(docLink);\n",
              "      }\n",
              "    </script>\n",
              "  </div>\n",
              "\n",
              "\n",
              "<div id=\"df-6c230fed-f8c0-4d9d-a2c0-42910e68e578\">\n",
              "  <button class=\"colab-df-quickchart\" onclick=\"quickchart('df-6c230fed-f8c0-4d9d-a2c0-42910e68e578')\"\n",
              "            title=\"Suggest charts\"\n",
              "            style=\"display:none;\">\n",
              "\n",
              "<svg xmlns=\"http://www.w3.org/2000/svg\" height=\"24px\"viewBox=\"0 0 24 24\"\n",
              "     width=\"24px\">\n",
              "    <g>\n",
              "        <path d=\"M19 3H5c-1.1 0-2 .9-2 2v14c0 1.1.9 2 2 2h14c1.1 0 2-.9 2-2V5c0-1.1-.9-2-2-2zM9 17H7v-7h2v7zm4 0h-2V7h2v10zm4 0h-2v-4h2v4z\"/>\n",
              "    </g>\n",
              "</svg>\n",
              "  </button>\n",
              "\n",
              "<style>\n",
              "  .colab-df-quickchart {\n",
              "      --bg-color: #E8F0FE;\n",
              "      --fill-color: #1967D2;\n",
              "      --hover-bg-color: #E2EBFA;\n",
              "      --hover-fill-color: #174EA6;\n",
              "      --disabled-fill-color: #AAA;\n",
              "      --disabled-bg-color: #DDD;\n",
              "  }\n",
              "\n",
              "  [theme=dark] .colab-df-quickchart {\n",
              "      --bg-color: #3B4455;\n",
              "      --fill-color: #D2E3FC;\n",
              "      --hover-bg-color: #434B5C;\n",
              "      --hover-fill-color: #FFFFFF;\n",
              "      --disabled-bg-color: #3B4455;\n",
              "      --disabled-fill-color: #666;\n",
              "  }\n",
              "\n",
              "  .colab-df-quickchart {\n",
              "    background-color: var(--bg-color);\n",
              "    border: none;\n",
              "    border-radius: 50%;\n",
              "    cursor: pointer;\n",
              "    display: none;\n",
              "    fill: var(--fill-color);\n",
              "    height: 32px;\n",
              "    padding: 0;\n",
              "    width: 32px;\n",
              "  }\n",
              "\n",
              "  .colab-df-quickchart:hover {\n",
              "    background-color: var(--hover-bg-color);\n",
              "    box-shadow: 0 1px 2px rgba(60, 64, 67, 0.3), 0 1px 3px 1px rgba(60, 64, 67, 0.15);\n",
              "    fill: var(--button-hover-fill-color);\n",
              "  }\n",
              "\n",
              "  .colab-df-quickchart-complete:disabled,\n",
              "  .colab-df-quickchart-complete:disabled:hover {\n",
              "    background-color: var(--disabled-bg-color);\n",
              "    fill: var(--disabled-fill-color);\n",
              "    box-shadow: none;\n",
              "  }\n",
              "\n",
              "  .colab-df-spinner {\n",
              "    border: 2px solid var(--fill-color);\n",
              "    border-color: transparent;\n",
              "    border-bottom-color: var(--fill-color);\n",
              "    animation:\n",
              "      spin 1s steps(1) infinite;\n",
              "  }\n",
              "\n",
              "  @keyframes spin {\n",
              "    0% {\n",
              "      border-color: transparent;\n",
              "      border-bottom-color: var(--fill-color);\n",
              "      border-left-color: var(--fill-color);\n",
              "    }\n",
              "    20% {\n",
              "      border-color: transparent;\n",
              "      border-left-color: var(--fill-color);\n",
              "      border-top-color: var(--fill-color);\n",
              "    }\n",
              "    30% {\n",
              "      border-color: transparent;\n",
              "      border-left-color: var(--fill-color);\n",
              "      border-top-color: var(--fill-color);\n",
              "      border-right-color: var(--fill-color);\n",
              "    }\n",
              "    40% {\n",
              "      border-color: transparent;\n",
              "      border-right-color: var(--fill-color);\n",
              "      border-top-color: var(--fill-color);\n",
              "    }\n",
              "    60% {\n",
              "      border-color: transparent;\n",
              "      border-right-color: var(--fill-color);\n",
              "    }\n",
              "    80% {\n",
              "      border-color: transparent;\n",
              "      border-right-color: var(--fill-color);\n",
              "      border-bottom-color: var(--fill-color);\n",
              "    }\n",
              "    90% {\n",
              "      border-color: transparent;\n",
              "      border-bottom-color: var(--fill-color);\n",
              "    }\n",
              "  }\n",
              "</style>\n",
              "\n",
              "  <script>\n",
              "    async function quickchart(key) {\n",
              "      const quickchartButtonEl =\n",
              "        document.querySelector('#' + key + ' button');\n",
              "      quickchartButtonEl.disabled = true;  // To prevent multiple clicks.\n",
              "      quickchartButtonEl.classList.add('colab-df-spinner');\n",
              "      try {\n",
              "        const charts = await google.colab.kernel.invokeFunction(\n",
              "            'suggestCharts', [key], {});\n",
              "      } catch (error) {\n",
              "        console.error('Error during call to suggestCharts:', error);\n",
              "      }\n",
              "      quickchartButtonEl.classList.remove('colab-df-spinner');\n",
              "      quickchartButtonEl.classList.add('colab-df-quickchart-complete');\n",
              "    }\n",
              "    (() => {\n",
              "      let quickchartButtonEl =\n",
              "        document.querySelector('#df-6c230fed-f8c0-4d9d-a2c0-42910e68e578 button');\n",
              "      quickchartButtonEl.style.display =\n",
              "        google.colab.kernel.accessAllowed ? 'block' : 'none';\n",
              "    })();\n",
              "  </script>\n",
              "</div>\n",
              "\n",
              "    </div>\n",
              "  </div>\n"
            ],
            "application/vnd.google.colaboratory.intrinsic+json": {
              "type": "dataframe",
              "variable_name": "df_supplements",
              "summary": "{\n  \"name\": \"df_supplements\",\n  \"rows\": 299,\n  \"fields\": [\n    {\n      \"column\": \"Texto\",\n      \"properties\": {\n        \"dtype\": \"string\",\n        \"num_unique_values\": 296,\n        \"samples\": [\n          \"Todo lleg\\u00f3 perfecto, recomiendo la tienda\",\n          \"Lleg\\u00f3 muy r\\u00e1pido, mejor de lo esperado\",\n          \"La calidad podr\\u00eda ser mejor\"\n        ],\n        \"semantic_type\": \"\",\n        \"description\": \"\"\n      }\n    },\n    {\n      \"column\": \"Sentimiento\",\n      \"properties\": {\n        \"dtype\": \"category\",\n        \"num_unique_values\": 3,\n        \"samples\": [\n          \"positivo\",\n          \"negativo\",\n          \"neutral\"\n        ],\n        \"semantic_type\": \"\",\n        \"description\": \"\"\n      }\n    }\n  ]\n}"
            }
          },
          "metadata": {},
          "execution_count": 6
        }
      ]
    },
    {
      "cell_type": "markdown",
      "source": [
        "# EDA\n",
        "\n",
        "Research:\n",
        "- https://medium.com/dscier/eda-nlp-fe483c6871ba\n",
        "- https://neptune.ai/blog/exploratory-data-analysis-natural-language-processing-tools\n",
        "- https://medium.com/@berthelinmargot/eda-and-data-preparation-for-nlp-project-a-hands-on-example-step-by-step-3b95a37318db\n",
        "- https://medium.com/@KC-James/basic-implementation-of-a-word-cloud-in-python-8b2f9d92d381\n",
        "- https://medium.com/dscier/eda-nlp-fe483c6871ba"
      ],
      "metadata": {
        "id": "Rea7LfsVMDbj"
      }
    },
    {
      "cell_type": "markdown",
      "source": [
        "`Información General`\n",
        "---\n",
        "- Contiene dos columnas con Dtype: Object\n",
        "- No hay nulos\n",
        "- Cantidad de filas (299)"
      ],
      "metadata": {
        "id": "09SlNCJflPwB"
      }
    },
    {
      "cell_type": "code",
      "source": [
        "# Veo la información general de las columnas\n",
        "df_supplements.info()"
      ],
      "metadata": {
        "colab": {
          "base_uri": "https://localhost:8080/"
        },
        "id": "eeKdYIR3k05A",
        "outputId": "195b78fc-8cb7-4853-ebfb-6257c7011429"
      },
      "execution_count": 7,
      "outputs": [
        {
          "output_type": "stream",
          "name": "stdout",
          "text": [
            "<class 'pandas.core.frame.DataFrame'>\n",
            "RangeIndex: 299 entries, 0 to 298\n",
            "Data columns (total 2 columns):\n",
            " #   Column       Non-Null Count  Dtype \n",
            "---  ------       --------------  ----- \n",
            " 0   Texto        299 non-null    object\n",
            " 1   Sentimiento  299 non-null    object\n",
            "dtypes: object(2)\n",
            "memory usage: 4.8+ KB\n"
          ]
        }
      ]
    },
    {
      "cell_type": "markdown",
      "source": [
        "`Nulos`\n",
        "---\n",
        "\n",
        "El dataset no presenta valores nulos (lo vi en el código anterior), vuelvo a hacer un check."
      ],
      "metadata": {
        "id": "vC6hXdFGYQvA"
      }
    },
    {
      "cell_type": "code",
      "source": [
        "# Cuantifico numero total de nulos por columna\n",
        "df_supplements.isnull().sum()"
      ],
      "metadata": {
        "id": "LX6ict6qQuwy",
        "colab": {
          "base_uri": "https://localhost:8080/",
          "height": 147
        },
        "outputId": "2d2a1494-7557-4df1-e4c6-8ace502852c1"
      },
      "execution_count": 8,
      "outputs": [
        {
          "output_type": "execute_result",
          "data": {
            "text/plain": [
              "Texto          0\n",
              "Sentimiento    0\n",
              "dtype: int64"
            ],
            "text/html": [
              "<div>\n",
              "<style scoped>\n",
              "    .dataframe tbody tr th:only-of-type {\n",
              "        vertical-align: middle;\n",
              "    }\n",
              "\n",
              "    .dataframe tbody tr th {\n",
              "        vertical-align: top;\n",
              "    }\n",
              "\n",
              "    .dataframe thead th {\n",
              "        text-align: right;\n",
              "    }\n",
              "</style>\n",
              "<table border=\"1\" class=\"dataframe\">\n",
              "  <thead>\n",
              "    <tr style=\"text-align: right;\">\n",
              "      <th></th>\n",
              "      <th>0</th>\n",
              "    </tr>\n",
              "  </thead>\n",
              "  <tbody>\n",
              "    <tr>\n",
              "      <th>Texto</th>\n",
              "      <td>0</td>\n",
              "    </tr>\n",
              "    <tr>\n",
              "      <th>Sentimiento</th>\n",
              "      <td>0</td>\n",
              "    </tr>\n",
              "  </tbody>\n",
              "</table>\n",
              "</div><br><label><b>dtype:</b> int64</label>"
            ]
          },
          "metadata": {},
          "execution_count": 8
        }
      ]
    },
    {
      "cell_type": "markdown",
      "source": [
        "`Describe:`\n",
        "---\n",
        "- No hay nulos (299 valores en ambas columnas)\n",
        "- En la columna Sentimiento encuentro 3 filas repetidas\n",
        "- El valor más frecuente es:\n",
        "  - Texto: \"Estoy satisfecho con la calidad del producto\". Esto podría ser un buen indicio sobre el producto ofrecido.\n",
        "  - Sentimiento: Positivo. Confirma que el indicio anterior. Frecuencia positiva más recurrente."
      ],
      "metadata": {
        "id": "njOw2Bj3mXog"
      }
    },
    {
      "cell_type": "code",
      "source": [
        "# Resumen estadístico de las columnas\n",
        "df_supplements.describe()\n"
      ],
      "metadata": {
        "colab": {
          "base_uri": "https://localhost:8080/",
          "height": 175
        },
        "id": "joX1cy3sldvF",
        "outputId": "f2995011-29d3-4fba-8a4f-974edcfbab1f"
      },
      "execution_count": 9,
      "outputs": [
        {
          "output_type": "execute_result",
          "data": {
            "text/plain": [
              "                                               Texto Sentimiento\n",
              "count                                            299         299\n",
              "unique                                           296           3\n",
              "top     Estoy satisfecho con la calidad del producto    positivo\n",
              "freq                                               2         129"
            ],
            "text/html": [
              "\n",
              "  <div id=\"df-fccc0346-d5bf-4c01-a17a-527686658bd3\" class=\"colab-df-container\">\n",
              "    <div>\n",
              "<style scoped>\n",
              "    .dataframe tbody tr th:only-of-type {\n",
              "        vertical-align: middle;\n",
              "    }\n",
              "\n",
              "    .dataframe tbody tr th {\n",
              "        vertical-align: top;\n",
              "    }\n",
              "\n",
              "    .dataframe thead th {\n",
              "        text-align: right;\n",
              "    }\n",
              "</style>\n",
              "<table border=\"1\" class=\"dataframe\">\n",
              "  <thead>\n",
              "    <tr style=\"text-align: right;\">\n",
              "      <th></th>\n",
              "      <th>Texto</th>\n",
              "      <th>Sentimiento</th>\n",
              "    </tr>\n",
              "  </thead>\n",
              "  <tbody>\n",
              "    <tr>\n",
              "      <th>count</th>\n",
              "      <td>299</td>\n",
              "      <td>299</td>\n",
              "    </tr>\n",
              "    <tr>\n",
              "      <th>unique</th>\n",
              "      <td>296</td>\n",
              "      <td>3</td>\n",
              "    </tr>\n",
              "    <tr>\n",
              "      <th>top</th>\n",
              "      <td>Estoy satisfecho con la calidad del producto</td>\n",
              "      <td>positivo</td>\n",
              "    </tr>\n",
              "    <tr>\n",
              "      <th>freq</th>\n",
              "      <td>2</td>\n",
              "      <td>129</td>\n",
              "    </tr>\n",
              "  </tbody>\n",
              "</table>\n",
              "</div>\n",
              "    <div class=\"colab-df-buttons\">\n",
              "\n",
              "  <div class=\"colab-df-container\">\n",
              "    <button class=\"colab-df-convert\" onclick=\"convertToInteractive('df-fccc0346-d5bf-4c01-a17a-527686658bd3')\"\n",
              "            title=\"Convert this dataframe to an interactive table.\"\n",
              "            style=\"display:none;\">\n",
              "\n",
              "  <svg xmlns=\"http://www.w3.org/2000/svg\" height=\"24px\" viewBox=\"0 -960 960 960\">\n",
              "    <path d=\"M120-120v-720h720v720H120Zm60-500h600v-160H180v160Zm220 220h160v-160H400v160Zm0 220h160v-160H400v160ZM180-400h160v-160H180v160Zm440 0h160v-160H620v160ZM180-180h160v-160H180v160Zm440 0h160v-160H620v160Z\"/>\n",
              "  </svg>\n",
              "    </button>\n",
              "\n",
              "  <style>\n",
              "    .colab-df-container {\n",
              "      display:flex;\n",
              "      gap: 12px;\n",
              "    }\n",
              "\n",
              "    .colab-df-convert {\n",
              "      background-color: #E8F0FE;\n",
              "      border: none;\n",
              "      border-radius: 50%;\n",
              "      cursor: pointer;\n",
              "      display: none;\n",
              "      fill: #1967D2;\n",
              "      height: 32px;\n",
              "      padding: 0 0 0 0;\n",
              "      width: 32px;\n",
              "    }\n",
              "\n",
              "    .colab-df-convert:hover {\n",
              "      background-color: #E2EBFA;\n",
              "      box-shadow: 0px 1px 2px rgba(60, 64, 67, 0.3), 0px 1px 3px 1px rgba(60, 64, 67, 0.15);\n",
              "      fill: #174EA6;\n",
              "    }\n",
              "\n",
              "    .colab-df-buttons div {\n",
              "      margin-bottom: 4px;\n",
              "    }\n",
              "\n",
              "    [theme=dark] .colab-df-convert {\n",
              "      background-color: #3B4455;\n",
              "      fill: #D2E3FC;\n",
              "    }\n",
              "\n",
              "    [theme=dark] .colab-df-convert:hover {\n",
              "      background-color: #434B5C;\n",
              "      box-shadow: 0px 1px 3px 1px rgba(0, 0, 0, 0.15);\n",
              "      filter: drop-shadow(0px 1px 2px rgba(0, 0, 0, 0.3));\n",
              "      fill: #FFFFFF;\n",
              "    }\n",
              "  </style>\n",
              "\n",
              "    <script>\n",
              "      const buttonEl =\n",
              "        document.querySelector('#df-fccc0346-d5bf-4c01-a17a-527686658bd3 button.colab-df-convert');\n",
              "      buttonEl.style.display =\n",
              "        google.colab.kernel.accessAllowed ? 'block' : 'none';\n",
              "\n",
              "      async function convertToInteractive(key) {\n",
              "        const element = document.querySelector('#df-fccc0346-d5bf-4c01-a17a-527686658bd3');\n",
              "        const dataTable =\n",
              "          await google.colab.kernel.invokeFunction('convertToInteractive',\n",
              "                                                    [key], {});\n",
              "        if (!dataTable) return;\n",
              "\n",
              "        const docLinkHtml = 'Like what you see? Visit the ' +\n",
              "          '<a target=\"_blank\" href=https://colab.research.google.com/notebooks/data_table.ipynb>data table notebook</a>'\n",
              "          + ' to learn more about interactive tables.';\n",
              "        element.innerHTML = '';\n",
              "        dataTable['output_type'] = 'display_data';\n",
              "        await google.colab.output.renderOutput(dataTable, element);\n",
              "        const docLink = document.createElement('div');\n",
              "        docLink.innerHTML = docLinkHtml;\n",
              "        element.appendChild(docLink);\n",
              "      }\n",
              "    </script>\n",
              "  </div>\n",
              "\n",
              "\n",
              "<div id=\"df-ff279190-2d2c-4c0a-885f-3b0a3ce3a51f\">\n",
              "  <button class=\"colab-df-quickchart\" onclick=\"quickchart('df-ff279190-2d2c-4c0a-885f-3b0a3ce3a51f')\"\n",
              "            title=\"Suggest charts\"\n",
              "            style=\"display:none;\">\n",
              "\n",
              "<svg xmlns=\"http://www.w3.org/2000/svg\" height=\"24px\"viewBox=\"0 0 24 24\"\n",
              "     width=\"24px\">\n",
              "    <g>\n",
              "        <path d=\"M19 3H5c-1.1 0-2 .9-2 2v14c0 1.1.9 2 2 2h14c1.1 0 2-.9 2-2V5c0-1.1-.9-2-2-2zM9 17H7v-7h2v7zm4 0h-2V7h2v10zm4 0h-2v-4h2v4z\"/>\n",
              "    </g>\n",
              "</svg>\n",
              "  </button>\n",
              "\n",
              "<style>\n",
              "  .colab-df-quickchart {\n",
              "      --bg-color: #E8F0FE;\n",
              "      --fill-color: #1967D2;\n",
              "      --hover-bg-color: #E2EBFA;\n",
              "      --hover-fill-color: #174EA6;\n",
              "      --disabled-fill-color: #AAA;\n",
              "      --disabled-bg-color: #DDD;\n",
              "  }\n",
              "\n",
              "  [theme=dark] .colab-df-quickchart {\n",
              "      --bg-color: #3B4455;\n",
              "      --fill-color: #D2E3FC;\n",
              "      --hover-bg-color: #434B5C;\n",
              "      --hover-fill-color: #FFFFFF;\n",
              "      --disabled-bg-color: #3B4455;\n",
              "      --disabled-fill-color: #666;\n",
              "  }\n",
              "\n",
              "  .colab-df-quickchart {\n",
              "    background-color: var(--bg-color);\n",
              "    border: none;\n",
              "    border-radius: 50%;\n",
              "    cursor: pointer;\n",
              "    display: none;\n",
              "    fill: var(--fill-color);\n",
              "    height: 32px;\n",
              "    padding: 0;\n",
              "    width: 32px;\n",
              "  }\n",
              "\n",
              "  .colab-df-quickchart:hover {\n",
              "    background-color: var(--hover-bg-color);\n",
              "    box-shadow: 0 1px 2px rgba(60, 64, 67, 0.3), 0 1px 3px 1px rgba(60, 64, 67, 0.15);\n",
              "    fill: var(--button-hover-fill-color);\n",
              "  }\n",
              "\n",
              "  .colab-df-quickchart-complete:disabled,\n",
              "  .colab-df-quickchart-complete:disabled:hover {\n",
              "    background-color: var(--disabled-bg-color);\n",
              "    fill: var(--disabled-fill-color);\n",
              "    box-shadow: none;\n",
              "  }\n",
              "\n",
              "  .colab-df-spinner {\n",
              "    border: 2px solid var(--fill-color);\n",
              "    border-color: transparent;\n",
              "    border-bottom-color: var(--fill-color);\n",
              "    animation:\n",
              "      spin 1s steps(1) infinite;\n",
              "  }\n",
              "\n",
              "  @keyframes spin {\n",
              "    0% {\n",
              "      border-color: transparent;\n",
              "      border-bottom-color: var(--fill-color);\n",
              "      border-left-color: var(--fill-color);\n",
              "    }\n",
              "    20% {\n",
              "      border-color: transparent;\n",
              "      border-left-color: var(--fill-color);\n",
              "      border-top-color: var(--fill-color);\n",
              "    }\n",
              "    30% {\n",
              "      border-color: transparent;\n",
              "      border-left-color: var(--fill-color);\n",
              "      border-top-color: var(--fill-color);\n",
              "      border-right-color: var(--fill-color);\n",
              "    }\n",
              "    40% {\n",
              "      border-color: transparent;\n",
              "      border-right-color: var(--fill-color);\n",
              "      border-top-color: var(--fill-color);\n",
              "    }\n",
              "    60% {\n",
              "      border-color: transparent;\n",
              "      border-right-color: var(--fill-color);\n",
              "    }\n",
              "    80% {\n",
              "      border-color: transparent;\n",
              "      border-right-color: var(--fill-color);\n",
              "      border-bottom-color: var(--fill-color);\n",
              "    }\n",
              "    90% {\n",
              "      border-color: transparent;\n",
              "      border-bottom-color: var(--fill-color);\n",
              "    }\n",
              "  }\n",
              "</style>\n",
              "\n",
              "  <script>\n",
              "    async function quickchart(key) {\n",
              "      const quickchartButtonEl =\n",
              "        document.querySelector('#' + key + ' button');\n",
              "      quickchartButtonEl.disabled = true;  // To prevent multiple clicks.\n",
              "      quickchartButtonEl.classList.add('colab-df-spinner');\n",
              "      try {\n",
              "        const charts = await google.colab.kernel.invokeFunction(\n",
              "            'suggestCharts', [key], {});\n",
              "      } catch (error) {\n",
              "        console.error('Error during call to suggestCharts:', error);\n",
              "      }\n",
              "      quickchartButtonEl.classList.remove('colab-df-spinner');\n",
              "      quickchartButtonEl.classList.add('colab-df-quickchart-complete');\n",
              "    }\n",
              "    (() => {\n",
              "      let quickchartButtonEl =\n",
              "        document.querySelector('#df-ff279190-2d2c-4c0a-885f-3b0a3ce3a51f button');\n",
              "      quickchartButtonEl.style.display =\n",
              "        google.colab.kernel.accessAllowed ? 'block' : 'none';\n",
              "    })();\n",
              "  </script>\n",
              "</div>\n",
              "\n",
              "    </div>\n",
              "  </div>\n"
            ],
            "application/vnd.google.colaboratory.intrinsic+json": {
              "type": "dataframe",
              "summary": "{\n  \"name\": \"df_supplements\",\n  \"rows\": 4,\n  \"fields\": [\n    {\n      \"column\": \"Texto\",\n      \"properties\": {\n        \"dtype\": \"string\",\n        \"num_unique_values\": 4,\n        \"samples\": [\n          296,\n          \"2\",\n          \"299\"\n        ],\n        \"semantic_type\": \"\",\n        \"description\": \"\"\n      }\n    },\n    {\n      \"column\": \"Sentimiento\",\n      \"properties\": {\n        \"dtype\": \"string\",\n        \"num_unique_values\": 4,\n        \"samples\": [\n          3,\n          \"129\",\n          \"299\"\n        ],\n        \"semantic_type\": \"\",\n        \"description\": \"\"\n      }\n    }\n  ]\n}"
            }
          },
          "metadata": {},
          "execution_count": 9
        }
      ]
    },
    {
      "cell_type": "markdown",
      "source": [
        "`Distribución de sentimientos`\n",
        "---\n"
      ],
      "metadata": {
        "id": "Rtz3NNIXovRC"
      }
    },
    {
      "cell_type": "markdown",
      "source": [
        "Busco identificar si el datset se encuentra o no desbalanceado.\n",
        "\n",
        "Identifico una distribución algo desbalanceada con una predominancia de \"Positivo\" sobre el resto de las categorías.\n",
        "\n",
        "Como aspecto positivo por otro lado veo que \"neutral\" y \"negativo\" tienen una distribución similar entre ellos.\n",
        "\n",
        "Ultimo aspecto es que \"neutral\" es el que menor frecuencia tiene. Lo veo natural ya que el cliente suele expresarse cuando algo le disgusta o le gusta.\n",
        "\n",
        "Riesgos:\n",
        "- Que el modelo entrenado genere \"sesgo\" hacia lo positivo.\n",
        "- Es posible que haya que realizar un ajuste en caso de que eso ocurra."
      ],
      "metadata": {
        "id": "g2UcXxNynwKj"
      }
    },
    {
      "cell_type": "code",
      "source": [
        "# Distribución de Sentimientos\n",
        "distribucion_sentimientos = df_supplements['Sentimiento'].value_counts()\n",
        "print(distribucion_sentimientos)"
      ],
      "metadata": {
        "id": "j2-xwewHPyXi",
        "colab": {
          "base_uri": "https://localhost:8080/"
        },
        "outputId": "d8e8eeeb-fd71-40e8-e261-3f3a8e9601ba"
      },
      "execution_count": 10,
      "outputs": [
        {
          "output_type": "stream",
          "name": "stdout",
          "text": [
            "Sentimiento\n",
            "positivo    129\n",
            "negativo     97\n",
            "neutral      73\n",
            "Name: count, dtype: int64\n"
          ]
        }
      ]
    },
    {
      "cell_type": "markdown",
      "source": [
        "El Dataset tiene una distribución bastante equilibrada entre las clases de sentimientos.\n",
        "\n",
        "- Desbalance Neutral: Visualizo una menor cantidad de comentarios \"Neutrales\" lo cuál podría generar un sesgo a la hora de entrenar el modelo.\n",
        "El chatbot podría no identificar adecuadamente los comentarios neutrales.\n",
        "\n",
        "- Desbalance Positivo: El modelo podría inclinarse mayoritariamente en predecir Positivos por sobre negativos y neutrales.\n",
        "\n",
        "Por el momento decido no trabajar este aspecto, ya que no considero que sea significativo.\n",
        "\n",
        "En caso de que los modelos generen un sesgo trabajaré con herramientas para solucionarlo (imbalanced data tools & oversamplig, undersampling).\n",
        "\n",
        "- https://medium.com/@abdallahashraf90x/oversampling-for-better-machine-learning-with-imbalanced-data-68f9b5ac2696\n",
        "- https://www.analyticsvidhya.com/blog/2020/10/improve-class-imbalance-class-weights/"
      ],
      "metadata": {
        "id": "CRTCb4_zKgyo"
      }
    },
    {
      "cell_type": "code",
      "source": [
        "# Grafico la distribución\n",
        "\n",
        "plt.figure(figsize=(8,6))\n",
        "sns.countplot(x='Sentimiento', data= df_supplements, palette='Set2')\n",
        "plt.title('Distribución de Sentimientos')\n",
        "plt.xlabel('Sentimiento')\n",
        "plt.ylabel('Frecuencia')\n",
        "plt.show\n"
      ],
      "metadata": {
        "colab": {
          "base_uri": "https://localhost:8080/",
          "height": 825
        },
        "id": "msrCLJj9pwP_",
        "outputId": "d26596ef-f789-4ffe-c3fa-42ac1801e1ee"
      },
      "execution_count": 11,
      "outputs": [
        {
          "output_type": "stream",
          "name": "stderr",
          "text": [
            "<ipython-input-11-5037f801704d>:4: FutureWarning: \n",
            "\n",
            "Passing `palette` without assigning `hue` is deprecated and will be removed in v0.14.0. Assign the `x` variable to `hue` and set `legend=False` for the same effect.\n",
            "\n",
            "  sns.countplot(x='Sentimiento', data= df_supplements, palette='Set2')\n"
          ]
        },
        {
          "output_type": "execute_result",
          "data": {
            "text/plain": [
              "<function matplotlib.pyplot.show(close=None, block=None)>"
            ],
            "text/html": [
              "<div style=\"max-width:800px; border: 1px solid var(--colab-border-color);\"><style>\n",
              "      pre.function-repr-contents {\n",
              "        overflow-x: auto;\n",
              "        padding: 8px 12px;\n",
              "        max-height: 500px;\n",
              "      }\n",
              "\n",
              "      pre.function-repr-contents.function-repr-contents-collapsed {\n",
              "        cursor: pointer;\n",
              "        max-height: 100px;\n",
              "      }\n",
              "    </style>\n",
              "    <pre style=\"white-space: initial; background:\n",
              "         var(--colab-secondary-surface-color); padding: 8px 12px;\n",
              "         border-bottom: 1px solid var(--colab-border-color);\"><b>matplotlib.pyplot.show</b><br/>def show(*args, **kwargs)</pre><pre class=\"function-repr-contents function-repr-contents-collapsed\" style=\"\"><a class=\"filepath\" style=\"display:none\" href=\"#\">/usr/local/lib/python3.10/dist-packages/matplotlib/pyplot.py</a>Display all open figures.\n",
              "\n",
              "Parameters\n",
              "----------\n",
              "block : bool, optional\n",
              "    Whether to wait for all figures to be closed before returning.\n",
              "\n",
              "    If `True` block and run the GUI main loop until all figure windows\n",
              "    are closed.\n",
              "\n",
              "    If `False` ensure that all figure windows are displayed and return\n",
              "    immediately.  In this case, you are responsible for ensuring\n",
              "    that the event loop is running to have responsive figures.\n",
              "\n",
              "    Defaults to True in non-interactive mode and to False in interactive\n",
              "    mode (see `.pyplot.isinteractive`).\n",
              "\n",
              "See Also\n",
              "--------\n",
              "ion : Enable interactive mode, which shows / updates the figure after\n",
              "      every plotting command, so that calling ``show()`` is not necessary.\n",
              "ioff : Disable interactive mode.\n",
              "savefig : Save the figure to an image file instead of showing it on screen.\n",
              "\n",
              "Notes\n",
              "-----\n",
              "**Saving figures to file and showing a window at the same time**\n",
              "\n",
              "If you want an image file as well as a user interface window, use\n",
              "`.pyplot.savefig` before `.pyplot.show`. At the end of (a blocking)\n",
              "``show()`` the figure is closed and thus unregistered from pyplot. Calling\n",
              "`.pyplot.savefig` afterwards would save a new and thus empty figure. This\n",
              "limitation of command order does not apply if the show is non-blocking or\n",
              "if you keep a reference to the figure and use `.Figure.savefig`.\n",
              "\n",
              "**Auto-show in jupyter notebooks**\n",
              "\n",
              "The jupyter backends (activated via ``%matplotlib inline``,\n",
              "``%matplotlib notebook``, or ``%matplotlib widget``), call ``show()`` at\n",
              "the end of every cell by default. Thus, you usually don&#x27;t have to call it\n",
              "explicitly there.</pre>\n",
              "      <script>\n",
              "      if (google.colab.kernel.accessAllowed && google.colab.files && google.colab.files.view) {\n",
              "        for (const element of document.querySelectorAll('.filepath')) {\n",
              "          element.style.display = 'block'\n",
              "          element.onclick = (event) => {\n",
              "            event.preventDefault();\n",
              "            event.stopPropagation();\n",
              "            google.colab.files.view(element.textContent, 482);\n",
              "          };\n",
              "        }\n",
              "      }\n",
              "      for (const element of document.querySelectorAll('.function-repr-contents')) {\n",
              "        element.onclick = (event) => {\n",
              "          event.preventDefault();\n",
              "          event.stopPropagation();\n",
              "          element.classList.toggle('function-repr-contents-collapsed');\n",
              "        };\n",
              "      }\n",
              "      </script>\n",
              "      </div>"
            ]
          },
          "metadata": {},
          "execution_count": 11
        },
        {
          "output_type": "display_data",
          "data": {
            "text/plain": [
              "<Figure size 800x600 with 1 Axes>"
            ],
            "image/png": "[encoded data removed]"
          },
          "metadata": {}
        }
      ]
    },
    {
      "cell_type": "code",
      "source": [
        "# Revisión de tipo de datos\n",
        "df_supplements['Texto'] = df_supplements['Texto'].astype(str)\n",
        "df_supplements['Sentimiento'] = df_supplements['Sentimiento'].astype(str)"
      ],
      "metadata": {
        "id": "5YISKTi-PxAD"
      },
      "execution_count": 12,
      "outputs": []
    },
    {
      "cell_type": "markdown",
      "source": [
        "`Longitud del \"Texto\"`\n",
        "---\n",
        "\n",
        "Anaalizo la longitud de los comentarios para identificar sobre todo si los comentarios son similares en cuanto a longitud entre los \"Positivos\" y los \"Negativos\".\n",
        "\n",
        "- Detectar patrones en cuánto al detalle de las críticas\n",
        "- Analizar las criticas cortas o largas en relación al sentimiento de la crítica\n"
      ],
      "metadata": {
        "id": "PhxiV0WPtYa5"
      }
    },
    {
      "cell_type": "code",
      "source": [
        "# Función para contar palabras\n",
        "def contar_palabras(texto):\n",
        "  return len(texto.split())\n",
        "\n",
        "# Longitud del texto en palabras\n",
        "df_supplements[\"longitud_palabras\"] = df_supplements[\"Texto\"].apply(contar_palabras)\n",
        "\n",
        "# Resumen estadístico\n",
        "print(df_supplements['longitud_palabras'].describe())\n",
        "\n",
        "# Gráfico de la distribución de la longitud en palabras\n",
        "df_supplements['longitud_palabras'].hist(bins=15, color='skyblue', edgecolor='black')\n",
        "plt.title('Distribución de Longitud de Críticas (en palabras)')\n",
        "plt.xlabel('Número de palabras')\n",
        "plt.ylabel('Frecuencia')\n",
        "plt.show()"
      ],
      "metadata": {
        "colab": {
          "base_uri": "https://localhost:8080/",
          "height": 637
        },
        "id": "OrcOStRQtbvv",
        "outputId": "6a22b8a6-e8e0-41b5-9c37-8b91b97d407e"
      },
      "execution_count": 13,
      "outputs": [
        {
          "output_type": "stream",
          "name": "stdout",
          "text": [
            "count    299.000000\n",
            "mean       7.053512\n",
            "std        1.372236\n",
            "min        3.000000\n",
            "25%        6.000000\n",
            "50%        7.000000\n",
            "75%        8.000000\n",
            "max       11.000000\n",
            "Name: longitud_palabras, dtype: float64\n"
          ]
        },
        {
          "output_type": "display_data",
          "data": {
            "text/plain": [
              "<Figure size 640x480 with 1 Axes>"
            ],
            "image/png": "[encoded data removed]"
          },
          "metadata": {}
        }
      ]
    },
    {
      "cell_type": "markdown",
      "source": [
        "Identifico que el promedio de palabras por crítica es de 7 palabras.\n",
        "\n",
        "Ahora voy a desarrollar esto:\n",
        "- Gráficar el promedio de palabras por crítica de cada tipo de crítica \"Negativa\", \"Positiva\" y \"Neutra\" para buscar patrones.\n",
        "Ej. Las críticas positivas son mas breves y las negativas son más cortas.\n",
        "- Analizar las críticas más cortas y más largas en relación al sentimiento"
      ],
      "metadata": {
        "id": "9ejluAIBusyf"
      }
    },
    {
      "cell_type": "code",
      "source": [
        "# Graficar el promedio de palabras por sentimiento\n",
        "promedio_palabras = df_supplements.groupby('Sentimiento')['longitud_palabras'].mean()\n",
        "\n",
        "# Graficarlo\n",
        "promedio_palabras.plot(kind='bar', color=['red','orange','green'],figsize=(6,3))\n",
        "plt.title('Promedio de Palabras por Crítica según Sentimiento')\n",
        "plt.xlabel('Sentimiento')\n",
        "plt.ylabel('Promedio de Palabras')\n",
        "plt.xticks(rotation=0)\n",
        "plt.show()\n"
      ],
      "metadata": {
        "colab": {
          "base_uri": "https://localhost:8080/",
          "height": 334
        },
        "id": "3gB5hSgiu3Qi",
        "outputId": "adf2c8c3-44d6-42cd-eace-19defd98986b"
      },
      "execution_count": 14,
      "outputs": [
        {
          "output_type": "display_data",
          "data": {
            "text/plain": [
              "<Figure size 600x300 with 1 Axes>"
            ],
            "image/png": "[encoded data removed]"
          },
          "metadata": {}
        }
      ]
    },
    {
      "cell_type": "markdown",
      "source": [
        "Analizar las críticas más cortas y más largas en relación al sentimiento (Top 10 de cada una)\n",
        "\n",
        "https://pandas.pydata.org/pandas-docs/stable/reference/api/pandas.DataFrame.nsmallest.html\n"
      ],
      "metadata": {
        "id": "hexwEVpJO15m"
      }
    },
    {
      "cell_type": "code",
      "source": [
        "# Críticas más cortas (top 10)\n",
        "criticas_cortas = df_supplements.nsmallest(10, 'longitud_palabras')\n",
        "print(\"Críticas más cortas (top 10):\")\n",
        "print(criticas_cortas[['Texto', 'longitud_palabras', 'Sentimiento']])"
      ],
      "metadata": {
        "colab": {
          "base_uri": "https://localhost:8080/"
        },
        "id": "1qj_K4_3u3yo",
        "outputId": "1bdd8732-8412-4356-8663-23166cf07d24"
      },
      "execution_count": 15,
      "outputs": [
        {
          "output_type": "stream",
          "name": "stdout",
          "text": [
            "Críticas más cortas (top 10):\n",
            "                                     Texto  longitud_palabras Sentimiento\n",
            "20       Excelente relación calidad-precio                  3    positivo\n",
            "206      Excelente relación precio-calidad                  3    positivo\n",
            "86               Todo perfecto, sin quejas                  4    positivo\n",
            "96           Producto promedio, no destaca                  4     neutral\n",
            "158         Producto increíble, me encanta                  4    positivo\n",
            "233    Excelente atención, muy profesional                  4    positivo\n",
            "242           Todo perfecto, lo recomiendo                  4    positivo\n",
            "262         Me causó molestias estomacales                  4    negativo\n",
            "24          El envío tomó demasiado tiempo                  5    negativo\n",
            "41   Excelente sabor, estoy muy satisfecho                  5    positivo\n"
          ]
        }
      ]
    },
    {
      "cell_type": "code",
      "source": [
        "# Críticas más largas (top 10)\n",
        "criticas_largas = df_supplements.nlargest(10, 'longitud_palabras')\n",
        "print(\"\\nCríticas más largas (top 10):\")\n",
        "print(criticas_largas[['Texto', 'longitud_palabras', 'Sentimiento']])"
      ],
      "metadata": {
        "colab": {
          "base_uri": "https://localhost:8080/"
        },
        "id": "9IoTCxTvO-SP",
        "outputId": "d2033327-4b17-448f-a464-7258e30b7850"
      },
      "execution_count": 16,
      "outputs": [
        {
          "output_type": "stream",
          "name": "stdout",
          "text": [
            "\n",
            "Críticas más largas (top 10):\n",
            "                                                 Texto  longitud_palabras  \\\n",
            "88   El sabor no está mal, pero no lo volvería a co...                 11   \n",
            "263   El sabor no es lo que esperaba, pero no está mal                 11   \n",
            "14    El tiempo de envío fue más rápido de lo esperado                 10   \n",
            "21       La textura del producto es rara y no me gustó                 10   \n",
            "134       El precio es un poco alto, pero vale la pena                 10   \n",
            "180  El paquete llegó con un golpe, pero estaba tod...                 10   \n",
            "203          El sabor es muy dulce, no es de mi agrado                 10   \n",
            "205  El paquete llegó bien, aunque tardó más de lo ...                 10   \n",
            "217   Me generó dolor de cabeza, no lo volveré a tomar                 10   \n",
            "224     Creo que el precio es justo para lo que ofrece                 10   \n",
            "\n",
            "    Sentimiento  \n",
            "88      neutral  \n",
            "263     neutral  \n",
            "14     positivo  \n",
            "21     negativo  \n",
            "134     neutral  \n",
            "180     neutral  \n",
            "203    negativo  \n",
            "205     neutral  \n",
            "217    negativo  \n",
            "224    positivo  \n"
          ]
        }
      ]
    },
    {
      "cell_type": "code",
      "source": [
        "# Creo una figura con dos gráficos uno al lado del otro\n",
        "fig, axs = plt.subplots(1, 2, figsize=(12, 6), sharey=True)\n",
        "\n",
        "# Distribución de sentimientos en críticas cortas\n",
        "criticas_cortas['Sentimiento'].value_counts().plot(\n",
        "    kind='bar', color='lightcoral', ax=axs[0], edgecolor='black')\n",
        "\n",
        "# Etiqueta y titulo del primer gráfico (Criticas cortas)\n",
        "axs[0].set_title('Distribución de Sentimientos (Críticas Cortas)')\n",
        "axs[0].set_xlabel('Sentimiento')\n",
        "axs[0].set_ylabel('Cantidad')\n",
        "\n",
        "# Distribución de sentimientos en críticas largas\n",
        "criticas_largas['Sentimiento'].value_counts().plot(\n",
        "    kind='bar', color='lightblue', ax=axs[1], edgecolor='black')\n",
        "\n",
        "# Título del segundo gráfico (Criticas largas)\n",
        "axs[1].set_title('Distribución de Sentimientos (Críticas Largas)')\n",
        "axs[1].set_xlabel('Sentimiento')\n",
        "\n",
        "plt.tight_layout()\n",
        "plt.show()"
      ],
      "metadata": {
        "colab": {
          "base_uri": "https://localhost:8080/",
          "height": 606
        },
        "id": "Un_-K2tqPJNp",
        "outputId": "e387235b-8ba3-42ce-f924-c592b1ca45f0"
      },
      "execution_count": 17,
      "outputs": [
        {
          "output_type": "display_data",
          "data": {
            "text/plain": [
              "<Figure size 1200x600 with 2 Axes>"
            ],
            "image/png": "[encoded data removed]"
          },
          "metadata": {}
        }
      ]
    },
    {
      "cell_type": "markdown",
      "source": [
        "A simple vista se puede ver como las críticas más cortas tienen una tendencia de ser positivas.\n",
        "Y las críticas más largas tienen una tendencia de ser neutrales."
      ],
      "metadata": {
        "id": "KvpRkZ_EQK5W"
      }
    },
    {
      "cell_type": "markdown",
      "source": [
        "---\n",
        "# Preprocesamiento de Texto\n",
        "\n",
        "Realizo el preprocesamiento del texto previo al analisis final, Feature Engineering y modelado.\n",
        "Con el fin de evitar redundancias a la hora de hacer un Word Cloud pero sobre todo hacerlo un texto procesable para el feature engineering posterior y el modelado.\n",
        "\n",
        "1. `Normalización` (Minúsculas, elimino puntuaciones y caracteres especiales (dejo las tildes, ñ, números y espacios porque considero que puede ser significativo en español).\n",
        "2. Elimino `stopwords` que no generan un valor semántico.\n",
        "3.  `Lematización`: Reduzco las palabras a su base para evitar duplicar términos que tengan un significado similar semanticamente\n",
        "\n",
        "La `Tokenización` la realizaré directo con el modelo \"multilingual-e5-large\"\n",
        "\n"
      ],
      "metadata": {
        "id": "Z74UJWfQcPgw"
      }
    },
    {
      "cell_type": "code",
      "source": [
        "# Limpieza y normalización del texto para realizar el Word Cloud\n",
        "\n",
        "# Inicializar el lematizador\n",
        "lemmatizer = WordNetLemmatizer()\n",
        "\n",
        "# Función para limpiar y procesar el texto\n",
        "def clean(texto):\n",
        "    # Convertir a minúscula\n",
        "    texto = texto.lower()\n",
        "\n",
        "    # Eliminar puntuaciones y caracteres especiales\n",
        "    texto = re.sub(r'[^a-záéíóúüñ0-9\\s]+', '', texto)\n",
        "\n",
        "    # Eliminar stopwords\n",
        "    tokens = [word for word in texto.split() if word not in stopwords.words('spanish')]\n",
        "\n",
        "    # Lematización\n",
        "    tokens = [lemmatizer.lemmatize(word) for word in tokens]\n",
        "\n",
        "    # Unir las palabras lematizadas en un texto limpio\n",
        "    cleaned_text = ' '.join(tokens)\n",
        "\n",
        "    return cleaned_text\n",
        "\n",
        "# Aplicar la función de limpieza al DataFrame\n",
        "df_supplements['Texto_Limpio'] = df_supplements['Texto'].apply(clean)\n"
      ],
      "metadata": {
        "id": "vxlzpUQG6je4"
      },
      "execution_count": 18,
      "outputs": []
    },
    {
      "cell_type": "code",
      "source": [
        "df_supplements.head()"
      ],
      "metadata": {
        "colab": {
          "base_uri": "https://localhost:8080/",
          "height": 206
        },
        "id": "3inB0Tlj92wD",
        "outputId": "ee5e788d-3697-4270-9a7f-aaad548e5c17"
      },
      "execution_count": 19,
      "outputs": [
        {
          "output_type": "execute_result",
          "data": {
            "text/plain": [
              "                                              Texto Sentimiento  \\\n",
              "0    El sabor es increíble, lo mejor que he probado    positivo   \n",
              "1            Llegó tarde y el paquete estaba dañado    negativo   \n",
              "2            El precio es razonable para la calidad    positivo   \n",
              "3  No noto diferencia con otros productos similares     neutral   \n",
              "4               El envío fue rápido y sin problemas    positivo   \n",
              "\n",
              "   longitud_palabras                         Texto_Limpio  \n",
              "0                  9        sabor increíble mejor probado  \n",
              "1                  7           llegó tarde paquete dañado  \n",
              "2                  7             precio razonable calidad  \n",
              "3                  7  noto diferencia productos similares  \n",
              "4                  7               envío rápido problemas  "
            ],
            "text/html": [
              "\n",
              "  <div id=\"df-d5968add-69cc-4b99-af56-d285e23933cc\" class=\"colab-df-container\">\n",
              "    <div>\n",
              "<style scoped>\n",
              "    .dataframe tbody tr th:only-of-type {\n",
              "        vertical-align: middle;\n",
              "    }\n",
              "\n",
              "    .dataframe tbody tr th {\n",
              "        vertical-align: top;\n",
              "    }\n",
              "\n",
              "    .dataframe thead th {\n",
              "        text-align: right;\n",
              "    }\n",
              "</style>\n",
              "<table border=\"1\" class=\"dataframe\">\n",
              "  <thead>\n",
              "    <tr style=\"text-align: right;\">\n",
              "      <th></th>\n",
              "      <th>Texto</th>\n",
              "      <th>Sentimiento</th>\n",
              "      <th>longitud_palabras</th>\n",
              "      <th>Texto_Limpio</th>\n",
              "    </tr>\n",
              "  </thead>\n",
              "  <tbody>\n",
              "    <tr>\n",
              "      <th>0</th>\n",
              "      <td>El sabor es increíble, lo mejor que he probado</td>\n",
              "      <td>positivo</td>\n",
              "      <td>9</td>\n",
              "      <td>sabor increíble mejor probado</td>\n",
              "    </tr>\n",
              "    <tr>\n",
              "      <th>1</th>\n",
              "      <td>Llegó tarde y el paquete estaba dañado</td>\n",
              "      <td>negativo</td>\n",
              "      <td>7</td>\n",
              "      <td>llegó tarde paquete dañado</td>\n",
              "    </tr>\n",
              "    <tr>\n",
              "      <th>2</th>\n",
              "      <td>El precio es razonable para la calidad</td>\n",
              "      <td>positivo</td>\n",
              "      <td>7</td>\n",
              "      <td>precio razonable calidad</td>\n",
              "    </tr>\n",
              "    <tr>\n",
              "      <th>3</th>\n",
              "      <td>No noto diferencia con otros productos similares</td>\n",
              "      <td>neutral</td>\n",
              "      <td>7</td>\n",
              "      <td>noto diferencia productos similares</td>\n",
              "    </tr>\n",
              "    <tr>\n",
              "      <th>4</th>\n",
              "      <td>El envío fue rápido y sin problemas</td>\n",
              "      <td>positivo</td>\n",
              "      <td>7</td>\n",
              "      <td>envío rápido problemas</td>\n",
              "    </tr>\n",
              "  </tbody>\n",
              "</table>\n",
              "</div>\n",
              "    <div class=\"colab-df-buttons\">\n",
              "\n",
              "  <div class=\"colab-df-container\">\n",
              "    <button class=\"colab-df-convert\" onclick=\"convertToInteractive('df-d5968add-69cc-4b99-af56-d285e23933cc')\"\n",
              "            title=\"Convert this dataframe to an interactive table.\"\n",
              "            style=\"display:none;\">\n",
              "\n",
              "  <svg xmlns=\"http://www.w3.org/2000/svg\" height=\"24px\" viewBox=\"0 -960 960 960\">\n",
              "    <path d=\"M120-120v-720h720v720H120Zm60-500h600v-160H180v160Zm220 220h160v-160H400v160Zm0 220h160v-160H400v160ZM180-400h160v-160H180v160Zm440 0h160v-160H620v160ZM180-180h160v-160H180v160Zm440 0h160v-160H620v160Z\"/>\n",
              "  </svg>\n",
              "    </button>\n",
              "\n",
              "  <style>\n",
              "    .colab-df-container {\n",
              "      display:flex;\n",
              "      gap: 12px;\n",
              "    }\n",
              "\n",
              "    .colab-df-convert {\n",
              "      background-color: #E8F0FE;\n",
              "      border: none;\n",
              "      border-radius: 50%;\n",
              "      cursor: pointer;\n",
              "      display: none;\n",
              "      fill: #1967D2;\n",
              "      height: 32px;\n",
              "      padding: 0 0 0 0;\n",
              "      width: 32px;\n",
              "    }\n",
              "\n",
              "    .colab-df-convert:hover {\n",
              "      background-color: #E2EBFA;\n",
              "      box-shadow: 0px 1px 2px rgba(60, 64, 67, 0.3), 0px 1px 3px 1px rgba(60, 64, 67, 0.15);\n",
              "      fill: #174EA6;\n",
              "    }\n",
              "\n",
              "    .colab-df-buttons div {\n",
              "      margin-bottom: 4px;\n",
              "    }\n",
              "\n",
              "    [theme=dark] .colab-df-convert {\n",
              "      background-color: #3B4455;\n",
              "      fill: #D2E3FC;\n",
              "    }\n",
              "\n",
              "    [theme=dark] .colab-df-convert:hover {\n",
              "      background-color: #434B5C;\n",
              "      box-shadow: 0px 1px 3px 1px rgba(0, 0, 0, 0.15);\n",
              "      filter: drop-shadow(0px 1px 2px rgba(0, 0, 0, 0.3));\n",
              "      fill: #FFFFFF;\n",
              "    }\n",
              "  </style>\n",
              "\n",
              "    <script>\n",
              "      const buttonEl =\n",
              "        document.querySelector('#df-d5968add-69cc-4b99-af56-d285e23933cc button.colab-df-convert');\n",
              "      buttonEl.style.display =\n",
              "        google.colab.kernel.accessAllowed ? 'block' : 'none';\n",
              "\n",
              "      async function convertToInteractive(key) {\n",
              "        const element = document.querySelector('#df-d5968add-69cc-4b99-af56-d285e23933cc');\n",
              "        const dataTable =\n",
              "          await google.colab.kernel.invokeFunction('convertToInteractive',\n",
              "                                                    [key], {});\n",
              "        if (!dataTable) return;\n",
              "\n",
              "        const docLinkHtml = 'Like what you see? Visit the ' +\n",
              "          '<a target=\"_blank\" href=https://colab.research.google.com/notebooks/data_table.ipynb>data table notebook</a>'\n",
              "          + ' to learn more about interactive tables.';\n",
              "        element.innerHTML = '';\n",
              "        dataTable['output_type'] = 'display_data';\n",
              "        await google.colab.output.renderOutput(dataTable, element);\n",
              "        const docLink = document.createElement('div');\n",
              "        docLink.innerHTML = docLinkHtml;\n",
              "        element.appendChild(docLink);\n",
              "      }\n",
              "    </script>\n",
              "  </div>\n",
              "\n",
              "\n",
              "<div id=\"df-3a92db79-8824-4ae6-b7f6-003b4baf914e\">\n",
              "  <button class=\"colab-df-quickchart\" onclick=\"quickchart('df-3a92db79-8824-4ae6-b7f6-003b4baf914e')\"\n",
              "            title=\"Suggest charts\"\n",
              "            style=\"display:none;\">\n",
              "\n",
              "<svg xmlns=\"http://www.w3.org/2000/svg\" height=\"24px\"viewBox=\"0 0 24 24\"\n",
              "     width=\"24px\">\n",
              "    <g>\n",
              "        <path d=\"M19 3H5c-1.1 0-2 .9-2 2v14c0 1.1.9 2 2 2h14c1.1 0 2-.9 2-2V5c0-1.1-.9-2-2-2zM9 17H7v-7h2v7zm4 0h-2V7h2v10zm4 0h-2v-4h2v4z\"/>\n",
              "    </g>\n",
              "</svg>\n",
              "  </button>\n",
              "\n",
              "<style>\n",
              "  .colab-df-quickchart {\n",
              "      --bg-color: #E8F0FE;\n",
              "      --fill-color: #1967D2;\n",
              "      --hover-bg-color: #E2EBFA;\n",
              "      --hover-fill-color: #174EA6;\n",
              "      --disabled-fill-color: #AAA;\n",
              "      --disabled-bg-color: #DDD;\n",
              "  }\n",
              "\n",
              "  [theme=dark] .colab-df-quickchart {\n",
              "      --bg-color: #3B4455;\n",
              "      --fill-color: #D2E3FC;\n",
              "      --hover-bg-color: #434B5C;\n",
              "      --hover-fill-color: #FFFFFF;\n",
              "      --disabled-bg-color: #3B4455;\n",
              "      --disabled-fill-color: #666;\n",
              "  }\n",
              "\n",
              "  .colab-df-quickchart {\n",
              "    background-color: var(--bg-color);\n",
              "    border: none;\n",
              "    border-radius: 50%;\n",
              "    cursor: pointer;\n",
              "    display: none;\n",
              "    fill: var(--fill-color);\n",
              "    height: 32px;\n",
              "    padding: 0;\n",
              "    width: 32px;\n",
              "  }\n",
              "\n",
              "  .colab-df-quickchart:hover {\n",
              "    background-color: var(--hover-bg-color);\n",
              "    box-shadow: 0 1px 2px rgba(60, 64, 67, 0.3), 0 1px 3px 1px rgba(60, 64, 67, 0.15);\n",
              "    fill: var(--button-hover-fill-color);\n",
              "  }\n",
              "\n",
              "  .colab-df-quickchart-complete:disabled,\n",
              "  .colab-df-quickchart-complete:disabled:hover {\n",
              "    background-color: var(--disabled-bg-color);\n",
              "    fill: var(--disabled-fill-color);\n",
              "    box-shadow: none;\n",
              "  }\n",
              "\n",
              "  .colab-df-spinner {\n",
              "    border: 2px solid var(--fill-color);\n",
              "    border-color: transparent;\n",
              "    border-bottom-color: var(--fill-color);\n",
              "    animation:\n",
              "      spin 1s steps(1) infinite;\n",
              "  }\n",
              "\n",
              "  @keyframes spin {\n",
              "    0% {\n",
              "      border-color: transparent;\n",
              "      border-bottom-color: var(--fill-color);\n",
              "      border-left-color: var(--fill-color);\n",
              "    }\n",
              "    20% {\n",
              "      border-color: transparent;\n",
              "      border-left-color: var(--fill-color);\n",
              "      border-top-color: var(--fill-color);\n",
              "    }\n",
              "    30% {\n",
              "      border-color: transparent;\n",
              "      border-left-color: var(--fill-color);\n",
              "      border-top-color: var(--fill-color);\n",
              "      border-right-color: var(--fill-color);\n",
              "    }\n",
              "    40% {\n",
              "      border-color: transparent;\n",
              "      border-right-color: var(--fill-color);\n",
              "      border-top-color: var(--fill-color);\n",
              "    }\n",
              "    60% {\n",
              "      border-color: transparent;\n",
              "      border-right-color: var(--fill-color);\n",
              "    }\n",
              "    80% {\n",
              "      border-color: transparent;\n",
              "      border-right-color: var(--fill-color);\n",
              "      border-bottom-color: var(--fill-color);\n",
              "    }\n",
              "    90% {\n",
              "      border-color: transparent;\n",
              "      border-bottom-color: var(--fill-color);\n",
              "    }\n",
              "  }\n",
              "</style>\n",
              "\n",
              "  <script>\n",
              "    async function quickchart(key) {\n",
              "      const quickchartButtonEl =\n",
              "        document.querySelector('#' + key + ' button');\n",
              "      quickchartButtonEl.disabled = true;  // To prevent multiple clicks.\n",
              "      quickchartButtonEl.classList.add('colab-df-spinner');\n",
              "      try {\n",
              "        const charts = await google.colab.kernel.invokeFunction(\n",
              "            'suggestCharts', [key], {});\n",
              "      } catch (error) {\n",
              "        console.error('Error during call to suggestCharts:', error);\n",
              "      }\n",
              "      quickchartButtonEl.classList.remove('colab-df-spinner');\n",
              "      quickchartButtonEl.classList.add('colab-df-quickchart-complete');\n",
              "    }\n",
              "    (() => {\n",
              "      let quickchartButtonEl =\n",
              "        document.querySelector('#df-3a92db79-8824-4ae6-b7f6-003b4baf914e button');\n",
              "      quickchartButtonEl.style.display =\n",
              "        google.colab.kernel.accessAllowed ? 'block' : 'none';\n",
              "    })();\n",
              "  </script>\n",
              "</div>\n",
              "\n",
              "    </div>\n",
              "  </div>\n"
            ],
            "application/vnd.google.colaboratory.intrinsic+json": {
              "type": "dataframe",
              "variable_name": "df_supplements",
              "summary": "{\n  \"name\": \"df_supplements\",\n  \"rows\": 299,\n  \"fields\": [\n    {\n      \"column\": \"Texto\",\n      \"properties\": {\n        \"dtype\": \"string\",\n        \"num_unique_values\": 296,\n        \"samples\": [\n          \"Todo lleg\\u00f3 perfecto, recomiendo la tienda\",\n          \"Lleg\\u00f3 muy r\\u00e1pido, mejor de lo esperado\",\n          \"La calidad podr\\u00eda ser mejor\"\n        ],\n        \"semantic_type\": \"\",\n        \"description\": \"\"\n      }\n    },\n    {\n      \"column\": \"Sentimiento\",\n      \"properties\": {\n        \"dtype\": \"category\",\n        \"num_unique_values\": 3,\n        \"samples\": [\n          \"positivo\",\n          \"negativo\",\n          \"neutral\"\n        ],\n        \"semantic_type\": \"\",\n        \"description\": \"\"\n      }\n    },\n    {\n      \"column\": \"longitud_palabras\",\n      \"properties\": {\n        \"dtype\": \"number\",\n        \"std\": 1,\n        \"min\": 3,\n        \"max\": 11,\n        \"num_unique_values\": 9,\n        \"samples\": [\n          4,\n          7,\n          3\n        ],\n        \"semantic_type\": \"\",\n        \"description\": \"\"\n      }\n    },\n    {\n      \"column\": \"Texto_Limpio\",\n      \"properties\": {\n        \"dtype\": \"string\",\n        \"num_unique_values\": 289,\n        \"samples\": [\n          \"tiempo entrega demasiado largo\",\n          \"env\\u00edo eficiente problemas\",\n          \"servicio cliente profesional\"\n        ],\n        \"semantic_type\": \"\",\n        \"description\": \"\"\n      }\n    }\n  ]\n}"
            }
          },
          "metadata": {},
          "execution_count": 19
        }
      ]
    },
    {
      "cell_type": "markdown",
      "source": [
        "`WordCloud`\n",
        "---\n",
        "\n",
        "Visualización de las palabras más frecuentes (cualitativamente).\n",
        "A simple vista son las principales palabras. :\n",
        "- Sabor\n",
        "- Producto\n",
        "- Precio\n",
        "- Calidad\n",
        "- Servicio\n",
        "- llego\n",
        "- rapido\n",
        "\n",
        "Entiendo que va de la mano con el desbalance positivo de los comentarios.\n",
        "\n",
        "A simple vista pareciera que el producto es el principal eje de los comentarios y que el precio, el sabor y la velocidad son las variables más comentadas por los clientes."
      ],
      "metadata": {
        "id": "hT9AvT41DJOr"
      }
    },
    {
      "cell_type": "code",
      "source": [
        "# Wordcloud para visualizar las palabras más frecuentes en los comentarios de los usuarios\n",
        "\n",
        "# Lista para almacenar todos los textos limpios\n",
        "texto_completo = \" \".join(df_supplements['Texto_Limpio'])\n",
        "\n",
        "# Generación del WordCloud\n",
        "wordcloud = WordCloud(width=800, height=400, background_color='white').generate(texto_completo)\n",
        "\n",
        "# Mostrar la imagen del WordCloud\n",
        "plt.figure(figsize=(10, 6))\n",
        "plt.imshow(wordcloud, interpolation='bilinear')  # 'bilinear' para suavizar la imagen\n",
        "plt.axis('off')  # Quitar los ejes\n",
        "plt.show()"
      ],
      "metadata": {
        "colab": {
          "base_uri": "https://localhost:8080/",
          "height": 424
        },
        "id": "_UnnK0CPCQNt",
        "outputId": "056dd69c-f6d5-4245-e732-672994fe10ef"
      },
      "execution_count": 20,
      "outputs": [
        {
          "output_type": "display_data",
          "data": {
            "text/plain": [
              "<Figure size 1000x600 with 1 Axes>"
            ],
            "image/png": "[encoded data removed]"
          },
          "metadata": {}
        }
      ]
    },
    {
      "cell_type": "markdown",
      "source": [
        "`CounterVectorizer`\n",
        "---\n",
        "\n",
        "En este caso quiero ver de manera cuantitativa y más detallada la misma repetición.\n",
        "\n",
        "Voy a analizar el top 10 de palabras más frecuentas.\n",
        "\n",
        "De esta manera voy a buscar complementar la Word Cloud con esta herramienta.\n",
        "\n",
        "Analizando el gráfico refuerzo la idea anterior, eje de los comentarios \"Producto\" y variables principales \"Sabor\", \"Precio\", \"Entrega\" y \"Atención\""
      ],
      "metadata": {
        "id": "4ZXutXk3fwUc"
      }
    },
    {
      "cell_type": "code",
      "source": [
        "# CountVectorizer para complementar el ánalisis de las palabras más frecuentes\n",
        "\n",
        "# Inicializar el CountVectorizer\n",
        "vectorizer = CountVectorizer(max_features=10)\n",
        "\n",
        "# Aplicar el vectorizer al texto completo\n",
        "X = vectorizer.fit_transform([texto_completo])\n",
        "\n",
        "# Obtener las palabras y sus frecuencias\n",
        "palabras = vectorizer.get_feature_names_out()\n",
        "frecuencias = X.toarray().sum(axis=0)\n",
        "\n",
        "# Crear un DataFrame para visualizar las palabras más frecuentes\n",
        "df_palabras = pd.DataFrame({'Palabra': palabras, 'Frecuencia': frecuencias})\n",
        "\n",
        "# Ordenar el DataFrame por frecuencia en orden descendente\n",
        "df_palabras = df_palabras.sort_values(by='Frecuencia', ascending=False)\n",
        "\n",
        "# Visualizar las top 10 palabras más frecuentes\n",
        "plt.figure(figsize=(10, 6))\n",
        "plt.barh(df_palabras['Palabra'], df_palabras['Frecuencia'], color='skyblue')\n",
        "plt.title('Top 10 Palabras Más Frecuentes')\n",
        "plt.xlabel('Frecuencia')\n",
        "plt.ylabel('Palabras')\n",
        "plt.gca().invert_yaxis()  # Para que la palabra más frecuente esté arriba\n",
        "plt.show()\n"
      ],
      "metadata": {
        "colab": {
          "base_uri": "https://localhost:8080/",
          "height": 565
        },
        "id": "YSg-uGs5ECQy",
        "outputId": "1b0e721c-8710-47bf-9c51-efa258491868"
      },
      "execution_count": 21,
      "outputs": [
        {
          "output_type": "display_data",
          "data": {
            "text/plain": [
              "<Figure size 1000x600 with 1 Axes>"
            ],
            "image/png": "[encoded data removed]"
          },
          "metadata": {}
        }
      ]
    },
    {
      "cell_type": "markdown",
      "source": [
        "# Feature Engineering\n",
        "\n",
        "El objetivo de esta sección es transformar el texto para que pueda ser interpretado por los algoritmos de ML que voy a usar posteriormente."
      ],
      "metadata": {
        "id": "DYjxHTTaMhXW"
      }
    },
    {
      "cell_type": "markdown",
      "source": [
        "NLP Representation"
      ],
      "metadata": {
        "id": "N7ibvtUmWl2A"
      }
    },
    {
      "cell_type": "markdown",
      "source": [
        "`Embedding Models`\n",
        "---\n",
        "\n",
        "Me va a permitir representar el texto en un espacio numerico. A diferencia de métodos más clásicos como TF-IDF que captura la frecuencia de palabras, los embedings me van a permitir capturar representaciones densas del texto que incluyen relaciones tanto semánticas como contextuales entre palabras.\n",
        "\n",
        "Esto va a ser fundamental a la hora de aplicar los modelos de ML, ya que va a permitir que comprendan no solo las palabras individuales, sino el contexto general de las oraciones.\n",
        "\n",
        "Voy a utilizar el tokenizador y el modelo de HuggingFace (intfloat/multilingual-e5-large)para obtener los embeddings de las frases ya que es un modelo open-source que soporta distintos lenguajes especializado en texto semantico."
      ],
      "metadata": {
        "id": "Sn-TG6l5Q95M"
      }
    },
    {
      "cell_type": "code",
      "source": [
        "# Embedding Models\n",
        "\n",
        "# Cargar el modelo y tokenizer desde HuggingFace\n",
        "tokenizer = AutoTokenizer.from_pretrained(\"intfloat/multilingual-e5-large\")\n",
        "model = AutoModel.from_pretrained(\"intfloat/multilingual-e5-large\")\n",
        "\n",
        "# Función para obtener embeddings\n",
        "def get_embedding(text):\n",
        "    # Tokenizar la oración\n",
        "    inputs = tokenizer(text, return_tensors=\"pt\", padding=True, truncation=True)\n",
        "\n",
        "    # Obtener el embedding de la oración\n",
        "    with torch.no_grad():\n",
        "        embedding = model(**inputs).last_hidden_state.mean(dim=1)\n",
        "\n",
        "    return embedding.squeeze().numpy()\n",
        "\n",
        "# Aplicar la función a la columna 'Texto_Limpio' de tu DataFrame\n",
        "df_supplements['Embedding'] = df_supplements['Texto_Limpio'].apply(get_embedding)\n",
        "\n",
        "# Ver el DataFrame con embeddings\n",
        "print(df_supplements[['Texto_Limpio', 'Embedding']])"
      ],
      "metadata": {
        "id": "XySV7zuU8PxB",
        "colab": {
          "base_uri": "https://localhost:8080/",
          "height": 811,
          "referenced_widgets": [
            "77652f75919e4f26a1cdc528af00fdf5",
            "ff87baa3682b41d0b302854f7fc4c577",
            "f805e3d1a98f4bd0aa2fb6f3282d9245",
            "00d71e2fa0634a718d7006036f61cff1",
            "c66422a77a3849b6be5585f1c76bc699",
            "8875b39d59d54e1490a55824711f2c52",
            "e8453c48bbc44a76bc24023e5693dec8",
            "13bc123bef18404c9bf59cd660b306a3",
            "fec3fb6ef5bb4b4c9cb2f5750e51d987",
            "089227d32c6b4822ab79972c52c6c09d",
            "3b3fdb02007943029d0f1df3f98bb414",
            "009594dda00f410ca19c36a80e2f5c3f",
            "1be5b4d1baa942b19a2372f8d5203630",
            "1793552efe314fa0ba4ec75f86b75d68",
            "11655bb556c1486e81a063581796a835",
            "e8a57a0919c74835ace903d3d55c0512",
            "2979e06062c445f2978092d5e7e94ac7",
            "61c9911122d84a77848039e590798df0",
            "8813a7ea3dfe40aa9ccfe320e3e45cff",
            "2e73984b4e524e8a82952fd80f88e067",
            "6f096eacabd94cc4bcbd71d536f8f584",
            "e8d23d0c844b4a4fb82a85835f2c879c",
            "5653b16dec954c18aff51d48dc50a3ea",
            "9a65cbb3f21c42da950dda9e8d189cfa",
            "c7679350f86c42f6bf0cf53d7f9d78e6",
            "01cbae0f2a104e399729a2bb2768d1dc",
            "f21f8f512625480b8d8d0513829f4578",
            "24461f5422a54b87ad8f3b095dfee92a",
            "7aac5867ad8b41f885e6cd1bf4fd94c5",
            "c10de17b7e77467ba9f8181a01df00f9",
            "033c92f95f8d4be4b79439cd85c1aae4",
            "0e9c55a9c17843a2aad1fd3cb9c5f56f",
            "03122cf478f248ffb827b4d87b285665",
            "51fc35f3a09b496db2ccb430b49afb2a",
            "7dc6a6a2fb874d7bb04638ed2cffc383",
            "b54b1a9a5afb404fa2637cf348d50d72",
            "5fc8fae1644a4ee08711316835c735e0",
            "eab6f08d86354272a87cf17cb629e146",
            "ddc9d3fef87d4ca5b579c7cac57bd2aa",
            "ebb7acf6573149de8b2e8a7f96f2479f",
            "24b07102142a43359d63976b5c3c48cc",
            "6787e1dea25f49a3ad1a8d5ce8cdab54",
            "248ccb4851464abb977e4b18e044faf1",
            "7f993bfc388f495da9fd90b8f5ec7b14",
            "13addc232bfe4d5fb5697e4029db089c",
            "922c6dc521bb4454a6ca6214c74d39b2",
            "52ca13fc144c40e19fb1c1997724a9d1",
            "ec253e8320484c539995c44278944d00",
            "4cbf8267344b4c48a97ef25db7d808e2",
            "811d44c5fb1e44acbf70d4341e121478",
            "b4cc13cba3db40e6ab76e19d11433bff",
            "8140528847444ab5bc8e282cc3cb259a",
            "fcd6e7946d834a389fb8242f5a8d5eb6",
            "59c0829cac7c454ea1c2d6969bd67928",
            "83ea3fb0012d4f66a6e4285637e4e787",
            "7fb285db83034b7ea2098e7f69020321",
            "e77fc567fe694061935d1b2ca24f18bd",
            "52abc523311342fc8b4517c98990cd4e",
            "7f70ed20fca84244818770a9f4b20f70",
            "ffac4d6f1f1349c29030edbff515db8a",
            "4f0e319ae2fe4cd8999d771f931ad8d3",
            "88553838edc948ad96e1fe59cb1025f3",
            "2dbbc4c8a4224f4696699758730ecb06",
            "689088414363415ba99ae643a5d30014",
            "581f80c72f9e4d3d9eb9aab8a84c62d8",
            "e177b1ff02e24905b186c6234b7cac3d"
          ]
        },
        "outputId": "c1bed651-8475-4c1f-d140-7a7b2cc401d2"
      },
      "execution_count": 22,
      "outputs": [
        {
          "output_type": "stream",
          "name": "stderr",
          "text": [
            "/usr/local/lib/python3.10/dist-packages/huggingface_hub/utils/_auth.py:94: UserWarning: \n",
            "The secret `HF_TOKEN` does not exist in your Colab secrets.\n",
            "To authenticate with the Hugging Face Hub, create a token in your settings tab (https://huggingface.co/settings/tokens), set it as secret in your Google Colab and restart your session.\n",
            "You will be able to reuse this secret in all of your notebooks.\n",
            "Please note that authentication is recommended but still optional to access public models or datasets.\n",
            "  warnings.warn(\n"
          ]
        },
        {
          "output_type": "display_data",
          "data": {
            "text/plain": [
              "tokenizer_config.json:   0%|          | 0.00/418 [00:00<?, ?B/s]"
            ],
            "application/vnd.jupyter.widget-view+json": {
              "version_major": 2,
              "version_minor": 0,
              "model_id": "77652f75919e4f26a1cdc528af00fdf5"
            }
          },
          "metadata": {}
        },
        {
          "output_type": "display_data",
          "data": {
            "text/plain": [
              "sentencepiece.bpe.model:   0%|          | 0.00/5.07M [00:00<?, ?B/s]"
            ],
            "application/vnd.jupyter.widget-view+json": {
              "version_major": 2,
              "version_minor": 0,
              "model_id": "009594dda00f410ca19c36a80e2f5c3f"
            }
          },
          "metadata": {}
        },
        {
          "output_type": "display_data",
          "data": {
            "text/plain": [
              "tokenizer.json:   0%|          | 0.00/17.1M [00:00<?, ?B/s]"
            ],
            "application/vnd.jupyter.widget-view+json": {
              "version_major": 2,
              "version_minor": 0,
              "model_id": "5653b16dec954c18aff51d48dc50a3ea"
            }
          },
          "metadata": {}
        },
        {
          "output_type": "display_data",
          "data": {
            "text/plain": [
              "special_tokens_map.json:   0%|          | 0.00/280 [00:00<?, ?B/s]"
            ],
            "application/vnd.jupyter.widget-view+json": {
              "version_major": 2,
              "version_minor": 0,
              "model_id": "51fc35f3a09b496db2ccb430b49afb2a"
            }
          },
          "metadata": {}
        },
        {
          "output_type": "display_data",
          "data": {
            "text/plain": [
              "config.json:   0%|          | 0.00/690 [00:00<?, ?B/s]"
            ],
            "application/vnd.jupyter.widget-view+json": {
              "version_major": 2,
              "version_minor": 0,
              "model_id": "13addc232bfe4d5fb5697e4029db089c"
            }
          },
          "metadata": {}
        },
        {
          "output_type": "display_data",
          "data": {
            "text/plain": [
              "model.safetensors:   0%|          | 0.00/2.24G [00:00<?, ?B/s]"
            ],
            "application/vnd.jupyter.widget-view+json": {
              "version_major": 2,
              "version_minor": 0,
              "model_id": "7fb285db83034b7ea2098e7f69020321"
            }
          },
          "metadata": {}
        },
        {
          "output_type": "stream",
          "name": "stdout",
          "text": [
            "                            Texto_Limpio  \\\n",
            "0          sabor increíble mejor probado   \n",
            "1             llegó tarde paquete dañado   \n",
            "2               precio razonable calidad   \n",
            "3    noto diferencia productos similares   \n",
            "4                 envío rápido problemas   \n",
            "..                                   ...   \n",
            "294                 siento vitalidad uso   \n",
            "295  excelente calidad vale cada centavo   \n",
            "296         sabor aceptable sorprendente   \n",
            "297           problemas atención cliente   \n",
            "298              llegó tiempo confiables   \n",
            "\n",
            "                                             Embedding  \n",
            "0    [0.37949297, 0.018278519, -0.31692043, -1.4277...  \n",
            "1    [0.29728043, 0.10108301, 0.2544717, -1.0751157...  \n",
            "2    [0.3472688, -0.25522107, -0.34541056, -1.44136...  \n",
            "3    [0.602626, -0.63015354, -0.7458455, -0.9598028...  \n",
            "4    [0.10878301, -0.04230996, 0.18203694, -0.80993...  \n",
            "..                                                 ...  \n",
            "294  [0.47435722, -0.29000342, -0.79885054, -0.9351...  \n",
            "295  [0.6868878, -0.79065406, -0.555659, -1.0401362...  \n",
            "296  [0.810471, 0.20235753, 0.30657953, -1.7499384,...  \n",
            "297  [0.2697413, -0.26296267, -0.21611992, -2.04731...  \n",
            "298  [0.96641177, -0.43883395, -0.718041, -1.114250...  \n",
            "\n",
            "[299 rows x 2 columns]\n"
          ]
        }
      ]
    },
    {
      "cell_type": "markdown",
      "source": [
        "`t-SNE Reducción de Dimensionalidad`\n",
        "---\n",
        "\n",
        "El obtetivo es crear un mapa reducido e 2D para visualizar e interpretar los embeddings realizados en el paso previo a través de t-SNE.\n",
        "\n",
        "- n_components = Elegí 2 componentes para reducir los embeddings a un plano 2D, para facilitar la visualización.\n",
        "- Perplexity: Tomo un valor medio dado que se recomienda 5-15 para enfocar en relaciones locales y 50 a 100 para dar prioridad a patrones globales.\n",
        "- random_state = 42 para permitir la reproducibilidad\n",
        "\n"
      ],
      "metadata": {
        "id": "mu0hyjv-DYX0"
      }
    },
    {
      "cell_type": "code",
      "source": [
        "# Visualización 2D de los embeddings\n",
        "\n",
        "# Extraer los embeddings (asegúrate de convertirlos a una matriz NumPy)\n",
        "embeddings = np.vstack(df_supplements['Embedding'])\n",
        "\n",
        "labels = df_supplements['Sentimiento']\n",
        "\n",
        "# Aplicar t-SNE para reducir dimensiones\n",
        "tsne = TSNE(n_components=2, random_state=42, perplexity=30)\n",
        "embeddings_2d = tsne.fit_transform(embeddings)\n",
        "\n",
        "# Crear el gráfico de dispersión\n",
        "plt.figure(figsize=(10, 7))\n",
        "for cluster in set(labels):\n",
        "    idx = labels == cluster\n",
        "    plt.scatter(embeddings_2d[idx, 0], embeddings_2d[idx, 1], label=f'{cluster}', alpha=0.7)\n",
        "\n",
        "plt.title(\"Distribución de Embeddings con t-SNE\")\n",
        "plt.legend()\n",
        "plt.show()\n"
      ],
      "metadata": {
        "id": "5WtRl5-wXxua",
        "colab": {
          "base_uri": "https://localhost:8080/",
          "height": 622
        },
        "outputId": "61e9aaae-1644-4ad1-ee00-1107166b1ff6"
      },
      "execution_count": 23,
      "outputs": [
        {
          "output_type": "display_data",
          "data": {
            "text/plain": [
              "<Figure size 1000x700 with 1 Axes>"
            ],
            "image/png": "[encoded data removed]"
          },
          "metadata": {}
        }
      ]
    },
    {
      "cell_type": "markdown",
      "source": [
        "A simple vista percibo un aceptable agrupamiento de las críticas `positivas`.\n",
        "\n",
        "Indica que las expresiones positivas tienen una representación semántica distintiva en el espacio de embeddings.\n",
        "\n",
        "Los puntos `negativos` también tienen a formar grupos aunque aparecen globalmente un poco más dispersos que los positivos.\n",
        "\n",
        "Los `neutrales` estan más intercalados entre los dos grupos, lo que podría hablar de cierta ambiguedad de las críticas a nivel semántico."
      ],
      "metadata": {
        "id": "ELALTb2yLVv_"
      }
    },
    {
      "cell_type": "markdown",
      "source": [
        "`Calculo la matriz de distancias `\n",
        "---\n",
        "\n",
        "Realizo el cálculo de distancias entre los puntos en el espacio 2D generado por t-SNE con el objetivo de analizar que tan cerca o lejos están entre sí las observaciones.\n",
        "\n",
        "**Pairwise_distances**: Se utiliza en este caso para calcular la distiancia entre cada par de puntos en el espacio 2D generado previamente.\n",
        "Me crea una matriz de distancias utilizando metrica Euclidiana."
      ],
      "metadata": {
        "id": "_GwIW25pJTnW"
      }
    },
    {
      "cell_type": "code",
      "source": [
        "# Creo una matriz de distancias entre todos los puntos\n",
        "distance_matrix = pairwise_distances(embeddings_2d)\n",
        "\n",
        "# Crear máscaras para distancias intra-cluster y entre clusters\n",
        "intra_distances = []\n",
        "inter_distances = []\n",
        "\n",
        "# Se itera sobre las distancias y dependiendo si pertenece al mismo cluster o a diferentes clusters se agregan a dicha lista.\n",
        "for i, label_i in enumerate(labels):\n",
        "    for j, label_j in enumerate(labels):\n",
        "        if i < j:  # Evitar duplicar cálculos\n",
        "        # Si los puntos pertenecen al mismo cluster se agregan a la lista intra\n",
        "            if label_i == label_j:\n",
        "                intra_distances.append(distance_matrix[i, j])\n",
        "        # Sino se agregan a la lista inter\n",
        "            else:\n",
        "                inter_distances.append(distance_matrix[i, j])\n",
        "\n",
        "# Visualizar histogramas\n",
        "plt.figure(figsize=(12, 6))\n",
        "\n",
        "# Histogramas de distancias intra-cluster\n",
        "plt.subplot(1, 2, 1)\n",
        "sns.histplot(intra_distances, kde=True, color='blue', bins=20)\n",
        "plt.title('Distancias Intra-Cluster')\n",
        "plt.xlabel('Distancia')\n",
        "plt.ylabel('Frecuencia')\n",
        "\n",
        "# Histogramas de distancias entre clusters\n",
        "plt.subplot(1, 2, 2)\n",
        "sns.histplot(inter_distances, kde=True, color='red', bins=20)\n",
        "plt.title('Distancias Entre Clusters')\n",
        "plt.xlabel('Distancia')\n",
        "plt.ylabel('Frecuencia')\n",
        "\n",
        "plt.tight_layout()\n",
        "plt.show()\n"
      ],
      "metadata": {
        "colab": {
          "base_uri": "https://localhost:8080/",
          "height": 607
        },
        "id": "f2iMuRHJH_yp",
        "outputId": "821250c5-ecae-4612-a377-6ebfcbc5fcf4"
      },
      "execution_count": 24,
      "outputs": [
        {
          "output_type": "display_data",
          "data": {
            "text/plain": [
              "<Figure size 1200x600 with 2 Axes>"
            ],
            "image/png": "[encoded data removed]"
          },
          "metadata": {}
        }
      ]
    },
    {
      "cell_type": "markdown",
      "source": [
        "- Distancias intra-cluster: Las distancias entre los puntos de una misma etiqueta tiene un pico entre 10 y 20. Lo interpreto como algo positivo ya que sugiere que los puntos dentro del mismo grupo están semánticamente cercanos.\n",
        "\n",
        "- Distancias inter-cluster: La separación entre los diferentes grupos tiene un pico en el rango de 10 a 30, por encima de las distancias intra cluster.\n",
        "No es muy grande pero lo considero aceptable.\n"
      ],
      "metadata": {
        "id": "tIUIeQyYWX4m"
      }
    },
    {
      "cell_type": "markdown",
      "source": [
        "# ETAPA 1: Modelado Predictivo"
      ],
      "metadata": {
        "id": "D8rhLAuRM1Lk"
      }
    },
    {
      "cell_type": "markdown",
      "source": [
        "`Clasificación de Sentimiento (Sentimental Classification)`\n",
        "---\n",
        "\n",
        "Research inicial:\n",
        "- https://towardsdatascience.com/a-guide-to-text-classification-and-sentiment-analysis-2ab021796317\n",
        "- https://cookbook.openai.com/examples/classification_using_embeddings"
      ],
      "metadata": {
        "id": "zo8Mk5VRM9ZE"
      }
    },
    {
      "cell_type": "markdown",
      "source": [
        "Para esta etapa voy a utilizar modelos eficientes y a la vez accesibles en cualquier tipo de entorno para la clasificación de sentimientos.\n",
        "\n",
        "https://www.geeksforgeeks.org/random-forest-algorithm-in-machine-learning/\n",
        "https://www.geeksforgeeks.org/support-vector-machine-algorithm/\n",
        "https://www.geeksforgeeks.org/support-vector-machine-algorithm/\n",
        "\n",
        "Principalmente voy a probar:\n",
        "- Logistic Regression\n",
        "- Random Forest\n",
        "- Support Vector Machine (SVM)\n",
        "\n",
        "Tienen una buena capacidad para manejar datos de alta dimensionalidad como embeddings y como ventaja no requieren mucha capacidad computacional.\n",
        "\n",
        "Como problematicas que puedan surgir en primera instancia se me ocurren los analizados en la etapa de EDA:\n",
        "\n",
        "- Desbalanceo de clases: Hay más positivos que neutrales y negativos.\n",
        "En ese caso habrá que evaluar undersampling o oversampling."
      ],
      "metadata": {
        "id": "6XubbdnKsoue"
      }
    },
    {
      "cell_type": "markdown",
      "source": [
        "`Preparación del df para trabajar los modelos` `Código en línea`\n",
        "---"
      ],
      "metadata": {
        "id": "qFENdtpQ3nVK"
      }
    },
    {
      "cell_type": "code",
      "source": [
        "label_encoder = LabelEncoder()\n",
        "df_supplements['Sentimiento'] = label_encoder.fit_transform(df_supplements['Sentimiento'])"
      ],
      "metadata": {
        "id": "Il5_sMRJ8S04"
      },
      "execution_count": 25,
      "outputs": []
    },
    {
      "cell_type": "code",
      "source": [
        "# Verificar la columna de Sentimiento\n",
        "print(df_supplements['Sentimiento'].unique())  # Asegúrate de que las etiquetas son correctas\n"
      ],
      "metadata": {
        "colab": {
          "base_uri": "https://localhost:8080/"
        },
        "id": "J8pD7K_l8WIF",
        "outputId": "99498d23-ad81-4089-a748-7c0b7a9c0593"
      },
      "execution_count": 26,
      "outputs": [
        {
          "output_type": "stream",
          "name": "stdout",
          "text": [
            "[2 0 1]\n"
          ]
        }
      ]
    },
    {
      "cell_type": "code",
      "source": [
        "# Preparo el df\n",
        "X = np.vstack(df_supplements['Embedding'].values)\n",
        "y = df_supplements[[\"Sentimiento\"]].values\n",
        "\n",
        "# Divido los datos\n",
        "X_train, X_test, y_train, y_test = train_test_split(X, y, test_size=0.2,random_state=42)\n"
      ],
      "metadata": {
        "id": "k8IQOlCF34MR"
      },
      "execution_count": 27,
      "outputs": []
    },
    {
      "cell_type": "markdown",
      "source": [
        "`Modelos: Finalmente utilizo Logistic Regression`\n",
        "---"
      ],
      "metadata": {
        "id": "098QazOVmcvs"
      }
    },
    {
      "cell_type": "markdown",
      "source": [
        "Logistic Regression"
      ],
      "metadata": {
        "id": "Q86nMDRq5ju_"
      }
    },
    {
      "cell_type": "code",
      "source": [
        "# Crear y entrenar el modelo de regresión logística\n",
        "model_lr = LogisticRegression(max_iter=1000, class_weight=\"balanced\")\n",
        "model_lr.fit(X_train, y_train)\n",
        "\n",
        "# Evaluar el modelo\n",
        "y_pred_lr = model_lr.predict(X_test)\n",
        "print(classification_report(y_test, y_pred_lr))"
      ],
      "metadata": {
        "colab": {
          "base_uri": "https://localhost:8080/"
        },
        "id": "TP45kLgR4TL3",
        "outputId": "1e4f6707-5aa4-4acd-bdd3-569f90d47188"
      },
      "execution_count": 28,
      "outputs": [
        {
          "output_type": "stream",
          "name": "stderr",
          "text": [
            "/usr/local/lib/python3.10/dist-packages/sklearn/utils/validation.py:1408: DataConversionWarning: A column-vector y was passed when a 1d array was expected. Please change the shape of y to (n_samples, ), for example using ravel().\n",
            "  y = column_or_1d(y, warn=True)\n"
          ]
        },
        {
          "output_type": "stream",
          "name": "stdout",
          "text": [
            "              precision    recall  f1-score   support\n",
            "\n",
            "           0       0.77      0.77      0.77        22\n",
            "           1       0.86      0.75      0.80        16\n",
            "           2       0.83      0.91      0.87        22\n",
            "\n",
            "    accuracy                           0.82        60\n",
            "   macro avg       0.82      0.81      0.81        60\n",
            "weighted avg       0.82      0.82      0.82        60\n",
            "\n"
          ]
        }
      ]
    },
    {
      "cell_type": "markdown",
      "source": [
        "Random Forest"
      ],
      "metadata": {
        "id": "xmRB9NtfsRZI"
      }
    },
    {
      "cell_type": "code",
      "source": [
        "# Creo y entreno el modelo de Random Forest\n",
        "# Entrenar el modelo de Random Forest\n",
        "model_rf = RandomForestClassifier(n_estimators=100, random_state=42)\n",
        "model_rf.fit(X_train, y_train)\n",
        "\n",
        "# Evaluar el modelo\n",
        "y_pred_rf = model_rf.predict(X_test)\n",
        "print(classification_report(y_test, y_pred_rf))"
      ],
      "metadata": {
        "colab": {
          "base_uri": "https://localhost:8080/"
        },
        "id": "DZ6SHfxzsMyo",
        "outputId": "4d15e7d8-867c-4473-972d-14e0fe7c0b6d"
      },
      "execution_count": 29,
      "outputs": [
        {
          "output_type": "stream",
          "name": "stderr",
          "text": [
            "/usr/local/lib/python3.10/dist-packages/sklearn/base.py:1389: DataConversionWarning: A column-vector y was passed when a 1d array was expected. Please change the shape of y to (n_samples,), for example using ravel().\n",
            "  return fit_method(estimator, *args, **kwargs)\n"
          ]
        },
        {
          "output_type": "stream",
          "name": "stdout",
          "text": [
            "              precision    recall  f1-score   support\n",
            "\n",
            "           0       0.76      0.73      0.74        22\n",
            "           1       0.80      0.50      0.62        16\n",
            "           2       0.72      0.95      0.82        22\n",
            "\n",
            "    accuracy                           0.75        60\n",
            "   macro avg       0.76      0.73      0.73        60\n",
            "weighted avg       0.76      0.75      0.74        60\n",
            "\n"
          ]
        }
      ]
    },
    {
      "cell_type": "markdown",
      "source": [
        "Suppor Vector Machine (SVM)"
      ],
      "metadata": {
        "id": "2G7Tr0rdF_tJ"
      }
    },
    {
      "cell_type": "code",
      "source": [
        "# Crear y entrenar el modelo de SVM\n",
        "model_svm = SVC(kernel='linear', random_state=42)  # Puedes probar otros kernels si lo deseas (por ejemplo, 'rbf', 'poly')\n",
        "model_svm.fit(X_train, y_train)\n",
        "\n",
        "# Evaluar el modelo\n",
        "y_pred_svm = model_svm.predict(X_test)\n",
        "\n",
        "# Mostrar el reporte de clasificación\n",
        "print(classification_report(y_test, y_pred_svm))"
      ],
      "metadata": {
        "colab": {
          "base_uri": "https://localhost:8080/"
        },
        "id": "__cmr61PGD7a",
        "outputId": "37b53de4-7b91-42f8-9e7d-c1aea544c68f"
      },
      "execution_count": 30,
      "outputs": [
        {
          "output_type": "stream",
          "name": "stdout",
          "text": [
            "              precision    recall  f1-score   support\n",
            "\n",
            "           0       0.74      0.77      0.76        22\n",
            "           1       0.92      0.69      0.79        16\n",
            "           2       0.80      0.91      0.85        22\n",
            "\n",
            "    accuracy                           0.80        60\n",
            "   macro avg       0.82      0.79      0.80        60\n",
            "weighted avg       0.81      0.80      0.80        60\n",
            "\n"
          ]
        },
        {
          "output_type": "stream",
          "name": "stderr",
          "text": [
            "/usr/local/lib/python3.10/dist-packages/sklearn/utils/validation.py:1408: DataConversionWarning: A column-vector y was passed when a 1d array was expected. Please change the shape of y to (n_samples, ), for example using ravel().\n",
            "  y = column_or_1d(y, warn=True)\n"
          ]
        }
      ]
    },
    {
      "cell_type": "markdown",
      "source": [
        "`Metricas de Performance para clasificación`\n",
        "---\n",
        "`La precision`: Mide qué tan confiables son las predicciones positivas realizadas por el modelo. Indica la proporción de predicciones positivas que son realmente correctas.  \n",
        "\n",
        "Regresión Logistica:\n",
        "- Clase 0 (Negativo): 0.76\n",
        "- Clase 1 (Neutral): 0.86\n",
        "- Clase 2 (Positivo): 0.80\n",
        "\n",
        "Random Forest:\n",
        "- Clase 0 (Negativo): 0.76\n",
        "- Clase 1 (Neutral): 0.80\n",
        "- Clase 2 (Positivo): 0.72\n",
        "\n",
        "SVM:\n",
        "- Clase 0 (Negativo): 0.74\n",
        "- Clase 1 (Neutral): 0.92\n",
        "- Clase 2 (Positivo): 0.80\n",
        "\n",
        "La precisión es bastante alta y similar en los 3 modelos.\n",
        "\"neutral\" es la clase que mejor precisión tiene y \"Negativo\" es la que menor precisión tiene en general.\n",
        "Un detalle es que Random forest tiene menor precisión en genetal.\n",
        "\n",
        "---\n",
        "\n",
        "`El recall : Mide la capacidad del modelo para identificar correctamente todos los casos positivos reales. Indica cuántos de los positivos reales fueron detectados.\n",
        "\n",
        "Regresión Logistica:\n",
        "- Clase 0 (Negativo): 0.73\n",
        "- Clase 1 (Neutral): 0.75\n",
        "- Clase 2 (Positivo): 0.91\n",
        "\n",
        "Random Forest:\n",
        "- Clase 0 (Negativo): 0.73\n",
        "- Clase 1 (Neutral): 0.50\n",
        "- Clase 2 (Positivo): 0.95\n",
        "\n",
        "SVM:\n",
        "- Clase 0 (Negativo): 0.77\n",
        "- Clase 1 (Neutral): 0.69\n",
        "- Clase 2 (Positivo): 0.91\n",
        "\n",
        "El recall de la clase \"Positiva\" tiene un excelente desempeño.\n",
        "En la clase \"Neutral\" es donde se presenta la mayor diferencia y el menor desempeño sobre todo en Random Forest.\n",
        "\n",
        "---\n",
        "\n",
        "`El F1-Score `: Combina **precision** y **recall** en una única métrica. Es útil cuando las clases están desbalanceadas.\n",
        "En mi caso estan un tanto desbalanceadas por lo cual le voy a dar prioridad.\n",
        "\n",
        "Regresión Logistica:\n",
        "- Clase 0 (Negativo): 0.74\n",
        "- Clase 1 (Neutral): 0.80\n",
        "- Clase 2 (Negativo): 0.85\n",
        "\n",
        "Random Forest:\n",
        "- Clase 0 (Negativo): 0.74\n",
        "- Clase 1 (Neutral): 0.62\n",
        "- Clase 2 (Negativo): 0.82\n",
        "\n",
        "SVM:\n",
        "- Clase 0 (Negativo): 0.76\n",
        "- Clase 1 (Neutral): 0.79\n",
        "- Clase 2 (Negativo): 0.85\n",
        "\n",
        "El que mejor valores presenta es el modelo de regresión Logistica en terminos generales.\n",
        "Al ser un dataset un tanto desbalanceado voy a tomar la decisión de utilizar Regresión Logistica como modelo final.\n",
        "\n",
        "Descarto random forest por los valores de la clase neutral."
      ],
      "metadata": {
        "id": "KtzurR6hJ1uD"
      }
    },
    {
      "cell_type": "markdown",
      "source": [
        "`Matriz de Confusión`\n",
        "---"
      ],
      "metadata": {
        "id": "HkWUHmfSqMsv"
      }
    },
    {
      "cell_type": "code",
      "source": [
        "\n",
        "\n",
        "# Calcular la matriz de confusión\n",
        "cm = confusion_matrix(y_test, y_pred_lr)\n",
        "\n",
        "# Calcular la exactitud (accuracy)\n",
        "accuracy = accuracy_score(y_test, y_pred_lr)\n",
        "print(\"Accuracy:\", accuracy)\n",
        "\n",
        "# Visualizar la matriz de confusión\n",
        "plt.figure(figsize=(8, 6))  # Tamaño ajustado para mejor visualización\n",
        "plt.matshow(cm, cmap=plt.cm.Blues, fignum=1)  # `fignum=1` mantiene la figura\n",
        "plt.colorbar()\n",
        "plt.ylabel(\"Actual\")\n",
        "plt.xlabel(\"Predicted\")\n",
        "plt.title(\"Confusion Matrix\")\n",
        "\n",
        "# Añadir los valores a la matriz visualizada\n",
        "for i in range(cm.shape[0]):\n",
        "    for j in range(cm.shape[1]):\n",
        "        plt.text(j, i, f'{cm[i, j]}',\n",
        "                 ha='center',\n",
        "                 va='center',\n",
        "                 color='white' if cm[i, j] > cm.max()/2 else 'black')\n",
        "\n",
        "# Mostrar el gráfico\n",
        "plt.tight_layout()  # Ajusta los márgenes para evitar que los títulos se corten\n",
        "plt.show()\n"
      ],
      "metadata": {
        "colab": {
          "base_uri": "https://localhost:8080/",
          "height": 627
        },
        "id": "BvsiWTeQbosa",
        "outputId": "935034e9-6471-44d8-eb80-d99f1248627d"
      },
      "execution_count": 31,
      "outputs": [
        {
          "output_type": "stream",
          "name": "stdout",
          "text": [
            "Accuracy: 0.8166666666666667\n"
          ]
        },
        {
          "output_type": "stream",
          "name": "stderr",
          "text": [
            "<ipython-input-31-00fa7bdd67a1>:25: UserWarning: This figure includes Axes that are not compatible with tight_layout, so results might be incorrect.\n",
            "  plt.tight_layout()  # Ajusta los márgenes para evitar que los títulos se corten\n"
          ]
        },
        {
          "output_type": "display_data",
          "data": {
            "text/plain": [
              "<Figure size 800x600 with 2 Axes>"
            ],
            "image/png": "[encoded data removed]"
          },
          "metadata": {}
        }
      ]
    },
    {
      "cell_type": "markdown",
      "source": [
        "Aca visualizo un poco como funciona el modelo.\n",
        "\n",
        "**Sentimiento Negativo:** 16 se predijeron correctamente como negativas y 6 incorrectas (5 de esas como positivo, eso me preocupa)\n",
        "\n",
        "**Sentimiento Neutral:** 12 fueron correctamente identificadas y 4 como algo negativo.\n",
        "\n",
        "**Sentimiento Positivo:** 20 fueron correctas y 2 incorrectas.\n",
        "\n",
        "Se ve naturalmente que la predicción positiva son las que mejor predicción tienen en el modelo.\n",
        "Se puede deber a que hay mayor cantidad de positivas en el dataset original."
      ],
      "metadata": {
        "id": "FMefW-TxmtSO"
      }
    },
    {
      "cell_type": "code",
      "source": [
        "# Probe realizar Oversampling y no hubo grandes modificaciones por lo cual lo mantengo como estaba"
      ],
      "metadata": {
        "id": "Bd1UZtqvrhPq"
      },
      "execution_count": 32,
      "outputs": []
    },
    {
      "cell_type": "markdown",
      "source": [
        "`Modelado de Topico (Clustering)`\n",
        "---\n",
        "\n",
        "- https://www.geeksforgeeks.org/topic-modeling-using-latent-dirichlet-allocation-lda/\n",
        "- https://medium.com/@daffabercerita/how-to-use-large-language-model-for-topic-modeling-a-comprehensive-guide-6c03d365cc90\n",
        "- https://towardsdatascience.com/unsupervised-learning-and-data-clustering-eeecb78b422a\n",
        "- https://www.geeksforgeeks.org/topic-modeling-using-latent-dirichlet-allocation-lda/"
      ],
      "metadata": {
        "id": "MbCiYmc3LBvH"
      }
    },
    {
      "cell_type": "markdown",
      "source": [
        "Para trabajar la clasificación no supervisada voy a utilizar `K-Means`  en primera instancia.\n",
        "\n",
        "Pensé en utilizar LDA, sin embargo por lo que leí es un modelo para grandes colecciones de texto y de mayor complejidad. No lo veo necesario en este caso y tampoco dispongo de colecciones PDF.\n",
        "\n",
        "K-Means me parece un buen algoritmo para trabajar en estos casos.\n",
        "\n",
        "Voy a aprovechar los embeddings ya desarrollados anteriormente.\n"
      ],
      "metadata": {
        "id": "Xp_Gd7Zox8uf"
      }
    },
    {
      "cell_type": "markdown",
      "source": [
        "`Elbow Method para analizar la cantidad de clusters en k-means`\n",
        "---\n",
        "\n",
        "- https://medium.com/@zalarushirajsinh07/the-elbow-method-finding-the-optimal-number-of-clusters-d297f5aeb189"
      ],
      "metadata": {
        "id": "j3Wj-xVsGJZJ"
      }
    },
    {
      "cell_type": "code",
      "source": [
        "\n",
        "# Rango de valores para k (número de clusters)\n",
        "k_range = range(1, 11)\n",
        "\n",
        "# Lista para almacenar la inercia\n",
        "inertia = []\n",
        "\n",
        "# Calcular K-Means para cada k\n",
        "for k in k_range:\n",
        "    kmeans = KMeans(n_clusters=k, random_state=42)\n",
        "    kmeans.fit(embeddings)\n",
        "    inertia.append(kmeans.inertia_)\n",
        "\n",
        "# Graficar el método del codo\n",
        "plt.figure(figsize=(8, 6))\n",
        "plt.plot(k_range, inertia, marker='o')\n",
        "plt.title('Elbow Method')\n",
        "plt.xlabel('Número de clusters')\n",
        "plt.ylabel('Inercia')\n",
        "\n",
        "# Determinar el punto del codo y marcarlo (esto se puede hacer manualmente o por inspección visual)\n",
        "codo_k = 5  # Supongamos que el codo está en k=3, pero puedes ajustarlo tras visualizar el gráfico\n",
        "plt.axvline(x=codo_k, color='r', linestyle='--')  # Línea vertical en el codo\n",
        "# Añadir una anotación\n",
        "plt.text(codo_k, inertia[codo_k-1], f'  Elbow en k={codo_k}', color='r', fontsize=12)\n",
        "\n",
        "plt.show()\n"
      ],
      "metadata": {
        "colab": {
          "base_uri": "https://localhost:8080/",
          "height": 564
        },
        "id": "gPoAsgsrGPk5",
        "outputId": "07496705-58aa-4d05-eaf3-6fa7a736e495"
      },
      "execution_count": 33,
      "outputs": [
        {
          "output_type": "display_data",
          "data": {
            "text/plain": [
              "<Figure size 800x600 with 1 Axes>"
            ],
            "image/png": "[encoded data removed]"
          },
          "metadata": {}
        }
      ]
    },
    {
      "cell_type": "markdown",
      "source": [
        "`K-Means`\n",
        "---"
      ],
      "metadata": {
        "id": "P6EM2qAbJjbX"
      }
    },
    {
      "cell_type": "code",
      "source": [
        "\n",
        "\n",
        "# Asegúrate de que 'df_supplements' contiene la columna 'Embedding' con los embeddings generados\n",
        "embeddings = np.vstack(df_supplements['Embedding'])  # Convertir los embeddings en una matriz NumPy\n",
        "\n",
        "# Número de clusters, esto puede ajustarse según el problema o se puede buscar automáticamente\n",
        "n_clusters = 5  # Ajusta este número según la cantidad de temas que quieras identificar\n",
        "\n",
        "# Aplicar K-Means clustering\n",
        "kmeans = KMeans(n_clusters=n_clusters, random_state=42)\n",
        "labels_kmeans = kmeans.fit_predict(embeddings)  # Asignar etiquetas de cluster a cada embedding\n",
        "\n",
        "# Añadir las etiquetas de los clusters al dataframe\n",
        "df_supplements['Cluster'] = labels_kmeans\n",
        "\n",
        "# Ver los primeros resultados\n",
        "print(df_supplements.head())\n"
      ],
      "metadata": {
        "colab": {
          "base_uri": "https://localhost:8080/"
        },
        "id": "kR5jkxGR4pJU",
        "outputId": "c7580be1-3b12-41d8-e433-7a7172fad30c"
      },
      "execution_count": 34,
      "outputs": [
        {
          "output_type": "stream",
          "name": "stdout",
          "text": [
            "                                              Texto  Sentimiento  \\\n",
            "0    El sabor es increíble, lo mejor que he probado            2   \n",
            "1            Llegó tarde y el paquete estaba dañado            0   \n",
            "2            El precio es razonable para la calidad            2   \n",
            "3  No noto diferencia con otros productos similares            1   \n",
            "4               El envío fue rápido y sin problemas            2   \n",
            "\n",
            "   longitud_palabras                         Texto_Limpio  \\\n",
            "0                  9        sabor increíble mejor probado   \n",
            "1                  7           llegó tarde paquete dañado   \n",
            "2                  7             precio razonable calidad   \n",
            "3                  7  noto diferencia productos similares   \n",
            "4                  7               envío rápido problemas   \n",
            "\n",
            "                                           Embedding  Cluster  \n",
            "0  [0.37949297, 0.018278519, -0.31692043, -1.4277...        1  \n",
            "1  [0.29728043, 0.10108301, 0.2544717, -1.0751157...        4  \n",
            "2  [0.3472688, -0.25522107, -0.34541056, -1.44136...        3  \n",
            "3  [0.602626, -0.63015354, -0.7458455, -0.9598028...        2  \n",
            "4  [0.10878301, -0.04230996, 0.18203694, -0.80993...        4  \n"
          ]
        }
      ]
    },
    {
      "cell_type": "code",
      "source": [
        "# Agrupar los comentarios por el clúster al que pertenecen\n",
        "clustered_comments = df_supplements.groupby('Cluster')['Texto'].apply(list)\n",
        "\n",
        "# Ver los comentarios agrupados por clúster\n",
        "for cluster, comments in clustered_comments.items():\n",
        "    print(f\"Cluster {cluster}:\")\n",
        "    for comment in comments[:5]:  # Muestra los primeros 5 comentarios del clúster\n",
        "        print(f\" - {comment}\")\n",
        "    print(\"\\n\")\n"
      ],
      "metadata": {
        "colab": {
          "base_uri": "https://localhost:8080/"
        },
        "id": "XfL5xPbjENWh",
        "outputId": "da690aab-f34e-46e1-df37-242a2bde546e"
      },
      "execution_count": 35,
      "outputs": [
        {
          "output_type": "stream",
          "name": "stdout",
          "text": [
            "Cluster 0:\n",
            " - La atención al cliente fue excelente\n",
            " - Tuve problemas y nadie respondió mis mensajes\n",
            " - El servicio al cliente no resolvió mi problema\n",
            " - La atención al cliente fue muy servicial\n",
            " - No me gustó el servicio al cliente\n",
            "\n",
            "\n",
            "Cluster 1:\n",
            " - El sabor es increíble, lo mejor que he probado\n",
            " - El sabor es aceptable, pero esperaba más\n",
            " - El sabor es artificial y desagradable\n",
            " - El sabor no es malo, pero podría mejorar\n",
            " - La textura del producto es rara y no me gustó\n",
            "\n",
            "\n",
            "Cluster 2:\n",
            " - No noto diferencia con otros productos similares\n",
            " - No recomendaría este producto a nadie\n",
            " - Todo llegó en perfecto estado, muy contento\n",
            " - Producto de calidad media, nada impresionante\n",
            " - Estoy satisfecho con la calidad del producto\n",
            "\n",
            "\n",
            "Cluster 3:\n",
            " - El precio es razonable para la calidad\n",
            " - El precio es excesivo para lo que ofrecen\n",
            " - El precio es competitivo comparado con otros\n",
            " - El precio es accesible para mi presupuesto\n",
            " - El precio podría ser un poco más bajo\n",
            "\n",
            "\n",
            "Cluster 4:\n",
            " - Llegó tarde y el paquete estaba dañado\n",
            " - El envío fue rápido y sin problemas\n",
            " - El tiempo de envío fue más rápido de lo esperado\n",
            " - El producto llegó tarde y sin aviso previo\n",
            " - Recibí mi pedido a tiempo y en buen estado\n",
            "\n",
            "\n"
          ]
        }
      ]
    },
    {
      "cell_type": "markdown",
      "source": [
        "`Identifico Manualmente los Clusters`\n",
        "---"
      ],
      "metadata": {
        "id": "rLKQe7XYJnsV"
      }
    },
    {
      "cell_type": "code",
      "source": [
        "# Crear una función para asignar el tema a cada cluster\n",
        "def get_topic(cluster_id):\n",
        "    topics = {\n",
        "        0: \"Atención al Cliente\",\n",
        "        1: \"Sabor y Textura\",\n",
        "        2: \"Calidad del Producto\",\n",
        "        3: \"Precio del Producto\",\n",
        "        4: \"Envío y Logística\",\n",
        "    }\n",
        "    return topics.get(cluster_id, \"Tema desconocido\")\n",
        "\n",
        "# Asignar los temas al DataFrame\n",
        "df_supplements['Tema'] = df_supplements['Cluster'].apply(get_topic)\n",
        "\n",
        "# Ver los resultados\n",
        "print(df_supplements[['Texto', 'Cluster', 'Tema']].head())\n"
      ],
      "metadata": {
        "colab": {
          "base_uri": "https://localhost:8080/"
        },
        "id": "4B6yINuMIHiL",
        "outputId": "8f3d2bd3-91ed-43fb-f170-a9429d54dd4c"
      },
      "execution_count": 36,
      "outputs": [
        {
          "output_type": "stream",
          "name": "stdout",
          "text": [
            "                                              Texto  Cluster  \\\n",
            "0    El sabor es increíble, lo mejor que he probado        1   \n",
            "1            Llegó tarde y el paquete estaba dañado        4   \n",
            "2            El precio es razonable para la calidad        3   \n",
            "3  No noto diferencia con otros productos similares        2   \n",
            "4               El envío fue rápido y sin problemas        4   \n",
            "\n",
            "                   Tema  \n",
            "0       Sabor y Textura  \n",
            "1     Envío y Logística  \n",
            "2   Precio del Producto  \n",
            "3  Calidad del Producto  \n",
            "4     Envío y Logística  \n"
          ]
        }
      ]
    },
    {
      "cell_type": "code",
      "source": [
        "# Mapeo de etiquetas numéricas a nombres de sentimientos\n",
        "sentimiento_mapeo = {\n",
        "    0: \"Negativo\",\n",
        "    1: \"Neutral\",\n",
        "    2: \"Positivo\"\n",
        "}\n"
      ],
      "metadata": {
        "id": "Z7X5adUrACUC"
      },
      "execution_count": 37,
      "outputs": []
    },
    {
      "cell_type": "code",
      "source": [
        "# Maqueta de función principal\n",
        "\n",
        "def analisis_critica(critica):\n",
        "  sentimiento_mapeo = {\n",
        "    0: \"Negativo\",\n",
        "    1: \"Neutral\",\n",
        "    2: \"Positivo\"}\n",
        "\n",
        "  # Limpieza del texto\n",
        "  texto_limpio = clean(critica)\n",
        "\n",
        "  # Transformación a embeddings\n",
        "  embeddings_final = get_embedding(texto_limpio).reshape(1, -1)\n",
        "\n",
        "  # Prediccion del sentimiento\n",
        "  sentimiento_num = model_lr.predict(embeddings_final)[0]\n",
        "  # Convertir el sentimiento a texto usando el mapeo\n",
        "  sentimiento = sentimiento_mapeo[sentimiento_num]\n",
        "\n",
        "  # Asignar un cluster\n",
        "  cluster_id = kmeans.predict(embeddings_final)[0]\n",
        "\n",
        "  # Asignar el tema del cluster\n",
        "  tema = get_topic(cluster_id)\n",
        "\n",
        "  print(f'La crítica es \"{critica}\"')\n",
        "  print(f'Sentimiento: {sentimiento}')\n",
        "  print(f'Cluster: {cluster_id}')\n",
        "  print(f'Tópico: {tema}')\n",
        "\n",
        "\n"
      ],
      "metadata": {
        "id": "82ZgJcHA3c2R"
      },
      "execution_count": 38,
      "outputs": []
    },
    {
      "cell_type": "code",
      "source": [
        "# Prueba con un ejemplo\n",
        "analisis_critica('El sabor no es rico')"
      ],
      "metadata": {
        "colab": {
          "base_uri": "https://localhost:8080/"
        },
        "id": "a_RgwAlv-yO3",
        "outputId": "2ed31db8-fbbd-4d3b-df16-b41ba6b7c49d"
      },
      "execution_count": 39,
      "outputs": [
        {
          "output_type": "stream",
          "name": "stdout",
          "text": [
            "La crítica es \"El sabor no es rico\"\n",
            "Sentimiento: Neutral\n",
            "Cluster: 1\n",
            "Tópico: Sabor y Textura\n"
          ]
        }
      ]
    },
    {
      "cell_type": "code",
      "source": [
        "from groq import Groq\n",
        "\n",
        "# Función de análisis de crítica\n",
        "def analisis_critica():\n",
        "    ''' Esta función permite realizar el ánalisis de la reseña ingresada y devolver una respuesta acorde'''\n",
        "\n",
        "    reseña = input(\"Ingrese la reseña de su producto: \").strip()\n",
        "\n",
        "    if not reseña:\n",
        "        return \"No se ha ingresado una reseña. Intentarlo nuevamente\"\n",
        "\n",
        "    # Inicializar el cliente de Groq\n",
        "    client = Groq(api_key='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')\n",
        "\n",
        "    # Mapear el sentimiento\n",
        "    sentimiento_mapeo = {\n",
        "        0: \"Negativo\",\n",
        "        1: \"Neutral\",\n",
        "        2: \"Positivo\"\n",
        "    }\n",
        "    try:\n",
        "        # Limpieza del texto\n",
        "        texto_limpio = clean(reseña)\n",
        "\n",
        "        # Transformación a embeddings\n",
        "        embeddings_final = get_embedding(texto_limpio).reshape(1, -1)\n",
        "\n",
        "        # Predicción del sentimiento\n",
        "        sentimiento_num = model_lr.predict(embeddings_final)[0]\n",
        "        sentimiento = sentimiento_mapeo.get(sentimiento_num, \"Desconocido\")\n",
        "\n",
        "        # Asignar un cluster\n",
        "        cluster_id = kmeans.predict(embeddings_final)[0]\n",
        "\n",
        "        # Obtener el tema del cluster\n",
        "        tema = get_topic(cluster_id)\n",
        "\n",
        "        # Generar respuesta personalizada con LLM\n",
        "        chat_completion = client.chat.completions.create(\n",
        "            messages=[\n",
        "                {\n",
        "                    \"role\": \"system\",\n",
        "                    \"content\": f\"\"\"\n",
        "Eres un empleado de atención al cliente especializado en gestión de reseñas para una empresa de suplementos nutricionales.\n",
        "Tu función es responder las reseñas según el {sentimiento} y {tema} detectados:\n",
        "Responde de manera breve, profesional y empática:\n",
        "- Si el {sentimiento} es **Positivo**: Agradece y celebra la experiencia positiva. Ejemplo: Gracias por sus comentarios. Nos alegra que haya sido una excelente experiencia.\n",
        "- Si el {sentimiento} es **Negativo**: Muestra empatía y ofrece resolver el problema. Ejemplo: Gracias por sus comentarios. Lamentamos que su experiencia no fuera la mejor. Nos comunicaremos con usted para ofrecerle una respuesta personalizada.\n",
        "- Si el {sentimiento} es **Neutral**: Agradece de forma clara e invita al cliente a comprar nuevamente. Ejemplo: Gracias por sus comentarios. Lo esperamos nuevamente cuando desee.\n",
        "\n",
        "No incluyas preguntas, comentarios fuera de contexto, ni frases adicionales.\n",
        "\n",
        "\"\"\"\n",
        "                },\n",
        "                {\n",
        "                    \"role\": \"user\",\n",
        "                    \"content\": reseña\n",
        "                }\n",
        "            ],\n",
        "            model=\"llama-3.2-1b-preview\",\n",
        "            temperature=0.1\n",
        "        )\n",
        "\n",
        "        # Retornar respuesta generada\n",
        "        return chat_completion.choices[0].message.content\n",
        "\n",
        "    except Exception as e:\n",
        "        return f\"Error al procesar la reseña: {str(e)}\"\n"
      ],
      "metadata": {
        "id": "4BsIz9-s2RNO"
      },
      "execution_count": 68,
      "outputs": []
    },
    {
      "cell_type": "code",
      "source": [
        "analisis_critica()"
      ],
      "metadata": {
        "colab": {
          "base_uri": "https://localhost:8080/",
          "height": 72
        },
        "id": "8h6n3z8lKJ1J",
        "outputId": "c243d815-4156-4e6a-a8e0-cb12dd57391c"
      },
      "execution_count": 70,
      "outputs": [
        {
          "name": "stdout",
          "output_type": "stream",
          "text": [
            "Ingrese la reseña de su producto: El sabor del producto no es bueno\n"
          ]
        },
        {
          "output_type": "execute_result",
          "data": {
            "text/plain": [
              "'Gracias por compartir tus comentarios. Lamentamos que el sabor no haya sido satisfactorio para ti. Nos comunicaremos con usted para ofrecerle una respuesta personalizada y resolver cualquier problema que pueda haber surgido.'"
            ],
            "application/vnd.google.colaboratory.intrinsic+json": {
              "type": "string"
            }
          },
          "metadata": {},
          "execution_count": 70
        }
      ]
    },
    {
      "cell_type": "markdown",
      "source": [
        "# ETAPA 2: IA GENERATIVA\n",
        "\n",
        "- https://programmingisfun.medium.com/an-interactive-chatbot-app-with-groqs-llms-using-streamlit-a-step-by-step-tutorial-4fa075ae43b8"
      ],
      "metadata": {
        "id": "ljQ0E_XrM4Ao"
      }
    },
    {
      "cell_type": "code",
      "source": [],
      "metadata": {
        "id": "vsiBncVm84Y5"
      },
      "execution_count": null,
      "outputs": []
    }
  ]
}