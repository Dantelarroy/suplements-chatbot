{
  "nbformat": 4,
  "nbformat_minor": 0,
  "metadata": {
    "colab": {
      "provenance": [],
      "authorship_tag": "ABX9TyNONJn8dRqStDRtrKmFi8lk",
      "include_colab_link": true
    },
    "kernelspec": {
      "name": "python3",
      "display_name": "Python 3"
    },
    "language_info": {
      "name": "python"
    }
  },
  "cells": [
    {
      "cell_type": "markdown",
      "metadata": {
        "id": "view-in-github",
        "colab_type": "text"
      },
      "source": [
        "<a href=\"https://colab.research.google.com/github/Dantelarroy/suplements-chatbot/blob/main/Supplements_chatbot.ipynb\" target=\"_parent\"><img src=\"https://colab.research.google.com/assets/colab-badge.svg\" alt=\"Open In Colab\"/></a>"
      ]
    },
    {
      "cell_type": "markdown",
      "source": [
        "#**Supplements Chatbot**\n"
      ],
      "metadata": {
        "id": "py9iD-mEKA7-"
      }
    },
    {
      "cell_type": "markdown",
      "source": [
        "**Autor**: Dante Larroy  \n",
        "**Fecha**: 18/12/2024  \n",
        "**Fecha de Entrega**: 02/01/2025  \n",
        "\n",
        "Resumen de Fechas:\n",
        "- EDA y Preprocesamiento de Datos: `18/12 - 21/12`\n",
        "- Desarrollo del Modelo de Sentimiento: `22/12 - 24/12`\n",
        "- Desarrollo del Modelo de Clasificación de Tópicos: `26/12 - 28/12`\n",
        "- Desarrollo de la Función IA Generativa: `29/12 - 31/12`\n",
        "- Pruebas, Evaluación y Ajustes: `01/01 - 02/01`\n",
        "- Entrega Final: `2/01/2025`"
      ],
      "metadata": {
        "id": "u-Bi86T_J16M"
      }
    },
    {
      "cell_type": "markdown",
      "source": [
        "---\n",
        "\n",
        "## **Introducción**  \n",
        "El objetivo de este desafío es aplicar tus conocimientos en DS e IA\n",
        "Generativa para diseñar un prototipo funcional, que eventualmente se convierta\n",
        "en un chatbot capaz de ofrecer soporte a usuarios en base a sus comentarios.\n",
        "---\n",
        "## **Contexto**\n",
        "El cliente es una destacada empresa de venta de suplementos nutricionales en\n",
        "línea.\n",
        "\n",
        "- **Problema:** Recientemente, se ha observado un aumento significativo en las reseñas\n",
        "negativas por parte de los usuarios, algo que anteriormente no sucedía.\n",
        "Ante esta situación, la empresa busca comprender las causas detrás de esta tendencia.\n",
        "\n",
        "- **Solución buscada:** Analizar los datos disponibles y desarrollar herramientas útiles para abordar el problema.\n",
        "---\n",
        "## **Objetivo**\n",
        "Este proyecto tiene como objetivo desarrollar una herramienta que:\n",
        "1. Analice el sentimiento y clasifique los comentarios de los clientes por temática.\n",
        "2. Genere respuestas personalizadas basadas en el análisis.  \n",
        "---\n",
        "## **Dataset:**\n",
        "\n",
        "- Comentarios de usuarios sobre productos de suplementos nutricionales con etiquetas de sentimientos (positivo, neutral, negativo).\n",
        "---\n",
        "## **Etapas del Proyecto**\n",
        "### EDA\n",
        "- Cargar Dataset (Asegurar que se cargue independientemente del lugar de ejecución) ☑\n",
        "- Revisar calidad de los datos ☑\n",
        "- Analizar distribución de sentimientos ☑\n",
        "- Word Cloud ☑\n",
        "- Complementar con un top de palabras ☑\n",
        "- Longitud de los comentarios 𐩃\n",
        "- Visualizaciones\n",
        "\n",
        "### Preprocesamiento y Limpieza de Datos\n",
        "- Preprocesar texto:\n",
        "- Mínusculas ☑\n",
        "- Eliminar caracteres especiales y puntuación ☑\n",
        "- Eliminar stopwords ☑\n",
        "- Lematización ☑\n",
        "- Tokenización 𐩃\n",
        "- Gestionar datos desbalanceados si hace falta\n",
        "\n",
        "### Modelado Predictivo:\n",
        "\n",
        "  1. Sentimental Analysis:(Tenemos el target = Supervisado)\n",
        "- Pensar que tipo de modelo necesito\n",
        "- Pensar que problema podría surgir a la hora de entrenarlo para elegir el algoritmo.\n",
        "\n",
        "2. Topic Modeling: Predecir el tema del que están hablando (No tenemos el target = No supervisado)\n",
        "- Pensar que tipo de modelo necesito\n",
        "- Pensar que problema podría surgir a la hora de entrenarlo para elegir el algoritmo.\n",
        "\n",
        "3. Evaluar el Modelo\n",
        "\n",
        "### IA Generativa:\n",
        "\n",
        "  1. Generar una funcion que tenga:\n",
        "  - Input: Comentario\n",
        "  - Tareas:\n",
        "    - Calcular el sentimiento\n",
        "    - Calcular el tópico\n",
        "  - Output: Respuesta personalizada de un LLM utilizando esa función\n",
        "---\n",
        "## **Recursos adicionales**\n",
        "Links que pueden ser de útilidad (y que probablemente influyan en su\n",
        "entregable):\n",
        "1. https://huggingface.co/intfloat/multilingual-e5-large - Modelo de\n",
        "Embedding multilenguaje.\n",
        "2. https://console.groq.com/playground - Plataforma que permite utilizar\n",
        "LLMs Open Source de manera gratuita a través de una API.\n",
        "\n",
        "---"
      ],
      "metadata": {
        "id": "zYSA4AfABvur"
      }
    },
    {
      "cell_type": "markdown",
      "source": [
        "## Research Claves por etapas:\n",
        "\n",
        "- Etapa 1: Modelado Predictivo:\n",
        "https://huggingface.co/intfloat/multilingual-e5-large - Modelo de Embedding multilenguaje.\n",
        "  - **1. Sentimental Analysis (Supervisado)**:\n",
        "    - `Text Preprocesing`: Tokenization. Stop word removal, lemmatization/stemming\n",
        "    - `Text Vectorization`: TF-IDF, Word Embeddings\n",
        "    - `Sentimental Analysis`: Elegir y analizar modelo a utilizar\n",
        "  - **2. Topic Classification (No supervisado)**\n",
        "    \n",
        "\n",
        "- Etapa 2: IA Generativa\n",
        "  - https://console.groq.com/playground - Plataforma que permite utilizar LLMs Open Source de manera gratuita a través de una API.\n",
        "\n",
        "---"
      ],
      "metadata": {
        "id": "MAXb7RJkLYYn"
      }
    },
    {
      "cell_type": "markdown",
      "source": [
        "# Configuración del Entorno de Trabajo"
      ],
      "metadata": {
        "id": "d9D0KScbQQ5Q"
      }
    },
    {
      "cell_type": "markdown",
      "source": [
        "## Instalar librerias necesarias"
      ],
      "metadata": {
        "id": "pVesRmp5QZWy"
      }
    },
    {
      "cell_type": "code",
      "source": [
        "!pip install openpyxl"
      ],
      "metadata": {
        "colab": {
          "base_uri": "https://localhost:8080/"
        },
        "id": "UGh5ghm6Ot6g",
        "outputId": "c6072c8e-afc8-43a3-a828-e4aa89faaf63"
      },
      "execution_count": 79,
      "outputs": [
        {
          "output_type": "stream",
          "name": "stdout",
          "text": [
            "Requirement already satisfied: openpyxl in /usr/local/lib/python3.10/dist-packages (3.1.5)\n",
            "Requirement already satisfied: et-xmlfile in /usr/local/lib/python3.10/dist-packages (from openpyxl) (2.0.0)\n"
          ]
        }
      ]
    },
    {
      "cell_type": "markdown",
      "source": [
        "## Importaciones"
      ],
      "metadata": {
        "id": "CpVtkiGhJw11"
      }
    },
    {
      "cell_type": "code",
      "execution_count": 80,
      "metadata": {
        "id": "dYoGuu9qBGps",
        "colab": {
          "base_uri": "https://localhost:8080/"
        },
        "outputId": "aafda78e-2b8d-4164-ce01-5d91c979de95"
      },
      "outputs": [
        {
          "output_type": "stream",
          "name": "stderr",
          "text": [
            "[nltk_data] Downloading package stopwords to /root/nltk_data...\n",
            "[nltk_data]   Package stopwords is already up-to-date!\n",
            "[nltk_data] Downloading package wordnet to /root/nltk_data...\n",
            "[nltk_data]   Package wordnet is already up-to-date!\n"
          ]
        }
      ],
      "source": [
        "import os\n",
        "import pandas as pd\n",
        "import seaborn as sns\n",
        "import matplotlib.pyplot as plt\n",
        "from wordcloud import WordCloud\n",
        "import re\n",
        "import nltk\n",
        "from sklearn.feature_extraction.text import CountVectorizer\n",
        "\n",
        "\n",
        "# Descargar las stopwords de NLTK\n",
        "nltk.download('stopwords')\n",
        "nltk.download('wordnet')\n",
        "from nltk.corpus import stopwords\n",
        "from nltk.stem import WordNetLemmatizer\n",
        "\n",
        "\n"
      ]
    },
    {
      "cell_type": "code",
      "source": [
        "#!git clone https://github.com/Dantelarroy/suplements-chatbot.git"
      ],
      "metadata": {
        "id": "KmM8iCKnHGYM"
      },
      "execution_count": 81,
      "outputs": []
    },
    {
      "cell_type": "markdown",
      "source": [
        "## Cargar el Dataset"
      ],
      "metadata": {
        "id": "UWwX8jXcKu7p"
      }
    },
    {
      "cell_type": "code",
      "source": [
        "# URL del repositorio de Github donde se encuentra el Dataset\n",
        "url = 'https://github.com/Dantelarroy/suplements-chatbot/raw/main/Dataset.xlsx'"
      ],
      "metadata": {
        "id": "gk87UCVJGJBm"
      },
      "execution_count": 82,
      "outputs": []
    },
    {
      "cell_type": "code",
      "source": [
        "df_supplements = pd.read_excel(url)\n"
      ],
      "metadata": {
        "id": "rtM8r91UKwCw"
      },
      "execution_count": 83,
      "outputs": []
    },
    {
      "cell_type": "code",
      "source": [
        "df_supplements.head()"
      ],
      "metadata": {
        "colab": {
          "base_uri": "https://localhost:8080/",
          "height": 206
        },
        "id": "SGvEpPiYO4lF",
        "outputId": "2bb1e37e-ab73-4086-9aae-681e7b3022b8"
      },
      "execution_count": 84,
      "outputs": [
        {
          "output_type": "execute_result",
          "data": {
            "text/plain": [
              "                                              Texto Sentimiento\n",
              "0    El sabor es increíble, lo mejor que he probado    positivo\n",
              "1            Llegó tarde y el paquete estaba dañado    negativo\n",
              "2            El precio es razonable para la calidad    positivo\n",
              "3  No noto diferencia con otros productos similares     neutral\n",
              "4               El envío fue rápido y sin problemas    positivo"
            ],
            "text/html": [
              "\n",
              "  <div id=\"df-a7d75ac3-9049-4418-8b82-48aece1e0bb7\" class=\"colab-df-container\">\n",
              "    <div>\n",
              "<style scoped>\n",
              "    .dataframe tbody tr th:only-of-type {\n",
              "        vertical-align: middle;\n",
              "    }\n",
              "\n",
              "    .dataframe tbody tr th {\n",
              "        vertical-align: top;\n",
              "    }\n",
              "\n",
              "    .dataframe thead th {\n",
              "        text-align: right;\n",
              "    }\n",
              "</style>\n",
              "<table border=\"1\" class=\"dataframe\">\n",
              "  <thead>\n",
              "    <tr style=\"text-align: right;\">\n",
              "      <th></th>\n",
              "      <th>Texto</th>\n",
              "      <th>Sentimiento</th>\n",
              "    </tr>\n",
              "  </thead>\n",
              "  <tbody>\n",
              "    <tr>\n",
              "      <th>0</th>\n",
              "      <td>El sabor es increíble, lo mejor que he probado</td>\n",
              "      <td>positivo</td>\n",
              "    </tr>\n",
              "    <tr>\n",
              "      <th>1</th>\n",
              "      <td>Llegó tarde y el paquete estaba dañado</td>\n",
              "      <td>negativo</td>\n",
              "    </tr>\n",
              "    <tr>\n",
              "      <th>2</th>\n",
              "      <td>El precio es razonable para la calidad</td>\n",
              "      <td>positivo</td>\n",
              "    </tr>\n",
              "    <tr>\n",
              "      <th>3</th>\n",
              "      <td>No noto diferencia con otros productos similares</td>\n",
              "      <td>neutral</td>\n",
              "    </tr>\n",
              "    <tr>\n",
              "      <th>4</th>\n",
              "      <td>El envío fue rápido y sin problemas</td>\n",
              "      <td>positivo</td>\n",
              "    </tr>\n",
              "  </tbody>\n",
              "</table>\n",
              "</div>\n",
              "    <div class=\"colab-df-buttons\">\n",
              "\n",
              "  <div class=\"colab-df-container\">\n",
              "    <button class=\"colab-df-convert\" onclick=\"convertToInteractive('df-a7d75ac3-9049-4418-8b82-48aece1e0bb7')\"\n",
              "            title=\"Convert this dataframe to an interactive table.\"\n",
              "            style=\"display:none;\">\n",
              "\n",
              "  <svg xmlns=\"http://www.w3.org/2000/svg\" height=\"24px\" viewBox=\"0 -960 960 960\">\n",
              "    <path d=\"M120-120v-720h720v720H120Zm60-500h600v-160H180v160Zm220 220h160v-160H400v160Zm0 220h160v-160H400v160ZM180-400h160v-160H180v160Zm440 0h160v-160H620v160ZM180-180h160v-160H180v160Zm440 0h160v-160H620v160Z\"/>\n",
              "  </svg>\n",
              "    </button>\n",
              "\n",
              "  <style>\n",
              "    .colab-df-container {\n",
              "      display:flex;\n",
              "      gap: 12px;\n",
              "    }\n",
              "\n",
              "    .colab-df-convert {\n",
              "      background-color: #E8F0FE;\n",
              "      border: none;\n",
              "      border-radius: 50%;\n",
              "      cursor: pointer;\n",
              "      display: none;\n",
              "      fill: #1967D2;\n",
              "      height: 32px;\n",
              "      padding: 0 0 0 0;\n",
              "      width: 32px;\n",
              "    }\n",
              "\n",
              "    .colab-df-convert:hover {\n",
              "      background-color: #E2EBFA;\n",
              "      box-shadow: 0px 1px 2px rgba(60, 64, 67, 0.3), 0px 1px 3px 1px rgba(60, 64, 67, 0.15);\n",
              "      fill: #174EA6;\n",
              "    }\n",
              "\n",
              "    .colab-df-buttons div {\n",
              "      margin-bottom: 4px;\n",
              "    }\n",
              "\n",
              "    [theme=dark] .colab-df-convert {\n",
              "      background-color: #3B4455;\n",
              "      fill: #D2E3FC;\n",
              "    }\n",
              "\n",
              "    [theme=dark] .colab-df-convert:hover {\n",
              "      background-color: #434B5C;\n",
              "      box-shadow: 0px 1px 3px 1px rgba(0, 0, 0, 0.15);\n",
              "      filter: drop-shadow(0px 1px 2px rgba(0, 0, 0, 0.3));\n",
              "      fill: #FFFFFF;\n",
              "    }\n",
              "  </style>\n",
              "\n",
              "    <script>\n",
              "      const buttonEl =\n",
              "        document.querySelector('#df-a7d75ac3-9049-4418-8b82-48aece1e0bb7 button.colab-df-convert');\n",
              "      buttonEl.style.display =\n",
              "        google.colab.kernel.accessAllowed ? 'block' : 'none';\n",
              "\n",
              "      async function convertToInteractive(key) {\n",
              "        const element = document.querySelector('#df-a7d75ac3-9049-4418-8b82-48aece1e0bb7');\n",
              "        const dataTable =\n",
              "          await google.colab.kernel.invokeFunction('convertToInteractive',\n",
              "                                                    [key], {});\n",
              "        if (!dataTable) return;\n",
              "\n",
              "        const docLinkHtml = 'Like what you see? Visit the ' +\n",
              "          '<a target=\"_blank\" href=https://colab.research.google.com/notebooks/data_table.ipynb>data table notebook</a>'\n",
              "          + ' to learn more about interactive tables.';\n",
              "        element.innerHTML = '';\n",
              "        dataTable['output_type'] = 'display_data';\n",
              "        await google.colab.output.renderOutput(dataTable, element);\n",
              "        const docLink = document.createElement('div');\n",
              "        docLink.innerHTML = docLinkHtml;\n",
              "        element.appendChild(docLink);\n",
              "      }\n",
              "    </script>\n",
              "  </div>\n",
              "\n",
              "\n",
              "<div id=\"df-6745339b-16cf-449a-a75f-700a7c0e340c\">\n",
              "  <button class=\"colab-df-quickchart\" onclick=\"quickchart('df-6745339b-16cf-449a-a75f-700a7c0e340c')\"\n",
              "            title=\"Suggest charts\"\n",
              "            style=\"display:none;\">\n",
              "\n",
              "<svg xmlns=\"http://www.w3.org/2000/svg\" height=\"24px\"viewBox=\"0 0 24 24\"\n",
              "     width=\"24px\">\n",
              "    <g>\n",
              "        <path d=\"M19 3H5c-1.1 0-2 .9-2 2v14c0 1.1.9 2 2 2h14c1.1 0 2-.9 2-2V5c0-1.1-.9-2-2-2zM9 17H7v-7h2v7zm4 0h-2V7h2v10zm4 0h-2v-4h2v4z\"/>\n",
              "    </g>\n",
              "</svg>\n",
              "  </button>\n",
              "\n",
              "<style>\n",
              "  .colab-df-quickchart {\n",
              "      --bg-color: #E8F0FE;\n",
              "      --fill-color: #1967D2;\n",
              "      --hover-bg-color: #E2EBFA;\n",
              "      --hover-fill-color: #174EA6;\n",
              "      --disabled-fill-color: #AAA;\n",
              "      --disabled-bg-color: #DDD;\n",
              "  }\n",
              "\n",
              "  [theme=dark] .colab-df-quickchart {\n",
              "      --bg-color: #3B4455;\n",
              "      --fill-color: #D2E3FC;\n",
              "      --hover-bg-color: #434B5C;\n",
              "      --hover-fill-color: #FFFFFF;\n",
              "      --disabled-bg-color: #3B4455;\n",
              "      --disabled-fill-color: #666;\n",
              "  }\n",
              "\n",
              "  .colab-df-quickchart {\n",
              "    background-color: var(--bg-color);\n",
              "    border: none;\n",
              "    border-radius: 50%;\n",
              "    cursor: pointer;\n",
              "    display: none;\n",
              "    fill: var(--fill-color);\n",
              "    height: 32px;\n",
              "    padding: 0;\n",
              "    width: 32px;\n",
              "  }\n",
              "\n",
              "  .colab-df-quickchart:hover {\n",
              "    background-color: var(--hover-bg-color);\n",
              "    box-shadow: 0 1px 2px rgba(60, 64, 67, 0.3), 0 1px 3px 1px rgba(60, 64, 67, 0.15);\n",
              "    fill: var(--button-hover-fill-color);\n",
              "  }\n",
              "\n",
              "  .colab-df-quickchart-complete:disabled,\n",
              "  .colab-df-quickchart-complete:disabled:hover {\n",
              "    background-color: var(--disabled-bg-color);\n",
              "    fill: var(--disabled-fill-color);\n",
              "    box-shadow: none;\n",
              "  }\n",
              "\n",
              "  .colab-df-spinner {\n",
              "    border: 2px solid var(--fill-color);\n",
              "    border-color: transparent;\n",
              "    border-bottom-color: var(--fill-color);\n",
              "    animation:\n",
              "      spin 1s steps(1) infinite;\n",
              "  }\n",
              "\n",
              "  @keyframes spin {\n",
              "    0% {\n",
              "      border-color: transparent;\n",
              "      border-bottom-color: var(--fill-color);\n",
              "      border-left-color: var(--fill-color);\n",
              "    }\n",
              "    20% {\n",
              "      border-color: transparent;\n",
              "      border-left-color: var(--fill-color);\n",
              "      border-top-color: var(--fill-color);\n",
              "    }\n",
              "    30% {\n",
              "      border-color: transparent;\n",
              "      border-left-color: var(--fill-color);\n",
              "      border-top-color: var(--fill-color);\n",
              "      border-right-color: var(--fill-color);\n",
              "    }\n",
              "    40% {\n",
              "      border-color: transparent;\n",
              "      border-right-color: var(--fill-color);\n",
              "      border-top-color: var(--fill-color);\n",
              "    }\n",
              "    60% {\n",
              "      border-color: transparent;\n",
              "      border-right-color: var(--fill-color);\n",
              "    }\n",
              "    80% {\n",
              "      border-color: transparent;\n",
              "      border-right-color: var(--fill-color);\n",
              "      border-bottom-color: var(--fill-color);\n",
              "    }\n",
              "    90% {\n",
              "      border-color: transparent;\n",
              "      border-bottom-color: var(--fill-color);\n",
              "    }\n",
              "  }\n",
              "</style>\n",
              "\n",
              "  <script>\n",
              "    async function quickchart(key) {\n",
              "      const quickchartButtonEl =\n",
              "        document.querySelector('#' + key + ' button');\n",
              "      quickchartButtonEl.disabled = true;  // To prevent multiple clicks.\n",
              "      quickchartButtonEl.classList.add('colab-df-spinner');\n",
              "      try {\n",
              "        const charts = await google.colab.kernel.invokeFunction(\n",
              "            'suggestCharts', [key], {});\n",
              "      } catch (error) {\n",
              "        console.error('Error during call to suggestCharts:', error);\n",
              "      }\n",
              "      quickchartButtonEl.classList.remove('colab-df-spinner');\n",
              "      quickchartButtonEl.classList.add('colab-df-quickchart-complete');\n",
              "    }\n",
              "    (() => {\n",
              "      let quickchartButtonEl =\n",
              "        document.querySelector('#df-6745339b-16cf-449a-a75f-700a7c0e340c button');\n",
              "      quickchartButtonEl.style.display =\n",
              "        google.colab.kernel.accessAllowed ? 'block' : 'none';\n",
              "    })();\n",
              "  </script>\n",
              "</div>\n",
              "\n",
              "    </div>\n",
              "  </div>\n"
            ],
            "application/vnd.google.colaboratory.intrinsic+json": {
              "type": "dataframe",
              "variable_name": "df_supplements",
              "summary": "{\n  \"name\": \"df_supplements\",\n  \"rows\": 299,\n  \"fields\": [\n    {\n      \"column\": \"Texto\",\n      \"properties\": {\n        \"dtype\": \"string\",\n        \"num_unique_values\": 296,\n        \"samples\": [\n          \"Todo lleg\\u00f3 perfecto, recomiendo la tienda\",\n          \"Lleg\\u00f3 muy r\\u00e1pido, mejor de lo esperado\",\n          \"La calidad podr\\u00eda ser mejor\"\n        ],\n        \"semantic_type\": \"\",\n        \"description\": \"\"\n      }\n    },\n    {\n      \"column\": \"Sentimiento\",\n      \"properties\": {\n        \"dtype\": \"category\",\n        \"num_unique_values\": 3,\n        \"samples\": [\n          \"positivo\",\n          \"negativo\",\n          \"neutral\"\n        ],\n        \"semantic_type\": \"\",\n        \"description\": \"\"\n      }\n    }\n  ]\n}"
            }
          },
          "metadata": {},
          "execution_count": 84
        }
      ]
    },
    {
      "cell_type": "markdown",
      "source": [
        "# EDA\n",
        "\n",
        "Research:\n",
        "- https://medium.com/dscier/eda-nlp-fe483c6871ba\n",
        "- https://neptune.ai/blog/exploratory-data-analysis-natural-language-processing-tools\n",
        "- https://medium.com/@berthelinmargot/eda-and-data-preparation-for-nlp-project-a-hands-on-example-step-by-step-3b95a37318db\n",
        "- https://medium.com/@KC-James/basic-implementation-of-a-word-cloud-in-python-8b2f9d92d381\n",
        "- https://medium.com/dscier/eda-nlp-fe483c6871ba"
      ],
      "metadata": {
        "id": "Rea7LfsVMDbj"
      }
    },
    {
      "cell_type": "markdown",
      "source": [
        "## Estructura y Estadísticas"
      ],
      "metadata": {
        "id": "qk4S1bnKMOYG"
      }
    },
    {
      "cell_type": "markdown",
      "source": [
        "Información General\n",
        "\n",
        "- Contiene dos columnas con Dtype: Object\n",
        "- No hay nulos\n",
        "- Cantidad de filas (299)"
      ],
      "metadata": {
        "id": "09SlNCJflPwB"
      }
    },
    {
      "cell_type": "code",
      "source": [
        "# Veo la información general de las columnas\n",
        "df_supplements.info()"
      ],
      "metadata": {
        "colab": {
          "base_uri": "https://localhost:8080/"
        },
        "id": "eeKdYIR3k05A",
        "outputId": "ec1c9a6f-993d-4271-e2ee-70657196f7d5"
      },
      "execution_count": 85,
      "outputs": [
        {
          "output_type": "stream",
          "name": "stdout",
          "text": [
            "<class 'pandas.core.frame.DataFrame'>\n",
            "RangeIndex: 299 entries, 0 to 298\n",
            "Data columns (total 2 columns):\n",
            " #   Column       Non-Null Count  Dtype \n",
            "---  ------       --------------  ----- \n",
            " 0   Texto        299 non-null    object\n",
            " 1   Sentimiento  299 non-null    object\n",
            "dtypes: object(2)\n",
            "memory usage: 4.8+ KB\n"
          ]
        }
      ]
    },
    {
      "cell_type": "markdown",
      "source": [
        "Nulos\n",
        "\n",
        "El dataset no presenta valores nulos (lo vi en el código anterior), vuelvo a hacer un check."
      ],
      "metadata": {
        "id": "vC6hXdFGYQvA"
      }
    },
    {
      "cell_type": "code",
      "source": [
        "# Cuantifico numero total de nulos por columna\n",
        "df_supplements.isnull().sum()"
      ],
      "metadata": {
        "id": "LX6ict6qQuwy",
        "colab": {
          "base_uri": "https://localhost:8080/",
          "height": 147
        },
        "outputId": "6c2c08c2-b352-42f3-9b7d-65991a668b13"
      },
      "execution_count": 86,
      "outputs": [
        {
          "output_type": "execute_result",
          "data": {
            "text/plain": [
              "Texto          0\n",
              "Sentimiento    0\n",
              "dtype: int64"
            ],
            "text/html": [
              "<div>\n",
              "<style scoped>\n",
              "    .dataframe tbody tr th:only-of-type {\n",
              "        vertical-align: middle;\n",
              "    }\n",
              "\n",
              "    .dataframe tbody tr th {\n",
              "        vertical-align: top;\n",
              "    }\n",
              "\n",
              "    .dataframe thead th {\n",
              "        text-align: right;\n",
              "    }\n",
              "</style>\n",
              "<table border=\"1\" class=\"dataframe\">\n",
              "  <thead>\n",
              "    <tr style=\"text-align: right;\">\n",
              "      <th></th>\n",
              "      <th>0</th>\n",
              "    </tr>\n",
              "  </thead>\n",
              "  <tbody>\n",
              "    <tr>\n",
              "      <th>Texto</th>\n",
              "      <td>0</td>\n",
              "    </tr>\n",
              "    <tr>\n",
              "      <th>Sentimiento</th>\n",
              "      <td>0</td>\n",
              "    </tr>\n",
              "  </tbody>\n",
              "</table>\n",
              "</div><br><label><b>dtype:</b> int64</label>"
            ]
          },
          "metadata": {},
          "execution_count": 86
        }
      ]
    },
    {
      "cell_type": "markdown",
      "source": [
        "Describe:\n",
        "- No hay nulos (299 valores en ambas columnas)\n",
        "- En la columna Sentimiento encuentro 3 filas repetidas\n",
        "- El valor más frecuente es:\n",
        "  - Texto: \"Estoy satisfecho con la calidad del producto\". Esto podría ser un buen indicio sobre el producto ofrecido.\n",
        "  - Sentimiento: Positivo. Confirma que el indicio anterior. Frecuencia positiva más recurrente."
      ],
      "metadata": {
        "id": "njOw2Bj3mXog"
      }
    },
    {
      "cell_type": "code",
      "source": [
        "# Resumen estadístico de las columnas\n",
        "df_supplements.describe()\n"
      ],
      "metadata": {
        "colab": {
          "base_uri": "https://localhost:8080/",
          "height": 175
        },
        "id": "joX1cy3sldvF",
        "outputId": "01490b3c-79c9-499f-ecc7-51824db7fc01"
      },
      "execution_count": 87,
      "outputs": [
        {
          "output_type": "execute_result",
          "data": {
            "text/plain": [
              "                                               Texto Sentimiento\n",
              "count                                            299         299\n",
              "unique                                           296           3\n",
              "top     Estoy satisfecho con la calidad del producto    positivo\n",
              "freq                                               2         129"
            ],
            "text/html": [
              "\n",
              "  <div id=\"df-8d499236-80c4-4a77-8f66-eca142138555\" class=\"colab-df-container\">\n",
              "    <div>\n",
              "<style scoped>\n",
              "    .dataframe tbody tr th:only-of-type {\n",
              "        vertical-align: middle;\n",
              "    }\n",
              "\n",
              "    .dataframe tbody tr th {\n",
              "        vertical-align: top;\n",
              "    }\n",
              "\n",
              "    .dataframe thead th {\n",
              "        text-align: right;\n",
              "    }\n",
              "</style>\n",
              "<table border=\"1\" class=\"dataframe\">\n",
              "  <thead>\n",
              "    <tr style=\"text-align: right;\">\n",
              "      <th></th>\n",
              "      <th>Texto</th>\n",
              "      <th>Sentimiento</th>\n",
              "    </tr>\n",
              "  </thead>\n",
              "  <tbody>\n",
              "    <tr>\n",
              "      <th>count</th>\n",
              "      <td>299</td>\n",
              "      <td>299</td>\n",
              "    </tr>\n",
              "    <tr>\n",
              "      <th>unique</th>\n",
              "      <td>296</td>\n",
              "      <td>3</td>\n",
              "    </tr>\n",
              "    <tr>\n",
              "      <th>top</th>\n",
              "      <td>Estoy satisfecho con la calidad del producto</td>\n",
              "      <td>positivo</td>\n",
              "    </tr>\n",
              "    <tr>\n",
              "      <th>freq</th>\n",
              "      <td>2</td>\n",
              "      <td>129</td>\n",
              "    </tr>\n",
              "  </tbody>\n",
              "</table>\n",
              "</div>\n",
              "    <div class=\"colab-df-buttons\">\n",
              "\n",
              "  <div class=\"colab-df-container\">\n",
              "    <button class=\"colab-df-convert\" onclick=\"convertToInteractive('df-8d499236-80c4-4a77-8f66-eca142138555')\"\n",
              "            title=\"Convert this dataframe to an interactive table.\"\n",
              "            style=\"display:none;\">\n",
              "\n",
              "  <svg xmlns=\"http://www.w3.org/2000/svg\" height=\"24px\" viewBox=\"0 -960 960 960\">\n",
              "    <path d=\"M120-120v-720h720v720H120Zm60-500h600v-160H180v160Zm220 220h160v-160H400v160Zm0 220h160v-160H400v160ZM180-400h160v-160H180v160Zm440 0h160v-160H620v160ZM180-180h160v-160H180v160Zm440 0h160v-160H620v160Z\"/>\n",
              "  </svg>\n",
              "    </button>\n",
              "\n",
              "  <style>\n",
              "    .colab-df-container {\n",
              "      display:flex;\n",
              "      gap: 12px;\n",
              "    }\n",
              "\n",
              "    .colab-df-convert {\n",
              "      background-color: #E8F0FE;\n",
              "      border: none;\n",
              "      border-radius: 50%;\n",
              "      cursor: pointer;\n",
              "      display: none;\n",
              "      fill: #1967D2;\n",
              "      height: 32px;\n",
              "      padding: 0 0 0 0;\n",
              "      width: 32px;\n",
              "    }\n",
              "\n",
              "    .colab-df-convert:hover {\n",
              "      background-color: #E2EBFA;\n",
              "      box-shadow: 0px 1px 2px rgba(60, 64, 67, 0.3), 0px 1px 3px 1px rgba(60, 64, 67, 0.15);\n",
              "      fill: #174EA6;\n",
              "    }\n",
              "\n",
              "    .colab-df-buttons div {\n",
              "      margin-bottom: 4px;\n",
              "    }\n",
              "\n",
              "    [theme=dark] .colab-df-convert {\n",
              "      background-color: #3B4455;\n",
              "      fill: #D2E3FC;\n",
              "    }\n",
              "\n",
              "    [theme=dark] .colab-df-convert:hover {\n",
              "      background-color: #434B5C;\n",
              "      box-shadow: 0px 1px 3px 1px rgba(0, 0, 0, 0.15);\n",
              "      filter: drop-shadow(0px 1px 2px rgba(0, 0, 0, 0.3));\n",
              "      fill: #FFFFFF;\n",
              "    }\n",
              "  </style>\n",
              "\n",
              "    <script>\n",
              "      const buttonEl =\n",
              "        document.querySelector('#df-8d499236-80c4-4a77-8f66-eca142138555 button.colab-df-convert');\n",
              "      buttonEl.style.display =\n",
              "        google.colab.kernel.accessAllowed ? 'block' : 'none';\n",
              "\n",
              "      async function convertToInteractive(key) {\n",
              "        const element = document.querySelector('#df-8d499236-80c4-4a77-8f66-eca142138555');\n",
              "        const dataTable =\n",
              "          await google.colab.kernel.invokeFunction('convertToInteractive',\n",
              "                                                    [key], {});\n",
              "        if (!dataTable) return;\n",
              "\n",
              "        const docLinkHtml = 'Like what you see? Visit the ' +\n",
              "          '<a target=\"_blank\" href=https://colab.research.google.com/notebooks/data_table.ipynb>data table notebook</a>'\n",
              "          + ' to learn more about interactive tables.';\n",
              "        element.innerHTML = '';\n",
              "        dataTable['output_type'] = 'display_data';\n",
              "        await google.colab.output.renderOutput(dataTable, element);\n",
              "        const docLink = document.createElement('div');\n",
              "        docLink.innerHTML = docLinkHtml;\n",
              "        element.appendChild(docLink);\n",
              "      }\n",
              "    </script>\n",
              "  </div>\n",
              "\n",
              "\n",
              "<div id=\"df-4f8f0bcd-4745-493b-8a1d-bcf3ba9dd0fe\">\n",
              "  <button class=\"colab-df-quickchart\" onclick=\"quickchart('df-4f8f0bcd-4745-493b-8a1d-bcf3ba9dd0fe')\"\n",
              "            title=\"Suggest charts\"\n",
              "            style=\"display:none;\">\n",
              "\n",
              "<svg xmlns=\"http://www.w3.org/2000/svg\" height=\"24px\"viewBox=\"0 0 24 24\"\n",
              "     width=\"24px\">\n",
              "    <g>\n",
              "        <path d=\"M19 3H5c-1.1 0-2 .9-2 2v14c0 1.1.9 2 2 2h14c1.1 0 2-.9 2-2V5c0-1.1-.9-2-2-2zM9 17H7v-7h2v7zm4 0h-2V7h2v10zm4 0h-2v-4h2v4z\"/>\n",
              "    </g>\n",
              "</svg>\n",
              "  </button>\n",
              "\n",
              "<style>\n",
              "  .colab-df-quickchart {\n",
              "      --bg-color: #E8F0FE;\n",
              "      --fill-color: #1967D2;\n",
              "      --hover-bg-color: #E2EBFA;\n",
              "      --hover-fill-color: #174EA6;\n",
              "      --disabled-fill-color: #AAA;\n",
              "      --disabled-bg-color: #DDD;\n",
              "  }\n",
              "\n",
              "  [theme=dark] .colab-df-quickchart {\n",
              "      --bg-color: #3B4455;\n",
              "      --fill-color: #D2E3FC;\n",
              "      --hover-bg-color: #434B5C;\n",
              "      --hover-fill-color: #FFFFFF;\n",
              "      --disabled-bg-color: #3B4455;\n",
              "      --disabled-fill-color: #666;\n",
              "  }\n",
              "\n",
              "  .colab-df-quickchart {\n",
              "    background-color: var(--bg-color);\n",
              "    border: none;\n",
              "    border-radius: 50%;\n",
              "    cursor: pointer;\n",
              "    display: none;\n",
              "    fill: var(--fill-color);\n",
              "    height: 32px;\n",
              "    padding: 0;\n",
              "    width: 32px;\n",
              "  }\n",
              "\n",
              "  .colab-df-quickchart:hover {\n",
              "    background-color: var(--hover-bg-color);\n",
              "    box-shadow: 0 1px 2px rgba(60, 64, 67, 0.3), 0 1px 3px 1px rgba(60, 64, 67, 0.15);\n",
              "    fill: var(--button-hover-fill-color);\n",
              "  }\n",
              "\n",
              "  .colab-df-quickchart-complete:disabled,\n",
              "  .colab-df-quickchart-complete:disabled:hover {\n",
              "    background-color: var(--disabled-bg-color);\n",
              "    fill: var(--disabled-fill-color);\n",
              "    box-shadow: none;\n",
              "  }\n",
              "\n",
              "  .colab-df-spinner {\n",
              "    border: 2px solid var(--fill-color);\n",
              "    border-color: transparent;\n",
              "    border-bottom-color: var(--fill-color);\n",
              "    animation:\n",
              "      spin 1s steps(1) infinite;\n",
              "  }\n",
              "\n",
              "  @keyframes spin {\n",
              "    0% {\n",
              "      border-color: transparent;\n",
              "      border-bottom-color: var(--fill-color);\n",
              "      border-left-color: var(--fill-color);\n",
              "    }\n",
              "    20% {\n",
              "      border-color: transparent;\n",
              "      border-left-color: var(--fill-color);\n",
              "      border-top-color: var(--fill-color);\n",
              "    }\n",
              "    30% {\n",
              "      border-color: transparent;\n",
              "      border-left-color: var(--fill-color);\n",
              "      border-top-color: var(--fill-color);\n",
              "      border-right-color: var(--fill-color);\n",
              "    }\n",
              "    40% {\n",
              "      border-color: transparent;\n",
              "      border-right-color: var(--fill-color);\n",
              "      border-top-color: var(--fill-color);\n",
              "    }\n",
              "    60% {\n",
              "      border-color: transparent;\n",
              "      border-right-color: var(--fill-color);\n",
              "    }\n",
              "    80% {\n",
              "      border-color: transparent;\n",
              "      border-right-color: var(--fill-color);\n",
              "      border-bottom-color: var(--fill-color);\n",
              "    }\n",
              "    90% {\n",
              "      border-color: transparent;\n",
              "      border-bottom-color: var(--fill-color);\n",
              "    }\n",
              "  }\n",
              "</style>\n",
              "\n",
              "  <script>\n",
              "    async function quickchart(key) {\n",
              "      const quickchartButtonEl =\n",
              "        document.querySelector('#' + key + ' button');\n",
              "      quickchartButtonEl.disabled = true;  // To prevent multiple clicks.\n",
              "      quickchartButtonEl.classList.add('colab-df-spinner');\n",
              "      try {\n",
              "        const charts = await google.colab.kernel.invokeFunction(\n",
              "            'suggestCharts', [key], {});\n",
              "      } catch (error) {\n",
              "        console.error('Error during call to suggestCharts:', error);\n",
              "      }\n",
              "      quickchartButtonEl.classList.remove('colab-df-spinner');\n",
              "      quickchartButtonEl.classList.add('colab-df-quickchart-complete');\n",
              "    }\n",
              "    (() => {\n",
              "      let quickchartButtonEl =\n",
              "        document.querySelector('#df-4f8f0bcd-4745-493b-8a1d-bcf3ba9dd0fe button');\n",
              "      quickchartButtonEl.style.display =\n",
              "        google.colab.kernel.accessAllowed ? 'block' : 'none';\n",
              "    })();\n",
              "  </script>\n",
              "</div>\n",
              "\n",
              "    </div>\n",
              "  </div>\n"
            ],
            "application/vnd.google.colaboratory.intrinsic+json": {
              "type": "dataframe",
              "summary": "{\n  \"name\": \"df_supplements\",\n  \"rows\": 4,\n  \"fields\": [\n    {\n      \"column\": \"Texto\",\n      \"properties\": {\n        \"dtype\": \"string\",\n        \"num_unique_values\": 4,\n        \"samples\": [\n          296,\n          \"2\",\n          \"299\"\n        ],\n        \"semantic_type\": \"\",\n        \"description\": \"\"\n      }\n    },\n    {\n      \"column\": \"Sentimiento\",\n      \"properties\": {\n        \"dtype\": \"string\",\n        \"num_unique_values\": 4,\n        \"samples\": [\n          3,\n          \"129\",\n          \"299\"\n        ],\n        \"semantic_type\": \"\",\n        \"description\": \"\"\n      }\n    }\n  ]\n}"
            }
          },
          "metadata": {},
          "execution_count": 87
        }
      ]
    },
    {
      "cell_type": "code",
      "source": [
        "# Elimino duplicados"
      ],
      "metadata": {
        "id": "2hlS9PRsAuZZ"
      },
      "execution_count": 88,
      "outputs": []
    },
    {
      "cell_type": "markdown",
      "source": [
        "Distribución de sentimientos\n"
      ],
      "metadata": {
        "id": "Rtz3NNIXovRC"
      }
    },
    {
      "cell_type": "markdown",
      "source": [
        "Busco identificar si el datset se encuentra o no desbalanceado.\n",
        "\n",
        "Identifico una distribución algo desbalanceada con una predominancia de \"Positivo\" sobre el resto de las categorías.\n",
        "\n",
        "Como aspecto positivo por otro lado veo que \"neutral\" y \"negativo\" tienen una distribución similar entre ellos.\n",
        "\n",
        "Ultimo aspecto es que \"neutral\" es el que menor frecuencia tiene. Lo veo natural ya que el cliente suele expresarse cuando algo le disgusta o le gusta.\n",
        "\n",
        "Riesgos:\n",
        "- Que el modelo entrenado genere \"sesgo\" hacia lo positivo.\n",
        "- Es posible que haya que realizar un ajuste en caso de que eso ocurra."
      ],
      "metadata": {
        "id": "g2UcXxNynwKj"
      }
    },
    {
      "cell_type": "code",
      "source": [
        "# Distribución de Sentimientos\n",
        "distribucion_sentimientos = df_supplements['Sentimiento'].value_counts()\n",
        "print(distribucion_sentimientos)"
      ],
      "metadata": {
        "id": "j2-xwewHPyXi",
        "colab": {
          "base_uri": "https://localhost:8080/"
        },
        "outputId": "c2735bf1-88f0-4da7-dd3d-e48ec9fdba6c"
      },
      "execution_count": 89,
      "outputs": [
        {
          "output_type": "stream",
          "name": "stdout",
          "text": [
            "Sentimiento\n",
            "positivo    129\n",
            "negativo     97\n",
            "neutral      73\n",
            "Name: count, dtype: int64\n"
          ]
        }
      ]
    },
    {
      "cell_type": "code",
      "source": [
        "# Grafico la distribución\n",
        "\n",
        "plt.figure(figsize=(8,6))\n",
        "sns.countplot(x='Sentimiento', data= df_supplements, palette='Set2')\n",
        "plt.title('Distribución de Sentimientos')\n",
        "plt.xlabel('Sentimiento')\n",
        "plt.ylabel('Frecuencia')\n",
        "plt.show\n"
      ],
      "metadata": {
        "colab": {
          "base_uri": "https://localhost:8080/",
          "height": 845
        },
        "id": "msrCLJj9pwP_",
        "outputId": "09730c1c-ad4d-4afd-ffab-8e9391440960"
      },
      "execution_count": 90,
      "outputs": [
        {
          "output_type": "stream",
          "name": "stderr",
          "text": [
            "<ipython-input-90-5037f801704d>:4: FutureWarning: \n",
            "\n",
            "Passing `palette` without assigning `hue` is deprecated and will be removed in v0.14.0. Assign the `x` variable to `hue` and set `legend=False` for the same effect.\n",
            "\n",
            "  sns.countplot(x='Sentimiento', data= df_supplements, palette='Set2')\n"
          ]
        },
        {
          "output_type": "execute_result",
          "data": {
            "text/plain": [
              "<function matplotlib.pyplot.show(close=None, block=None)>"
            ],
            "text/html": [
              "<div style=\"max-width:800px; border: 1px solid var(--colab-border-color);\"><style>\n",
              "      pre.function-repr-contents {\n",
              "        overflow-x: auto;\n",
              "        padding: 8px 12px;\n",
              "        max-height: 500px;\n",
              "      }\n",
              "\n",
              "      pre.function-repr-contents.function-repr-contents-collapsed {\n",
              "        cursor: pointer;\n",
              "        max-height: 100px;\n",
              "      }\n",
              "    </style>\n",
              "    <pre style=\"white-space: initial; background:\n",
              "         var(--colab-secondary-surface-color); padding: 8px 12px;\n",
              "         border-bottom: 1px solid var(--colab-border-color);\"><b>matplotlib.pyplot.show</b><br/>def show(*args, **kwargs)</pre><pre class=\"function-repr-contents function-repr-contents-collapsed\" style=\"\"><a class=\"filepath\" style=\"display:none\" href=\"#\">/usr/local/lib/python3.10/dist-packages/matplotlib/pyplot.py</a>Display all open figures.\n",
              "\n",
              "Parameters\n",
              "----------\n",
              "block : bool, optional\n",
              "    Whether to wait for all figures to be closed before returning.\n",
              "\n",
              "    If `True` block and run the GUI main loop until all figure windows\n",
              "    are closed.\n",
              "\n",
              "    If `False` ensure that all figure windows are displayed and return\n",
              "    immediately.  In this case, you are responsible for ensuring\n",
              "    that the event loop is running to have responsive figures.\n",
              "\n",
              "    Defaults to True in non-interactive mode and to False in interactive\n",
              "    mode (see `.pyplot.isinteractive`).\n",
              "\n",
              "See Also\n",
              "--------\n",
              "ion : Enable interactive mode, which shows / updates the figure after\n",
              "      every plotting command, so that calling ``show()`` is not necessary.\n",
              "ioff : Disable interactive mode.\n",
              "savefig : Save the figure to an image file instead of showing it on screen.\n",
              "\n",
              "Notes\n",
              "-----\n",
              "**Saving figures to file and showing a window at the same time**\n",
              "\n",
              "If you want an image file as well as a user interface window, use\n",
              "`.pyplot.savefig` before `.pyplot.show`. At the end of (a blocking)\n",
              "``show()`` the figure is closed and thus unregistered from pyplot. Calling\n",
              "`.pyplot.savefig` afterwards would save a new and thus empty figure. This\n",
              "limitation of command order does not apply if the show is non-blocking or\n",
              "if you keep a reference to the figure and use `.Figure.savefig`.\n",
              "\n",
              "**Auto-show in jupyter notebooks**\n",
              "\n",
              "The jupyter backends (activated via ``%matplotlib inline``,\n",
              "``%matplotlib notebook``, or ``%matplotlib widget``), call ``show()`` at\n",
              "the end of every cell by default. Thus, you usually don&#x27;t have to call it\n",
              "explicitly there.</pre>\n",
              "      <script>\n",
              "      if (google.colab.kernel.accessAllowed && google.colab.files && google.colab.files.view) {\n",
              "        for (const element of document.querySelectorAll('.filepath')) {\n",
              "          element.style.display = 'block'\n",
              "          element.onclick = (event) => {\n",
              "            event.preventDefault();\n",
              "            event.stopPropagation();\n",
              "            google.colab.files.view(element.textContent, 482);\n",
              "          };\n",
              "        }\n",
              "      }\n",
              "      for (const element of document.querySelectorAll('.function-repr-contents')) {\n",
              "        element.onclick = (event) => {\n",
              "          event.preventDefault();\n",
              "          event.stopPropagation();\n",
              "          element.classList.toggle('function-repr-contents-collapsed');\n",
              "        };\n",
              "      }\n",
              "      </script>\n",
              "      </div>"
            ]
          },
          "metadata": {},
          "execution_count": 90
        },
        {
          "output_type": "display_data",
          "data": {
            "text/plain": [
              "<Figure size 800x600 with 1 Axes>"
            ],
            "image/png": "[encoded data removed]"
          },
          "metadata": {}
        }
      ]
    },
    {
      "cell_type": "code",
      "source": [
        "# Revisión de tipo de datos\n",
        "df_supplements['Texto'] = df_supplements['Texto'].astype(str)\n",
        "df_supplements['Sentimiento'] = df_supplements['Sentimiento'].astype(str)"
      ],
      "metadata": {
        "id": "5YISKTi-PxAD"
      },
      "execution_count": 91,
      "outputs": []
    },
    {
      "cell_type": "markdown",
      "source": [
        "Longitud del \"Texto\"\n",
        "\n",
        "Anaalizo la longitud de los comentarios para identificar sobre todo si los comentarios son similares en cuanto a longitud entre los \"Positivos\" y los \"Negativos\".\n",
        "\n",
        "- Detectar patrones en cuánto al detalle de las críticas\n",
        "- Analizar las criticas cortas o largas en relación al sentimiento de la crítica\n",
        "- Detectar Outliers"
      ],
      "metadata": {
        "id": "PhxiV0WPtYa5"
      }
    },
    {
      "cell_type": "code",
      "source": [
        "# Función para contar palabras\n",
        "def contar_palabras(texto):\n",
        "  return len(texto.split())\n",
        "\n",
        "# Longitud del texto en palabras\n",
        "df_supplements[\"longitud_palabras\"] = df_supplements[\"Texto\"].apply(contar_palabras)\n",
        "\n",
        "# Resumen estadístico\n",
        "print(df_supplements['longitud_palabras'].describe())\n",
        "\n",
        "# Gráfico de la distribución de la longitud en palabras\n",
        "df_supplements['longitud_palabras'].hist(bins=15, color='skyblue', edgecolor='black')\n",
        "plt.title('Distribución de Longitud de Críticas (en palabras)')\n",
        "plt.xlabel('Número de palabras')\n",
        "plt.ylabel('Frecuencia')\n",
        "plt.show()"
      ],
      "metadata": {
        "colab": {
          "base_uri": "https://localhost:8080/",
          "height": 637
        },
        "id": "OrcOStRQtbvv",
        "outputId": "4cfdcf8d-b812-4376-a7d6-a1e19cb1da30"
      },
      "execution_count": 92,
      "outputs": [
        {
          "output_type": "stream",
          "name": "stdout",
          "text": [
            "count    299.000000\n",
            "mean       7.053512\n",
            "std        1.372236\n",
            "min        3.000000\n",
            "25%        6.000000\n",
            "50%        7.000000\n",
            "75%        8.000000\n",
            "max       11.000000\n",
            "Name: longitud_palabras, dtype: float64\n"
          ]
        },
        {
          "output_type": "display_data",
          "data": {
            "text/plain": [
              "<Figure size 640x480 with 1 Axes>"
            ],
            "image/png": "[encoded data removed]"
          },
          "metadata": {}
        }
      ]
    },
    {
      "cell_type": "markdown",
      "source": [
        "Identifico que el promedio de palabras por crítica es de 7 palabras.\n",
        "\n",
        "Ahora voy a desarrollar esto:\n",
        "- Gráficar el promedio de palabras por crítica de cada tipo de crítica \"Negativa\", \"Positiva\" y \"Neutra\" para buscar patrones.\n",
        "Ej. Las críticas positivas son mas breves y las negativas son más cortas.\n",
        "- Analizar las críticas más cortas y más largas en relación al sentimiento"
      ],
      "metadata": {
        "id": "9ejluAIBusyf"
      }
    },
    {
      "cell_type": "code",
      "source": [
        "# Graficar el promedio de palabras por sentimiento\n",
        "promedio_palabras = df_supplements.groupby('Sentimiento')['longitud_palabras'].mean()\n",
        "\n",
        "print(promedio_palabras)}\n",
        "\n",
        "# Graficarlo"
      ],
      "metadata": {
        "colab": {
          "base_uri": "https://localhost:8080/"
        },
        "id": "3gB5hSgiu3Qi",
        "outputId": "d4a215bd-a425-4d6a-d851-d8c41e15dd5a"
      },
      "execution_count": 94,
      "outputs": [
        {
          "output_type": "stream",
          "name": "stdout",
          "text": [
            "Sentimiento\n",
            "negativo    7.288660\n",
            "neutral     7.356164\n",
            "positivo    6.705426\n",
            "Name: longitud_palabras, dtype: float64\n"
          ]
        }
      ]
    },
    {
      "cell_type": "code",
      "source": [
        "# Analizar las críticas más cortas y más largas en relación al sentimiento"
      ],
      "metadata": {
        "id": "1qj_K4_3u3yo"
      },
      "execution_count": null,
      "outputs": []
    },
    {
      "cell_type": "markdown",
      "source": [
        "---\n",
        "Limpieza y normalización del texto:\n",
        "\n",
        "Antes de realizar un analisis más detallado del contenido del Dataset y de entrenar los modelos realizo la normalización.\n",
        "\n",
        "- Convierto minúsculas\n",
        "- Elimino puntuaciones y caracteres especiales (dejo las tildes, ñ, números y espacios porque considero que puede ser significativo en español).\n",
        "- Elimino stopwords que no generan un valor semántico.\n",
        "- Reduzco las palabras a su base para evitar duplicar términos que tengan un significado similar semanticamente."
      ],
      "metadata": {
        "id": "Z74UJWfQcPgw"
      }
    },
    {
      "cell_type": "code",
      "source": [
        "# Limpieza y normalización del texto para realizar el Word Cloud\n",
        "\n",
        "# Inicio el lematizador de NLTK\n",
        "lemmatizer = WordNetLemmatizer()\n",
        "\n",
        "def clean(texto):\n",
        "\n",
        "  # Convertir a mínuscula para asegurarme que se maneje de manera uniforme\n",
        "  texto = texto.lower()\n",
        "\n",
        " # Eliminar puntuaciones y caracteres especiales\n",
        " # Conservar letras con acento, ñ y números\n",
        " # Se permiten: letras a-z, vocales acentuadas, ñ, números y espacios\n",
        "  texto =  re.sub('[^a-záéíóúüñ0-9\\s]+', '', texto)\n",
        "\n",
        "  # Eliminar Stopwords que no tienen valor informativo\n",
        "  texto = \" \".join([word for word in texto.split() if word not in stopwords.words('spanish')])\n",
        "\n",
        "  # Lematización para reducir las variaciones morfólogicas de las palabras\n",
        "  texto = \" \".join([lemmatizer.lemmatize(word) for word in texto.split()])\n",
        "\n",
        "  return texto\n",
        "\n",
        "# Aplico la función de limpieza al df\n",
        "\n",
        "df_supplements['Texto'] = df_supplements['Texto'].apply(clean)\n"
      ],
      "metadata": {
        "id": "vxlzpUQG6je4"
      },
      "execution_count": null,
      "outputs": []
    },
    {
      "cell_type": "code",
      "source": [
        "df_supplements.head()"
      ],
      "metadata": {
        "id": "3inB0Tlj92wD"
      },
      "execution_count": null,
      "outputs": []
    },
    {
      "cell_type": "markdown",
      "source": [
        "WordCloud\n",
        "\n",
        "Visualización de las palabras más frecuentes (cualitativamente).\n",
        "A simple vista son las principales palabras. :\n",
        "- Sabor\n",
        "- Producto\n",
        "- Precio\n",
        "- Calidad\n",
        "- Servicio\n",
        "- llego\n",
        "- rapido\n",
        "\n",
        "Entiendo que va de la mano con el desbalance positivo de los comentarios.\n",
        "\n",
        "A simple vista pareciera que el producto es el principal eje de los comentarios y que el precio, el sabor y la velocidad son las variables más comentadas por los clientes."
      ],
      "metadata": {
        "id": "hT9AvT41DJOr"
      }
    },
    {
      "cell_type": "code",
      "source": [
        "# Wordcloud para visualizar las palabras más frecuentes en los comentarios de los usuarios\n",
        "texto_completo = \" \".join(df_supplements[\"Texto\"])\n",
        "\n",
        "wordcloud = WordCloud(width=800,height=400,background_color='white').generate(texto_completo)\n",
        "\n",
        "plt.figure(figsize=(10, 6))\n",
        "plt.imshow(wordcloud, interpolation='bilinear')  # 'bilinear' para suavizar la imagen\n",
        "plt.axis('off')  # Quitar los ejes\n",
        "plt.show()"
      ],
      "metadata": {
        "id": "_UnnK0CPCQNt"
      },
      "execution_count": null,
      "outputs": []
    },
    {
      "cell_type": "markdown",
      "source": [
        "CounterVectorizer\n",
        "\n",
        "En este caso quiero ver de manera cuantitativa y más detallada la misma repetición.\n",
        "\n",
        "Voy a analizar el top 10 de palabras más frecuentas.\n",
        "\n",
        "De esta manera voy a buscar complementar la Word Cloud con esta herramienta.\n",
        "\n",
        "Analizando el gráfico refuerzo la idea anterior, eje de los comentarios \"Producto\" y variables principales \"Sabor\", \"Precio\", \"Entrega\" y \"Atención\""
      ],
      "metadata": {
        "id": "4ZXutXk3fwUc"
      }
    },
    {
      "cell_type": "code",
      "source": [
        "# CountVectorizer para complementar el ánalisis de las palabras más frecuentes\n",
        "\n",
        "# Inicio el CountVectorizer\n",
        "vectorizer = CountVectorizer(max_features=10)\n",
        "\n",
        "# Aplico el vectorizer a la columna \"Texto\" del df\n",
        "# X es una matriz dispersa, en el paso siguiente tengo que pasarla a matriz densa para facilitar el trabajo\n",
        "X = vectorizer.fit_transform(df_supplements['Texto'])\n",
        "\n",
        "# Obtengo las palabras y sus frecuencias\n",
        "# Lista de palabras más frecuentes\n",
        "palabras = vectorizer.get_feature_names_out()\n",
        "# Convierto X a matriz densa (Facilita el manejo)\n",
        "frecuencias = X.toarray().sum(axis=0)\n",
        "\n",
        "# Creo un df para visualizar las palabras más frecuentes\n",
        "df_palabras = pd.DataFrame({'Palabra': palabras, 'Frecuencia': frecuencias})\n",
        "\n",
        "# Ordeno el df por frecuencia en orden descendente\n",
        "df_palabras = df_palabras.sort_values(by='Frecuencia', ascending=False)\n",
        "\n",
        "# Genero la visualización de las top 10 palabras más frecuentes\n",
        "plt.figure(figsize=(10, 6))\n",
        "plt.barh(df_palabras['Palabra'], df_palabras['Frecuencia'], color='skyblue')\n",
        "plt.title('Top 10 Palabras Más Frecuentes')\n",
        "plt.xlabel('Frecuencia')\n",
        "plt.ylabel('Palabras')\n",
        "plt.gca().invert_yaxis()  # Para que la palabra más frecuente esté arriba\n",
        "plt.show()\n"
      ],
      "metadata": {
        "id": "YSg-uGs5ECQy"
      },
      "execution_count": null,
      "outputs": []
    },
    {
      "cell_type": "markdown",
      "source": [
        "Palabras únicas y Palabras más utilizadas por tipo de sentimiento\n",
        "\n",
        "Objetivo: Identificar aspectos a tener en cuenta durante el modelado."
      ],
      "metadata": {
        "id": "URZxEUB6x8rk"
      }
    },
    {
      "cell_type": "code",
      "source": [
        "# Identificar palabras únicas por sentimiento"
      ],
      "metadata": {
        "id": "UzgYhT0Jxw0A"
      },
      "execution_count": null,
      "outputs": []
    },
    {
      "cell_type": "code",
      "source": [
        "# Identificar palabras más comunes por sentimiento"
      ],
      "metadata": {
        "id": "C8mb6Ga6x0qS"
      },
      "execution_count": null,
      "outputs": []
    },
    {
      "cell_type": "markdown",
      "source": [
        "Visualizacion"
      ],
      "metadata": {
        "id": "RhuTx6-FySt8"
      }
    },
    {
      "cell_type": "code",
      "source": [
        "# Visualización"
      ],
      "metadata": {
        "id": "aR4Fle-OMT0i"
      },
      "execution_count": null,
      "outputs": []
    },
    {
      "cell_type": "markdown",
      "source": [
        "# Preprocesamiento de Datos"
      ],
      "metadata": {
        "id": "DYjxHTTaMhXW"
      }
    },
    {
      "cell_type": "code",
      "source": [
        "# Ajuste de clases (Desbalanceado)"
      ],
      "metadata": {
        "id": "WhjPxY4MpbCE"
      },
      "execution_count": null,
      "outputs": []
    },
    {
      "cell_type": "code",
      "source": [
        "# Tokenización"
      ],
      "metadata": {
        "id": "6C_3sjcmRBcN"
      },
      "execution_count": null,
      "outputs": []
    },
    {
      "cell_type": "code",
      "source": [
        "# Eliminar Stopwords"
      ],
      "metadata": {
        "id": "u4JL7ENRXrSk"
      },
      "execution_count": null,
      "outputs": []
    },
    {
      "cell_type": "code",
      "source": [
        "# Lematización"
      ],
      "metadata": {
        "id": "lWGukDEuXuCz"
      },
      "execution_count": null,
      "outputs": []
    },
    {
      "cell_type": "code",
      "source": [
        "# Vectorización"
      ],
      "metadata": {
        "id": "5WtRl5-wXxua"
      },
      "execution_count": null,
      "outputs": []
    },
    {
      "cell_type": "code",
      "source": [
        "# Codificacion de Sentimientos"
      ],
      "metadata": {
        "id": "LvPnx8s9RHIQ"
      },
      "execution_count": null,
      "outputs": []
    },
    {
      "cell_type": "code",
      "source": [
        "# División de Dataset"
      ],
      "metadata": {
        "id": "RWaebv8aP7f2"
      },
      "execution_count": null,
      "outputs": []
    },
    {
      "cell_type": "markdown",
      "source": [
        "# ETAPA 1: Modelado Predictivo"
      ],
      "metadata": {
        "id": "D8rhLAuRM1Lk"
      }
    },
    {
      "cell_type": "markdown",
      "source": [
        "Realizar research de los siguientes términos:\n"
      ],
      "metadata": {
        "id": "tk2hEuNRLHsz"
      }
    },
    {
      "cell_type": "code",
      "source": [],
      "metadata": {
        "id": "aX2oQNxuMrPZ"
      },
      "execution_count": null,
      "outputs": []
    },
    {
      "cell_type": "markdown",
      "source": [
        "## Predicción de Sentimiento"
      ],
      "metadata": {
        "id": "zo8Mk5VRM9ZE"
      }
    },
    {
      "cell_type": "markdown",
      "source": [
        "## Modelado de Topico"
      ],
      "metadata": {
        "id": "MbCiYmc3LBvH"
      }
    },
    {
      "cell_type": "markdown",
      "source": [
        "## Predicción de Tópico\n",
        "\n",
        "Research:\n",
        "- https://medium.com/@daffabercerita/how-to-use-large-language-model-for-topic-modeling-a-comprehensive-guide-6c03d365cc90\n",
        "-"
      ],
      "metadata": {
        "id": "qeU5tb8tNBcP"
      }
    },
    {
      "cell_type": "markdown",
      "source": [
        "# ETAPA 2: IA GENERATIVA"
      ],
      "metadata": {
        "id": "ljQ0E_XrM4Ao"
      }
    }
  ]
}