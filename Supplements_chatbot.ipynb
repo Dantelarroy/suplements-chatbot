{
  "nbformat": 4,
  "nbformat_minor": 0,
  "metadata": {
    "colab": {
      "provenance": [],
      "authorship_tag": "ABX9TyN6aDkyHfVh/mEv8E/SQ4nJ",
      "include_colab_link": true
    },
    "kernelspec": {
      "name": "python3",
      "display_name": "Python 3"
    },
    "language_info": {
      "name": "python"
    },
    "widgets": {
      "application/vnd.jupyter.widget-state+json": {
        "6062c4b98c0d4e159659edf471409613": {
          "model_module": "@jupyter-widgets/controls",
          "model_name": "HBoxModel",
          "model_module_version": "1.5.0",
          "state": {
            "_dom_classes": [],
            "_model_module": "@jupyter-widgets/controls",
            "_model_module_version": "1.5.0",
            "_model_name": "HBoxModel",
            "_view_count": null,
            "_view_module": "@jupyter-widgets/controls",
            "_view_module_version": "1.5.0",
            "_view_name": "HBoxView",
            "box_style": "",
            "children": [
              "IPY_MODEL_2f7ac363007a4d479a95417503bacec3",
              "IPY_MODEL_14e8103b6ed14dc0ac197a8e581184ef",
              "IPY_MODEL_8aa726320bff454c9288a3f9e39c0bf9"
            ],
            "layout": "IPY_MODEL_a9f61b33ccb7428da50c6162239d7cd9"
          }
        },
        "2f7ac363007a4d479a95417503bacec3": {
          "model_module": "@jupyter-widgets/controls",
          "model_name": "HTMLModel",
          "model_module_version": "1.5.0",
          "state": {
            "_dom_classes": [],
            "_model_module": "@jupyter-widgets/controls",
            "_model_module_version": "1.5.0",
            "_model_name": "HTMLModel",
            "_view_count": null,
            "_view_module": "@jupyter-widgets/controls",
            "_view_module_version": "1.5.0",
            "_view_name": "HTMLView",
            "description": "",
            "description_tooltip": null,
            "layout": "IPY_MODEL_2afb9d6a97ac4575b355333b8cd3557e",
            "placeholder": "​",
            "style": "IPY_MODEL_812299598ddb43d1b3567790f111db5e",
            "value": "tokenizer_config.json: 100%"
          }
        },
        "14e8103b6ed14dc0ac197a8e581184ef": {
          "model_module": "@jupyter-widgets/controls",
          "model_name": "FloatProgressModel",
          "model_module_version": "1.5.0",
          "state": {
            "_dom_classes": [],
            "_model_module": "@jupyter-widgets/controls",
            "_model_module_version": "1.5.0",
            "_model_name": "FloatProgressModel",
            "_view_count": null,
            "_view_module": "@jupyter-widgets/controls",
            "_view_module_version": "1.5.0",
            "_view_name": "ProgressView",
            "bar_style": "success",
            "description": "",
            "description_tooltip": null,
            "layout": "IPY_MODEL_79bddd77aa2942b68c6377df47013ee0",
            "max": 418,
            "min": 0,
            "orientation": "horizontal",
            "style": "IPY_MODEL_29f1caad87724b0b8c65d564c4f2657e",
            "value": 418
          }
        },
        "8aa726320bff454c9288a3f9e39c0bf9": {
          "model_module": "@jupyter-widgets/controls",
          "model_name": "HTMLModel",
          "model_module_version": "1.5.0",
          "state": {
            "_dom_classes": [],
            "_model_module": "@jupyter-widgets/controls",
            "_model_module_version": "1.5.0",
            "_model_name": "HTMLModel",
            "_view_count": null,
            "_view_module": "@jupyter-widgets/controls",
            "_view_module_version": "1.5.0",
            "_view_name": "HTMLView",
            "description": "",
            "description_tooltip": null,
            "layout": "IPY_MODEL_16c4fd0bd401488cad67a345f6726ea2",
            "placeholder": "​",
            "style": "IPY_MODEL_9708b5d3a30c42f7aaefb2add3cb7b7d",
            "value": " 418/418 [00:00&lt;00:00, 9.52kB/s]"
          }
        },
        "a9f61b33ccb7428da50c6162239d7cd9": {
          "model_module": "@jupyter-widgets/base",
          "model_name": "LayoutModel",
          "model_module_version": "1.2.0",
          "state": {
            "_model_module": "@jupyter-widgets/base",
            "_model_module_version": "1.2.0",
            "_model_name": "LayoutModel",
            "_view_count": null,
            "_view_module": "@jupyter-widgets/base",
            "_view_module_version": "1.2.0",
            "_view_name": "LayoutView",
            "align_content": null,
            "align_items": null,
            "align_self": null,
            "border": null,
            "bottom": null,
            "display": null,
            "flex": null,
            "flex_flow": null,
            "grid_area": null,
            "grid_auto_columns": null,
            "grid_auto_flow": null,
            "grid_auto_rows": null,
            "grid_column": null,
            "grid_gap": null,
            "grid_row": null,
            "grid_template_areas": null,
            "grid_template_columns": null,
            "grid_template_rows": null,
            "height": null,
            "justify_content": null,
            "justify_items": null,
            "left": null,
            "margin": null,
            "max_height": null,
            "max_width": null,
            "min_height": null,
            "min_width": null,
            "object_fit": null,
            "object_position": null,
            "order": null,
            "overflow": null,
            "overflow_x": null,
            "overflow_y": null,
            "padding": null,
            "right": null,
            "top": null,
            "visibility": null,
            "width": null
          }
        },
        "2afb9d6a97ac4575b355333b8cd3557e": {
          "model_module": "@jupyter-widgets/base",
          "model_name": "LayoutModel",
          "model_module_version": "1.2.0",
          "state": {
            "_model_module": "@jupyter-widgets/base",
            "_model_module_version": "1.2.0",
            "_model_name": "LayoutModel",
            "_view_count": null,
            "_view_module": "@jupyter-widgets/base",
            "_view_module_version": "1.2.0",
            "_view_name": "LayoutView",
            "align_content": null,
            "align_items": null,
            "align_self": null,
            "border": null,
            "bottom": null,
            "display": null,
            "flex": null,
            "flex_flow": null,
            "grid_area": null,
            "grid_auto_columns": null,
            "grid_auto_flow": null,
            "grid_auto_rows": null,
            "grid_column": null,
            "grid_gap": null,
            "grid_row": null,
            "grid_template_areas": null,
            "grid_template_columns": null,
            "grid_template_rows": null,
            "height": null,
            "justify_content": null,
            "justify_items": null,
            "left": null,
            "margin": null,
            "max_height": null,
            "max_width": null,
            "min_height": null,
            "min_width": null,
            "object_fit": null,
            "object_position": null,
            "order": null,
            "overflow": null,
            "overflow_x": null,
            "overflow_y": null,
            "padding": null,
            "right": null,
            "top": null,
            "visibility": null,
            "width": null
          }
        },
        "812299598ddb43d1b3567790f111db5e": {
          "model_module": "@jupyter-widgets/controls",
          "model_name": "DescriptionStyleModel",
          "model_module_version": "1.5.0",
          "state": {
            "_model_module": "@jupyter-widgets/controls",
            "_model_module_version": "1.5.0",
            "_model_name": "DescriptionStyleModel",
            "_view_count": null,
            "_view_module": "@jupyter-widgets/base",
            "_view_module_version": "1.2.0",
            "_view_name": "StyleView",
            "description_width": ""
          }
        },
        "79bddd77aa2942b68c6377df47013ee0": {
          "model_module": "@jupyter-widgets/base",
          "model_name": "LayoutModel",
          "model_module_version": "1.2.0",
          "state": {
            "_model_module": "@jupyter-widgets/base",
            "_model_module_version": "1.2.0",
            "_model_name": "LayoutModel",
            "_view_count": null,
            "_view_module": "@jupyter-widgets/base",
            "_view_module_version": "1.2.0",
            "_view_name": "LayoutView",
            "align_content": null,
            "align_items": null,
            "align_self": null,
            "border": null,
            "bottom": null,
            "display": null,
            "flex": null,
            "flex_flow": null,
            "grid_area": null,
            "grid_auto_columns": null,
            "grid_auto_flow": null,
            "grid_auto_rows": null,
            "grid_column": null,
            "grid_gap": null,
            "grid_row": null,
            "grid_template_areas": null,
            "grid_template_columns": null,
            "grid_template_rows": null,
            "height": null,
            "justify_content": null,
            "justify_items": null,
            "left": null,
            "margin": null,
            "max_height": null,
            "max_width": null,
            "min_height": null,
            "min_width": null,
            "object_fit": null,
            "object_position": null,
            "order": null,
            "overflow": null,
            "overflow_x": null,
            "overflow_y": null,
            "padding": null,
            "right": null,
            "top": null,
            "visibility": null,
            "width": null
          }
        },
        "29f1caad87724b0b8c65d564c4f2657e": {
          "model_module": "@jupyter-widgets/controls",
          "model_name": "ProgressStyleModel",
          "model_module_version": "1.5.0",
          "state": {
            "_model_module": "@jupyter-widgets/controls",
            "_model_module_version": "1.5.0",
            "_model_name": "ProgressStyleModel",
            "_view_count": null,
            "_view_module": "@jupyter-widgets/base",
            "_view_module_version": "1.2.0",
            "_view_name": "StyleView",
            "bar_color": null,
            "description_width": ""
          }
        },
        "16c4fd0bd401488cad67a345f6726ea2": {
          "model_module": "@jupyter-widgets/base",
          "model_name": "LayoutModel",
          "model_module_version": "1.2.0",
          "state": {
            "_model_module": "@jupyter-widgets/base",
            "_model_module_version": "1.2.0",
            "_model_name": "LayoutModel",
            "_view_count": null,
            "_view_module": "@jupyter-widgets/base",
            "_view_module_version": "1.2.0",
            "_view_name": "LayoutView",
            "align_content": null,
            "align_items": null,
            "align_self": null,
            "border": null,
            "bottom": null,
            "display": null,
            "flex": null,
            "flex_flow": null,
            "grid_area": null,
            "grid_auto_columns": null,
            "grid_auto_flow": null,
            "grid_auto_rows": null,
            "grid_column": null,
            "grid_gap": null,
            "grid_row": null,
            "grid_template_areas": null,
            "grid_template_columns": null,
            "grid_template_rows": null,
            "height": null,
            "justify_content": null,
            "justify_items": null,
            "left": null,
            "margin": null,
            "max_height": null,
            "max_width": null,
            "min_height": null,
            "min_width": null,
            "object_fit": null,
            "object_position": null,
            "order": null,
            "overflow": null,
            "overflow_x": null,
            "overflow_y": null,
            "padding": null,
            "right": null,
            "top": null,
            "visibility": null,
            "width": null
          }
        },
        "9708b5d3a30c42f7aaefb2add3cb7b7d": {
          "model_module": "@jupyter-widgets/controls",
          "model_name": "DescriptionStyleModel",
          "model_module_version": "1.5.0",
          "state": {
            "_model_module": "@jupyter-widgets/controls",
            "_model_module_version": "1.5.0",
            "_model_name": "DescriptionStyleModel",
            "_view_count": null,
            "_view_module": "@jupyter-widgets/base",
            "_view_module_version": "1.2.0",
            "_view_name": "StyleView",
            "description_width": ""
          }
        },
        "afb2126ee479466da9de04901c349d13": {
          "model_module": "@jupyter-widgets/controls",
          "model_name": "HBoxModel",
          "model_module_version": "1.5.0",
          "state": {
            "_dom_classes": [],
            "_model_module": "@jupyter-widgets/controls",
            "_model_module_version": "1.5.0",
            "_model_name": "HBoxModel",
            "_view_count": null,
            "_view_module": "@jupyter-widgets/controls",
            "_view_module_version": "1.5.0",
            "_view_name": "HBoxView",
            "box_style": "",
            "children": [
              "IPY_MODEL_ade4d34d33a44b468957d1c33f41e7fc",
              "IPY_MODEL_9d4ee5760d6f4fc394490cd5749faccd",
              "IPY_MODEL_d87fc9e79e4b47449e41a6e7dd3910cb"
            ],
            "layout": "IPY_MODEL_909963245a8044148d1e778534a08ae8"
          }
        },
        "ade4d34d33a44b468957d1c33f41e7fc": {
          "model_module": "@jupyter-widgets/controls",
          "model_name": "HTMLModel",
          "model_module_version": "1.5.0",
          "state": {
            "_dom_classes": [],
            "_model_module": "@jupyter-widgets/controls",
            "_model_module_version": "1.5.0",
            "_model_name": "HTMLModel",
            "_view_count": null,
            "_view_module": "@jupyter-widgets/controls",
            "_view_module_version": "1.5.0",
            "_view_name": "HTMLView",
            "description": "",
            "description_tooltip": null,
            "layout": "IPY_MODEL_60b71f590f624a7b9c25b0b18f0ef3dc",
            "placeholder": "​",
            "style": "IPY_MODEL_a86921de40d94c8a812890377314ba24",
            "value": "sentencepiece.bpe.model: 100%"
          }
        },
        "9d4ee5760d6f4fc394490cd5749faccd": {
          "model_module": "@jupyter-widgets/controls",
          "model_name": "FloatProgressModel",
          "model_module_version": "1.5.0",
          "state": {
            "_dom_classes": [],
            "_model_module": "@jupyter-widgets/controls",
            "_model_module_version": "1.5.0",
            "_model_name": "FloatProgressModel",
            "_view_count": null,
            "_view_module": "@jupyter-widgets/controls",
            "_view_module_version": "1.5.0",
            "_view_name": "ProgressView",
            "bar_style": "success",
            "description": "",
            "description_tooltip": null,
            "layout": "IPY_MODEL_b98f576eb30e498a9ff9d968a42384f9",
            "max": 5069051,
            "min": 0,
            "orientation": "horizontal",
            "style": "IPY_MODEL_8d4b6f9fe1384e81ae632a0054bdca78",
            "value": 5069051
          }
        },
        "d87fc9e79e4b47449e41a6e7dd3910cb": {
          "model_module": "@jupyter-widgets/controls",
          "model_name": "HTMLModel",
          "model_module_version": "1.5.0",
          "state": {
            "_dom_classes": [],
            "_model_module": "@jupyter-widgets/controls",
            "_model_module_version": "1.5.0",
            "_model_name": "HTMLModel",
            "_view_count": null,
            "_view_module": "@jupyter-widgets/controls",
            "_view_module_version": "1.5.0",
            "_view_name": "HTMLView",
            "description": "",
            "description_tooltip": null,
            "layout": "IPY_MODEL_b36546d130334b529e86ff5a762ff1e5",
            "placeholder": "​",
            "style": "IPY_MODEL_a681651e69334f7188a228dd758696e3",
            "value": " 5.07M/5.07M [00:00&lt;00:00, 17.9MB/s]"
          }
        },
        "909963245a8044148d1e778534a08ae8": {
          "model_module": "@jupyter-widgets/base",
          "model_name": "LayoutModel",
          "model_module_version": "1.2.0",
          "state": {
            "_model_module": "@jupyter-widgets/base",
            "_model_module_version": "1.2.0",
            "_model_name": "LayoutModel",
            "_view_count": null,
            "_view_module": "@jupyter-widgets/base",
            "_view_module_version": "1.2.0",
            "_view_name": "LayoutView",
            "align_content": null,
            "align_items": null,
            "align_self": null,
            "border": null,
            "bottom": null,
            "display": null,
            "flex": null,
            "flex_flow": null,
            "grid_area": null,
            "grid_auto_columns": null,
            "grid_auto_flow": null,
            "grid_auto_rows": null,
            "grid_column": null,
            "grid_gap": null,
            "grid_row": null,
            "grid_template_areas": null,
            "grid_template_columns": null,
            "grid_template_rows": null,
            "height": null,
            "justify_content": null,
            "justify_items": null,
            "left": null,
            "margin": null,
            "max_height": null,
            "max_width": null,
            "min_height": null,
            "min_width": null,
            "object_fit": null,
            "object_position": null,
            "order": null,
            "overflow": null,
            "overflow_x": null,
            "overflow_y": null,
            "padding": null,
            "right": null,
            "top": null,
            "visibility": null,
            "width": null
          }
        },
        "60b71f590f624a7b9c25b0b18f0ef3dc": {
          "model_module": "@jupyter-widgets/base",
          "model_name": "LayoutModel",
          "model_module_version": "1.2.0",
          "state": {
            "_model_module": "@jupyter-widgets/base",
            "_model_module_version": "1.2.0",
            "_model_name": "LayoutModel",
            "_view_count": null,
            "_view_module": "@jupyter-widgets/base",
            "_view_module_version": "1.2.0",
            "_view_name": "LayoutView",
            "align_content": null,
            "align_items": null,
            "align_self": null,
            "border": null,
            "bottom": null,
            "display": null,
            "flex": null,
            "flex_flow": null,
            "grid_area": null,
            "grid_auto_columns": null,
            "grid_auto_flow": null,
            "grid_auto_rows": null,
            "grid_column": null,
            "grid_gap": null,
            "grid_row": null,
            "grid_template_areas": null,
            "grid_template_columns": null,
            "grid_template_rows": null,
            "height": null,
            "justify_content": null,
            "justify_items": null,
            "left": null,
            "margin": null,
            "max_height": null,
            "max_width": null,
            "min_height": null,
            "min_width": null,
            "object_fit": null,
            "object_position": null,
            "order": null,
            "overflow": null,
            "overflow_x": null,
            "overflow_y": null,
            "padding": null,
            "right": null,
            "top": null,
            "visibility": null,
            "width": null
          }
        },
        "a86921de40d94c8a812890377314ba24": {
          "model_module": "@jupyter-widgets/controls",
          "model_name": "DescriptionStyleModel",
          "model_module_version": "1.5.0",
          "state": {
            "_model_module": "@jupyter-widgets/controls",
            "_model_module_version": "1.5.0",
            "_model_name": "DescriptionStyleModel",
            "_view_count": null,
            "_view_module": "@jupyter-widgets/base",
            "_view_module_version": "1.2.0",
            "_view_name": "StyleView",
            "description_width": ""
          }
        },
        "b98f576eb30e498a9ff9d968a42384f9": {
          "model_module": "@jupyter-widgets/base",
          "model_name": "LayoutModel",
          "model_module_version": "1.2.0",
          "state": {
            "_model_module": "@jupyter-widgets/base",
            "_model_module_version": "1.2.0",
            "_model_name": "LayoutModel",
            "_view_count": null,
            "_view_module": "@jupyter-widgets/base",
            "_view_module_version": "1.2.0",
            "_view_name": "LayoutView",
            "align_content": null,
            "align_items": null,
            "align_self": null,
            "border": null,
            "bottom": null,
            "display": null,
            "flex": null,
            "flex_flow": null,
            "grid_area": null,
            "grid_auto_columns": null,
            "grid_auto_flow": null,
            "grid_auto_rows": null,
            "grid_column": null,
            "grid_gap": null,
            "grid_row": null,
            "grid_template_areas": null,
            "grid_template_columns": null,
            "grid_template_rows": null,
            "height": null,
            "justify_content": null,
            "justify_items": null,
            "left": null,
            "margin": null,
            "max_height": null,
            "max_width": null,
            "min_height": null,
            "min_width": null,
            "object_fit": null,
            "object_position": null,
            "order": null,
            "overflow": null,
            "overflow_x": null,
            "overflow_y": null,
            "padding": null,
            "right": null,
            "top": null,
            "visibility": null,
            "width": null
          }
        },
        "8d4b6f9fe1384e81ae632a0054bdca78": {
          "model_module": "@jupyter-widgets/controls",
          "model_name": "ProgressStyleModel",
          "model_module_version": "1.5.0",
          "state": {
            "_model_module": "@jupyter-widgets/controls",
            "_model_module_version": "1.5.0",
            "_model_name": "ProgressStyleModel",
            "_view_count": null,
            "_view_module": "@jupyter-widgets/base",
            "_view_module_version": "1.2.0",
            "_view_name": "StyleView",
            "bar_color": null,
            "description_width": ""
          }
        },
        "b36546d130334b529e86ff5a762ff1e5": {
          "model_module": "@jupyter-widgets/base",
          "model_name": "LayoutModel",
          "model_module_version": "1.2.0",
          "state": {
            "_model_module": "@jupyter-widgets/base",
            "_model_module_version": "1.2.0",
            "_model_name": "LayoutModel",
            "_view_count": null,
            "_view_module": "@jupyter-widgets/base",
            "_view_module_version": "1.2.0",
            "_view_name": "LayoutView",
            "align_content": null,
            "align_items": null,
            "align_self": null,
            "border": null,
            "bottom": null,
            "display": null,
            "flex": null,
            "flex_flow": null,
            "grid_area": null,
            "grid_auto_columns": null,
            "grid_auto_flow": null,
            "grid_auto_rows": null,
            "grid_column": null,
            "grid_gap": null,
            "grid_row": null,
            "grid_template_areas": null,
            "grid_template_columns": null,
            "grid_template_rows": null,
            "height": null,
            "justify_content": null,
            "justify_items": null,
            "left": null,
            "margin": null,
            "max_height": null,
            "max_width": null,
            "min_height": null,
            "min_width": null,
            "object_fit": null,
            "object_position": null,
            "order": null,
            "overflow": null,
            "overflow_x": null,
            "overflow_y": null,
            "padding": null,
            "right": null,
            "top": null,
            "visibility": null,
            "width": null
          }
        },
        "a681651e69334f7188a228dd758696e3": {
          "model_module": "@jupyter-widgets/controls",
          "model_name": "DescriptionStyleModel",
          "model_module_version": "1.5.0",
          "state": {
            "_model_module": "@jupyter-widgets/controls",
            "_model_module_version": "1.5.0",
            "_model_name": "DescriptionStyleModel",
            "_view_count": null,
            "_view_module": "@jupyter-widgets/base",
            "_view_module_version": "1.2.0",
            "_view_name": "StyleView",
            "description_width": ""
          }
        },
        "4aedaa6bfaad406890f2d14e4069ebb3": {
          "model_module": "@jupyter-widgets/controls",
          "model_name": "HBoxModel",
          "model_module_version": "1.5.0",
          "state": {
            "_dom_classes": [],
            "_model_module": "@jupyter-widgets/controls",
            "_model_module_version": "1.5.0",
            "_model_name": "HBoxModel",
            "_view_count": null,
            "_view_module": "@jupyter-widgets/controls",
            "_view_module_version": "1.5.0",
            "_view_name": "HBoxView",
            "box_style": "",
            "children": [
              "IPY_MODEL_f828103527bf4f5a949aaaa0b6d91d3a",
              "IPY_MODEL_054aee16d0214542967daaf04a93173b",
              "IPY_MODEL_559471f16f134c5bb1b56bbb660d7d6b"
            ],
            "layout": "IPY_MODEL_bea55ea351db4b3a8ec226507cd19534"
          }
        },
        "f828103527bf4f5a949aaaa0b6d91d3a": {
          "model_module": "@jupyter-widgets/controls",
          "model_name": "HTMLModel",
          "model_module_version": "1.5.0",
          "state": {
            "_dom_classes": [],
            "_model_module": "@jupyter-widgets/controls",
            "_model_module_version": "1.5.0",
            "_model_name": "HTMLModel",
            "_view_count": null,
            "_view_module": "@jupyter-widgets/controls",
            "_view_module_version": "1.5.0",
            "_view_name": "HTMLView",
            "description": "",
            "description_tooltip": null,
            "layout": "IPY_MODEL_7ec3885e1c4f4eabb8cc37f9ec03cddb",
            "placeholder": "​",
            "style": "IPY_MODEL_4db629bee8b24e00af61a23df39ab854",
            "value": "tokenizer.json: 100%"
          }
        },
        "054aee16d0214542967daaf04a93173b": {
          "model_module": "@jupyter-widgets/controls",
          "model_name": "FloatProgressModel",
          "model_module_version": "1.5.0",
          "state": {
            "_dom_classes": [],
            "_model_module": "@jupyter-widgets/controls",
            "_model_module_version": "1.5.0",
            "_model_name": "FloatProgressModel",
            "_view_count": null,
            "_view_module": "@jupyter-widgets/controls",
            "_view_module_version": "1.5.0",
            "_view_name": "ProgressView",
            "bar_style": "success",
            "description": "",
            "description_tooltip": null,
            "layout": "IPY_MODEL_7548c5bee1b140138ef523763b226131",
            "max": 17082660,
            "min": 0,
            "orientation": "horizontal",
            "style": "IPY_MODEL_b88d759dda5544ed97607927eaca1c7b",
            "value": 17082660
          }
        },
        "559471f16f134c5bb1b56bbb660d7d6b": {
          "model_module": "@jupyter-widgets/controls",
          "model_name": "HTMLModel",
          "model_module_version": "1.5.0",
          "state": {
            "_dom_classes": [],
            "_model_module": "@jupyter-widgets/controls",
            "_model_module_version": "1.5.0",
            "_model_name": "HTMLModel",
            "_view_count": null,
            "_view_module": "@jupyter-widgets/controls",
            "_view_module_version": "1.5.0",
            "_view_name": "HTMLView",
            "description": "",
            "description_tooltip": null,
            "layout": "IPY_MODEL_2ba5c946e06e43c883203c88716c5cc3",
            "placeholder": "​",
            "style": "IPY_MODEL_713246bd83b4413cb2017c5153b3893e",
            "value": " 17.1M/17.1M [00:00&lt;00:00, 47.4MB/s]"
          }
        },
        "bea55ea351db4b3a8ec226507cd19534": {
          "model_module": "@jupyter-widgets/base",
          "model_name": "LayoutModel",
          "model_module_version": "1.2.0",
          "state": {
            "_model_module": "@jupyter-widgets/base",
            "_model_module_version": "1.2.0",
            "_model_name": "LayoutModel",
            "_view_count": null,
            "_view_module": "@jupyter-widgets/base",
            "_view_module_version": "1.2.0",
            "_view_name": "LayoutView",
            "align_content": null,
            "align_items": null,
            "align_self": null,
            "border": null,
            "bottom": null,
            "display": null,
            "flex": null,
            "flex_flow": null,
            "grid_area": null,
            "grid_auto_columns": null,
            "grid_auto_flow": null,
            "grid_auto_rows": null,
            "grid_column": null,
            "grid_gap": null,
            "grid_row": null,
            "grid_template_areas": null,
            "grid_template_columns": null,
            "grid_template_rows": null,
            "height": null,
            "justify_content": null,
            "justify_items": null,
            "left": null,
            "margin": null,
            "max_height": null,
            "max_width": null,
            "min_height": null,
            "min_width": null,
            "object_fit": null,
            "object_position": null,
            "order": null,
            "overflow": null,
            "overflow_x": null,
            "overflow_y": null,
            "padding": null,
            "right": null,
            "top": null,
            "visibility": null,
            "width": null
          }
        },
        "7ec3885e1c4f4eabb8cc37f9ec03cddb": {
          "model_module": "@jupyter-widgets/base",
          "model_name": "LayoutModel",
          "model_module_version": "1.2.0",
          "state": {
            "_model_module": "@jupyter-widgets/base",
            "_model_module_version": "1.2.0",
            "_model_name": "LayoutModel",
            "_view_count": null,
            "_view_module": "@jupyter-widgets/base",
            "_view_module_version": "1.2.0",
            "_view_name": "LayoutView",
            "align_content": null,
            "align_items": null,
            "align_self": null,
            "border": null,
            "bottom": null,
            "display": null,
            "flex": null,
            "flex_flow": null,
            "grid_area": null,
            "grid_auto_columns": null,
            "grid_auto_flow": null,
            "grid_auto_rows": null,
            "grid_column": null,
            "grid_gap": null,
            "grid_row": null,
            "grid_template_areas": null,
            "grid_template_columns": null,
            "grid_template_rows": null,
            "height": null,
            "justify_content": null,
            "justify_items": null,
            "left": null,
            "margin": null,
            "max_height": null,
            "max_width": null,
            "min_height": null,
            "min_width": null,
            "object_fit": null,
            "object_position": null,
            "order": null,
            "overflow": null,
            "overflow_x": null,
            "overflow_y": null,
            "padding": null,
            "right": null,
            "top": null,
            "visibility": null,
            "width": null
          }
        },
        "4db629bee8b24e00af61a23df39ab854": {
          "model_module": "@jupyter-widgets/controls",
          "model_name": "DescriptionStyleModel",
          "model_module_version": "1.5.0",
          "state": {
            "_model_module": "@jupyter-widgets/controls",
            "_model_module_version": "1.5.0",
            "_model_name": "DescriptionStyleModel",
            "_view_count": null,
            "_view_module": "@jupyter-widgets/base",
            "_view_module_version": "1.2.0",
            "_view_name": "StyleView",
            "description_width": ""
          }
        },
        "7548c5bee1b140138ef523763b226131": {
          "model_module": "@jupyter-widgets/base",
          "model_name": "LayoutModel",
          "model_module_version": "1.2.0",
          "state": {
            "_model_module": "@jupyter-widgets/base",
            "_model_module_version": "1.2.0",
            "_model_name": "LayoutModel",
            "_view_count": null,
            "_view_module": "@jupyter-widgets/base",
            "_view_module_version": "1.2.0",
            "_view_name": "LayoutView",
            "align_content": null,
            "align_items": null,
            "align_self": null,
            "border": null,
            "bottom": null,
            "display": null,
            "flex": null,
            "flex_flow": null,
            "grid_area": null,
            "grid_auto_columns": null,
            "grid_auto_flow": null,
            "grid_auto_rows": null,
            "grid_column": null,
            "grid_gap": null,
            "grid_row": null,
            "grid_template_areas": null,
            "grid_template_columns": null,
            "grid_template_rows": null,
            "height": null,
            "justify_content": null,
            "justify_items": null,
            "left": null,
            "margin": null,
            "max_height": null,
            "max_width": null,
            "min_height": null,
            "min_width": null,
            "object_fit": null,
            "object_position": null,
            "order": null,
            "overflow": null,
            "overflow_x": null,
            "overflow_y": null,
            "padding": null,
            "right": null,
            "top": null,
            "visibility": null,
            "width": null
          }
        },
        "b88d759dda5544ed97607927eaca1c7b": {
          "model_module": "@jupyter-widgets/controls",
          "model_name": "ProgressStyleModel",
          "model_module_version": "1.5.0",
          "state": {
            "_model_module": "@jupyter-widgets/controls",
            "_model_module_version": "1.5.0",
            "_model_name": "ProgressStyleModel",
            "_view_count": null,
            "_view_module": "@jupyter-widgets/base",
            "_view_module_version": "1.2.0",
            "_view_name": "StyleView",
            "bar_color": null,
            "description_width": ""
          }
        },
        "2ba5c946e06e43c883203c88716c5cc3": {
          "model_module": "@jupyter-widgets/base",
          "model_name": "LayoutModel",
          "model_module_version": "1.2.0",
          "state": {
            "_model_module": "@jupyter-widgets/base",
            "_model_module_version": "1.2.0",
            "_model_name": "LayoutModel",
            "_view_count": null,
            "_view_module": "@jupyter-widgets/base",
            "_view_module_version": "1.2.0",
            "_view_name": "LayoutView",
            "align_content": null,
            "align_items": null,
            "align_self": null,
            "border": null,
            "bottom": null,
            "display": null,
            "flex": null,
            "flex_flow": null,
            "grid_area": null,
            "grid_auto_columns": null,
            "grid_auto_flow": null,
            "grid_auto_rows": null,
            "grid_column": null,
            "grid_gap": null,
            "grid_row": null,
            "grid_template_areas": null,
            "grid_template_columns": null,
            "grid_template_rows": null,
            "height": null,
            "justify_content": null,
            "justify_items": null,
            "left": null,
            "margin": null,
            "max_height": null,
            "max_width": null,
            "min_height": null,
            "min_width": null,
            "object_fit": null,
            "object_position": null,
            "order": null,
            "overflow": null,
            "overflow_x": null,
            "overflow_y": null,
            "padding": null,
            "right": null,
            "top": null,
            "visibility": null,
            "width": null
          }
        },
        "713246bd83b4413cb2017c5153b3893e": {
          "model_module": "@jupyter-widgets/controls",
          "model_name": "DescriptionStyleModel",
          "model_module_version": "1.5.0",
          "state": {
            "_model_module": "@jupyter-widgets/controls",
            "_model_module_version": "1.5.0",
            "_model_name": "DescriptionStyleModel",
            "_view_count": null,
            "_view_module": "@jupyter-widgets/base",
            "_view_module_version": "1.2.0",
            "_view_name": "StyleView",
            "description_width": ""
          }
        },
        "e9193eb53b734aa4ae2537b1cf369bff": {
          "model_module": "@jupyter-widgets/controls",
          "model_name": "HBoxModel",
          "model_module_version": "1.5.0",
          "state": {
            "_dom_classes": [],
            "_model_module": "@jupyter-widgets/controls",
            "_model_module_version": "1.5.0",
            "_model_name": "HBoxModel",
            "_view_count": null,
            "_view_module": "@jupyter-widgets/controls",
            "_view_module_version": "1.5.0",
            "_view_name": "HBoxView",
            "box_style": "",
            "children": [
              "IPY_MODEL_75b4795a24f44853b411d5dc90914331",
              "IPY_MODEL_7b1de9ec1cec48b48c31df098b45d308",
              "IPY_MODEL_9dd6ba33306243c4a521965bcb668c53"
            ],
            "layout": "IPY_MODEL_ed842f9da22c485fba568604c87bbf23"
          }
        },
        "75b4795a24f44853b411d5dc90914331": {
          "model_module": "@jupyter-widgets/controls",
          "model_name": "HTMLModel",
          "model_module_version": "1.5.0",
          "state": {
            "_dom_classes": [],
            "_model_module": "@jupyter-widgets/controls",
            "_model_module_version": "1.5.0",
            "_model_name": "HTMLModel",
            "_view_count": null,
            "_view_module": "@jupyter-widgets/controls",
            "_view_module_version": "1.5.0",
            "_view_name": "HTMLView",
            "description": "",
            "description_tooltip": null,
            "layout": "IPY_MODEL_13be83baf6fa46f7bd4defa36d22aa9e",
            "placeholder": "​",
            "style": "IPY_MODEL_97f736d3852241c4bea28477e68d5f6b",
            "value": "special_tokens_map.json: 100%"
          }
        },
        "7b1de9ec1cec48b48c31df098b45d308": {
          "model_module": "@jupyter-widgets/controls",
          "model_name": "FloatProgressModel",
          "model_module_version": "1.5.0",
          "state": {
            "_dom_classes": [],
            "_model_module": "@jupyter-widgets/controls",
            "_model_module_version": "1.5.0",
            "_model_name": "FloatProgressModel",
            "_view_count": null,
            "_view_module": "@jupyter-widgets/controls",
            "_view_module_version": "1.5.0",
            "_view_name": "ProgressView",
            "bar_style": "success",
            "description": "",
            "description_tooltip": null,
            "layout": "IPY_MODEL_5d7bc7c7aa904211a7d765b614657496",
            "max": 280,
            "min": 0,
            "orientation": "horizontal",
            "style": "IPY_MODEL_745fedd42e23448eadaf451195521176",
            "value": 280
          }
        },
        "9dd6ba33306243c4a521965bcb668c53": {
          "model_module": "@jupyter-widgets/controls",
          "model_name": "HTMLModel",
          "model_module_version": "1.5.0",
          "state": {
            "_dom_classes": [],
            "_model_module": "@jupyter-widgets/controls",
            "_model_module_version": "1.5.0",
            "_model_name": "HTMLModel",
            "_view_count": null,
            "_view_module": "@jupyter-widgets/controls",
            "_view_module_version": "1.5.0",
            "_view_name": "HTMLView",
            "description": "",
            "description_tooltip": null,
            "layout": "IPY_MODEL_8ded8a760f0b4161b4602cb3f3744736",
            "placeholder": "​",
            "style": "IPY_MODEL_390bd3d743d042a3ad4607931f5c99a4",
            "value": " 280/280 [00:00&lt;00:00, 3.07kB/s]"
          }
        },
        "ed842f9da22c485fba568604c87bbf23": {
          "model_module": "@jupyter-widgets/base",
          "model_name": "LayoutModel",
          "model_module_version": "1.2.0",
          "state": {
            "_model_module": "@jupyter-widgets/base",
            "_model_module_version": "1.2.0",
            "_model_name": "LayoutModel",
            "_view_count": null,
            "_view_module": "@jupyter-widgets/base",
            "_view_module_version": "1.2.0",
            "_view_name": "LayoutView",
            "align_content": null,
            "align_items": null,
            "align_self": null,
            "border": null,
            "bottom": null,
            "display": null,
            "flex": null,
            "flex_flow": null,
            "grid_area": null,
            "grid_auto_columns": null,
            "grid_auto_flow": null,
            "grid_auto_rows": null,
            "grid_column": null,
            "grid_gap": null,
            "grid_row": null,
            "grid_template_areas": null,
            "grid_template_columns": null,
            "grid_template_rows": null,
            "height": null,
            "justify_content": null,
            "justify_items": null,
            "left": null,
            "margin": null,
            "max_height": null,
            "max_width": null,
            "min_height": null,
            "min_width": null,
            "object_fit": null,
            "object_position": null,
            "order": null,
            "overflow": null,
            "overflow_x": null,
            "overflow_y": null,
            "padding": null,
            "right": null,
            "top": null,
            "visibility": null,
            "width": null
          }
        },
        "13be83baf6fa46f7bd4defa36d22aa9e": {
          "model_module": "@jupyter-widgets/base",
          "model_name": "LayoutModel",
          "model_module_version": "1.2.0",
          "state": {
            "_model_module": "@jupyter-widgets/base",
            "_model_module_version": "1.2.0",
            "_model_name": "LayoutModel",
            "_view_count": null,
            "_view_module": "@jupyter-widgets/base",
            "_view_module_version": "1.2.0",
            "_view_name": "LayoutView",
            "align_content": null,
            "align_items": null,
            "align_self": null,
            "border": null,
            "bottom": null,
            "display": null,
            "flex": null,
            "flex_flow": null,
            "grid_area": null,
            "grid_auto_columns": null,
            "grid_auto_flow": null,
            "grid_auto_rows": null,
            "grid_column": null,
            "grid_gap": null,
            "grid_row": null,
            "grid_template_areas": null,
            "grid_template_columns": null,
            "grid_template_rows": null,
            "height": null,
            "justify_content": null,
            "justify_items": null,
            "left": null,
            "margin": null,
            "max_height": null,
            "max_width": null,
            "min_height": null,
            "min_width": null,
            "object_fit": null,
            "object_position": null,
            "order": null,
            "overflow": null,
            "overflow_x": null,
            "overflow_y": null,
            "padding": null,
            "right": null,
            "top": null,
            "visibility": null,
            "width": null
          }
        },
        "97f736d3852241c4bea28477e68d5f6b": {
          "model_module": "@jupyter-widgets/controls",
          "model_name": "DescriptionStyleModel",
          "model_module_version": "1.5.0",
          "state": {
            "_model_module": "@jupyter-widgets/controls",
            "_model_module_version": "1.5.0",
            "_model_name": "DescriptionStyleModel",
            "_view_count": null,
            "_view_module": "@jupyter-widgets/base",
            "_view_module_version": "1.2.0",
            "_view_name": "StyleView",
            "description_width": ""
          }
        },
        "5d7bc7c7aa904211a7d765b614657496": {
          "model_module": "@jupyter-widgets/base",
          "model_name": "LayoutModel",
          "model_module_version": "1.2.0",
          "state": {
            "_model_module": "@jupyter-widgets/base",
            "_model_module_version": "1.2.0",
            "_model_name": "LayoutModel",
            "_view_count": null,
            "_view_module": "@jupyter-widgets/base",
            "_view_module_version": "1.2.0",
            "_view_name": "LayoutView",
            "align_content": null,
            "align_items": null,
            "align_self": null,
            "border": null,
            "bottom": null,
            "display": null,
            "flex": null,
            "flex_flow": null,
            "grid_area": null,
            "grid_auto_columns": null,
            "grid_auto_flow": null,
            "grid_auto_rows": null,
            "grid_column": null,
            "grid_gap": null,
            "grid_row": null,
            "grid_template_areas": null,
            "grid_template_columns": null,
            "grid_template_rows": null,
            "height": null,
            "justify_content": null,
            "justify_items": null,
            "left": null,
            "margin": null,
            "max_height": null,
            "max_width": null,
            "min_height": null,
            "min_width": null,
            "object_fit": null,
            "object_position": null,
            "order": null,
            "overflow": null,
            "overflow_x": null,
            "overflow_y": null,
            "padding": null,
            "right": null,
            "top": null,
            "visibility": null,
            "width": null
          }
        },
        "745fedd42e23448eadaf451195521176": {
          "model_module": "@jupyter-widgets/controls",
          "model_name": "ProgressStyleModel",
          "model_module_version": "1.5.0",
          "state": {
            "_model_module": "@jupyter-widgets/controls",
            "_model_module_version": "1.5.0",
            "_model_name": "ProgressStyleModel",
            "_view_count": null,
            "_view_module": "@jupyter-widgets/base",
            "_view_module_version": "1.2.0",
            "_view_name": "StyleView",
            "bar_color": null,
            "description_width": ""
          }
        },
        "8ded8a760f0b4161b4602cb3f3744736": {
          "model_module": "@jupyter-widgets/base",
          "model_name": "LayoutModel",
          "model_module_version": "1.2.0",
          "state": {
            "_model_module": "@jupyter-widgets/base",
            "_model_module_version": "1.2.0",
            "_model_name": "LayoutModel",
            "_view_count": null,
            "_view_module": "@jupyter-widgets/base",
            "_view_module_version": "1.2.0",
            "_view_name": "LayoutView",
            "align_content": null,
            "align_items": null,
            "align_self": null,
            "border": null,
            "bottom": null,
            "display": null,
            "flex": null,
            "flex_flow": null,
            "grid_area": null,
            "grid_auto_columns": null,
            "grid_auto_flow": null,
            "grid_auto_rows": null,
            "grid_column": null,
            "grid_gap": null,
            "grid_row": null,
            "grid_template_areas": null,
            "grid_template_columns": null,
            "grid_template_rows": null,
            "height": null,
            "justify_content": null,
            "justify_items": null,
            "left": null,
            "margin": null,
            "max_height": null,
            "max_width": null,
            "min_height": null,
            "min_width": null,
            "object_fit": null,
            "object_position": null,
            "order": null,
            "overflow": null,
            "overflow_x": null,
            "overflow_y": null,
            "padding": null,
            "right": null,
            "top": null,
            "visibility": null,
            "width": null
          }
        },
        "390bd3d743d042a3ad4607931f5c99a4": {
          "model_module": "@jupyter-widgets/controls",
          "model_name": "DescriptionStyleModel",
          "model_module_version": "1.5.0",
          "state": {
            "_model_module": "@jupyter-widgets/controls",
            "_model_module_version": "1.5.0",
            "_model_name": "DescriptionStyleModel",
            "_view_count": null,
            "_view_module": "@jupyter-widgets/base",
            "_view_module_version": "1.2.0",
            "_view_name": "StyleView",
            "description_width": ""
          }
        },
        "c3fd2ce8b4904d2883b05f5e2822543b": {
          "model_module": "@jupyter-widgets/controls",
          "model_name": "HBoxModel",
          "model_module_version": "1.5.0",
          "state": {
            "_dom_classes": [],
            "_model_module": "@jupyter-widgets/controls",
            "_model_module_version": "1.5.0",
            "_model_name": "HBoxModel",
            "_view_count": null,
            "_view_module": "@jupyter-widgets/controls",
            "_view_module_version": "1.5.0",
            "_view_name": "HBoxView",
            "box_style": "",
            "children": [
              "IPY_MODEL_c8cc5d41c3d64cfca8a5807da24ead53",
              "IPY_MODEL_d4867dec6dc549c685e038b536a9b482",
              "IPY_MODEL_e322b4f1894a4243bf9d5b1b0ef85ab5"
            ],
            "layout": "IPY_MODEL_7818b13f50f349b28f8437b4e2605b1b"
          }
        },
        "c8cc5d41c3d64cfca8a5807da24ead53": {
          "model_module": "@jupyter-widgets/controls",
          "model_name": "HTMLModel",
          "model_module_version": "1.5.0",
          "state": {
            "_dom_classes": [],
            "_model_module": "@jupyter-widgets/controls",
            "_model_module_version": "1.5.0",
            "_model_name": "HTMLModel",
            "_view_count": null,
            "_view_module": "@jupyter-widgets/controls",
            "_view_module_version": "1.5.0",
            "_view_name": "HTMLView",
            "description": "",
            "description_tooltip": null,
            "layout": "IPY_MODEL_8573f7b2b9bf46cdbdd821d260eed646",
            "placeholder": "​",
            "style": "IPY_MODEL_1c20d0b0957c4d5a8a57d83542974845",
            "value": "config.json: 100%"
          }
        },
        "d4867dec6dc549c685e038b536a9b482": {
          "model_module": "@jupyter-widgets/controls",
          "model_name": "FloatProgressModel",
          "model_module_version": "1.5.0",
          "state": {
            "_dom_classes": [],
            "_model_module": "@jupyter-widgets/controls",
            "_model_module_version": "1.5.0",
            "_model_name": "FloatProgressModel",
            "_view_count": null,
            "_view_module": "@jupyter-widgets/controls",
            "_view_module_version": "1.5.0",
            "_view_name": "ProgressView",
            "bar_style": "success",
            "description": "",
            "description_tooltip": null,
            "layout": "IPY_MODEL_374efb6d2ddc4286913741ac6023f006",
            "max": 690,
            "min": 0,
            "orientation": "horizontal",
            "style": "IPY_MODEL_386a1e404b9a44cf9f7e9188b5a08b03",
            "value": 690
          }
        },
        "e322b4f1894a4243bf9d5b1b0ef85ab5": {
          "model_module": "@jupyter-widgets/controls",
          "model_name": "HTMLModel",
          "model_module_version": "1.5.0",
          "state": {
            "_dom_classes": [],
            "_model_module": "@jupyter-widgets/controls",
            "_model_module_version": "1.5.0",
            "_model_name": "HTMLModel",
            "_view_count": null,
            "_view_module": "@jupyter-widgets/controls",
            "_view_module_version": "1.5.0",
            "_view_name": "HTMLView",
            "description": "",
            "description_tooltip": null,
            "layout": "IPY_MODEL_4bb9d77cc87944e8a75de0506eda2450",
            "placeholder": "​",
            "style": "IPY_MODEL_046456a5f8af4adba4505d0b7f47c3f0",
            "value": " 690/690 [00:00&lt;00:00, 10.8kB/s]"
          }
        },
        "7818b13f50f349b28f8437b4e2605b1b": {
          "model_module": "@jupyter-widgets/base",
          "model_name": "LayoutModel",
          "model_module_version": "1.2.0",
          "state": {
            "_model_module": "@jupyter-widgets/base",
            "_model_module_version": "1.2.0",
            "_model_name": "LayoutModel",
            "_view_count": null,
            "_view_module": "@jupyter-widgets/base",
            "_view_module_version": "1.2.0",
            "_view_name": "LayoutView",
            "align_content": null,
            "align_items": null,
            "align_self": null,
            "border": null,
            "bottom": null,
            "display": null,
            "flex": null,
            "flex_flow": null,
            "grid_area": null,
            "grid_auto_columns": null,
            "grid_auto_flow": null,
            "grid_auto_rows": null,
            "grid_column": null,
            "grid_gap": null,
            "grid_row": null,
            "grid_template_areas": null,
            "grid_template_columns": null,
            "grid_template_rows": null,
            "height": null,
            "justify_content": null,
            "justify_items": null,
            "left": null,
            "margin": null,
            "max_height": null,
            "max_width": null,
            "min_height": null,
            "min_width": null,
            "object_fit": null,
            "object_position": null,
            "order": null,
            "overflow": null,
            "overflow_x": null,
            "overflow_y": null,
            "padding": null,
            "right": null,
            "top": null,
            "visibility": null,
            "width": null
          }
        },
        "8573f7b2b9bf46cdbdd821d260eed646": {
          "model_module": "@jupyter-widgets/base",
          "model_name": "LayoutModel",
          "model_module_version": "1.2.0",
          "state": {
            "_model_module": "@jupyter-widgets/base",
            "_model_module_version": "1.2.0",
            "_model_name": "LayoutModel",
            "_view_count": null,
            "_view_module": "@jupyter-widgets/base",
            "_view_module_version": "1.2.0",
            "_view_name": "LayoutView",
            "align_content": null,
            "align_items": null,
            "align_self": null,
            "border": null,
            "bottom": null,
            "display": null,
            "flex": null,
            "flex_flow": null,
            "grid_area": null,
            "grid_auto_columns": null,
            "grid_auto_flow": null,
            "grid_auto_rows": null,
            "grid_column": null,
            "grid_gap": null,
            "grid_row": null,
            "grid_template_areas": null,
            "grid_template_columns": null,
            "grid_template_rows": null,
            "height": null,
            "justify_content": null,
            "justify_items": null,
            "left": null,
            "margin": null,
            "max_height": null,
            "max_width": null,
            "min_height": null,
            "min_width": null,
            "object_fit": null,
            "object_position": null,
            "order": null,
            "overflow": null,
            "overflow_x": null,
            "overflow_y": null,
            "padding": null,
            "right": null,
            "top": null,
            "visibility": null,
            "width": null
          }
        },
        "1c20d0b0957c4d5a8a57d83542974845": {
          "model_module": "@jupyter-widgets/controls",
          "model_name": "DescriptionStyleModel",
          "model_module_version": "1.5.0",
          "state": {
            "_model_module": "@jupyter-widgets/controls",
            "_model_module_version": "1.5.0",
            "_model_name": "DescriptionStyleModel",
            "_view_count": null,
            "_view_module": "@jupyter-widgets/base",
            "_view_module_version": "1.2.0",
            "_view_name": "StyleView",
            "description_width": ""
          }
        },
        "374efb6d2ddc4286913741ac6023f006": {
          "model_module": "@jupyter-widgets/base",
          "model_name": "LayoutModel",
          "model_module_version": "1.2.0",
          "state": {
            "_model_module": "@jupyter-widgets/base",
            "_model_module_version": "1.2.0",
            "_model_name": "LayoutModel",
            "_view_count": null,
            "_view_module": "@jupyter-widgets/base",
            "_view_module_version": "1.2.0",
            "_view_name": "LayoutView",
            "align_content": null,
            "align_items": null,
            "align_self": null,
            "border": null,
            "bottom": null,
            "display": null,
            "flex": null,
            "flex_flow": null,
            "grid_area": null,
            "grid_auto_columns": null,
            "grid_auto_flow": null,
            "grid_auto_rows": null,
            "grid_column": null,
            "grid_gap": null,
            "grid_row": null,
            "grid_template_areas": null,
            "grid_template_columns": null,
            "grid_template_rows": null,
            "height": null,
            "justify_content": null,
            "justify_items": null,
            "left": null,
            "margin": null,
            "max_height": null,
            "max_width": null,
            "min_height": null,
            "min_width": null,
            "object_fit": null,
            "object_position": null,
            "order": null,
            "overflow": null,
            "overflow_x": null,
            "overflow_y": null,
            "padding": null,
            "right": null,
            "top": null,
            "visibility": null,
            "width": null
          }
        },
        "386a1e404b9a44cf9f7e9188b5a08b03": {
          "model_module": "@jupyter-widgets/controls",
          "model_name": "ProgressStyleModel",
          "model_module_version": "1.5.0",
          "state": {
            "_model_module": "@jupyter-widgets/controls",
            "_model_module_version": "1.5.0",
            "_model_name": "ProgressStyleModel",
            "_view_count": null,
            "_view_module": "@jupyter-widgets/base",
            "_view_module_version": "1.2.0",
            "_view_name": "StyleView",
            "bar_color": null,
            "description_width": ""
          }
        },
        "4bb9d77cc87944e8a75de0506eda2450": {
          "model_module": "@jupyter-widgets/base",
          "model_name": "LayoutModel",
          "model_module_version": "1.2.0",
          "state": {
            "_model_module": "@jupyter-widgets/base",
            "_model_module_version": "1.2.0",
            "_model_name": "LayoutModel",
            "_view_count": null,
            "_view_module": "@jupyter-widgets/base",
            "_view_module_version": "1.2.0",
            "_view_name": "LayoutView",
            "align_content": null,
            "align_items": null,
            "align_self": null,
            "border": null,
            "bottom": null,
            "display": null,
            "flex": null,
            "flex_flow": null,
            "grid_area": null,
            "grid_auto_columns": null,
            "grid_auto_flow": null,
            "grid_auto_rows": null,
            "grid_column": null,
            "grid_gap": null,
            "grid_row": null,
            "grid_template_areas": null,
            "grid_template_columns": null,
            "grid_template_rows": null,
            "height": null,
            "justify_content": null,
            "justify_items": null,
            "left": null,
            "margin": null,
            "max_height": null,
            "max_width": null,
            "min_height": null,
            "min_width": null,
            "object_fit": null,
            "object_position": null,
            "order": null,
            "overflow": null,
            "overflow_x": null,
            "overflow_y": null,
            "padding": null,
            "right": null,
            "top": null,
            "visibility": null,
            "width": null
          }
        },
        "046456a5f8af4adba4505d0b7f47c3f0": {
          "model_module": "@jupyter-widgets/controls",
          "model_name": "DescriptionStyleModel",
          "model_module_version": "1.5.0",
          "state": {
            "_model_module": "@jupyter-widgets/controls",
            "_model_module_version": "1.5.0",
            "_model_name": "DescriptionStyleModel",
            "_view_count": null,
            "_view_module": "@jupyter-widgets/base",
            "_view_module_version": "1.2.0",
            "_view_name": "StyleView",
            "description_width": ""
          }
        },
        "ceaf6c715bed4fbaa2a963bf5faa8c46": {
          "model_module": "@jupyter-widgets/controls",
          "model_name": "HBoxModel",
          "model_module_version": "1.5.0",
          "state": {
            "_dom_classes": [],
            "_model_module": "@jupyter-widgets/controls",
            "_model_module_version": "1.5.0",
            "_model_name": "HBoxModel",
            "_view_count": null,
            "_view_module": "@jupyter-widgets/controls",
            "_view_module_version": "1.5.0",
            "_view_name": "HBoxView",
            "box_style": "",
            "children": [
              "IPY_MODEL_f93977a6d03c409e80424421e3e5ddaf",
              "IPY_MODEL_af6aee60971f44a19d6c6948ab51d472",
              "IPY_MODEL_f63214dfdf42496992cc970252adabf3"
            ],
            "layout": "IPY_MODEL_678da89424c24d09b58dcd5290d1edf7"
          }
        },
        "f93977a6d03c409e80424421e3e5ddaf": {
          "model_module": "@jupyter-widgets/controls",
          "model_name": "HTMLModel",
          "model_module_version": "1.5.0",
          "state": {
            "_dom_classes": [],
            "_model_module": "@jupyter-widgets/controls",
            "_model_module_version": "1.5.0",
            "_model_name": "HTMLModel",
            "_view_count": null,
            "_view_module": "@jupyter-widgets/controls",
            "_view_module_version": "1.5.0",
            "_view_name": "HTMLView",
            "description": "",
            "description_tooltip": null,
            "layout": "IPY_MODEL_765e427fc5c14da4b93b9cd463cfca1f",
            "placeholder": "​",
            "style": "IPY_MODEL_3af2ca39fcb946d48ff1d912b13ee4bb",
            "value": "model.safetensors: 100%"
          }
        },
        "af6aee60971f44a19d6c6948ab51d472": {
          "model_module": "@jupyter-widgets/controls",
          "model_name": "FloatProgressModel",
          "model_module_version": "1.5.0",
          "state": {
            "_dom_classes": [],
            "_model_module": "@jupyter-widgets/controls",
            "_model_module_version": "1.5.0",
            "_model_name": "FloatProgressModel",
            "_view_count": null,
            "_view_module": "@jupyter-widgets/controls",
            "_view_module_version": "1.5.0",
            "_view_name": "ProgressView",
            "bar_style": "success",
            "description": "",
            "description_tooltip": null,
            "layout": "IPY_MODEL_98196a62325c4aceb008d27ae7a16f20",
            "max": 2239611368,
            "min": 0,
            "orientation": "horizontal",
            "style": "IPY_MODEL_fbb6f57ef6c24135b61542d4f050451d",
            "value": 2239611368
          }
        },
        "f63214dfdf42496992cc970252adabf3": {
          "model_module": "@jupyter-widgets/controls",
          "model_name": "HTMLModel",
          "model_module_version": "1.5.0",
          "state": {
            "_dom_classes": [],
            "_model_module": "@jupyter-widgets/controls",
            "_model_module_version": "1.5.0",
            "_model_name": "HTMLModel",
            "_view_count": null,
            "_view_module": "@jupyter-widgets/controls",
            "_view_module_version": "1.5.0",
            "_view_name": "HTMLView",
            "description": "",
            "description_tooltip": null,
            "layout": "IPY_MODEL_c0f163c4f1d24b4b906c34b67660e2ef",
            "placeholder": "​",
            "style": "IPY_MODEL_c183afb4fe864620a27fd5873d6362e6",
            "value": " 2.24G/2.24G [00:23&lt;00:00, 226MB/s]"
          }
        },
        "678da89424c24d09b58dcd5290d1edf7": {
          "model_module": "@jupyter-widgets/base",
          "model_name": "LayoutModel",
          "model_module_version": "1.2.0",
          "state": {
            "_model_module": "@jupyter-widgets/base",
            "_model_module_version": "1.2.0",
            "_model_name": "LayoutModel",
            "_view_count": null,
            "_view_module": "@jupyter-widgets/base",
            "_view_module_version": "1.2.0",
            "_view_name": "LayoutView",
            "align_content": null,
            "align_items": null,
            "align_self": null,
            "border": null,
            "bottom": null,
            "display": null,
            "flex": null,
            "flex_flow": null,
            "grid_area": null,
            "grid_auto_columns": null,
            "grid_auto_flow": null,
            "grid_auto_rows": null,
            "grid_column": null,
            "grid_gap": null,
            "grid_row": null,
            "grid_template_areas": null,
            "grid_template_columns": null,
            "grid_template_rows": null,
            "height": null,
            "justify_content": null,
            "justify_items": null,
            "left": null,
            "margin": null,
            "max_height": null,
            "max_width": null,
            "min_height": null,
            "min_width": null,
            "object_fit": null,
            "object_position": null,
            "order": null,
            "overflow": null,
            "overflow_x": null,
            "overflow_y": null,
            "padding": null,
            "right": null,
            "top": null,
            "visibility": null,
            "width": null
          }
        },
        "765e427fc5c14da4b93b9cd463cfca1f": {
          "model_module": "@jupyter-widgets/base",
          "model_name": "LayoutModel",
          "model_module_version": "1.2.0",
          "state": {
            "_model_module": "@jupyter-widgets/base",
            "_model_module_version": "1.2.0",
            "_model_name": "LayoutModel",
            "_view_count": null,
            "_view_module": "@jupyter-widgets/base",
            "_view_module_version": "1.2.0",
            "_view_name": "LayoutView",
            "align_content": null,
            "align_items": null,
            "align_self": null,
            "border": null,
            "bottom": null,
            "display": null,
            "flex": null,
            "flex_flow": null,
            "grid_area": null,
            "grid_auto_columns": null,
            "grid_auto_flow": null,
            "grid_auto_rows": null,
            "grid_column": null,
            "grid_gap": null,
            "grid_row": null,
            "grid_template_areas": null,
            "grid_template_columns": null,
            "grid_template_rows": null,
            "height": null,
            "justify_content": null,
            "justify_items": null,
            "left": null,
            "margin": null,
            "max_height": null,
            "max_width": null,
            "min_height": null,
            "min_width": null,
            "object_fit": null,
            "object_position": null,
            "order": null,
            "overflow": null,
            "overflow_x": null,
            "overflow_y": null,
            "padding": null,
            "right": null,
            "top": null,
            "visibility": null,
            "width": null
          }
        },
        "3af2ca39fcb946d48ff1d912b13ee4bb": {
          "model_module": "@jupyter-widgets/controls",
          "model_name": "DescriptionStyleModel",
          "model_module_version": "1.5.0",
          "state": {
            "_model_module": "@jupyter-widgets/controls",
            "_model_module_version": "1.5.0",
            "_model_name": "DescriptionStyleModel",
            "_view_count": null,
            "_view_module": "@jupyter-widgets/base",
            "_view_module_version": "1.2.0",
            "_view_name": "StyleView",
            "description_width": ""
          }
        },
        "98196a62325c4aceb008d27ae7a16f20": {
          "model_module": "@jupyter-widgets/base",
          "model_name": "LayoutModel",
          "model_module_version": "1.2.0",
          "state": {
            "_model_module": "@jupyter-widgets/base",
            "_model_module_version": "1.2.0",
            "_model_name": "LayoutModel",
            "_view_count": null,
            "_view_module": "@jupyter-widgets/base",
            "_view_module_version": "1.2.0",
            "_view_name": "LayoutView",
            "align_content": null,
            "align_items": null,
            "align_self": null,
            "border": null,
            "bottom": null,
            "display": null,
            "flex": null,
            "flex_flow": null,
            "grid_area": null,
            "grid_auto_columns": null,
            "grid_auto_flow": null,
            "grid_auto_rows": null,
            "grid_column": null,
            "grid_gap": null,
            "grid_row": null,
            "grid_template_areas": null,
            "grid_template_columns": null,
            "grid_template_rows": null,
            "height": null,
            "justify_content": null,
            "justify_items": null,
            "left": null,
            "margin": null,
            "max_height": null,
            "max_width": null,
            "min_height": null,
            "min_width": null,
            "object_fit": null,
            "object_position": null,
            "order": null,
            "overflow": null,
            "overflow_x": null,
            "overflow_y": null,
            "padding": null,
            "right": null,
            "top": null,
            "visibility": null,
            "width": null
          }
        },
        "fbb6f57ef6c24135b61542d4f050451d": {
          "model_module": "@jupyter-widgets/controls",
          "model_name": "ProgressStyleModel",
          "model_module_version": "1.5.0",
          "state": {
            "_model_module": "@jupyter-widgets/controls",
            "_model_module_version": "1.5.0",
            "_model_name": "ProgressStyleModel",
            "_view_count": null,
            "_view_module": "@jupyter-widgets/base",
            "_view_module_version": "1.2.0",
            "_view_name": "StyleView",
            "bar_color": null,
            "description_width": ""
          }
        },
        "c0f163c4f1d24b4b906c34b67660e2ef": {
          "model_module": "@jupyter-widgets/base",
          "model_name": "LayoutModel",
          "model_module_version": "1.2.0",
          "state": {
            "_model_module": "@jupyter-widgets/base",
            "_model_module_version": "1.2.0",
            "_model_name": "LayoutModel",
            "_view_count": null,
            "_view_module": "@jupyter-widgets/base",
            "_view_module_version": "1.2.0",
            "_view_name": "LayoutView",
            "align_content": null,
            "align_items": null,
            "align_self": null,
            "border": null,
            "bottom": null,
            "display": null,
            "flex": null,
            "flex_flow": null,
            "grid_area": null,
            "grid_auto_columns": null,
            "grid_auto_flow": null,
            "grid_auto_rows": null,
            "grid_column": null,
            "grid_gap": null,
            "grid_row": null,
            "grid_template_areas": null,
            "grid_template_columns": null,
            "grid_template_rows": null,
            "height": null,
            "justify_content": null,
            "justify_items": null,
            "left": null,
            "margin": null,
            "max_height": null,
            "max_width": null,
            "min_height": null,
            "min_width": null,
            "object_fit": null,
            "object_position": null,
            "order": null,
            "overflow": null,
            "overflow_x": null,
            "overflow_y": null,
            "padding": null,
            "right": null,
            "top": null,
            "visibility": null,
            "width": null
          }
        },
        "c183afb4fe864620a27fd5873d6362e6": {
          "model_module": "@jupyter-widgets/controls",
          "model_name": "DescriptionStyleModel",
          "model_module_version": "1.5.0",
          "state": {
            "_model_module": "@jupyter-widgets/controls",
            "_model_module_version": "1.5.0",
            "_model_name": "DescriptionStyleModel",
            "_view_count": null,
            "_view_module": "@jupyter-widgets/base",
            "_view_module_version": "1.2.0",
            "_view_name": "StyleView",
            "description_width": ""
          }
        }
      }
    }
  },
  "cells": [
    {
      "cell_type": "markdown",
      "metadata": {
        "id": "view-in-github",
        "colab_type": "text"
      },
      "source": [
        "<a href=\"https://colab.research.google.com/github/Dantelarroy/suplements-chatbot/blob/main/Supplements_chatbot.ipynb\" target=\"_parent\"><img src=\"https://colab.research.google.com/assets/colab-badge.svg\" alt=\"Open In Colab\"/></a>"
      ]
    },
    {
      "cell_type": "markdown",
      "source": [
        "#**Supplements Chatbot**\n"
      ],
      "metadata": {
        "id": "py9iD-mEKA7-"
      }
    },
    {
      "cell_type": "markdown",
      "source": [
        "**Autor**: Dante Larroy  \n",
        "**Fecha**: 18/12/2024  \n",
        "**Fecha de Entrega**: 02/01/2025  \n",
        "\n",
        "Resumen de Fechas:\n",
        "- EDA y Preprocesamiento de Datos: `18/12 - 21/12`\n",
        "- Desarrollo del Modelo de Sentimiento: `22/12 - 24/12`\n",
        "- Desarrollo del Modelo de Clasificación de Tópicos: `22/12 - 24/12`\n",
        "- Desarrollo de la Función IA Generativa: `22/12 - 24/12`\n",
        "- FrontEnd `25/12`\n",
        "- Pruebas, Evaluación y Ajustes: `26/12 - 02/01`\n",
        "  - Validar que pueda ejecutarse por completo en cualquier ambiente de jupyter\n",
        "  - Subir e integrar todo al repositorio github\n",
        "- Entrega Final: `2/01/2025`"
      ],
      "metadata": {
        "id": "u-Bi86T_J16M"
      }
    },
    {
      "cell_type": "markdown",
      "source": [
        "---\n",
        "\n",
        "## **`Introducción`**\n",
        "El objetivo de este desafío es aplicar tus conocimientos en DS e IA\n",
        "Generativa para diseñar un prototipo funcional, que eventualmente se convierta\n",
        "en un chatbot capaz de ofrecer soporte a usuarios en base a sus comentarios.\n",
        "---\n",
        "## **`Contexto`**\n",
        "El cliente es una destacada empresa de venta de suplementos nutricionales en\n",
        "línea.\n",
        "\n",
        "- **`Problema`** Recientemente, se ha observado un aumento significativo en las reseñas\n",
        "negativas por parte de los usuarios, algo que anteriormente no sucedía.\n",
        "Ante esta situación, la empresa busca comprender las causas detrás de esta tendencia.\n",
        "\n",
        "- **`Solución buscada:`** Analizar los datos disponibles y desarrollar herramientas útiles para abordar el problema.\n",
        "---\n",
        "## **`Objetivo`**\n",
        "Este proyecto tiene como objetivo desarrollar una herramienta que:\n",
        "1. Analice el sentimiento y clasifique los comentarios de los clientes por temática.\n",
        "2. Genere respuestas personalizadas basadas en el análisis.  \n",
        "---\n",
        "## **`Dataset:`**\n",
        "\n",
        "- Comentarios de usuarios sobre productos de suplementos nutricionales con etiquetas de sentimientos (positivo, neutral, negativo).\n",
        "---\n",
        "## **`Etapas del Proyecto`**\n",
        "### `EDA`\n",
        "- Cargar Dataset (Asegurar que se cargue independientemente del lugar de ejecución) ☑\n",
        "- Revisar calidad de los datos ☑\n",
        "- Analizar distribución de sentimientos ☑\n",
        "- Word Cloud ☑\n",
        "- Complementar con un top de palabras ☑\n",
        "- Longitud de los comentarios ☑\n",
        "\n",
        "### `Preprocesamiento y Limpieza de Datos`\n",
        "- Preprocesar texto:\n",
        "- Mínusculas ☑\n",
        "- Eliminar caracteres especiales y puntuación ☑\n",
        "- Eliminar stopwords ☑\n",
        "- Lematización ☑\n",
        "- Tokenización ☑\n",
        "- Gestionar datos desbalanceados si hace falta ☑\n",
        "\n",
        "### `Feature Engineering`\n",
        "- Embeddings ☑\n",
        "\n",
        "### `Modelado Predictivo`\n",
        "\n",
        "  1. `Sentimental Analysis:`(Tenemos el target = Supervisado) ☑\n",
        "- Pensar que tipo de modelo necesito\n",
        "- Pensar que problema podría surgir a la hora de entrenarlo para elegir el algoritmo.\n",
        "\n",
        "2. `Topic Modeling:` Predecir el tema del que están hablando (No tenemos el target = No supervisado) ☑\n",
        "- Pensar que tipo de modelo necesito\n",
        "- Pensar que problema podría surgir a la hora de entrenarlo para elegir el algoritmo.\n",
        "\n",
        "3. `Evaluar el Modelo` ☑\n",
        "\n",
        "### `IA Generativa` ☑\n",
        "\n",
        "  1. `Generar una funcion` que tenga:\n",
        "  - Input: Comentario\n",
        "  - Tareas:\n",
        "    - Calcular el sentimiento\n",
        "    - Calcular el tópico\n",
        "  - Output: Respuesta personalizada de un LLM utilizando esa función\n",
        "\n",
        "\n",
        "### `FrontEnd` ☑\n",
        "- Realizar pruebas en distintas herramientas para lograr una interfaz gráfica\n",
        "\n",
        "---\n",
        "## **Recursos adicionales**\n",
        "Links que pueden ser de útilidad (y que probablemente influyan en su\n",
        "entregable):\n",
        "1. https://huggingface.co/intfloat/multilingual-e5-large - Modelo de\n",
        "Embedding multilenguaje.\n",
        "2. https://console.groq.com/playground - Plataforma que permite utilizar\n",
        "LLMs Open Source de manera gratuita a través de una API.\n",
        "\n",
        "---"
      ],
      "metadata": {
        "id": "zYSA4AfABvur"
      }
    },
    {
      "cell_type": "markdown",
      "source": [
        "## Research Claves por etapas:\n",
        "\n",
        "- Etapa 1: Modelado Predictivo:\n",
        "https://huggingface.co/intfloat/multilingual-e5-large - Modelo de Embedding multilenguaje.\n",
        "  - **1. Sentimental Analysis (Supervisado)**:\n",
        "    - `Text Preprocesing`: Tokenization. Stop word removal, lemmatization/stemming\n",
        "    - `Text Vectorization`: TF-IDF, Word Embeddings\n",
        "    - `Sentimental Analysis`: Elegir y analizar modelo a utilizar\n",
        "  - **2. Topic Classification (No supervisado)**\n",
        "    \n",
        "\n",
        "- Etapa 2: IA Generativa\n",
        "  - https://console.groq.com/playground - Plataforma que permite utilizar LLMs Open Source de manera gratuita a través de una API.\n",
        "\n",
        "---"
      ],
      "metadata": {
        "id": "MAXb7RJkLYYn"
      }
    },
    {
      "cell_type": "markdown",
      "source": [
        "# Configuración del Entorno de Trabajo"
      ],
      "metadata": {
        "id": "d9D0KScbQQ5Q"
      }
    },
    {
      "cell_type": "markdown",
      "source": [
        "## Instalar librerias necesarias"
      ],
      "metadata": {
        "id": "pVesRmp5QZWy"
      }
    },
    {
      "cell_type": "code",
      "source": [
        "!pip install openpyxl\n",
        "!pip install nltk\n",
        "!pip install groq\n",
        "!pip install gradio\n",
        "\n"
      ],
      "metadata": {
        "colab": {
          "base_uri": "https://localhost:8080/"
        },
        "id": "UGh5ghm6Ot6g",
        "outputId": "390bfd2f-2a95-4751-d632-74964e78193f"
      },
      "execution_count": 1,
      "outputs": [
        {
          "output_type": "stream",
          "name": "stdout",
          "text": [
            "Requirement already satisfied: openpyxl in /usr/local/lib/python3.10/dist-packages (3.1.5)\n",
            "Requirement already satisfied: et-xmlfile in /usr/local/lib/python3.10/dist-packages (from openpyxl) (2.0.0)\n",
            "Requirement already satisfied: nltk in /usr/local/lib/python3.10/dist-packages (3.9.1)\n",
            "Requirement already satisfied: click in /usr/local/lib/python3.10/dist-packages (from nltk) (8.1.7)\n",
            "Requirement already satisfied: joblib in /usr/local/lib/python3.10/dist-packages (from nltk) (1.4.2)\n",
            "Requirement already satisfied: regex>=2021.8.3 in /usr/local/lib/python3.10/dist-packages (from nltk) (2024.11.6)\n",
            "Requirement already satisfied: tqdm in /usr/local/lib/python3.10/dist-packages (from nltk) (4.67.1)\n",
            "Collecting groq\n",
            "  Downloading groq-0.13.1-py3-none-any.whl.metadata (14 kB)\n",
            "Requirement already satisfied: anyio<5,>=3.5.0 in /usr/local/lib/python3.10/dist-packages (from groq) (3.7.1)\n",
            "Requirement already satisfied: distro<2,>=1.7.0 in /usr/local/lib/python3.10/dist-packages (from groq) (1.9.0)\n",
            "Requirement already satisfied: httpx<1,>=0.23.0 in /usr/local/lib/python3.10/dist-packages (from groq) (0.28.1)\n",
            "Requirement already satisfied: pydantic<3,>=1.9.0 in /usr/local/lib/python3.10/dist-packages (from groq) (2.10.3)\n",
            "Requirement already satisfied: sniffio in /usr/local/lib/python3.10/dist-packages (from groq) (1.3.1)\n",
            "Requirement already satisfied: typing-extensions<5,>=4.10 in /usr/local/lib/python3.10/dist-packages (from groq) (4.12.2)\n",
            "Requirement already satisfied: idna>=2.8 in /usr/local/lib/python3.10/dist-packages (from anyio<5,>=3.5.0->groq) (3.10)\n",
            "Requirement already satisfied: exceptiongroup in /usr/local/lib/python3.10/dist-packages (from anyio<5,>=3.5.0->groq) (1.2.2)\n",
            "Requirement already satisfied: certifi in /usr/local/lib/python3.10/dist-packages (from httpx<1,>=0.23.0->groq) (2024.12.14)\n",
            "Requirement already satisfied: httpcore==1.* in /usr/local/lib/python3.10/dist-packages (from httpx<1,>=0.23.0->groq) (1.0.7)\n",
            "Requirement already satisfied: h11<0.15,>=0.13 in /usr/local/lib/python3.10/dist-packages (from httpcore==1.*->httpx<1,>=0.23.0->groq) (0.14.0)\n",
            "Requirement already satisfied: annotated-types>=0.6.0 in /usr/local/lib/python3.10/dist-packages (from pydantic<3,>=1.9.0->groq) (0.7.0)\n",
            "Requirement already satisfied: pydantic-core==2.27.1 in /usr/local/lib/python3.10/dist-packages (from pydantic<3,>=1.9.0->groq) (2.27.1)\n",
            "Downloading groq-0.13.1-py3-none-any.whl (109 kB)\n",
            "\u001b[2K   \u001b[90m━━━━━━━━━━━━━━━━━━━━━━━━━━━━━━━━━━━━━━━━\u001b[0m \u001b[32m109.1/109.1 kB\u001b[0m \u001b[31m2.6 MB/s\u001b[0m eta \u001b[36m0:00:00\u001b[0m\n",
            "\u001b[?25hInstalling collected packages: groq\n",
            "Successfully installed groq-0.13.1\n",
            "Collecting gradio\n",
            "  Downloading gradio-5.9.1-py3-none-any.whl.metadata (16 kB)\n",
            "Collecting aiofiles<24.0,>=22.0 (from gradio)\n",
            "  Downloading aiofiles-23.2.1-py3-none-any.whl.metadata (9.7 kB)\n",
            "Requirement already satisfied: anyio<5.0,>=3.0 in /usr/local/lib/python3.10/dist-packages (from gradio) (3.7.1)\n",
            "Collecting fastapi<1.0,>=0.115.2 (from gradio)\n",
            "  Downloading fastapi-0.115.6-py3-none-any.whl.metadata (27 kB)\n",
            "Collecting ffmpy (from gradio)\n",
            "  Downloading ffmpy-0.5.0-py3-none-any.whl.metadata (3.0 kB)\n",
            "Collecting gradio-client==1.5.2 (from gradio)\n",
            "  Downloading gradio_client-1.5.2-py3-none-any.whl.metadata (7.1 kB)\n",
            "Requirement already satisfied: httpx>=0.24.1 in /usr/local/lib/python3.10/dist-packages (from gradio) (0.28.1)\n",
            "Requirement already satisfied: huggingface-hub>=0.25.1 in /usr/local/lib/python3.10/dist-packages (from gradio) (0.27.0)\n",
            "Requirement already satisfied: jinja2<4.0 in /usr/local/lib/python3.10/dist-packages (from gradio) (3.1.4)\n",
            "Collecting markupsafe~=2.0 (from gradio)\n",
            "  Downloading MarkupSafe-2.1.5-cp310-cp310-manylinux_2_17_x86_64.manylinux2014_x86_64.whl.metadata (3.0 kB)\n",
            "Requirement already satisfied: numpy<3.0,>=1.0 in /usr/local/lib/python3.10/dist-packages (from gradio) (1.26.4)\n",
            "Requirement already satisfied: orjson~=3.0 in /usr/local/lib/python3.10/dist-packages (from gradio) (3.10.12)\n",
            "Requirement already satisfied: packaging in /usr/local/lib/python3.10/dist-packages (from gradio) (24.2)\n",
            "Requirement already satisfied: pandas<3.0,>=1.0 in /usr/local/lib/python3.10/dist-packages (from gradio) (2.2.2)\n",
            "Requirement already satisfied: pillow<12.0,>=8.0 in /usr/local/lib/python3.10/dist-packages (from gradio) (11.0.0)\n",
            "Requirement already satisfied: pydantic>=2.0 in /usr/local/lib/python3.10/dist-packages (from gradio) (2.10.3)\n",
            "Collecting pydub (from gradio)\n",
            "  Downloading pydub-0.25.1-py2.py3-none-any.whl.metadata (1.4 kB)\n",
            "Collecting python-multipart>=0.0.18 (from gradio)\n",
            "  Downloading python_multipart-0.0.20-py3-none-any.whl.metadata (1.8 kB)\n",
            "Requirement already satisfied: pyyaml<7.0,>=5.0 in /usr/local/lib/python3.10/dist-packages (from gradio) (6.0.2)\n",
            "Collecting ruff>=0.2.2 (from gradio)\n",
            "  Downloading ruff-0.8.4-py3-none-manylinux_2_17_x86_64.manylinux2014_x86_64.whl.metadata (25 kB)\n",
            "Collecting safehttpx<0.2.0,>=0.1.6 (from gradio)\n",
            "  Downloading safehttpx-0.1.6-py3-none-any.whl.metadata (4.2 kB)\n",
            "Collecting semantic-version~=2.0 (from gradio)\n",
            "  Downloading semantic_version-2.10.0-py2.py3-none-any.whl.metadata (9.7 kB)\n",
            "Collecting starlette<1.0,>=0.40.0 (from gradio)\n",
            "  Downloading starlette-0.42.0-py3-none-any.whl.metadata (6.0 kB)\n",
            "Collecting tomlkit<0.14.0,>=0.12.0 (from gradio)\n",
            "  Downloading tomlkit-0.13.2-py3-none-any.whl.metadata (2.7 kB)\n",
            "Requirement already satisfied: typer<1.0,>=0.12 in /usr/local/lib/python3.10/dist-packages (from gradio) (0.15.1)\n",
            "Requirement already satisfied: typing-extensions~=4.0 in /usr/local/lib/python3.10/dist-packages (from gradio) (4.12.2)\n",
            "Collecting uvicorn>=0.14.0 (from gradio)\n",
            "  Downloading uvicorn-0.34.0-py3-none-any.whl.metadata (6.5 kB)\n",
            "Requirement already satisfied: fsspec in /usr/local/lib/python3.10/dist-packages (from gradio-client==1.5.2->gradio) (2024.10.0)\n",
            "Requirement already satisfied: websockets<15.0,>=10.0 in /usr/local/lib/python3.10/dist-packages (from gradio-client==1.5.2->gradio) (14.1)\n",
            "Requirement already satisfied: idna>=2.8 in /usr/local/lib/python3.10/dist-packages (from anyio<5.0,>=3.0->gradio) (3.10)\n",
            "Requirement already satisfied: sniffio>=1.1 in /usr/local/lib/python3.10/dist-packages (from anyio<5.0,>=3.0->gradio) (1.3.1)\n",
            "Requirement already satisfied: exceptiongroup in /usr/local/lib/python3.10/dist-packages (from anyio<5.0,>=3.0->gradio) (1.2.2)\n",
            "Collecting starlette<1.0,>=0.40.0 (from gradio)\n",
            "  Downloading starlette-0.41.3-py3-none-any.whl.metadata (6.0 kB)\n",
            "Requirement already satisfied: certifi in /usr/local/lib/python3.10/dist-packages (from httpx>=0.24.1->gradio) (2024.12.14)\n",
            "Requirement already satisfied: httpcore==1.* in /usr/local/lib/python3.10/dist-packages (from httpx>=0.24.1->gradio) (1.0.7)\n",
            "Requirement already satisfied: h11<0.15,>=0.13 in /usr/local/lib/python3.10/dist-packages (from httpcore==1.*->httpx>=0.24.1->gradio) (0.14.0)\n",
            "Requirement already satisfied: filelock in /usr/local/lib/python3.10/dist-packages (from huggingface-hub>=0.25.1->gradio) (3.16.1)\n",
            "Requirement already satisfied: requests in /usr/local/lib/python3.10/dist-packages (from huggingface-hub>=0.25.1->gradio) (2.32.3)\n",
            "Requirement already satisfied: tqdm>=4.42.1 in /usr/local/lib/python3.10/dist-packages (from huggingface-hub>=0.25.1->gradio) (4.67.1)\n",
            "Requirement already satisfied: python-dateutil>=2.8.2 in /usr/local/lib/python3.10/dist-packages (from pandas<3.0,>=1.0->gradio) (2.8.2)\n",
            "Requirement already satisfied: pytz>=2020.1 in /usr/local/lib/python3.10/dist-packages (from pandas<3.0,>=1.0->gradio) (2024.2)\n",
            "Requirement already satisfied: tzdata>=2022.7 in /usr/local/lib/python3.10/dist-packages (from pandas<3.0,>=1.0->gradio) (2024.2)\n",
            "Requirement already satisfied: annotated-types>=0.6.0 in /usr/local/lib/python3.10/dist-packages (from pydantic>=2.0->gradio) (0.7.0)\n",
            "Requirement already satisfied: pydantic-core==2.27.1 in /usr/local/lib/python3.10/dist-packages (from pydantic>=2.0->gradio) (2.27.1)\n",
            "Requirement already satisfied: click>=8.0.0 in /usr/local/lib/python3.10/dist-packages (from typer<1.0,>=0.12->gradio) (8.1.7)\n",
            "Requirement already satisfied: shellingham>=1.3.0 in /usr/local/lib/python3.10/dist-packages (from typer<1.0,>=0.12->gradio) (1.5.4)\n",
            "Requirement already satisfied: rich>=10.11.0 in /usr/local/lib/python3.10/dist-packages (from typer<1.0,>=0.12->gradio) (13.9.4)\n",
            "Requirement already satisfied: six>=1.5 in /usr/local/lib/python3.10/dist-packages (from python-dateutil>=2.8.2->pandas<3.0,>=1.0->gradio) (1.17.0)\n",
            "Requirement already satisfied: markdown-it-py>=2.2.0 in /usr/local/lib/python3.10/dist-packages (from rich>=10.11.0->typer<1.0,>=0.12->gradio) (3.0.0)\n",
            "Requirement already satisfied: pygments<3.0.0,>=2.13.0 in /usr/local/lib/python3.10/dist-packages (from rich>=10.11.0->typer<1.0,>=0.12->gradio) (2.18.0)\n",
            "Requirement already satisfied: charset-normalizer<4,>=2 in /usr/local/lib/python3.10/dist-packages (from requests->huggingface-hub>=0.25.1->gradio) (3.4.0)\n",
            "Requirement already satisfied: urllib3<3,>=1.21.1 in /usr/local/lib/python3.10/dist-packages (from requests->huggingface-hub>=0.25.1->gradio) (2.2.3)\n",
            "Requirement already satisfied: mdurl~=0.1 in /usr/local/lib/python3.10/dist-packages (from markdown-it-py>=2.2.0->rich>=10.11.0->typer<1.0,>=0.12->gradio) (0.1.2)\n",
            "Downloading gradio-5.9.1-py3-none-any.whl (57.2 MB)\n",
            "\u001b[2K   \u001b[90m━━━━━━━━━━━━━━━━━━━━━━━━━━━━━━━━━━━━━━━━\u001b[0m \u001b[32m57.2/57.2 MB\u001b[0m \u001b[31m12.1 MB/s\u001b[0m eta \u001b[36m0:00:00\u001b[0m\n",
            "\u001b[?25hDownloading gradio_client-1.5.2-py3-none-any.whl (320 kB)\n",
            "\u001b[2K   \u001b[90m━━━━━━━━━━━━━━━━━━━━━━━━━━━━━━━━━━━━━━━━\u001b[0m \u001b[32m320.4/320.4 kB\u001b[0m \u001b[31m19.8 MB/s\u001b[0m eta \u001b[36m0:00:00\u001b[0m\n",
            "\u001b[?25hDownloading aiofiles-23.2.1-py3-none-any.whl (15 kB)\n",
            "Downloading fastapi-0.115.6-py3-none-any.whl (94 kB)\n",
            "\u001b[2K   \u001b[90m━━━━━━━━━━━━━━━━━━━━━━━━━━━━━━━━━━━━━━━━\u001b[0m \u001b[32m94.8/94.8 kB\u001b[0m \u001b[31m6.6 MB/s\u001b[0m eta \u001b[36m0:00:00\u001b[0m\n",
            "\u001b[?25hDownloading MarkupSafe-2.1.5-cp310-cp310-manylinux_2_17_x86_64.manylinux2014_x86_64.whl (25 kB)\n",
            "Downloading python_multipart-0.0.20-py3-none-any.whl (24 kB)\n",
            "Downloading ruff-0.8.4-py3-none-manylinux_2_17_x86_64.manylinux2014_x86_64.whl (11.2 MB)\n",
            "\u001b[2K   \u001b[90m━━━━━━━━━━━━━━━━━━━━━━━━━━━━━━━━━━━━━━━━\u001b[0m \u001b[32m11.2/11.2 MB\u001b[0m \u001b[31m65.2 MB/s\u001b[0m eta \u001b[36m0:00:00\u001b[0m\n",
            "\u001b[?25hDownloading safehttpx-0.1.6-py3-none-any.whl (8.7 kB)\n",
            "Downloading semantic_version-2.10.0-py2.py3-none-any.whl (15 kB)\n",
            "Downloading starlette-0.41.3-py3-none-any.whl (73 kB)\n",
            "\u001b[2K   \u001b[90m━━━━━━━━━━━━━━━━━━━━━━━━━━━━━━━━━━━━━━━━\u001b[0m \u001b[32m73.2/73.2 kB\u001b[0m \u001b[31m5.0 MB/s\u001b[0m eta \u001b[36m0:00:00\u001b[0m\n",
            "\u001b[?25hDownloading tomlkit-0.13.2-py3-none-any.whl (37 kB)\n",
            "Downloading uvicorn-0.34.0-py3-none-any.whl (62 kB)\n",
            "\u001b[2K   \u001b[90m━━━━━━━━━━━━━━━━━━━━━━━━━━━━━━━━━━━━━━━━\u001b[0m \u001b[32m62.3/62.3 kB\u001b[0m \u001b[31m4.5 MB/s\u001b[0m eta \u001b[36m0:00:00\u001b[0m\n",
            "\u001b[?25hDownloading ffmpy-0.5.0-py3-none-any.whl (6.0 kB)\n",
            "Downloading pydub-0.25.1-py2.py3-none-any.whl (32 kB)\n",
            "Installing collected packages: pydub, uvicorn, tomlkit, semantic-version, ruff, python-multipart, markupsafe, ffmpy, aiofiles, starlette, safehttpx, gradio-client, fastapi, gradio\n",
            "  Attempting uninstall: markupsafe\n",
            "    Found existing installation: MarkupSafe 3.0.2\n",
            "    Uninstalling MarkupSafe-3.0.2:\n",
            "      Successfully uninstalled MarkupSafe-3.0.2\n",
            "Successfully installed aiofiles-23.2.1 fastapi-0.115.6 ffmpy-0.5.0 gradio-5.9.1 gradio-client-1.5.2 markupsafe-2.1.5 pydub-0.25.1 python-multipart-0.0.20 ruff-0.8.4 safehttpx-0.1.6 semantic-version-2.10.0 starlette-0.41.3 tomlkit-0.13.2 uvicorn-0.34.0\n"
          ]
        }
      ]
    },
    {
      "cell_type": "markdown",
      "source": [
        "## Importaciones"
      ],
      "metadata": {
        "id": "CpVtkiGhJw11"
      }
    },
    {
      "cell_type": "code",
      "execution_count": 47,
      "metadata": {
        "id": "dYoGuu9qBGps",
        "colab": {
          "base_uri": "https://localhost:8080/"
        },
        "outputId": "59bec505-9e54-47bc-fb69-780f62ea2bda"
      },
      "outputs": [
        {
          "output_type": "stream",
          "name": "stderr",
          "text": [
            "[nltk_data] Downloading package stopwords to /root/nltk_data...\n",
            "[nltk_data]   Package stopwords is already up-to-date!\n",
            "[nltk_data] Downloading package wordnet to /root/nltk_data...\n",
            "[nltk_data]   Package wordnet is already up-to-date!\n",
            "[nltk_data] Downloading package punkt to /root/nltk_data...\n",
            "[nltk_data]   Package punkt is already up-to-date!\n",
            "[nltk_data] Downloading package omw-1.4 to /root/nltk_data...\n",
            "[nltk_data]   Package omw-1.4 is already up-to-date!\n",
            "[nltk_data] Downloading package punkt_tab to /root/nltk_data...\n",
            "[nltk_data]   Package punkt_tab is already up-to-date!\n"
          ]
        },
        {
          "output_type": "execute_result",
          "data": {
            "text/plain": [
              "True"
            ]
          },
          "metadata": {},
          "execution_count": 47
        }
      ],
      "source": [
        "\n",
        "import os\n",
        "import pandas as pd\n",
        "import seaborn as sns\n",
        "from sklearn.manifold import TSNE\n",
        "import numpy as np\n",
        "import matplotlib.pyplot as plt\n",
        "from wordcloud import WordCloud\n",
        "import re\n",
        "import nltk\n",
        "from sklearn.feature_extraction.text import CountVectorizer\n",
        "from nltk.tokenize import word_tokenize\n",
        "from nltk.corpus import stopwords\n",
        "from nltk.stem import WordNetLemmatizer\n",
        "import torch\n",
        "from transformers import AutoTokenizer, AutoModel\n",
        "from sklearn.metrics import pairwise_distances\n",
        "from sklearn.model_selection import train_test_split\n",
        "from sklearn.preprocessing import LabelEncoder\n",
        "from sklearn.linear_model import LogisticRegression\n",
        "from sklearn.metrics import classification_report\n",
        "from sklearn.ensemble import RandomForestClassifier\n",
        "from sklearn.svm import SVC\n",
        "from sklearn.metrics import confusion_matrix\n",
        "from sklearn.metrics import confusion_matrix, accuracy_score\n",
        "from sklearn.cluster import KMeans\n",
        "from IPython.display import Image\n",
        "from IPython.display import HTML\n",
        "\n",
        "\n",
        "\n",
        "\n",
        "# Descargas\n",
        "nltk.download('stopwords')\n",
        "nltk.download('wordnet')\n",
        "nltk.download('punkt')\n",
        "nltk.download('omw-1.4')\n",
        "nltk.download('punkt_tab')\n",
        "\n",
        "\n",
        "\n",
        "\n"
      ]
    },
    {
      "cell_type": "code",
      "source": [
        "#!git clone https://github.com/Dantelarroy/suplements-chatbot.git"
      ],
      "metadata": {
        "id": "KmM8iCKnHGYM"
      },
      "execution_count": 3,
      "outputs": []
    },
    {
      "cell_type": "markdown",
      "source": [
        "## Cargar el Dataset"
      ],
      "metadata": {
        "id": "UWwX8jXcKu7p"
      }
    },
    {
      "cell_type": "code",
      "source": [
        "# URL del repositorio de Github donde se encuentra el Dataset\n",
        "url = 'https://github.com/Dantelarroy/suplements-chatbot/raw/main/Dataset.xlsx'"
      ],
      "metadata": {
        "id": "gk87UCVJGJBm"
      },
      "execution_count": 4,
      "outputs": []
    },
    {
      "cell_type": "code",
      "source": [
        "df_supplements = pd.read_excel(url)\n"
      ],
      "metadata": {
        "id": "rtM8r91UKwCw"
      },
      "execution_count": 5,
      "outputs": []
    },
    {
      "cell_type": "code",
      "source": [
        "df_supplements.head()"
      ],
      "metadata": {
        "colab": {
          "base_uri": "https://localhost:8080/",
          "height": 206
        },
        "id": "SGvEpPiYO4lF",
        "outputId": "b5220b4e-4342-4e46-f79d-e41153e210af"
      },
      "execution_count": 6,
      "outputs": [
        {
          "output_type": "execute_result",
          "data": {
            "text/plain": [
              "                                              Texto Sentimiento\n",
              "0    El sabor es increíble, lo mejor que he probado    positivo\n",
              "1            Llegó tarde y el paquete estaba dañado    negativo\n",
              "2            El precio es razonable para la calidad    positivo\n",
              "3  No noto diferencia con otros productos similares     neutral\n",
              "4               El envío fue rápido y sin problemas    positivo"
            ],
            "text/html": [
              "\n",
              "  <div id=\"df-d5470193-a9a6-4d0d-a1a6-82aeb065bec0\" class=\"colab-df-container\">\n",
              "    <div>\n",
              "<style scoped>\n",
              "    .dataframe tbody tr th:only-of-type {\n",
              "        vertical-align: middle;\n",
              "    }\n",
              "\n",
              "    .dataframe tbody tr th {\n",
              "        vertical-align: top;\n",
              "    }\n",
              "\n",
              "    .dataframe thead th {\n",
              "        text-align: right;\n",
              "    }\n",
              "</style>\n",
              "<table border=\"1\" class=\"dataframe\">\n",
              "  <thead>\n",
              "    <tr style=\"text-align: right;\">\n",
              "      <th></th>\n",
              "      <th>Texto</th>\n",
              "      <th>Sentimiento</th>\n",
              "    </tr>\n",
              "  </thead>\n",
              "  <tbody>\n",
              "    <tr>\n",
              "      <th>0</th>\n",
              "      <td>El sabor es increíble, lo mejor que he probado</td>\n",
              "      <td>positivo</td>\n",
              "    </tr>\n",
              "    <tr>\n",
              "      <th>1</th>\n",
              "      <td>Llegó tarde y el paquete estaba dañado</td>\n",
              "      <td>negativo</td>\n",
              "    </tr>\n",
              "    <tr>\n",
              "      <th>2</th>\n",
              "      <td>El precio es razonable para la calidad</td>\n",
              "      <td>positivo</td>\n",
              "    </tr>\n",
              "    <tr>\n",
              "      <th>3</th>\n",
              "      <td>No noto diferencia con otros productos similares</td>\n",
              "      <td>neutral</td>\n",
              "    </tr>\n",
              "    <tr>\n",
              "      <th>4</th>\n",
              "      <td>El envío fue rápido y sin problemas</td>\n",
              "      <td>positivo</td>\n",
              "    </tr>\n",
              "  </tbody>\n",
              "</table>\n",
              "</div>\n",
              "    <div class=\"colab-df-buttons\">\n",
              "\n",
              "  <div class=\"colab-df-container\">\n",
              "    <button class=\"colab-df-convert\" onclick=\"convertToInteractive('df-d5470193-a9a6-4d0d-a1a6-82aeb065bec0')\"\n",
              "            title=\"Convert this dataframe to an interactive table.\"\n",
              "            style=\"display:none;\">\n",
              "\n",
              "  <svg xmlns=\"http://www.w3.org/2000/svg\" height=\"24px\" viewBox=\"0 -960 960 960\">\n",
              "    <path d=\"M120-120v-720h720v720H120Zm60-500h600v-160H180v160Zm220 220h160v-160H400v160Zm0 220h160v-160H400v160ZM180-400h160v-160H180v160Zm440 0h160v-160H620v160ZM180-180h160v-160H180v160Zm440 0h160v-160H620v160Z\"/>\n",
              "  </svg>\n",
              "    </button>\n",
              "\n",
              "  <style>\n",
              "    .colab-df-container {\n",
              "      display:flex;\n",
              "      gap: 12px;\n",
              "    }\n",
              "\n",
              "    .colab-df-convert {\n",
              "      background-color: #E8F0FE;\n",
              "      border: none;\n",
              "      border-radius: 50%;\n",
              "      cursor: pointer;\n",
              "      display: none;\n",
              "      fill: #1967D2;\n",
              "      height: 32px;\n",
              "      padding: 0 0 0 0;\n",
              "      width: 32px;\n",
              "    }\n",
              "\n",
              "    .colab-df-convert:hover {\n",
              "      background-color: #E2EBFA;\n",
              "      box-shadow: 0px 1px 2px rgba(60, 64, 67, 0.3), 0px 1px 3px 1px rgba(60, 64, 67, 0.15);\n",
              "      fill: #174EA6;\n",
              "    }\n",
              "\n",
              "    .colab-df-buttons div {\n",
              "      margin-bottom: 4px;\n",
              "    }\n",
              "\n",
              "    [theme=dark] .colab-df-convert {\n",
              "      background-color: #3B4455;\n",
              "      fill: #D2E3FC;\n",
              "    }\n",
              "\n",
              "    [theme=dark] .colab-df-convert:hover {\n",
              "      background-color: #434B5C;\n",
              "      box-shadow: 0px 1px 3px 1px rgba(0, 0, 0, 0.15);\n",
              "      filter: drop-shadow(0px 1px 2px rgba(0, 0, 0, 0.3));\n",
              "      fill: #FFFFFF;\n",
              "    }\n",
              "  </style>\n",
              "\n",
              "    <script>\n",
              "      const buttonEl =\n",
              "        document.querySelector('#df-d5470193-a9a6-4d0d-a1a6-82aeb065bec0 button.colab-df-convert');\n",
              "      buttonEl.style.display =\n",
              "        google.colab.kernel.accessAllowed ? 'block' : 'none';\n",
              "\n",
              "      async function convertToInteractive(key) {\n",
              "        const element = document.querySelector('#df-d5470193-a9a6-4d0d-a1a6-82aeb065bec0');\n",
              "        const dataTable =\n",
              "          await google.colab.kernel.invokeFunction('convertToInteractive',\n",
              "                                                    [key], {});\n",
              "        if (!dataTable) return;\n",
              "\n",
              "        const docLinkHtml = 'Like what you see? Visit the ' +\n",
              "          '<a target=\"_blank\" href=https://colab.research.google.com/notebooks/data_table.ipynb>data table notebook</a>'\n",
              "          + ' to learn more about interactive tables.';\n",
              "        element.innerHTML = '';\n",
              "        dataTable['output_type'] = 'display_data';\n",
              "        await google.colab.output.renderOutput(dataTable, element);\n",
              "        const docLink = document.createElement('div');\n",
              "        docLink.innerHTML = docLinkHtml;\n",
              "        element.appendChild(docLink);\n",
              "      }\n",
              "    </script>\n",
              "  </div>\n",
              "\n",
              "\n",
              "<div id=\"df-0c7c39e0-328a-45d4-b4ad-bbb3574787b8\">\n",
              "  <button class=\"colab-df-quickchart\" onclick=\"quickchart('df-0c7c39e0-328a-45d4-b4ad-bbb3574787b8')\"\n",
              "            title=\"Suggest charts\"\n",
              "            style=\"display:none;\">\n",
              "\n",
              "<svg xmlns=\"http://www.w3.org/2000/svg\" height=\"24px\"viewBox=\"0 0 24 24\"\n",
              "     width=\"24px\">\n",
              "    <g>\n",
              "        <path d=\"M19 3H5c-1.1 0-2 .9-2 2v14c0 1.1.9 2 2 2h14c1.1 0 2-.9 2-2V5c0-1.1-.9-2-2-2zM9 17H7v-7h2v7zm4 0h-2V7h2v10zm4 0h-2v-4h2v4z\"/>\n",
              "    </g>\n",
              "</svg>\n",
              "  </button>\n",
              "\n",
              "<style>\n",
              "  .colab-df-quickchart {\n",
              "      --bg-color: #E8F0FE;\n",
              "      --fill-color: #1967D2;\n",
              "      --hover-bg-color: #E2EBFA;\n",
              "      --hover-fill-color: #174EA6;\n",
              "      --disabled-fill-color: #AAA;\n",
              "      --disabled-bg-color: #DDD;\n",
              "  }\n",
              "\n",
              "  [theme=dark] .colab-df-quickchart {\n",
              "      --bg-color: #3B4455;\n",
              "      --fill-color: #D2E3FC;\n",
              "      --hover-bg-color: #434B5C;\n",
              "      --hover-fill-color: #FFFFFF;\n",
              "      --disabled-bg-color: #3B4455;\n",
              "      --disabled-fill-color: #666;\n",
              "  }\n",
              "\n",
              "  .colab-df-quickchart {\n",
              "    background-color: var(--bg-color);\n",
              "    border: none;\n",
              "    border-radius: 50%;\n",
              "    cursor: pointer;\n",
              "    display: none;\n",
              "    fill: var(--fill-color);\n",
              "    height: 32px;\n",
              "    padding: 0;\n",
              "    width: 32px;\n",
              "  }\n",
              "\n",
              "  .colab-df-quickchart:hover {\n",
              "    background-color: var(--hover-bg-color);\n",
              "    box-shadow: 0 1px 2px rgba(60, 64, 67, 0.3), 0 1px 3px 1px rgba(60, 64, 67, 0.15);\n",
              "    fill: var(--button-hover-fill-color);\n",
              "  }\n",
              "\n",
              "  .colab-df-quickchart-complete:disabled,\n",
              "  .colab-df-quickchart-complete:disabled:hover {\n",
              "    background-color: var(--disabled-bg-color);\n",
              "    fill: var(--disabled-fill-color);\n",
              "    box-shadow: none;\n",
              "  }\n",
              "\n",
              "  .colab-df-spinner {\n",
              "    border: 2px solid var(--fill-color);\n",
              "    border-color: transparent;\n",
              "    border-bottom-color: var(--fill-color);\n",
              "    animation:\n",
              "      spin 1s steps(1) infinite;\n",
              "  }\n",
              "\n",
              "  @keyframes spin {\n",
              "    0% {\n",
              "      border-color: transparent;\n",
              "      border-bottom-color: var(--fill-color);\n",
              "      border-left-color: var(--fill-color);\n",
              "    }\n",
              "    20% {\n",
              "      border-color: transparent;\n",
              "      border-left-color: var(--fill-color);\n",
              "      border-top-color: var(--fill-color);\n",
              "    }\n",
              "    30% {\n",
              "      border-color: transparent;\n",
              "      border-left-color: var(--fill-color);\n",
              "      border-top-color: var(--fill-color);\n",
              "      border-right-color: var(--fill-color);\n",
              "    }\n",
              "    40% {\n",
              "      border-color: transparent;\n",
              "      border-right-color: var(--fill-color);\n",
              "      border-top-color: var(--fill-color);\n",
              "    }\n",
              "    60% {\n",
              "      border-color: transparent;\n",
              "      border-right-color: var(--fill-color);\n",
              "    }\n",
              "    80% {\n",
              "      border-color: transparent;\n",
              "      border-right-color: var(--fill-color);\n",
              "      border-bottom-color: var(--fill-color);\n",
              "    }\n",
              "    90% {\n",
              "      border-color: transparent;\n",
              "      border-bottom-color: var(--fill-color);\n",
              "    }\n",
              "  }\n",
              "</style>\n",
              "\n",
              "  <script>\n",
              "    async function quickchart(key) {\n",
              "      const quickchartButtonEl =\n",
              "        document.querySelector('#' + key + ' button');\n",
              "      quickchartButtonEl.disabled = true;  // To prevent multiple clicks.\n",
              "      quickchartButtonEl.classList.add('colab-df-spinner');\n",
              "      try {\n",
              "        const charts = await google.colab.kernel.invokeFunction(\n",
              "            'suggestCharts', [key], {});\n",
              "      } catch (error) {\n",
              "        console.error('Error during call to suggestCharts:', error);\n",
              "      }\n",
              "      quickchartButtonEl.classList.remove('colab-df-spinner');\n",
              "      quickchartButtonEl.classList.add('colab-df-quickchart-complete');\n",
              "    }\n",
              "    (() => {\n",
              "      let quickchartButtonEl =\n",
              "        document.querySelector('#df-0c7c39e0-328a-45d4-b4ad-bbb3574787b8 button');\n",
              "      quickchartButtonEl.style.display =\n",
              "        google.colab.kernel.accessAllowed ? 'block' : 'none';\n",
              "    })();\n",
              "  </script>\n",
              "</div>\n",
              "\n",
              "    </div>\n",
              "  </div>\n"
            ],
            "application/vnd.google.colaboratory.intrinsic+json": {
              "type": "dataframe",
              "variable_name": "df_supplements",
              "summary": "{\n  \"name\": \"df_supplements\",\n  \"rows\": 299,\n  \"fields\": [\n    {\n      \"column\": \"Texto\",\n      \"properties\": {\n        \"dtype\": \"string\",\n        \"num_unique_values\": 296,\n        \"samples\": [\n          \"Todo lleg\\u00f3 perfecto, recomiendo la tienda\",\n          \"Lleg\\u00f3 muy r\\u00e1pido, mejor de lo esperado\",\n          \"La calidad podr\\u00eda ser mejor\"\n        ],\n        \"semantic_type\": \"\",\n        \"description\": \"\"\n      }\n    },\n    {\n      \"column\": \"Sentimiento\",\n      \"properties\": {\n        \"dtype\": \"category\",\n        \"num_unique_values\": 3,\n        \"samples\": [\n          \"positivo\",\n          \"negativo\",\n          \"neutral\"\n        ],\n        \"semantic_type\": \"\",\n        \"description\": \"\"\n      }\n    }\n  ]\n}"
            }
          },
          "metadata": {},
          "execution_count": 6
        }
      ]
    },
    {
      "cell_type": "markdown",
      "source": [
        "# EDA\n",
        "\n",
        "Research:\n",
        "- https://medium.com/dscier/eda-nlp-fe483c6871ba\n",
        "- https://neptune.ai/blog/exploratory-data-analysis-natural-language-processing-tools\n",
        "- https://medium.com/@berthelinmargot/eda-and-data-preparation-for-nlp-project-a-hands-on-example-step-by-step-3b95a37318db\n",
        "- https://medium.com/@KC-James/basic-implementation-of-a-word-cloud-in-python-8b2f9d92d381\n",
        "- https://medium.com/dscier/eda-nlp-fe483c6871ba"
      ],
      "metadata": {
        "id": "Rea7LfsVMDbj"
      }
    },
    {
      "cell_type": "markdown",
      "source": [
        "`Información General`\n",
        "---\n",
        "- Contiene dos columnas con Dtype: Object\n",
        "- No hay nulos\n",
        "- Cantidad de filas (299)"
      ],
      "metadata": {
        "id": "09SlNCJflPwB"
      }
    },
    {
      "cell_type": "code",
      "source": [
        "# Veo la información general de las columnas\n",
        "df_supplements.info()"
      ],
      "metadata": {
        "colab": {
          "base_uri": "https://localhost:8080/"
        },
        "id": "eeKdYIR3k05A",
        "outputId": "ddcf2835-1c6c-4cb8-d130-71d35d314ddc"
      },
      "execution_count": 7,
      "outputs": [
        {
          "output_type": "stream",
          "name": "stdout",
          "text": [
            "<class 'pandas.core.frame.DataFrame'>\n",
            "RangeIndex: 299 entries, 0 to 298\n",
            "Data columns (total 2 columns):\n",
            " #   Column       Non-Null Count  Dtype \n",
            "---  ------       --------------  ----- \n",
            " 0   Texto        299 non-null    object\n",
            " 1   Sentimiento  299 non-null    object\n",
            "dtypes: object(2)\n",
            "memory usage: 4.8+ KB\n"
          ]
        }
      ]
    },
    {
      "cell_type": "markdown",
      "source": [
        "`Nulos`\n",
        "---\n",
        "\n",
        "El dataset no presenta valores nulos (lo vi en el código anterior), vuelvo a hacer un check."
      ],
      "metadata": {
        "id": "vC6hXdFGYQvA"
      }
    },
    {
      "cell_type": "code",
      "source": [
        "# Cuantifico numero total de nulos por columna\n",
        "df_supplements.isnull().sum()"
      ],
      "metadata": {
        "id": "LX6ict6qQuwy",
        "colab": {
          "base_uri": "https://localhost:8080/",
          "height": 147
        },
        "outputId": "0720cfb9-41fc-49a1-c0ab-fa591ae49c81"
      },
      "execution_count": 8,
      "outputs": [
        {
          "output_type": "execute_result",
          "data": {
            "text/plain": [
              "Texto          0\n",
              "Sentimiento    0\n",
              "dtype: int64"
            ],
            "text/html": [
              "<div>\n",
              "<style scoped>\n",
              "    .dataframe tbody tr th:only-of-type {\n",
              "        vertical-align: middle;\n",
              "    }\n",
              "\n",
              "    .dataframe tbody tr th {\n",
              "        vertical-align: top;\n",
              "    }\n",
              "\n",
              "    .dataframe thead th {\n",
              "        text-align: right;\n",
              "    }\n",
              "</style>\n",
              "<table border=\"1\" class=\"dataframe\">\n",
              "  <thead>\n",
              "    <tr style=\"text-align: right;\">\n",
              "      <th></th>\n",
              "      <th>0</th>\n",
              "    </tr>\n",
              "  </thead>\n",
              "  <tbody>\n",
              "    <tr>\n",
              "      <th>Texto</th>\n",
              "      <td>0</td>\n",
              "    </tr>\n",
              "    <tr>\n",
              "      <th>Sentimiento</th>\n",
              "      <td>0</td>\n",
              "    </tr>\n",
              "  </tbody>\n",
              "</table>\n",
              "</div><br><label><b>dtype:</b> int64</label>"
            ]
          },
          "metadata": {},
          "execution_count": 8
        }
      ]
    },
    {
      "cell_type": "markdown",
      "source": [
        "`Describe:`\n",
        "---\n",
        "- No hay nulos (299 valores en ambas columnas)\n",
        "- En la columna Sentimiento encuentro 3 filas repetidas\n",
        "- El valor más frecuente es:\n",
        "  - Texto: \"Estoy satisfecho con la calidad del producto\". Esto podría ser un buen indicio sobre el producto ofrecido.\n",
        "  - Sentimiento: Positivo. Confirma que el indicio anterior. Frecuencia positiva más recurrente."
      ],
      "metadata": {
        "id": "njOw2Bj3mXog"
      }
    },
    {
      "cell_type": "code",
      "source": [
        "# Resumen estadístico de las columnas\n",
        "df_supplements.describe()\n"
      ],
      "metadata": {
        "colab": {
          "base_uri": "https://localhost:8080/",
          "height": 175
        },
        "id": "joX1cy3sldvF",
        "outputId": "5df93836-767f-4a42-9d98-5d9606b93c99"
      },
      "execution_count": 9,
      "outputs": [
        {
          "output_type": "execute_result",
          "data": {
            "text/plain": [
              "                                               Texto Sentimiento\n",
              "count                                            299         299\n",
              "unique                                           296           3\n",
              "top     Estoy satisfecho con la calidad del producto    positivo\n",
              "freq                                               2         129"
            ],
            "text/html": [
              "\n",
              "  <div id=\"df-aa0bd7cf-47b7-41b9-9424-76ef0937f068\" class=\"colab-df-container\">\n",
              "    <div>\n",
              "<style scoped>\n",
              "    .dataframe tbody tr th:only-of-type {\n",
              "        vertical-align: middle;\n",
              "    }\n",
              "\n",
              "    .dataframe tbody tr th {\n",
              "        vertical-align: top;\n",
              "    }\n",
              "\n",
              "    .dataframe thead th {\n",
              "        text-align: right;\n",
              "    }\n",
              "</style>\n",
              "<table border=\"1\" class=\"dataframe\">\n",
              "  <thead>\n",
              "    <tr style=\"text-align: right;\">\n",
              "      <th></th>\n",
              "      <th>Texto</th>\n",
              "      <th>Sentimiento</th>\n",
              "    </tr>\n",
              "  </thead>\n",
              "  <tbody>\n",
              "    <tr>\n",
              "      <th>count</th>\n",
              "      <td>299</td>\n",
              "      <td>299</td>\n",
              "    </tr>\n",
              "    <tr>\n",
              "      <th>unique</th>\n",
              "      <td>296</td>\n",
              "      <td>3</td>\n",
              "    </tr>\n",
              "    <tr>\n",
              "      <th>top</th>\n",
              "      <td>Estoy satisfecho con la calidad del producto</td>\n",
              "      <td>positivo</td>\n",
              "    </tr>\n",
              "    <tr>\n",
              "      <th>freq</th>\n",
              "      <td>2</td>\n",
              "      <td>129</td>\n",
              "    </tr>\n",
              "  </tbody>\n",
              "</table>\n",
              "</div>\n",
              "    <div class=\"colab-df-buttons\">\n",
              "\n",
              "  <div class=\"colab-df-container\">\n",
              "    <button class=\"colab-df-convert\" onclick=\"convertToInteractive('df-aa0bd7cf-47b7-41b9-9424-76ef0937f068')\"\n",
              "            title=\"Convert this dataframe to an interactive table.\"\n",
              "            style=\"display:none;\">\n",
              "\n",
              "  <svg xmlns=\"http://www.w3.org/2000/svg\" height=\"24px\" viewBox=\"0 -960 960 960\">\n",
              "    <path d=\"M120-120v-720h720v720H120Zm60-500h600v-160H180v160Zm220 220h160v-160H400v160Zm0 220h160v-160H400v160ZM180-400h160v-160H180v160Zm440 0h160v-160H620v160ZM180-180h160v-160H180v160Zm440 0h160v-160H620v160Z\"/>\n",
              "  </svg>\n",
              "    </button>\n",
              "\n",
              "  <style>\n",
              "    .colab-df-container {\n",
              "      display:flex;\n",
              "      gap: 12px;\n",
              "    }\n",
              "\n",
              "    .colab-df-convert {\n",
              "      background-color: #E8F0FE;\n",
              "      border: none;\n",
              "      border-radius: 50%;\n",
              "      cursor: pointer;\n",
              "      display: none;\n",
              "      fill: #1967D2;\n",
              "      height: 32px;\n",
              "      padding: 0 0 0 0;\n",
              "      width: 32px;\n",
              "    }\n",
              "\n",
              "    .colab-df-convert:hover {\n",
              "      background-color: #E2EBFA;\n",
              "      box-shadow: 0px 1px 2px rgba(60, 64, 67, 0.3), 0px 1px 3px 1px rgba(60, 64, 67, 0.15);\n",
              "      fill: #174EA6;\n",
              "    }\n",
              "\n",
              "    .colab-df-buttons div {\n",
              "      margin-bottom: 4px;\n",
              "    }\n",
              "\n",
              "    [theme=dark] .colab-df-convert {\n",
              "      background-color: #3B4455;\n",
              "      fill: #D2E3FC;\n",
              "    }\n",
              "\n",
              "    [theme=dark] .colab-df-convert:hover {\n",
              "      background-color: #434B5C;\n",
              "      box-shadow: 0px 1px 3px 1px rgba(0, 0, 0, 0.15);\n",
              "      filter: drop-shadow(0px 1px 2px rgba(0, 0, 0, 0.3));\n",
              "      fill: #FFFFFF;\n",
              "    }\n",
              "  </style>\n",
              "\n",
              "    <script>\n",
              "      const buttonEl =\n",
              "        document.querySelector('#df-aa0bd7cf-47b7-41b9-9424-76ef0937f068 button.colab-df-convert');\n",
              "      buttonEl.style.display =\n",
              "        google.colab.kernel.accessAllowed ? 'block' : 'none';\n",
              "\n",
              "      async function convertToInteractive(key) {\n",
              "        const element = document.querySelector('#df-aa0bd7cf-47b7-41b9-9424-76ef0937f068');\n",
              "        const dataTable =\n",
              "          await google.colab.kernel.invokeFunction('convertToInteractive',\n",
              "                                                    [key], {});\n",
              "        if (!dataTable) return;\n",
              "\n",
              "        const docLinkHtml = 'Like what you see? Visit the ' +\n",
              "          '<a target=\"_blank\" href=https://colab.research.google.com/notebooks/data_table.ipynb>data table notebook</a>'\n",
              "          + ' to learn more about interactive tables.';\n",
              "        element.innerHTML = '';\n",
              "        dataTable['output_type'] = 'display_data';\n",
              "        await google.colab.output.renderOutput(dataTable, element);\n",
              "        const docLink = document.createElement('div');\n",
              "        docLink.innerHTML = docLinkHtml;\n",
              "        element.appendChild(docLink);\n",
              "      }\n",
              "    </script>\n",
              "  </div>\n",
              "\n",
              "\n",
              "<div id=\"df-8dd3f0b4-1a0f-48f6-9d94-be4a1afecc24\">\n",
              "  <button class=\"colab-df-quickchart\" onclick=\"quickchart('df-8dd3f0b4-1a0f-48f6-9d94-be4a1afecc24')\"\n",
              "            title=\"Suggest charts\"\n",
              "            style=\"display:none;\">\n",
              "\n",
              "<svg xmlns=\"http://www.w3.org/2000/svg\" height=\"24px\"viewBox=\"0 0 24 24\"\n",
              "     width=\"24px\">\n",
              "    <g>\n",
              "        <path d=\"M19 3H5c-1.1 0-2 .9-2 2v14c0 1.1.9 2 2 2h14c1.1 0 2-.9 2-2V5c0-1.1-.9-2-2-2zM9 17H7v-7h2v7zm4 0h-2V7h2v10zm4 0h-2v-4h2v4z\"/>\n",
              "    </g>\n",
              "</svg>\n",
              "  </button>\n",
              "\n",
              "<style>\n",
              "  .colab-df-quickchart {\n",
              "      --bg-color: #E8F0FE;\n",
              "      --fill-color: #1967D2;\n",
              "      --hover-bg-color: #E2EBFA;\n",
              "      --hover-fill-color: #174EA6;\n",
              "      --disabled-fill-color: #AAA;\n",
              "      --disabled-bg-color: #DDD;\n",
              "  }\n",
              "\n",
              "  [theme=dark] .colab-df-quickchart {\n",
              "      --bg-color: #3B4455;\n",
              "      --fill-color: #D2E3FC;\n",
              "      --hover-bg-color: #434B5C;\n",
              "      --hover-fill-color: #FFFFFF;\n",
              "      --disabled-bg-color: #3B4455;\n",
              "      --disabled-fill-color: #666;\n",
              "  }\n",
              "\n",
              "  .colab-df-quickchart {\n",
              "    background-color: var(--bg-color);\n",
              "    border: none;\n",
              "    border-radius: 50%;\n",
              "    cursor: pointer;\n",
              "    display: none;\n",
              "    fill: var(--fill-color);\n",
              "    height: 32px;\n",
              "    padding: 0;\n",
              "    width: 32px;\n",
              "  }\n",
              "\n",
              "  .colab-df-quickchart:hover {\n",
              "    background-color: var(--hover-bg-color);\n",
              "    box-shadow: 0 1px 2px rgba(60, 64, 67, 0.3), 0 1px 3px 1px rgba(60, 64, 67, 0.15);\n",
              "    fill: var(--button-hover-fill-color);\n",
              "  }\n",
              "\n",
              "  .colab-df-quickchart-complete:disabled,\n",
              "  .colab-df-quickchart-complete:disabled:hover {\n",
              "    background-color: var(--disabled-bg-color);\n",
              "    fill: var(--disabled-fill-color);\n",
              "    box-shadow: none;\n",
              "  }\n",
              "\n",
              "  .colab-df-spinner {\n",
              "    border: 2px solid var(--fill-color);\n",
              "    border-color: transparent;\n",
              "    border-bottom-color: var(--fill-color);\n",
              "    animation:\n",
              "      spin 1s steps(1) infinite;\n",
              "  }\n",
              "\n",
              "  @keyframes spin {\n",
              "    0% {\n",
              "      border-color: transparent;\n",
              "      border-bottom-color: var(--fill-color);\n",
              "      border-left-color: var(--fill-color);\n",
              "    }\n",
              "    20% {\n",
              "      border-color: transparent;\n",
              "      border-left-color: var(--fill-color);\n",
              "      border-top-color: var(--fill-color);\n",
              "    }\n",
              "    30% {\n",
              "      border-color: transparent;\n",
              "      border-left-color: var(--fill-color);\n",
              "      border-top-color: var(--fill-color);\n",
              "      border-right-color: var(--fill-color);\n",
              "    }\n",
              "    40% {\n",
              "      border-color: transparent;\n",
              "      border-right-color: var(--fill-color);\n",
              "      border-top-color: var(--fill-color);\n",
              "    }\n",
              "    60% {\n",
              "      border-color: transparent;\n",
              "      border-right-color: var(--fill-color);\n",
              "    }\n",
              "    80% {\n",
              "      border-color: transparent;\n",
              "      border-right-color: var(--fill-color);\n",
              "      border-bottom-color: var(--fill-color);\n",
              "    }\n",
              "    90% {\n",
              "      border-color: transparent;\n",
              "      border-bottom-color: var(--fill-color);\n",
              "    }\n",
              "  }\n",
              "</style>\n",
              "\n",
              "  <script>\n",
              "    async function quickchart(key) {\n",
              "      const quickchartButtonEl =\n",
              "        document.querySelector('#' + key + ' button');\n",
              "      quickchartButtonEl.disabled = true;  // To prevent multiple clicks.\n",
              "      quickchartButtonEl.classList.add('colab-df-spinner');\n",
              "      try {\n",
              "        const charts = await google.colab.kernel.invokeFunction(\n",
              "            'suggestCharts', [key], {});\n",
              "      } catch (error) {\n",
              "        console.error('Error during call to suggestCharts:', error);\n",
              "      }\n",
              "      quickchartButtonEl.classList.remove('colab-df-spinner');\n",
              "      quickchartButtonEl.classList.add('colab-df-quickchart-complete');\n",
              "    }\n",
              "    (() => {\n",
              "      let quickchartButtonEl =\n",
              "        document.querySelector('#df-8dd3f0b4-1a0f-48f6-9d94-be4a1afecc24 button');\n",
              "      quickchartButtonEl.style.display =\n",
              "        google.colab.kernel.accessAllowed ? 'block' : 'none';\n",
              "    })();\n",
              "  </script>\n",
              "</div>\n",
              "\n",
              "    </div>\n",
              "  </div>\n"
            ],
            "application/vnd.google.colaboratory.intrinsic+json": {
              "type": "dataframe",
              "summary": "{\n  \"name\": \"df_supplements\",\n  \"rows\": 4,\n  \"fields\": [\n    {\n      \"column\": \"Texto\",\n      \"properties\": {\n        \"dtype\": \"string\",\n        \"num_unique_values\": 4,\n        \"samples\": [\n          296,\n          \"2\",\n          \"299\"\n        ],\n        \"semantic_type\": \"\",\n        \"description\": \"\"\n      }\n    },\n    {\n      \"column\": \"Sentimiento\",\n      \"properties\": {\n        \"dtype\": \"string\",\n        \"num_unique_values\": 4,\n        \"samples\": [\n          3,\n          \"129\",\n          \"299\"\n        ],\n        \"semantic_type\": \"\",\n        \"description\": \"\"\n      }\n    }\n  ]\n}"
            }
          },
          "metadata": {},
          "execution_count": 9
        }
      ]
    },
    {
      "cell_type": "markdown",
      "source": [
        "`Distribución de sentimientos`\n",
        "---\n"
      ],
      "metadata": {
        "id": "Rtz3NNIXovRC"
      }
    },
    {
      "cell_type": "markdown",
      "source": [
        "Busco identificar si el datset se encuentra o no desbalanceado.\n",
        "\n",
        "Identifico una distribución algo desbalanceada con una predominancia de \"Positivo\" sobre el resto de las categorías.\n",
        "\n",
        "Como aspecto positivo por otro lado veo que \"neutral\" y \"negativo\" tienen una distribución similar entre ellos.\n",
        "\n",
        "Ultimo aspecto es que \"neutral\" es el que menor frecuencia tiene. Lo veo natural ya que el cliente suele expresarse cuando algo le disgusta o le gusta.\n",
        "\n",
        "Riesgos:\n",
        "- Que el modelo entrenado genere \"sesgo\" hacia lo positivo.\n",
        "- Es posible que haya que realizar un ajuste en caso de que eso ocurra."
      ],
      "metadata": {
        "id": "g2UcXxNynwKj"
      }
    },
    {
      "cell_type": "code",
      "source": [
        "# Distribución de Sentimientos\n",
        "distribucion_sentimientos = df_supplements['Sentimiento'].value_counts()\n",
        "print(distribucion_sentimientos)"
      ],
      "metadata": {
        "id": "j2-xwewHPyXi",
        "colab": {
          "base_uri": "https://localhost:8080/"
        },
        "outputId": "40fc97da-27e4-41d2-b953-c75c447c7f2f"
      },
      "execution_count": 10,
      "outputs": [
        {
          "output_type": "stream",
          "name": "stdout",
          "text": [
            "Sentimiento\n",
            "positivo    129\n",
            "negativo     97\n",
            "neutral      73\n",
            "Name: count, dtype: int64\n"
          ]
        }
      ]
    },
    {
      "cell_type": "markdown",
      "source": [
        "El Dataset tiene una distribución bastante equilibrada entre las clases de sentimientos.\n",
        "\n",
        "- Desbalance Neutral: Visualizo una menor cantidad de comentarios \"Neutrales\" lo cuál podría generar un sesgo a la hora de entrenar el modelo.\n",
        "El chatbot podría no identificar adecuadamente los comentarios neutrales.\n",
        "\n",
        "- Desbalance Positivo: El modelo podría inclinarse mayoritariamente en predecir Positivos por sobre negativos y neutrales.\n",
        "\n",
        "Por el momento decido no trabajar este aspecto, ya que no considero que sea significativo.\n",
        "\n",
        "En caso de que los modelos generen un sesgo trabajaré con herramientas para solucionarlo (imbalanced data tools & oversamplig, undersampling).\n",
        "\n",
        "- https://medium.com/@abdallahashraf90x/oversampling-for-better-machine-learning-with-imbalanced-data-68f9b5ac2696\n",
        "- https://www.analyticsvidhya.com/blog/2020/10/improve-class-imbalance-class-weights/"
      ],
      "metadata": {
        "id": "CRTCb4_zKgyo"
      }
    },
    {
      "cell_type": "code",
      "source": [
        "# Grafico la distribución\n",
        "\n",
        "plt.figure(figsize=(8,6))\n",
        "sns.countplot(x='Sentimiento', data= df_supplements, palette='Set2')\n",
        "plt.title('Distribución de Sentimientos')\n",
        "plt.xlabel('Sentimiento')\n",
        "plt.ylabel('Frecuencia')\n",
        "plt.show\n"
      ],
      "metadata": {
        "colab": {
          "base_uri": "https://localhost:8080/",
          "height": 825
        },
        "id": "msrCLJj9pwP_",
        "outputId": "82626fe6-698b-4083-f8c7-8de54de46031"
      },
      "execution_count": 11,
      "outputs": [
        {
          "output_type": "stream",
          "name": "stderr",
          "text": [
            "<ipython-input-11-5037f801704d>:4: FutureWarning: \n",
            "\n",
            "Passing `palette` without assigning `hue` is deprecated and will be removed in v0.14.0. Assign the `x` variable to `hue` and set `legend=False` for the same effect.\n",
            "\n",
            "  sns.countplot(x='Sentimiento', data= df_supplements, palette='Set2')\n"
          ]
        },
        {
          "output_type": "execute_result",
          "data": {
            "text/plain": [
              "<function matplotlib.pyplot.show(close=None, block=None)>"
            ],
            "text/html": [
              "<div style=\"max-width:800px; border: 1px solid var(--colab-border-color);\"><style>\n",
              "      pre.function-repr-contents {\n",
              "        overflow-x: auto;\n",
              "        padding: 8px 12px;\n",
              "        max-height: 500px;\n",
              "      }\n",
              "\n",
              "      pre.function-repr-contents.function-repr-contents-collapsed {\n",
              "        cursor: pointer;\n",
              "        max-height: 100px;\n",
              "      }\n",
              "    </style>\n",
              "    <pre style=\"white-space: initial; background:\n",
              "         var(--colab-secondary-surface-color); padding: 8px 12px;\n",
              "         border-bottom: 1px solid var(--colab-border-color);\"><b>matplotlib.pyplot.show</b><br/>def show(*args, **kwargs)</pre><pre class=\"function-repr-contents function-repr-contents-collapsed\" style=\"\"><a class=\"filepath\" style=\"display:none\" href=\"#\">/usr/local/lib/python3.10/dist-packages/matplotlib/pyplot.py</a>Display all open figures.\n",
              "\n",
              "Parameters\n",
              "----------\n",
              "block : bool, optional\n",
              "    Whether to wait for all figures to be closed before returning.\n",
              "\n",
              "    If `True` block and run the GUI main loop until all figure windows\n",
              "    are closed.\n",
              "\n",
              "    If `False` ensure that all figure windows are displayed and return\n",
              "    immediately.  In this case, you are responsible for ensuring\n",
              "    that the event loop is running to have responsive figures.\n",
              "\n",
              "    Defaults to True in non-interactive mode and to False in interactive\n",
              "    mode (see `.pyplot.isinteractive`).\n",
              "\n",
              "See Also\n",
              "--------\n",
              "ion : Enable interactive mode, which shows / updates the figure after\n",
              "      every plotting command, so that calling ``show()`` is not necessary.\n",
              "ioff : Disable interactive mode.\n",
              "savefig : Save the figure to an image file instead of showing it on screen.\n",
              "\n",
              "Notes\n",
              "-----\n",
              "**Saving figures to file and showing a window at the same time**\n",
              "\n",
              "If you want an image file as well as a user interface window, use\n",
              "`.pyplot.savefig` before `.pyplot.show`. At the end of (a blocking)\n",
              "``show()`` the figure is closed and thus unregistered from pyplot. Calling\n",
              "`.pyplot.savefig` afterwards would save a new and thus empty figure. This\n",
              "limitation of command order does not apply if the show is non-blocking or\n",
              "if you keep a reference to the figure and use `.Figure.savefig`.\n",
              "\n",
              "**Auto-show in jupyter notebooks**\n",
              "\n",
              "The jupyter backends (activated via ``%matplotlib inline``,\n",
              "``%matplotlib notebook``, or ``%matplotlib widget``), call ``show()`` at\n",
              "the end of every cell by default. Thus, you usually don&#x27;t have to call it\n",
              "explicitly there.</pre>\n",
              "      <script>\n",
              "      if (google.colab.kernel.accessAllowed && google.colab.files && google.colab.files.view) {\n",
              "        for (const element of document.querySelectorAll('.filepath')) {\n",
              "          element.style.display = 'block'\n",
              "          element.onclick = (event) => {\n",
              "            event.preventDefault();\n",
              "            event.stopPropagation();\n",
              "            google.colab.files.view(element.textContent, 482);\n",
              "          };\n",
              "        }\n",
              "      }\n",
              "      for (const element of document.querySelectorAll('.function-repr-contents')) {\n",
              "        element.onclick = (event) => {\n",
              "          event.preventDefault();\n",
              "          event.stopPropagation();\n",
              "          element.classList.toggle('function-repr-contents-collapsed');\n",
              "        };\n",
              "      }\n",
              "      </script>\n",
              "      </div>"
            ]
          },
          "metadata": {},
          "execution_count": 11
        },
        {
          "output_type": "display_data",
          "data": {
            "text/plain": [
              "<Figure size 800x600 with 1 Axes>"
            ],
            "image/png": "[encoded data removed]"
          },
          "metadata": {}
        }
      ]
    },
    {
      "cell_type": "code",
      "source": [
        "# Revisión de tipo de datos\n",
        "df_supplements['Texto'] = df_supplements['Texto'].astype(str)\n",
        "df_supplements['Sentimiento'] = df_supplements['Sentimiento'].astype(str)"
      ],
      "metadata": {
        "id": "5YISKTi-PxAD"
      },
      "execution_count": 12,
      "outputs": []
    },
    {
      "cell_type": "markdown",
      "source": [
        "`Longitud del \"Texto\"`\n",
        "---\n",
        "\n",
        "Anaalizo la longitud de los comentarios para identificar sobre todo si los comentarios son similares en cuanto a longitud entre los \"Positivos\" y los \"Negativos\".\n",
        "\n",
        "- Detectar patrones en cuánto al detalle de las críticas\n",
        "- Analizar las criticas cortas o largas en relación al sentimiento de la crítica\n"
      ],
      "metadata": {
        "id": "PhxiV0WPtYa5"
      }
    },
    {
      "cell_type": "code",
      "source": [
        "# Función para contar palabras\n",
        "def contar_palabras(texto):\n",
        "  return len(texto.split())\n",
        "\n",
        "# Longitud del texto en palabras\n",
        "df_supplements[\"longitud_palabras\"] = df_supplements[\"Texto\"].apply(contar_palabras)\n",
        "\n",
        "# Resumen estadístico\n",
        "print(df_supplements['longitud_palabras'].describe())\n",
        "\n",
        "# Gráfico de la distribución de la longitud en palabras\n",
        "df_supplements['longitud_palabras'].hist(bins=15, color='skyblue', edgecolor='black')\n",
        "plt.title('Distribución de Longitud de Críticas (en palabras)')\n",
        "plt.xlabel('Número de palabras')\n",
        "plt.ylabel('Frecuencia')\n",
        "plt.show()"
      ],
      "metadata": {
        "colab": {
          "base_uri": "https://localhost:8080/",
          "height": 637
        },
        "id": "OrcOStRQtbvv",
        "outputId": "3ae65e6a-21c7-4b7c-8b4f-7ab08026d384"
      },
      "execution_count": 13,
      "outputs": [
        {
          "output_type": "stream",
          "name": "stdout",
          "text": [
            "count    299.000000\n",
            "mean       7.053512\n",
            "std        1.372236\n",
            "min        3.000000\n",
            "25%        6.000000\n",
            "50%        7.000000\n",
            "75%        8.000000\n",
            "max       11.000000\n",
            "Name: longitud_palabras, dtype: float64\n"
          ]
        },
        {
          "output_type": "display_data",
          "data": {
            "text/plain": [
              "<Figure size 640x480 with 1 Axes>"
            ],
            "image/png": "[encoded data removed]"
          },
          "metadata": {}
        }
      ]
    },
    {
      "cell_type": "markdown",
      "source": [
        "Identifico que el promedio de palabras por crítica es de 7 palabras.\n",
        "\n",
        "Ahora voy a desarrollar esto:\n",
        "- Gráficar el promedio de palabras por crítica de cada tipo de crítica \"Negativa\", \"Positiva\" y \"Neutra\" para buscar patrones.\n",
        "Ej. Las críticas positivas son mas breves y las negativas son más cortas.\n",
        "- Analizar las críticas más cortas y más largas en relación al sentimiento"
      ],
      "metadata": {
        "id": "9ejluAIBusyf"
      }
    },
    {
      "cell_type": "code",
      "source": [
        "# Graficar el promedio de palabras por sentimiento\n",
        "promedio_palabras = df_supplements.groupby('Sentimiento')['longitud_palabras'].mean()\n",
        "\n",
        "# Graficarlo\n",
        "promedio_palabras.plot(kind='bar', color=['red','orange','green'],figsize=(6,3))\n",
        "plt.title('Promedio de Palabras por Crítica según Sentimiento')\n",
        "plt.xlabel('Sentimiento')\n",
        "plt.ylabel('Promedio de Palabras')\n",
        "plt.xticks(rotation=0)\n",
        "plt.show()\n"
      ],
      "metadata": {
        "colab": {
          "base_uri": "https://localhost:8080/",
          "height": 334
        },
        "id": "3gB5hSgiu3Qi",
        "outputId": "b0a3ed77-bc77-46e0-8529-ce2f3687add2"
      },
      "execution_count": 14,
      "outputs": [
        {
          "output_type": "display_data",
          "data": {
            "text/plain": [
              "<Figure size 600x300 with 1 Axes>"
            ],
            "image/png": "[encoded data removed]"
          },
          "metadata": {}
        }
      ]
    },
    {
      "cell_type": "markdown",
      "source": [
        "Analizar las críticas más cortas y más largas en relación al sentimiento (Top 10 de cada una)\n",
        "\n",
        "https://pandas.pydata.org/pandas-docs/stable/reference/api/pandas.DataFrame.nsmallest.html\n"
      ],
      "metadata": {
        "id": "hexwEVpJO15m"
      }
    },
    {
      "cell_type": "code",
      "source": [
        "# Críticas más cortas (top 10)\n",
        "criticas_cortas = df_supplements.nsmallest(10, 'longitud_palabras')\n",
        "print(\"Críticas más cortas (top 10):\")\n",
        "print(criticas_cortas[['Texto', 'longitud_palabras', 'Sentimiento']])"
      ],
      "metadata": {
        "colab": {
          "base_uri": "https://localhost:8080/"
        },
        "id": "1qj_K4_3u3yo",
        "outputId": "e75611d8-c2a1-4835-f094-7784c47b8fdf"
      },
      "execution_count": 15,
      "outputs": [
        {
          "output_type": "stream",
          "name": "stdout",
          "text": [
            "Críticas más cortas (top 10):\n",
            "                                     Texto  longitud_palabras Sentimiento\n",
            "20       Excelente relación calidad-precio                  3    positivo\n",
            "206      Excelente relación precio-calidad                  3    positivo\n",
            "86               Todo perfecto, sin quejas                  4    positivo\n",
            "96           Producto promedio, no destaca                  4     neutral\n",
            "158         Producto increíble, me encanta                  4    positivo\n",
            "233    Excelente atención, muy profesional                  4    positivo\n",
            "242           Todo perfecto, lo recomiendo                  4    positivo\n",
            "262         Me causó molestias estomacales                  4    negativo\n",
            "24          El envío tomó demasiado tiempo                  5    negativo\n",
            "41   Excelente sabor, estoy muy satisfecho                  5    positivo\n"
          ]
        }
      ]
    },
    {
      "cell_type": "code",
      "source": [
        "# Críticas más largas (top 10)\n",
        "criticas_largas = df_supplements.nlargest(10, 'longitud_palabras')\n",
        "print(\"\\nCríticas más largas (top 10):\")\n",
        "print(criticas_largas[['Texto', 'longitud_palabras', 'Sentimiento']])"
      ],
      "metadata": {
        "colab": {
          "base_uri": "https://localhost:8080/"
        },
        "id": "9IoTCxTvO-SP",
        "outputId": "4f2345a6-5eb5-4f8b-f50a-f40d6b6aa00f"
      },
      "execution_count": 16,
      "outputs": [
        {
          "output_type": "stream",
          "name": "stdout",
          "text": [
            "\n",
            "Críticas más largas (top 10):\n",
            "                                                 Texto  longitud_palabras  \\\n",
            "88   El sabor no está mal, pero no lo volvería a co...                 11   \n",
            "263   El sabor no es lo que esperaba, pero no está mal                 11   \n",
            "14    El tiempo de envío fue más rápido de lo esperado                 10   \n",
            "21       La textura del producto es rara y no me gustó                 10   \n",
            "134       El precio es un poco alto, pero vale la pena                 10   \n",
            "180  El paquete llegó con un golpe, pero estaba tod...                 10   \n",
            "203          El sabor es muy dulce, no es de mi agrado                 10   \n",
            "205  El paquete llegó bien, aunque tardó más de lo ...                 10   \n",
            "217   Me generó dolor de cabeza, no lo volveré a tomar                 10   \n",
            "224     Creo que el precio es justo para lo que ofrece                 10   \n",
            "\n",
            "    Sentimiento  \n",
            "88      neutral  \n",
            "263     neutral  \n",
            "14     positivo  \n",
            "21     negativo  \n",
            "134     neutral  \n",
            "180     neutral  \n",
            "203    negativo  \n",
            "205     neutral  \n",
            "217    negativo  \n",
            "224    positivo  \n"
          ]
        }
      ]
    },
    {
      "cell_type": "code",
      "source": [
        "# Creo una figura con dos gráficos uno al lado del otro\n",
        "fig, axs = plt.subplots(1, 2, figsize=(12, 6), sharey=True)\n",
        "\n",
        "# Distribución de sentimientos en críticas cortas\n",
        "criticas_cortas['Sentimiento'].value_counts().plot(\n",
        "    kind='bar', color='lightcoral', ax=axs[0], edgecolor='black')\n",
        "\n",
        "# Etiqueta y titulo del primer gráfico (Criticas cortas)\n",
        "axs[0].set_title('Distribución de Sentimientos (Críticas Cortas)')\n",
        "axs[0].set_xlabel('Sentimiento')\n",
        "axs[0].set_ylabel('Cantidad')\n",
        "\n",
        "# Distribución de sentimientos en críticas largas\n",
        "criticas_largas['Sentimiento'].value_counts().plot(\n",
        "    kind='bar', color='lightblue', ax=axs[1], edgecolor='black')\n",
        "\n",
        "# Título del segundo gráfico (Criticas largas)\n",
        "axs[1].set_title('Distribución de Sentimientos (Críticas Largas)')\n",
        "axs[1].set_xlabel('Sentimiento')\n",
        "\n",
        "plt.tight_layout()\n",
        "plt.show()"
      ],
      "metadata": {
        "colab": {
          "base_uri": "https://localhost:8080/",
          "height": 606
        },
        "id": "Un_-K2tqPJNp",
        "outputId": "5af0a748-d0ed-4db7-8953-c75acc18d2b7"
      },
      "execution_count": 17,
      "outputs": [
        {
          "output_type": "display_data",
          "data": {
            "text/plain": [
              "<Figure size 1200x600 with 2 Axes>"
            ],
            "image/png": "[encoded data removed]"
          },
          "metadata": {}
        }
      ]
    },
    {
      "cell_type": "markdown",
      "source": [
        "A simple vista se puede ver como las críticas más cortas tienen una tendencia de ser positivas.\n",
        "Y las críticas más largas tienen una tendencia de ser neutrales."
      ],
      "metadata": {
        "id": "KvpRkZ_EQK5W"
      }
    },
    {
      "cell_type": "markdown",
      "source": [
        "---\n",
        "# Preprocesamiento de Texto\n",
        "\n",
        "Realizo el preprocesamiento del texto previo al analisis final, Feature Engineering y modelado.\n",
        "Con el fin de evitar redundancias a la hora de hacer un Word Cloud pero sobre todo hacerlo un texto procesable para el feature engineering posterior y el modelado.\n",
        "\n",
        "1. `Normalización` (Minúsculas, elimino puntuaciones y caracteres especiales (dejo las tildes, ñ, números y espacios porque considero que puede ser significativo en español).\n",
        "2. Elimino `stopwords` que no generan un valor semántico.\n",
        "3.  `Lematización`: Reduzco las palabras a su base para evitar duplicar términos que tengan un significado similar semanticamente\n",
        "\n",
        "La `Tokenización` la realizaré directo con el modelo \"multilingual-e5-large\"\n",
        "\n"
      ],
      "metadata": {
        "id": "Z74UJWfQcPgw"
      }
    },
    {
      "cell_type": "code",
      "source": [
        "# Limpieza y normalización del texto para realizar el Word Cloud\n",
        "\n",
        "# Inicializar el lematizador\n",
        "lemmatizer = WordNetLemmatizer()\n",
        "\n",
        "# Función para limpiar y procesar el texto\n",
        "def clean(texto):\n",
        "    # Convertir a minúscula\n",
        "    texto = texto.lower()\n",
        "\n",
        "    # Eliminar puntuaciones y caracteres especiales\n",
        "    texto = re.sub(r'[^a-záéíóúüñ0-9\\s]+', '', texto)\n",
        "\n",
        "    # Eliminar stopwords\n",
        "    tokens = [word for word in texto.split() if word not in stopwords.words('spanish')]\n",
        "\n",
        "    # Lematización\n",
        "    tokens = [lemmatizer.lemmatize(word) for word in tokens]\n",
        "\n",
        "    # Unir las palabras lematizadas en un texto limpio\n",
        "    cleaned_text = ' '.join(tokens)\n",
        "\n",
        "    return cleaned_text\n",
        "\n",
        "# Aplicar la función de limpieza al DataFrame\n",
        "df_supplements['Texto_Limpio'] = df_supplements['Texto'].apply(clean)\n"
      ],
      "metadata": {
        "id": "vxlzpUQG6je4"
      },
      "execution_count": 18,
      "outputs": []
    },
    {
      "cell_type": "code",
      "source": [
        "df_supplements.head()"
      ],
      "metadata": {
        "colab": {
          "base_uri": "https://localhost:8080/",
          "height": 206
        },
        "id": "3inB0Tlj92wD",
        "outputId": "6c3d9065-c49b-4f14-989e-778ed45e9c35"
      },
      "execution_count": 19,
      "outputs": [
        {
          "output_type": "execute_result",
          "data": {
            "text/plain": [
              "                                              Texto Sentimiento  \\\n",
              "0    El sabor es increíble, lo mejor que he probado    positivo   \n",
              "1            Llegó tarde y el paquete estaba dañado    negativo   \n",
              "2            El precio es razonable para la calidad    positivo   \n",
              "3  No noto diferencia con otros productos similares     neutral   \n",
              "4               El envío fue rápido y sin problemas    positivo   \n",
              "\n",
              "   longitud_palabras                         Texto_Limpio  \n",
              "0                  9        sabor increíble mejor probado  \n",
              "1                  7           llegó tarde paquete dañado  \n",
              "2                  7             precio razonable calidad  \n",
              "3                  7  noto diferencia productos similares  \n",
              "4                  7               envío rápido problemas  "
            ],
            "text/html": [
              "\n",
              "  <div id=\"df-ca624555-e874-4453-851e-f519e3a69f29\" class=\"colab-df-container\">\n",
              "    <div>\n",
              "<style scoped>\n",
              "    .dataframe tbody tr th:only-of-type {\n",
              "        vertical-align: middle;\n",
              "    }\n",
              "\n",
              "    .dataframe tbody tr th {\n",
              "        vertical-align: top;\n",
              "    }\n",
              "\n",
              "    .dataframe thead th {\n",
              "        text-align: right;\n",
              "    }\n",
              "</style>\n",
              "<table border=\"1\" class=\"dataframe\">\n",
              "  <thead>\n",
              "    <tr style=\"text-align: right;\">\n",
              "      <th></th>\n",
              "      <th>Texto</th>\n",
              "      <th>Sentimiento</th>\n",
              "      <th>longitud_palabras</th>\n",
              "      <th>Texto_Limpio</th>\n",
              "    </tr>\n",
              "  </thead>\n",
              "  <tbody>\n",
              "    <tr>\n",
              "      <th>0</th>\n",
              "      <td>El sabor es increíble, lo mejor que he probado</td>\n",
              "      <td>positivo</td>\n",
              "      <td>9</td>\n",
              "      <td>sabor increíble mejor probado</td>\n",
              "    </tr>\n",
              "    <tr>\n",
              "      <th>1</th>\n",
              "      <td>Llegó tarde y el paquete estaba dañado</td>\n",
              "      <td>negativo</td>\n",
              "      <td>7</td>\n",
              "      <td>llegó tarde paquete dañado</td>\n",
              "    </tr>\n",
              "    <tr>\n",
              "      <th>2</th>\n",
              "      <td>El precio es razonable para la calidad</td>\n",
              "      <td>positivo</td>\n",
              "      <td>7</td>\n",
              "      <td>precio razonable calidad</td>\n",
              "    </tr>\n",
              "    <tr>\n",
              "      <th>3</th>\n",
              "      <td>No noto diferencia con otros productos similares</td>\n",
              "      <td>neutral</td>\n",
              "      <td>7</td>\n",
              "      <td>noto diferencia productos similares</td>\n",
              "    </tr>\n",
              "    <tr>\n",
              "      <th>4</th>\n",
              "      <td>El envío fue rápido y sin problemas</td>\n",
              "      <td>positivo</td>\n",
              "      <td>7</td>\n",
              "      <td>envío rápido problemas</td>\n",
              "    </tr>\n",
              "  </tbody>\n",
              "</table>\n",
              "</div>\n",
              "    <div class=\"colab-df-buttons\">\n",
              "\n",
              "  <div class=\"colab-df-container\">\n",
              "    <button class=\"colab-df-convert\" onclick=\"convertToInteractive('df-ca624555-e874-4453-851e-f519e3a69f29')\"\n",
              "            title=\"Convert this dataframe to an interactive table.\"\n",
              "            style=\"display:none;\">\n",
              "\n",
              "  <svg xmlns=\"http://www.w3.org/2000/svg\" height=\"24px\" viewBox=\"0 -960 960 960\">\n",
              "    <path d=\"M120-120v-720h720v720H120Zm60-500h600v-160H180v160Zm220 220h160v-160H400v160Zm0 220h160v-160H400v160ZM180-400h160v-160H180v160Zm440 0h160v-160H620v160ZM180-180h160v-160H180v160Zm440 0h160v-160H620v160Z\"/>\n",
              "  </svg>\n",
              "    </button>\n",
              "\n",
              "  <style>\n",
              "    .colab-df-container {\n",
              "      display:flex;\n",
              "      gap: 12px;\n",
              "    }\n",
              "\n",
              "    .colab-df-convert {\n",
              "      background-color: #E8F0FE;\n",
              "      border: none;\n",
              "      border-radius: 50%;\n",
              "      cursor: pointer;\n",
              "      display: none;\n",
              "      fill: #1967D2;\n",
              "      height: 32px;\n",
              "      padding: 0 0 0 0;\n",
              "      width: 32px;\n",
              "    }\n",
              "\n",
              "    .colab-df-convert:hover {\n",
              "      background-color: #E2EBFA;\n",
              "      box-shadow: 0px 1px 2px rgba(60, 64, 67, 0.3), 0px 1px 3px 1px rgba(60, 64, 67, 0.15);\n",
              "      fill: #174EA6;\n",
              "    }\n",
              "\n",
              "    .colab-df-buttons div {\n",
              "      margin-bottom: 4px;\n",
              "    }\n",
              "\n",
              "    [theme=dark] .colab-df-convert {\n",
              "      background-color: #3B4455;\n",
              "      fill: #D2E3FC;\n",
              "    }\n",
              "\n",
              "    [theme=dark] .colab-df-convert:hover {\n",
              "      background-color: #434B5C;\n",
              "      box-shadow: 0px 1px 3px 1px rgba(0, 0, 0, 0.15);\n",
              "      filter: drop-shadow(0px 1px 2px rgba(0, 0, 0, 0.3));\n",
              "      fill: #FFFFFF;\n",
              "    }\n",
              "  </style>\n",
              "\n",
              "    <script>\n",
              "      const buttonEl =\n",
              "        document.querySelector('#df-ca624555-e874-4453-851e-f519e3a69f29 button.colab-df-convert');\n",
              "      buttonEl.style.display =\n",
              "        google.colab.kernel.accessAllowed ? 'block' : 'none';\n",
              "\n",
              "      async function convertToInteractive(key) {\n",
              "        const element = document.querySelector('#df-ca624555-e874-4453-851e-f519e3a69f29');\n",
              "        const dataTable =\n",
              "          await google.colab.kernel.invokeFunction('convertToInteractive',\n",
              "                                                    [key], {});\n",
              "        if (!dataTable) return;\n",
              "\n",
              "        const docLinkHtml = 'Like what you see? Visit the ' +\n",
              "          '<a target=\"_blank\" href=https://colab.research.google.com/notebooks/data_table.ipynb>data table notebook</a>'\n",
              "          + ' to learn more about interactive tables.';\n",
              "        element.innerHTML = '';\n",
              "        dataTable['output_type'] = 'display_data';\n",
              "        await google.colab.output.renderOutput(dataTable, element);\n",
              "        const docLink = document.createElement('div');\n",
              "        docLink.innerHTML = docLinkHtml;\n",
              "        element.appendChild(docLink);\n",
              "      }\n",
              "    </script>\n",
              "  </div>\n",
              "\n",
              "\n",
              "<div id=\"df-3f03d6ca-816b-491e-856b-a6e53e2407cb\">\n",
              "  <button class=\"colab-df-quickchart\" onclick=\"quickchart('df-3f03d6ca-816b-491e-856b-a6e53e2407cb')\"\n",
              "            title=\"Suggest charts\"\n",
              "            style=\"display:none;\">\n",
              "\n",
              "<svg xmlns=\"http://www.w3.org/2000/svg\" height=\"24px\"viewBox=\"0 0 24 24\"\n",
              "     width=\"24px\">\n",
              "    <g>\n",
              "        <path d=\"M19 3H5c-1.1 0-2 .9-2 2v14c0 1.1.9 2 2 2h14c1.1 0 2-.9 2-2V5c0-1.1-.9-2-2-2zM9 17H7v-7h2v7zm4 0h-2V7h2v10zm4 0h-2v-4h2v4z\"/>\n",
              "    </g>\n",
              "</svg>\n",
              "  </button>\n",
              "\n",
              "<style>\n",
              "  .colab-df-quickchart {\n",
              "      --bg-color: #E8F0FE;\n",
              "      --fill-color: #1967D2;\n",
              "      --hover-bg-color: #E2EBFA;\n",
              "      --hover-fill-color: #174EA6;\n",
              "      --disabled-fill-color: #AAA;\n",
              "      --disabled-bg-color: #DDD;\n",
              "  }\n",
              "\n",
              "  [theme=dark] .colab-df-quickchart {\n",
              "      --bg-color: #3B4455;\n",
              "      --fill-color: #D2E3FC;\n",
              "      --hover-bg-color: #434B5C;\n",
              "      --hover-fill-color: #FFFFFF;\n",
              "      --disabled-bg-color: #3B4455;\n",
              "      --disabled-fill-color: #666;\n",
              "  }\n",
              "\n",
              "  .colab-df-quickchart {\n",
              "    background-color: var(--bg-color);\n",
              "    border: none;\n",
              "    border-radius: 50%;\n",
              "    cursor: pointer;\n",
              "    display: none;\n",
              "    fill: var(--fill-color);\n",
              "    height: 32px;\n",
              "    padding: 0;\n",
              "    width: 32px;\n",
              "  }\n",
              "\n",
              "  .colab-df-quickchart:hover {\n",
              "    background-color: var(--hover-bg-color);\n",
              "    box-shadow: 0 1px 2px rgba(60, 64, 67, 0.3), 0 1px 3px 1px rgba(60, 64, 67, 0.15);\n",
              "    fill: var(--button-hover-fill-color);\n",
              "  }\n",
              "\n",
              "  .colab-df-quickchart-complete:disabled,\n",
              "  .colab-df-quickchart-complete:disabled:hover {\n",
              "    background-color: var(--disabled-bg-color);\n",
              "    fill: var(--disabled-fill-color);\n",
              "    box-shadow: none;\n",
              "  }\n",
              "\n",
              "  .colab-df-spinner {\n",
              "    border: 2px solid var(--fill-color);\n",
              "    border-color: transparent;\n",
              "    border-bottom-color: var(--fill-color);\n",
              "    animation:\n",
              "      spin 1s steps(1) infinite;\n",
              "  }\n",
              "\n",
              "  @keyframes spin {\n",
              "    0% {\n",
              "      border-color: transparent;\n",
              "      border-bottom-color: var(--fill-color);\n",
              "      border-left-color: var(--fill-color);\n",
              "    }\n",
              "    20% {\n",
              "      border-color: transparent;\n",
              "      border-left-color: var(--fill-color);\n",
              "      border-top-color: var(--fill-color);\n",
              "    }\n",
              "    30% {\n",
              "      border-color: transparent;\n",
              "      border-left-color: var(--fill-color);\n",
              "      border-top-color: var(--fill-color);\n",
              "      border-right-color: var(--fill-color);\n",
              "    }\n",
              "    40% {\n",
              "      border-color: transparent;\n",
              "      border-right-color: var(--fill-color);\n",
              "      border-top-color: var(--fill-color);\n",
              "    }\n",
              "    60% {\n",
              "      border-color: transparent;\n",
              "      border-right-color: var(--fill-color);\n",
              "    }\n",
              "    80% {\n",
              "      border-color: transparent;\n",
              "      border-right-color: var(--fill-color);\n",
              "      border-bottom-color: var(--fill-color);\n",
              "    }\n",
              "    90% {\n",
              "      border-color: transparent;\n",
              "      border-bottom-color: var(--fill-color);\n",
              "    }\n",
              "  }\n",
              "</style>\n",
              "\n",
              "  <script>\n",
              "    async function quickchart(key) {\n",
              "      const quickchartButtonEl =\n",
              "        document.querySelector('#' + key + ' button');\n",
              "      quickchartButtonEl.disabled = true;  // To prevent multiple clicks.\n",
              "      quickchartButtonEl.classList.add('colab-df-spinner');\n",
              "      try {\n",
              "        const charts = await google.colab.kernel.invokeFunction(\n",
              "            'suggestCharts', [key], {});\n",
              "      } catch (error) {\n",
              "        console.error('Error during call to suggestCharts:', error);\n",
              "      }\n",
              "      quickchartButtonEl.classList.remove('colab-df-spinner');\n",
              "      quickchartButtonEl.classList.add('colab-df-quickchart-complete');\n",
              "    }\n",
              "    (() => {\n",
              "      let quickchartButtonEl =\n",
              "        document.querySelector('#df-3f03d6ca-816b-491e-856b-a6e53e2407cb button');\n",
              "      quickchartButtonEl.style.display =\n",
              "        google.colab.kernel.accessAllowed ? 'block' : 'none';\n",
              "    })();\n",
              "  </script>\n",
              "</div>\n",
              "\n",
              "    </div>\n",
              "  </div>\n"
            ],
            "application/vnd.google.colaboratory.intrinsic+json": {
              "type": "dataframe",
              "variable_name": "df_supplements",
              "summary": "{\n  \"name\": \"df_supplements\",\n  \"rows\": 299,\n  \"fields\": [\n    {\n      \"column\": \"Texto\",\n      \"properties\": {\n        \"dtype\": \"string\",\n        \"num_unique_values\": 296,\n        \"samples\": [\n          \"Todo lleg\\u00f3 perfecto, recomiendo la tienda\",\n          \"Lleg\\u00f3 muy r\\u00e1pido, mejor de lo esperado\",\n          \"La calidad podr\\u00eda ser mejor\"\n        ],\n        \"semantic_type\": \"\",\n        \"description\": \"\"\n      }\n    },\n    {\n      \"column\": \"Sentimiento\",\n      \"properties\": {\n        \"dtype\": \"category\",\n        \"num_unique_values\": 3,\n        \"samples\": [\n          \"positivo\",\n          \"negativo\",\n          \"neutral\"\n        ],\n        \"semantic_type\": \"\",\n        \"description\": \"\"\n      }\n    },\n    {\n      \"column\": \"longitud_palabras\",\n      \"properties\": {\n        \"dtype\": \"number\",\n        \"std\": 1,\n        \"min\": 3,\n        \"max\": 11,\n        \"num_unique_values\": 9,\n        \"samples\": [\n          4,\n          7,\n          3\n        ],\n        \"semantic_type\": \"\",\n        \"description\": \"\"\n      }\n    },\n    {\n      \"column\": \"Texto_Limpio\",\n      \"properties\": {\n        \"dtype\": \"string\",\n        \"num_unique_values\": 289,\n        \"samples\": [\n          \"tiempo entrega demasiado largo\",\n          \"env\\u00edo eficiente problemas\",\n          \"servicio cliente profesional\"\n        ],\n        \"semantic_type\": \"\",\n        \"description\": \"\"\n      }\n    }\n  ]\n}"
            }
          },
          "metadata": {},
          "execution_count": 19
        }
      ]
    },
    {
      "cell_type": "markdown",
      "source": [
        "`WordCloud`\n",
        "---\n",
        "\n",
        "Visualización de las palabras más frecuentes (cualitativamente).\n",
        "A simple vista son las principales palabras. :\n",
        "- Sabor\n",
        "- Producto\n",
        "- Precio\n",
        "- Calidad\n",
        "- Servicio\n",
        "- llego\n",
        "- rapido\n",
        "\n",
        "Entiendo que va de la mano con el desbalance positivo de los comentarios.\n",
        "\n",
        "A simple vista pareciera que el producto es el principal eje de los comentarios y que el precio, el sabor y la velocidad son las variables más comentadas por los clientes."
      ],
      "metadata": {
        "id": "hT9AvT41DJOr"
      }
    },
    {
      "cell_type": "code",
      "source": [
        "# Wordcloud para visualizar las palabras más frecuentes en los comentarios de los usuarios\n",
        "\n",
        "# Lista para almacenar todos los textos limpios\n",
        "texto_completo = \" \".join(df_supplements['Texto_Limpio'])\n",
        "\n",
        "# Generación del WordCloud\n",
        "wordcloud = WordCloud(width=800, height=400, background_color='white').generate(texto_completo)\n",
        "\n",
        "# Mostrar la imagen del WordCloud\n",
        "plt.figure(figsize=(10, 6))\n",
        "plt.imshow(wordcloud, interpolation='bilinear')  # 'bilinear' para suavizar la imagen\n",
        "plt.axis('off')  # Quitar los ejes\n",
        "plt.show()"
      ],
      "metadata": {
        "colab": {
          "base_uri": "https://localhost:8080/",
          "height": 424
        },
        "id": "_UnnK0CPCQNt",
        "outputId": "8ad4c9c6-41be-49f7-d902-959d601ea5a7"
      },
      "execution_count": 20,
      "outputs": [
        {
          "output_type": "display_data",
          "data": {
            "text/plain": [
              "<Figure size 1000x600 with 1 Axes>"
            ],
            "image/png": "[encoded data removed]"
          },
          "metadata": {}
        }
      ]
    },
    {
      "cell_type": "markdown",
      "source": [
        "`CounterVectorizer`\n",
        "---\n",
        "\n",
        "En este caso quiero ver de manera cuantitativa y más detallada la misma repetición.\n",
        "\n",
        "Voy a analizar el top 10 de palabras más frecuentas.\n",
        "\n",
        "De esta manera voy a buscar complementar la Word Cloud con esta herramienta.\n",
        "\n",
        "Analizando el gráfico refuerzo la idea anterior, eje de los comentarios \"Producto\" y variables principales \"Sabor\", \"Precio\", \"Entrega\" y \"Atención\""
      ],
      "metadata": {
        "id": "4ZXutXk3fwUc"
      }
    },
    {
      "cell_type": "code",
      "source": [
        "# CountVectorizer para complementar el ánalisis de las palabras más frecuentes\n",
        "\n",
        "# Inicializar el CountVectorizer\n",
        "vectorizer = CountVectorizer(max_features=10)\n",
        "\n",
        "# Aplicar el vectorizer al texto completo\n",
        "X = vectorizer.fit_transform([texto_completo])\n",
        "\n",
        "# Obtener las palabras y sus frecuencias\n",
        "palabras = vectorizer.get_feature_names_out()\n",
        "frecuencias = X.toarray().sum(axis=0)\n",
        "\n",
        "# Crear un DataFrame para visualizar las palabras más frecuentes\n",
        "df_palabras = pd.DataFrame({'Palabra': palabras, 'Frecuencia': frecuencias})\n",
        "\n",
        "# Ordenar el DataFrame por frecuencia en orden descendente\n",
        "df_palabras = df_palabras.sort_values(by='Frecuencia', ascending=False)\n",
        "\n",
        "# Visualizar las top 10 palabras más frecuentes\n",
        "plt.figure(figsize=(10, 6))\n",
        "plt.barh(df_palabras['Palabra'], df_palabras['Frecuencia'], color='skyblue')\n",
        "plt.title('Top 10 Palabras Más Frecuentes')\n",
        "plt.xlabel('Frecuencia')\n",
        "plt.ylabel('Palabras')\n",
        "plt.gca().invert_yaxis()  # Para que la palabra más frecuente esté arriba\n",
        "plt.show()\n"
      ],
      "metadata": {
        "colab": {
          "base_uri": "https://localhost:8080/",
          "height": 565
        },
        "id": "YSg-uGs5ECQy",
        "outputId": "c285fd91-0880-440e-fabe-1598fe73a4c2"
      },
      "execution_count": 21,
      "outputs": [
        {
          "output_type": "display_data",
          "data": {
            "text/plain": [
              "<Figure size 1000x600 with 1 Axes>"
            ],
            "image/png": "[encoded data removed]"
          },
          "metadata": {}
        }
      ]
    },
    {
      "cell_type": "markdown",
      "source": [
        "# Feature Engineering\n",
        "\n",
        "El objetivo de esta sección es transformar el texto para que pueda ser interpretado por los algoritmos de ML que voy a usar posteriormente."
      ],
      "metadata": {
        "id": "DYjxHTTaMhXW"
      }
    },
    {
      "cell_type": "markdown",
      "source": [
        "NLP Representation"
      ],
      "metadata": {
        "id": "N7ibvtUmWl2A"
      }
    },
    {
      "cell_type": "markdown",
      "source": [
        "`Embedding Models`\n",
        "---\n",
        "\n",
        "Me va a permitir representar el texto en un espacio numerico. A diferencia de métodos más clásicos como TF-IDF que captura la frecuencia de palabras, los embedings me van a permitir capturar representaciones densas del texto que incluyen relaciones tanto semánticas como contextuales entre palabras.\n",
        "\n",
        "Esto va a ser fundamental a la hora de aplicar los modelos de ML, ya que va a permitir que comprendan no solo las palabras individuales, sino el contexto general de las oraciones.\n",
        "\n",
        "Voy a utilizar el tokenizador y el modelo de HuggingFace (intfloat/multilingual-e5-large)para obtener los embeddings de las frases ya que es un modelo open-source que soporta distintos lenguajes especializado en texto semantico."
      ],
      "metadata": {
        "id": "Sn-TG6l5Q95M"
      }
    },
    {
      "cell_type": "code",
      "source": [
        "# Embedding Models\n",
        "\n",
        "# Cargar el modelo y tokenizer desde HuggingFace\n",
        "tokenizer = AutoTokenizer.from_pretrained(\"intfloat/multilingual-e5-large\")\n",
        "model = AutoModel.from_pretrained(\"intfloat/multilingual-e5-large\")\n",
        "\n",
        "# Función para obtener embeddings\n",
        "def get_embedding(text):\n",
        "    # Tokenizar la oración\n",
        "    inputs = tokenizer(text, return_tensors=\"pt\", padding=True, truncation=True)\n",
        "\n",
        "    # Obtener el embedding de la oración\n",
        "    with torch.no_grad():\n",
        "        embedding = model(**inputs).last_hidden_state.mean(dim=1)\n",
        "\n",
        "    return embedding.squeeze().numpy()\n",
        "\n",
        "# Aplicar la función a la columna 'Texto_Limpio' de tu DataFrame\n",
        "df_supplements['Embedding'] = df_supplements['Texto_Limpio'].apply(get_embedding)\n",
        "\n",
        "# Ver el DataFrame con embeddings\n",
        "print(df_supplements[['Texto_Limpio', 'Embedding']])"
      ],
      "metadata": {
        "id": "XySV7zuU8PxB",
        "colab": {
          "base_uri": "https://localhost:8080/",
          "height": 811,
          "referenced_widgets": [
            "6062c4b98c0d4e159659edf471409613",
            "2f7ac363007a4d479a95417503bacec3",
            "14e8103b6ed14dc0ac197a8e581184ef",
            "8aa726320bff454c9288a3f9e39c0bf9",
            "a9f61b33ccb7428da50c6162239d7cd9",
            "2afb9d6a97ac4575b355333b8cd3557e",
            "812299598ddb43d1b3567790f111db5e",
            "79bddd77aa2942b68c6377df47013ee0",
            "29f1caad87724b0b8c65d564c4f2657e",
            "16c4fd0bd401488cad67a345f6726ea2",
            "9708b5d3a30c42f7aaefb2add3cb7b7d",
            "afb2126ee479466da9de04901c349d13",
            "ade4d34d33a44b468957d1c33f41e7fc",
            "9d4ee5760d6f4fc394490cd5749faccd",
            "d87fc9e79e4b47449e41a6e7dd3910cb",
            "909963245a8044148d1e778534a08ae8",
            "60b71f590f624a7b9c25b0b18f0ef3dc",
            "a86921de40d94c8a812890377314ba24",
            "b98f576eb30e498a9ff9d968a42384f9",
            "8d4b6f9fe1384e81ae632a0054bdca78",
            "b36546d130334b529e86ff5a762ff1e5",
            "a681651e69334f7188a228dd758696e3",
            "4aedaa6bfaad406890f2d14e4069ebb3",
            "f828103527bf4f5a949aaaa0b6d91d3a",
            "054aee16d0214542967daaf04a93173b",
            "559471f16f134c5bb1b56bbb660d7d6b",
            "bea55ea351db4b3a8ec226507cd19534",
            "7ec3885e1c4f4eabb8cc37f9ec03cddb",
            "4db629bee8b24e00af61a23df39ab854",
            "7548c5bee1b140138ef523763b226131",
            "b88d759dda5544ed97607927eaca1c7b",
            "2ba5c946e06e43c883203c88716c5cc3",
            "713246bd83b4413cb2017c5153b3893e",
            "e9193eb53b734aa4ae2537b1cf369bff",
            "75b4795a24f44853b411d5dc90914331",
            "7b1de9ec1cec48b48c31df098b45d308",
            "9dd6ba33306243c4a521965bcb668c53",
            "ed842f9da22c485fba568604c87bbf23",
            "13be83baf6fa46f7bd4defa36d22aa9e",
            "97f736d3852241c4bea28477e68d5f6b",
            "5d7bc7c7aa904211a7d765b614657496",
            "745fedd42e23448eadaf451195521176",
            "8ded8a760f0b4161b4602cb3f3744736",
            "390bd3d743d042a3ad4607931f5c99a4",
            "c3fd2ce8b4904d2883b05f5e2822543b",
            "c8cc5d41c3d64cfca8a5807da24ead53",
            "d4867dec6dc549c685e038b536a9b482",
            "e322b4f1894a4243bf9d5b1b0ef85ab5",
            "7818b13f50f349b28f8437b4e2605b1b",
            "8573f7b2b9bf46cdbdd821d260eed646",
            "1c20d0b0957c4d5a8a57d83542974845",
            "374efb6d2ddc4286913741ac6023f006",
            "386a1e404b9a44cf9f7e9188b5a08b03",
            "4bb9d77cc87944e8a75de0506eda2450",
            "046456a5f8af4adba4505d0b7f47c3f0",
            "ceaf6c715bed4fbaa2a963bf5faa8c46",
            "f93977a6d03c409e80424421e3e5ddaf",
            "af6aee60971f44a19d6c6948ab51d472",
            "f63214dfdf42496992cc970252adabf3",
            "678da89424c24d09b58dcd5290d1edf7",
            "765e427fc5c14da4b93b9cd463cfca1f",
            "3af2ca39fcb946d48ff1d912b13ee4bb",
            "98196a62325c4aceb008d27ae7a16f20",
            "fbb6f57ef6c24135b61542d4f050451d",
            "c0f163c4f1d24b4b906c34b67660e2ef",
            "c183afb4fe864620a27fd5873d6362e6"
          ]
        },
        "outputId": "789f1942-43d1-417d-e014-be64dacc3600"
      },
      "execution_count": 22,
      "outputs": [
        {
          "output_type": "stream",
          "name": "stderr",
          "text": [
            "/usr/local/lib/python3.10/dist-packages/huggingface_hub/utils/_auth.py:94: UserWarning: \n",
            "The secret `HF_TOKEN` does not exist in your Colab secrets.\n",
            "To authenticate with the Hugging Face Hub, create a token in your settings tab (https://huggingface.co/settings/tokens), set it as secret in your Google Colab and restart your session.\n",
            "You will be able to reuse this secret in all of your notebooks.\n",
            "Please note that authentication is recommended but still optional to access public models or datasets.\n",
            "  warnings.warn(\n"
          ]
        },
        {
          "output_type": "display_data",
          "data": {
            "text/plain": [
              "tokenizer_config.json:   0%|          | 0.00/418 [00:00<?, ?B/s]"
            ],
            "application/vnd.jupyter.widget-view+json": {
              "version_major": 2,
              "version_minor": 0,
              "model_id": "6062c4b98c0d4e159659edf471409613"
            }
          },
          "metadata": {}
        },
        {
          "output_type": "display_data",
          "data": {
            "text/plain": [
              "sentencepiece.bpe.model:   0%|          | 0.00/5.07M [00:00<?, ?B/s]"
            ],
            "application/vnd.jupyter.widget-view+json": {
              "version_major": 2,
              "version_minor": 0,
              "model_id": "afb2126ee479466da9de04901c349d13"
            }
          },
          "metadata": {}
        },
        {
          "output_type": "display_data",
          "data": {
            "text/plain": [
              "tokenizer.json:   0%|          | 0.00/17.1M [00:00<?, ?B/s]"
            ],
            "application/vnd.jupyter.widget-view+json": {
              "version_major": 2,
              "version_minor": 0,
              "model_id": "4aedaa6bfaad406890f2d14e4069ebb3"
            }
          },
          "metadata": {}
        },
        {
          "output_type": "display_data",
          "data": {
            "text/plain": [
              "special_tokens_map.json:   0%|          | 0.00/280 [00:00<?, ?B/s]"
            ],
            "application/vnd.jupyter.widget-view+json": {
              "version_major": 2,
              "version_minor": 0,
              "model_id": "e9193eb53b734aa4ae2537b1cf369bff"
            }
          },
          "metadata": {}
        },
        {
          "output_type": "display_data",
          "data": {
            "text/plain": [
              "config.json:   0%|          | 0.00/690 [00:00<?, ?B/s]"
            ],
            "application/vnd.jupyter.widget-view+json": {
              "version_major": 2,
              "version_minor": 0,
              "model_id": "c3fd2ce8b4904d2883b05f5e2822543b"
            }
          },
          "metadata": {}
        },
        {
          "output_type": "display_data",
          "data": {
            "text/plain": [
              "model.safetensors:   0%|          | 0.00/2.24G [00:00<?, ?B/s]"
            ],
            "application/vnd.jupyter.widget-view+json": {
              "version_major": 2,
              "version_minor": 0,
              "model_id": "ceaf6c715bed4fbaa2a963bf5faa8c46"
            }
          },
          "metadata": {}
        },
        {
          "output_type": "stream",
          "name": "stdout",
          "text": [
            "                            Texto_Limpio  \\\n",
            "0          sabor increíble mejor probado   \n",
            "1             llegó tarde paquete dañado   \n",
            "2               precio razonable calidad   \n",
            "3    noto diferencia productos similares   \n",
            "4                 envío rápido problemas   \n",
            "..                                   ...   \n",
            "294                 siento vitalidad uso   \n",
            "295  excelente calidad vale cada centavo   \n",
            "296         sabor aceptable sorprendente   \n",
            "297           problemas atención cliente   \n",
            "298              llegó tiempo confiables   \n",
            "\n",
            "                                             Embedding  \n",
            "0    [0.37949297, 0.018278519, -0.31692043, -1.4277...  \n",
            "1    [0.29728043, 0.10108301, 0.2544717, -1.0751157...  \n",
            "2    [0.3472688, -0.25522107, -0.34541056, -1.44136...  \n",
            "3    [0.602626, -0.63015354, -0.7458455, -0.9598028...  \n",
            "4    [0.10878301, -0.04230996, 0.18203694, -0.80993...  \n",
            "..                                                 ...  \n",
            "294  [0.47435722, -0.29000342, -0.79885054, -0.9351...  \n",
            "295  [0.6868878, -0.79065406, -0.555659, -1.0401362...  \n",
            "296  [0.810471, 0.20235753, 0.30657953, -1.7499384,...  \n",
            "297  [0.2697413, -0.26296267, -0.21611992, -2.04731...  \n",
            "298  [0.96641177, -0.43883395, -0.718041, -1.114250...  \n",
            "\n",
            "[299 rows x 2 columns]\n"
          ]
        }
      ]
    },
    {
      "cell_type": "markdown",
      "source": [
        "`t-SNE Reducción de Dimensionalidad`\n",
        "---\n",
        "\n",
        "El obtetivo es crear un mapa reducido e 2D para visualizar e interpretar los embeddings realizados en el paso previo a través de t-SNE.\n",
        "\n",
        "- n_components = Elegí 2 componentes para reducir los embeddings a un plano 2D, para facilitar la visualización.\n",
        "- Perplexity: Tomo un valor medio dado que se recomienda 5-15 para enfocar en relaciones locales y 50 a 100 para dar prioridad a patrones globales.\n",
        "- random_state = 42 para permitir la reproducibilidad\n",
        "\n"
      ],
      "metadata": {
        "id": "mu0hyjv-DYX0"
      }
    },
    {
      "cell_type": "code",
      "source": [
        "# Visualización 2D de los embeddings\n",
        "\n",
        "# Extraer los embeddings (asegúrate de convertirlos a una matriz NumPy)\n",
        "embeddings = np.vstack(df_supplements['Embedding'])\n",
        "\n",
        "labels = df_supplements['Sentimiento']\n",
        "\n",
        "# Aplicar t-SNE para reducir dimensiones\n",
        "tsne = TSNE(n_components=2, random_state=42, perplexity=30)\n",
        "embeddings_2d = tsne.fit_transform(embeddings)\n",
        "\n",
        "# Crear el gráfico de dispersión\n",
        "plt.figure(figsize=(10, 7))\n",
        "for cluster in set(labels):\n",
        "    idx = labels == cluster\n",
        "    plt.scatter(embeddings_2d[idx, 0], embeddings_2d[idx, 1], label=f'{cluster}', alpha=0.7)\n",
        "\n",
        "plt.title(\"Distribución de Embeddings con t-SNE\")\n",
        "plt.legend()\n",
        "plt.show()\n"
      ],
      "metadata": {
        "id": "5WtRl5-wXxua",
        "colab": {
          "base_uri": "https://localhost:8080/",
          "height": 622
        },
        "outputId": "55620359-11bf-4da0-c825-26a1528576ef"
      },
      "execution_count": 23,
      "outputs": [
        {
          "output_type": "display_data",
          "data": {
            "text/plain": [
              "<Figure size 1000x700 with 1 Axes>"
            ],
            "image/png": "[encoded data removed]"
          },
          "metadata": {}
        }
      ]
    },
    {
      "cell_type": "markdown",
      "source": [
        "A simple vista percibo un aceptable agrupamiento de las críticas `positivas`.\n",
        "\n",
        "Indica que las expresiones positivas tienen una representación semántica distintiva en el espacio de embeddings.\n",
        "\n",
        "Los puntos `negativos` también tienen a formar grupos aunque aparecen globalmente un poco más dispersos que los positivos.\n",
        "\n",
        "Los `neutrales` estan más intercalados entre los dos grupos, lo que podría hablar de cierta ambiguedad de las críticas a nivel semántico."
      ],
      "metadata": {
        "id": "ELALTb2yLVv_"
      }
    },
    {
      "cell_type": "markdown",
      "source": [
        "`Calculo la matriz de distancias `\n",
        "---\n",
        "\n",
        "Realizo el cálculo de distancias entre los puntos en el espacio 2D generado por t-SNE con el objetivo de analizar que tan cerca o lejos están entre sí las observaciones.\n",
        "\n",
        "**Pairwise_distances**: Se utiliza en este caso para calcular la distiancia entre cada par de puntos en el espacio 2D generado previamente.\n",
        "Me crea una matriz de distancias utilizando metrica Euclidiana."
      ],
      "metadata": {
        "id": "_GwIW25pJTnW"
      }
    },
    {
      "cell_type": "code",
      "source": [
        "# Creo una matriz de distancias entre todos los puntos\n",
        "distance_matrix = pairwise_distances(embeddings_2d)\n",
        "\n",
        "# Crear máscaras para distancias intra-cluster y entre clusters\n",
        "intra_distances = []\n",
        "inter_distances = []\n",
        "\n",
        "# Se itera sobre las distancias y dependiendo si pertenece al mismo cluster o a diferentes clusters se agregan a dicha lista.\n",
        "for i, label_i in enumerate(labels):\n",
        "    for j, label_j in enumerate(labels):\n",
        "        if i < j:  # Evitar duplicar cálculos\n",
        "        # Si los puntos pertenecen al mismo cluster se agregan a la lista intra\n",
        "            if label_i == label_j:\n",
        "                intra_distances.append(distance_matrix[i, j])\n",
        "        # Sino se agregan a la lista inter\n",
        "            else:\n",
        "                inter_distances.append(distance_matrix[i, j])\n",
        "\n",
        "# Visualizar histogramas\n",
        "plt.figure(figsize=(12, 6))\n",
        "\n",
        "# Histogramas de distancias intra-cluster\n",
        "plt.subplot(1, 2, 1)\n",
        "sns.histplot(intra_distances, kde=True, color='blue', bins=20)\n",
        "plt.title('Distancias Intra-Cluster')\n",
        "plt.xlabel('Distancia')\n",
        "plt.ylabel('Frecuencia')\n",
        "\n",
        "# Histogramas de distancias entre clusters\n",
        "plt.subplot(1, 2, 2)\n",
        "sns.histplot(inter_distances, kde=True, color='red', bins=20)\n",
        "plt.title('Distancias Entre Clusters')\n",
        "plt.xlabel('Distancia')\n",
        "plt.ylabel('Frecuencia')\n",
        "\n",
        "plt.tight_layout()\n",
        "plt.show()\n"
      ],
      "metadata": {
        "colab": {
          "base_uri": "https://localhost:8080/",
          "height": 607
        },
        "id": "f2iMuRHJH_yp",
        "outputId": "c687d870-078a-43f0-9725-1fec3a1bec70"
      },
      "execution_count": 24,
      "outputs": [
        {
          "output_type": "display_data",
          "data": {
            "text/plain": [
              "<Figure size 1200x600 with 2 Axes>"
            ],
            "image/png": "[encoded data removed]"
          },
          "metadata": {}
        }
      ]
    },
    {
      "cell_type": "markdown",
      "source": [
        "- Distancias intra-cluster: Las distancias entre los puntos de una misma etiqueta tiene un pico entre 10 y 20. Lo interpreto como algo positivo ya que sugiere que los puntos dentro del mismo grupo están semánticamente cercanos.\n",
        "\n",
        "- Distancias inter-cluster: La separación entre los diferentes grupos tiene un pico en el rango de 10 a 30, por encima de las distancias intra cluster.\n",
        "No es muy grande pero lo considero aceptable.\n"
      ],
      "metadata": {
        "id": "tIUIeQyYWX4m"
      }
    },
    {
      "cell_type": "markdown",
      "source": [
        "# ETAPA 1: Modelado Predictivo"
      ],
      "metadata": {
        "id": "D8rhLAuRM1Lk"
      }
    },
    {
      "cell_type": "markdown",
      "source": [
        "`Clasificación de Sentimiento (Sentimental Classification)`\n",
        "---\n",
        "\n",
        "Research inicial:\n",
        "- https://towardsdatascience.com/a-guide-to-text-classification-and-sentiment-analysis-2ab021796317\n",
        "- https://cookbook.openai.com/examples/classification_using_embeddings"
      ],
      "metadata": {
        "id": "zo8Mk5VRM9ZE"
      }
    },
    {
      "cell_type": "markdown",
      "source": [
        "Para esta etapa voy a utilizar modelos eficientes y a la vez accesibles en cualquier tipo de entorno para la clasificación de sentimientos.\n",
        "\n",
        "https://www.geeksforgeeks.org/random-forest-algorithm-in-machine-learning/\n",
        "https://www.geeksforgeeks.org/support-vector-machine-algorithm/\n",
        "https://www.geeksforgeeks.org/support-vector-machine-algorithm/\n",
        "\n",
        "Principalmente voy a probar:\n",
        "- Logistic Regression\n",
        "- Random Forest\n",
        "- Support Vector Machine (SVM)\n",
        "\n",
        "Tienen una buena capacidad para manejar datos de alta dimensionalidad como embeddings y como ventaja no requieren mucha capacidad computacional.\n",
        "\n",
        "Como problematicas que puedan surgir en primera instancia se me ocurren los analizados en la etapa de EDA:\n",
        "\n",
        "- Desbalanceo de clases: Hay más positivos que neutrales y negativos.\n",
        "En ese caso habrá que evaluar undersampling o oversampling."
      ],
      "metadata": {
        "id": "6XubbdnKsoue"
      }
    },
    {
      "cell_type": "markdown",
      "source": [
        "`Preparación del df para trabajar los modelos` `Código en línea`\n",
        "---"
      ],
      "metadata": {
        "id": "qFENdtpQ3nVK"
      }
    },
    {
      "cell_type": "code",
      "source": [
        "label_encoder = LabelEncoder()\n",
        "df_supplements['Sentimiento'] = label_encoder.fit_transform(df_supplements['Sentimiento'])"
      ],
      "metadata": {
        "id": "Il5_sMRJ8S04"
      },
      "execution_count": 25,
      "outputs": []
    },
    {
      "cell_type": "code",
      "source": [
        "# Verificar la columna de Sentimiento\n",
        "print(df_supplements['Sentimiento'].unique())  # Asegúrate de que las etiquetas son correctas\n"
      ],
      "metadata": {
        "colab": {
          "base_uri": "https://localhost:8080/"
        },
        "id": "J8pD7K_l8WIF",
        "outputId": "8e5e99bf-02ad-4aa9-e50b-9b80fe826c24"
      },
      "execution_count": 26,
      "outputs": [
        {
          "output_type": "stream",
          "name": "stdout",
          "text": [
            "[2 0 1]\n"
          ]
        }
      ]
    },
    {
      "cell_type": "code",
      "source": [
        "# Preparo el df\n",
        "X = np.vstack(df_supplements['Embedding'].values)\n",
        "y = df_supplements[[\"Sentimiento\"]].values\n",
        "\n",
        "# Divido los datos\n",
        "X_train, X_test, y_train, y_test = train_test_split(X, y, test_size=0.2,random_state=42)\n"
      ],
      "metadata": {
        "id": "k8IQOlCF34MR"
      },
      "execution_count": 27,
      "outputs": []
    },
    {
      "cell_type": "markdown",
      "source": [
        "`Modelos: Finalmente utilizo Logistic Regression`\n",
        "---"
      ],
      "metadata": {
        "id": "098QazOVmcvs"
      }
    },
    {
      "cell_type": "markdown",
      "source": [
        "Logistic Regression"
      ],
      "metadata": {
        "id": "Q86nMDRq5ju_"
      }
    },
    {
      "cell_type": "code",
      "source": [
        "# Crear y entrenar el modelo de regresión logística\n",
        "model_lr = LogisticRegression(max_iter=1000, class_weight=\"balanced\")\n",
        "model_lr.fit(X_train, y_train)\n",
        "\n",
        "# Evaluar el modelo\n",
        "y_pred_lr = model_lr.predict(X_test)\n",
        "print(classification_report(y_test, y_pred_lr))"
      ],
      "metadata": {
        "colab": {
          "base_uri": "https://localhost:8080/"
        },
        "id": "TP45kLgR4TL3",
        "outputId": "fc0e191e-b2bf-4df1-a10a-17b236a20617"
      },
      "execution_count": 28,
      "outputs": [
        {
          "output_type": "stream",
          "name": "stderr",
          "text": [
            "/usr/local/lib/python3.10/dist-packages/sklearn/utils/validation.py:1408: DataConversionWarning: A column-vector y was passed when a 1d array was expected. Please change the shape of y to (n_samples, ), for example using ravel().\n",
            "  y = column_or_1d(y, warn=True)\n"
          ]
        },
        {
          "output_type": "stream",
          "name": "stdout",
          "text": [
            "              precision    recall  f1-score   support\n",
            "\n",
            "           0       0.77      0.77      0.77        22\n",
            "           1       0.86      0.75      0.80        16\n",
            "           2       0.83      0.91      0.87        22\n",
            "\n",
            "    accuracy                           0.82        60\n",
            "   macro avg       0.82      0.81      0.81        60\n",
            "weighted avg       0.82      0.82      0.82        60\n",
            "\n"
          ]
        }
      ]
    },
    {
      "cell_type": "markdown",
      "source": [
        "Random Forest"
      ],
      "metadata": {
        "id": "xmRB9NtfsRZI"
      }
    },
    {
      "cell_type": "code",
      "source": [
        "# Creo y entreno el modelo de Random Forest\n",
        "# Entrenar el modelo de Random Forest\n",
        "model_rf = RandomForestClassifier(n_estimators=100, random_state=42)\n",
        "model_rf.fit(X_train, y_train)\n",
        "\n",
        "# Evaluar el modelo\n",
        "y_pred_rf = model_rf.predict(X_test)\n",
        "print(classification_report(y_test, y_pred_rf))"
      ],
      "metadata": {
        "colab": {
          "base_uri": "https://localhost:8080/"
        },
        "id": "DZ6SHfxzsMyo",
        "outputId": "1f56be77-955f-4bb6-8d0b-f834af056934"
      },
      "execution_count": 29,
      "outputs": [
        {
          "output_type": "stream",
          "name": "stderr",
          "text": [
            "/usr/local/lib/python3.10/dist-packages/sklearn/base.py:1389: DataConversionWarning: A column-vector y was passed when a 1d array was expected. Please change the shape of y to (n_samples,), for example using ravel().\n",
            "  return fit_method(estimator, *args, **kwargs)\n"
          ]
        },
        {
          "output_type": "stream",
          "name": "stdout",
          "text": [
            "              precision    recall  f1-score   support\n",
            "\n",
            "           0       0.76      0.73      0.74        22\n",
            "           1       0.80      0.50      0.62        16\n",
            "           2       0.72      0.95      0.82        22\n",
            "\n",
            "    accuracy                           0.75        60\n",
            "   macro avg       0.76      0.73      0.73        60\n",
            "weighted avg       0.76      0.75      0.74        60\n",
            "\n"
          ]
        }
      ]
    },
    {
      "cell_type": "markdown",
      "source": [
        "Suppor Vector Machine (SVM)"
      ],
      "metadata": {
        "id": "2G7Tr0rdF_tJ"
      }
    },
    {
      "cell_type": "code",
      "source": [
        "# Crear y entrenar el modelo de SVM\n",
        "model_svm = SVC(kernel='linear', random_state=42)  # Puedes probar otros kernels si lo deseas (por ejemplo, 'rbf', 'poly')\n",
        "model_svm.fit(X_train, y_train)\n",
        "\n",
        "# Evaluar el modelo\n",
        "y_pred_svm = model_svm.predict(X_test)\n",
        "\n",
        "# Mostrar el reporte de clasificación\n",
        "print(classification_report(y_test, y_pred_svm))"
      ],
      "metadata": {
        "colab": {
          "base_uri": "https://localhost:8080/"
        },
        "id": "__cmr61PGD7a",
        "outputId": "6f027bc8-665e-4afc-e7fc-bcae421b4302"
      },
      "execution_count": 30,
      "outputs": [
        {
          "output_type": "stream",
          "name": "stdout",
          "text": [
            "              precision    recall  f1-score   support\n",
            "\n",
            "           0       0.74      0.77      0.76        22\n",
            "           1       0.92      0.69      0.79        16\n",
            "           2       0.80      0.91      0.85        22\n",
            "\n",
            "    accuracy                           0.80        60\n",
            "   macro avg       0.82      0.79      0.80        60\n",
            "weighted avg       0.81      0.80      0.80        60\n",
            "\n"
          ]
        },
        {
          "output_type": "stream",
          "name": "stderr",
          "text": [
            "/usr/local/lib/python3.10/dist-packages/sklearn/utils/validation.py:1408: DataConversionWarning: A column-vector y was passed when a 1d array was expected. Please change the shape of y to (n_samples, ), for example using ravel().\n",
            "  y = column_or_1d(y, warn=True)\n"
          ]
        }
      ]
    },
    {
      "cell_type": "markdown",
      "source": [
        "`Metricas de Performance para clasificación`\n",
        "---\n",
        "`La precision`: Mide qué tan confiables son las predicciones positivas realizadas por el modelo. Indica la proporción de predicciones positivas que son realmente correctas.  \n",
        "\n",
        "Regresión Logistica:\n",
        "- Clase 0 (Negativo): 0.76\n",
        "- Clase 1 (Neutral): 0.86\n",
        "- Clase 2 (Positivo): 0.80\n",
        "\n",
        "Random Forest:\n",
        "- Clase 0 (Negativo): 0.76\n",
        "- Clase 1 (Neutral): 0.80\n",
        "- Clase 2 (Positivo): 0.72\n",
        "\n",
        "SVM:\n",
        "- Clase 0 (Negativo): 0.74\n",
        "- Clase 1 (Neutral): 0.92\n",
        "- Clase 2 (Positivo): 0.80\n",
        "\n",
        "La precisión es bastante alta y similar en los 3 modelos.\n",
        "\"neutral\" es la clase que mejor precisión tiene y \"Negativo\" es la que menor precisión tiene en general.\n",
        "Un detalle es que Random forest tiene menor precisión en genetal.\n",
        "\n",
        "---\n",
        "\n",
        "`El recall : Mide la capacidad del modelo para identificar correctamente todos los casos positivos reales. Indica cuántos de los positivos reales fueron detectados.\n",
        "\n",
        "Regresión Logistica:\n",
        "- Clase 0 (Negativo): 0.73\n",
        "- Clase 1 (Neutral): 0.75\n",
        "- Clase 2 (Positivo): 0.91\n",
        "\n",
        "Random Forest:\n",
        "- Clase 0 (Negativo): 0.73\n",
        "- Clase 1 (Neutral): 0.50\n",
        "- Clase 2 (Positivo): 0.95\n",
        "\n",
        "SVM:\n",
        "- Clase 0 (Negativo): 0.77\n",
        "- Clase 1 (Neutral): 0.69\n",
        "- Clase 2 (Positivo): 0.91\n",
        "\n",
        "El recall de la clase \"Positiva\" tiene un excelente desempeño.\n",
        "En la clase \"Neutral\" es donde se presenta la mayor diferencia y el menor desempeño sobre todo en Random Forest.\n",
        "\n",
        "---\n",
        "\n",
        "`El F1-Score `: Combina **precision** y **recall** en una única métrica. Es útil cuando las clases están desbalanceadas.\n",
        "En mi caso estan un tanto desbalanceadas por lo cual le voy a dar prioridad.\n",
        "\n",
        "Regresión Logistica:\n",
        "- Clase 0 (Negativo): 0.74\n",
        "- Clase 1 (Neutral): 0.80\n",
        "- Clase 2 (Negativo): 0.85\n",
        "\n",
        "Random Forest:\n",
        "- Clase 0 (Negativo): 0.74\n",
        "- Clase 1 (Neutral): 0.62\n",
        "- Clase 2 (Negativo): 0.82\n",
        "\n",
        "SVM:\n",
        "- Clase 0 (Negativo): 0.76\n",
        "- Clase 1 (Neutral): 0.79\n",
        "- Clase 2 (Negativo): 0.85\n",
        "\n",
        "El que mejor valores presenta es el modelo de regresión Logistica en terminos generales.\n",
        "Al ser un dataset un tanto desbalanceado voy a tomar la decisión de utilizar Regresión Logistica como modelo final.\n",
        "\n",
        "Descarto random forest por los valores de la clase neutral."
      ],
      "metadata": {
        "id": "KtzurR6hJ1uD"
      }
    },
    {
      "cell_type": "markdown",
      "source": [
        "`Matriz de Confusión`\n",
        "---"
      ],
      "metadata": {
        "id": "HkWUHmfSqMsv"
      }
    },
    {
      "cell_type": "code",
      "source": [
        "\n",
        "\n",
        "# Calcular la matriz de confusión\n",
        "cm = confusion_matrix(y_test, y_pred_lr)\n",
        "\n",
        "# Calcular la exactitud (accuracy)\n",
        "accuracy = accuracy_score(y_test, y_pred_lr)\n",
        "print(\"Accuracy:\", accuracy)\n",
        "\n",
        "# Visualizar la matriz de confusión\n",
        "plt.figure(figsize=(8, 6))  # Tamaño ajustado para mejor visualización\n",
        "plt.matshow(cm, cmap=plt.cm.Blues, fignum=1)  # `fignum=1` mantiene la figura\n",
        "plt.colorbar()\n",
        "plt.ylabel(\"Actual\")\n",
        "plt.xlabel(\"Predicted\")\n",
        "plt.title(\"Confusion Matrix\")\n",
        "\n",
        "# Añadir los valores a la matriz visualizada\n",
        "for i in range(cm.shape[0]):\n",
        "    for j in range(cm.shape[1]):\n",
        "        plt.text(j, i, f'{cm[i, j]}',\n",
        "                 ha='center',\n",
        "                 va='center',\n",
        "                 color='white' if cm[i, j] > cm.max()/2 else 'black')\n",
        "\n",
        "# Mostrar el gráfico\n",
        "plt.tight_layout()  # Ajusta los márgenes para evitar que los títulos se corten\n",
        "plt.show()\n"
      ],
      "metadata": {
        "colab": {
          "base_uri": "https://localhost:8080/",
          "height": 627
        },
        "id": "BvsiWTeQbosa",
        "outputId": "a89d4d3e-9407-4101-eb82-f131ee170fc6"
      },
      "execution_count": 31,
      "outputs": [
        {
          "output_type": "stream",
          "name": "stdout",
          "text": [
            "Accuracy: 0.8166666666666667\n"
          ]
        },
        {
          "output_type": "stream",
          "name": "stderr",
          "text": [
            "<ipython-input-31-00fa7bdd67a1>:25: UserWarning: This figure includes Axes that are not compatible with tight_layout, so results might be incorrect.\n",
            "  plt.tight_layout()  # Ajusta los márgenes para evitar que los títulos se corten\n"
          ]
        },
        {
          "output_type": "display_data",
          "data": {
            "text/plain": [
              "<Figure size 800x600 with 2 Axes>"
            ],
            "image/png": "[encoded data removed]"
          },
          "metadata": {}
        }
      ]
    },
    {
      "cell_type": "markdown",
      "source": [
        "Aca visualizo un poco como funciona el modelo.\n",
        "\n",
        "**Sentimiento Negativo:** 16 se predijeron correctamente como negativas y 6 incorrectas (5 de esas como positivo, eso me preocupa)\n",
        "\n",
        "**Sentimiento Neutral:** 12 fueron correctamente identificadas y 4 como algo negativo.\n",
        "\n",
        "**Sentimiento Positivo:** 20 fueron correctas y 2 incorrectas.\n",
        "\n",
        "Se ve naturalmente que la predicción positiva son las que mejor predicción tienen en el modelo.\n",
        "Se puede deber a que hay mayor cantidad de positivas en el dataset original."
      ],
      "metadata": {
        "id": "FMefW-TxmtSO"
      }
    },
    {
      "cell_type": "code",
      "source": [
        "# Probe realizar Oversampling y no hubo grandes modificaciones por lo cual lo mantengo como estaba"
      ],
      "metadata": {
        "id": "Bd1UZtqvrhPq"
      },
      "execution_count": 32,
      "outputs": []
    },
    {
      "cell_type": "markdown",
      "source": [
        "`Modelado de Topico (Clustering)`\n",
        "---\n",
        "\n",
        "- https://www.geeksforgeeks.org/topic-modeling-using-latent-dirichlet-allocation-lda/\n",
        "- https://medium.com/@daffabercerita/how-to-use-large-language-model-for-topic-modeling-a-comprehensive-guide-6c03d365cc90\n",
        "- https://towardsdatascience.com/unsupervised-learning-and-data-clustering-eeecb78b422a\n",
        "- https://www.geeksforgeeks.org/topic-modeling-using-latent-dirichlet-allocation-lda/"
      ],
      "metadata": {
        "id": "MbCiYmc3LBvH"
      }
    },
    {
      "cell_type": "markdown",
      "source": [
        "Para trabajar la clasificación no supervisada voy a utilizar `K-Means`  en primera instancia.\n",
        "\n",
        "Pensé en utilizar LDA, sin embargo por lo que leí es un modelo para grandes colecciones de texto y de mayor complejidad. No lo veo necesario en este caso y tampoco dispongo de colecciones PDF.\n",
        "\n",
        "K-Means me parece un buen algoritmo para trabajar en estos casos.\n",
        "\n",
        "Voy a aprovechar los embeddings ya desarrollados anteriormente.\n"
      ],
      "metadata": {
        "id": "Xp_Gd7Zox8uf"
      }
    },
    {
      "cell_type": "markdown",
      "source": [
        "`Elbow Method para analizar la cantidad de clusters en k-means`\n",
        "---\n",
        "\n",
        "- https://medium.com/@zalarushirajsinh07/the-elbow-method-finding-the-optimal-number-of-clusters-d297f5aeb189"
      ],
      "metadata": {
        "id": "j3Wj-xVsGJZJ"
      }
    },
    {
      "cell_type": "code",
      "source": [
        "\n",
        "# Rango de valores para k (número de clusters)\n",
        "k_range = range(1, 11)\n",
        "\n",
        "# Lista para almacenar la inercia\n",
        "inertia = []\n",
        "\n",
        "# Calcular K-Means para cada k\n",
        "for k in k_range:\n",
        "    kmeans = KMeans(n_clusters=k, random_state=42)\n",
        "    kmeans.fit(embeddings)\n",
        "    inertia.append(kmeans.inertia_)\n",
        "\n",
        "# Graficar el método del codo\n",
        "plt.figure(figsize=(8, 6))\n",
        "plt.plot(k_range, inertia, marker='o')\n",
        "plt.title('Elbow Method')\n",
        "plt.xlabel('Número de clusters')\n",
        "plt.ylabel('Inercia')\n",
        "\n",
        "# Determinar el punto del codo y marcarlo (esto se puede hacer manualmente o por inspección visual)\n",
        "codo_k = 5  # Supongamos que el codo está en k=3, pero puedes ajustarlo tras visualizar el gráfico\n",
        "plt.axvline(x=codo_k, color='r', linestyle='--')  # Línea vertical en el codo\n",
        "# Añadir una anotación\n",
        "plt.text(codo_k, inertia[codo_k-1], f'  Elbow en k={codo_k}', color='r', fontsize=12)\n",
        "\n",
        "plt.show()\n"
      ],
      "metadata": {
        "colab": {
          "base_uri": "https://localhost:8080/",
          "height": 564
        },
        "id": "gPoAsgsrGPk5",
        "outputId": "6ff89a8a-ef72-4219-f509-00f6a03f43f3"
      },
      "execution_count": 33,
      "outputs": [
        {
          "output_type": "display_data",
          "data": {
            "text/plain": [
              "<Figure size 800x600 with 1 Axes>"
            ],
            "image/png": "[encoded data removed]"
          },
          "metadata": {}
        }
      ]
    },
    {
      "cell_type": "markdown",
      "source": [
        "`K-Means`\n",
        "---"
      ],
      "metadata": {
        "id": "P6EM2qAbJjbX"
      }
    },
    {
      "cell_type": "code",
      "source": [
        "\n",
        "\n",
        "# Asegúrate de que 'df_supplements' contiene la columna 'Embedding' con los embeddings generados\n",
        "embeddings = np.vstack(df_supplements['Embedding'])  # Convertir los embeddings en una matriz NumPy\n",
        "\n",
        "# Número de clusters, esto puede ajustarse según el problema o se puede buscar automáticamente\n",
        "n_clusters = 5  # Ajusta este número según la cantidad de temas que quieras identificar\n",
        "\n",
        "# Aplicar K-Means clustering\n",
        "kmeans = KMeans(n_clusters=n_clusters, random_state=42)\n",
        "labels_kmeans = kmeans.fit_predict(embeddings)  # Asignar etiquetas de cluster a cada embedding\n",
        "\n",
        "# Añadir las etiquetas de los clusters al dataframe\n",
        "df_supplements['Cluster'] = labels_kmeans\n",
        "\n",
        "# Ver los primeros resultados\n",
        "print(df_supplements.head())\n"
      ],
      "metadata": {
        "colab": {
          "base_uri": "https://localhost:8080/"
        },
        "id": "kR5jkxGR4pJU",
        "outputId": "bcb2cb15-c0d3-4c89-90b8-3a6b46a2d036"
      },
      "execution_count": 34,
      "outputs": [
        {
          "output_type": "stream",
          "name": "stdout",
          "text": [
            "                                              Texto  Sentimiento  \\\n",
            "0    El sabor es increíble, lo mejor que he probado            2   \n",
            "1            Llegó tarde y el paquete estaba dañado            0   \n",
            "2            El precio es razonable para la calidad            2   \n",
            "3  No noto diferencia con otros productos similares            1   \n",
            "4               El envío fue rápido y sin problemas            2   \n",
            "\n",
            "   longitud_palabras                         Texto_Limpio  \\\n",
            "0                  9        sabor increíble mejor probado   \n",
            "1                  7           llegó tarde paquete dañado   \n",
            "2                  7             precio razonable calidad   \n",
            "3                  7  noto diferencia productos similares   \n",
            "4                  7               envío rápido problemas   \n",
            "\n",
            "                                           Embedding  Cluster  \n",
            "0  [0.37949297, 0.018278519, -0.31692043, -1.4277...        1  \n",
            "1  [0.29728043, 0.10108301, 0.2544717, -1.0751157...        4  \n",
            "2  [0.3472688, -0.25522107, -0.34541056, -1.44136...        3  \n",
            "3  [0.602626, -0.63015354, -0.7458455, -0.9598028...        2  \n",
            "4  [0.10878301, -0.04230996, 0.18203694, -0.80993...        4  \n"
          ]
        }
      ]
    },
    {
      "cell_type": "code",
      "source": [
        "# Agrupar los comentarios por el clúster al que pertenecen\n",
        "clustered_comments = df_supplements.groupby('Cluster')['Texto'].apply(list)\n",
        "\n",
        "# Ver los comentarios agrupados por clúster\n",
        "for cluster, comments in clustered_comments.items():\n",
        "    print(f\"Cluster {cluster}:\")\n",
        "    for comment in comments[:5]:  # Muestra los primeros 5 comentarios del clúster\n",
        "        print(f\" - {comment}\")\n",
        "    print(\"\\n\")\n"
      ],
      "metadata": {
        "colab": {
          "base_uri": "https://localhost:8080/"
        },
        "id": "XfL5xPbjENWh",
        "outputId": "ffbbf873-0657-407a-8a0b-e93023c8778b"
      },
      "execution_count": 35,
      "outputs": [
        {
          "output_type": "stream",
          "name": "stdout",
          "text": [
            "Cluster 0:\n",
            " - La atención al cliente fue excelente\n",
            " - Tuve problemas y nadie respondió mis mensajes\n",
            " - El servicio al cliente no resolvió mi problema\n",
            " - La atención al cliente fue muy servicial\n",
            " - No me gustó el servicio al cliente\n",
            "\n",
            "\n",
            "Cluster 1:\n",
            " - El sabor es increíble, lo mejor que he probado\n",
            " - El sabor es aceptable, pero esperaba más\n",
            " - El sabor es artificial y desagradable\n",
            " - El sabor no es malo, pero podría mejorar\n",
            " - La textura del producto es rara y no me gustó\n",
            "\n",
            "\n",
            "Cluster 2:\n",
            " - No noto diferencia con otros productos similares\n",
            " - No recomendaría este producto a nadie\n",
            " - Todo llegó en perfecto estado, muy contento\n",
            " - Producto de calidad media, nada impresionante\n",
            " - Estoy satisfecho con la calidad del producto\n",
            "\n",
            "\n",
            "Cluster 3:\n",
            " - El precio es razonable para la calidad\n",
            " - El precio es excesivo para lo que ofrecen\n",
            " - El precio es competitivo comparado con otros\n",
            " - El precio es accesible para mi presupuesto\n",
            " - El precio podría ser un poco más bajo\n",
            "\n",
            "\n",
            "Cluster 4:\n",
            " - Llegó tarde y el paquete estaba dañado\n",
            " - El envío fue rápido y sin problemas\n",
            " - El tiempo de envío fue más rápido de lo esperado\n",
            " - El producto llegó tarde y sin aviso previo\n",
            " - Recibí mi pedido a tiempo y en buen estado\n",
            "\n",
            "\n"
          ]
        }
      ]
    },
    {
      "cell_type": "markdown",
      "source": [
        "`Identifico Manualmente los Clusters`\n",
        "---"
      ],
      "metadata": {
        "id": "rLKQe7XYJnsV"
      }
    },
    {
      "cell_type": "code",
      "source": [
        "# Crear una función para asignar el tema a cada cluster\n",
        "def get_topic(cluster_id):\n",
        "    topics = {\n",
        "        0: \"Atención al Cliente\",\n",
        "        1: \"Sabor y Textura\",\n",
        "        2: \"Calidad del Producto\",\n",
        "        3: \"Precio del Producto\",\n",
        "        4: \"Envío y Logística\",\n",
        "    }\n",
        "    return topics.get(cluster_id, \"Tema desconocido\")\n",
        "\n",
        "# Asignar los temas al DataFrame\n",
        "df_supplements['Tema'] = df_supplements['Cluster'].apply(get_topic)\n",
        "\n",
        "# Ver los resultados\n",
        "print(df_supplements[['Texto', 'Cluster', 'Tema']].head())\n"
      ],
      "metadata": {
        "colab": {
          "base_uri": "https://localhost:8080/"
        },
        "id": "4B6yINuMIHiL",
        "outputId": "d6ff62bd-e3a9-42c5-9347-5632d280242a"
      },
      "execution_count": 36,
      "outputs": [
        {
          "output_type": "stream",
          "name": "stdout",
          "text": [
            "                                              Texto  Cluster  \\\n",
            "0    El sabor es increíble, lo mejor que he probado        1   \n",
            "1            Llegó tarde y el paquete estaba dañado        4   \n",
            "2            El precio es razonable para la calidad        3   \n",
            "3  No noto diferencia con otros productos similares        2   \n",
            "4               El envío fue rápido y sin problemas        4   \n",
            "\n",
            "                   Tema  \n",
            "0       Sabor y Textura  \n",
            "1     Envío y Logística  \n",
            "2   Precio del Producto  \n",
            "3  Calidad del Producto  \n",
            "4     Envío y Logística  \n"
          ]
        }
      ]
    },
    {
      "cell_type": "markdown",
      "source": [
        "# ETAPA 2: IA GENERATIVA\n",
        "\n",
        "- https://programmingisfun.medium.com/an-interactive-chatbot-app-with-groqs-llms-using-streamlit-a-step-by-step-tutorial-4fa075ae43b8"
      ],
      "metadata": {
        "id": "ljQ0E_XrM4Ao"
      }
    },
    {
      "cell_type": "code",
      "source": [
        "# Función de análisis de crítica adaptada para Gradio\n",
        "def analisis_critica(reseña):\n",
        "    ''' Esta función permite realizar el análisis de la reseña ingresada y devolver una respuesta acorde'''\n",
        "\n",
        "    if not reseña:\n",
        "        return \"No se ha ingresado una reseña. Intentarlo nuevamente\"\n",
        "\n",
        "    # Inicializar el cliente de Groq\n",
        "    client = Groq(api_key='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')\n",
        "\n",
        "    # Mapear el sentimiento\n",
        "    sentimiento_mapeo = {\n",
        "        0: \"Negativo\",\n",
        "        1: \"Neutral\",\n",
        "        2: \"Positivo\"\n",
        "    }\n",
        "\n",
        "    try:\n",
        "        # Limpieza del texto\n",
        "        texto_limpio = clean(reseña)\n",
        "\n",
        "        # Transformación a embeddings\n",
        "        embeddings_final = get_embedding(texto_limpio).reshape(1, -1)\n",
        "\n",
        "        # Predicción del sentimiento\n",
        "        sentimiento_num = model_lr.predict(embeddings_final)[0]\n",
        "        sentimiento = sentimiento_mapeo.get(sentimiento_num, \"Desconocido\")\n",
        "\n",
        "        # Asignar un cluster\n",
        "        cluster_id = kmeans.predict(embeddings_final)[0]\n",
        "\n",
        "        # Obtener el tema del cluster\n",
        "        tema = get_topic(cluster_id)\n",
        "\n",
        "        # Generar respuesta personalizada con LLM\n",
        "        chat_completion = client.chat.completions.create(\n",
        "            messages=[{\n",
        "                \"role\": \"system\",\n",
        "                \"content\": f\"\"\"\n",
        "Eres un empleado de atención al cliente especializado en gestión de reseñas para una empresa de suplementos nutricionales.\n",
        "Tu función es responder las reseñas según el {sentimiento} y {tema} detectados:\n",
        "Responde de manera breve, profesional y empática:\n",
        "- Si el {sentimiento} es **Positivo**: Agradece y celebra la experiencia positiva. Ejemplo: Gracias por sus comentarios. Nos alegra que haya sido una excelente experiencia.\n",
        "- Si el {sentimiento} es **Negativo**: Muestra empatía y ofrece resolver el problema. Ejemplo: Gracias por sus comentarios. Lamentamos que su experiencia no fuera la mejor. Nos comunicaremos con usted para ofrecerle una respuesta personalizada.\n",
        "- Si el {sentimiento} es **Neutral**: Agradece de forma clara e invita al cliente a comprar nuevamente. Ejemplo: Gracias por sus comentarios. Lo esperamos nuevamente cuando desee.\n",
        "\n",
        "No incluyas preguntas, comentarios fuera de contexto, ni frases adicionales.\n",
        "\"\"\"\n",
        "            }, {\n",
        "                \"role\": \"user\",\n",
        "                \"content\": reseña\n",
        "            }],\n",
        "            model=\"llama-3.2-1b-preview\",\n",
        "            temperature=0.1\n",
        "        )\n",
        "\n",
        "        # Retornar respuesta generada\n",
        "        return chat_completion.choices[0].message.content\n",
        "\n",
        "    except Exception as e:\n",
        "        return f\"Error al procesar la reseña: {str(e)}\"\n",
        "\n"
      ],
      "metadata": {
        "id": "82ZgJcHA3c2R"
      },
      "execution_count": 37,
      "outputs": []
    },
    {
      "cell_type": "code",
      "source": [
        "# Prueba con un ejemplo\n",
        "analisis_critica('El sabor no es rico')"
      ],
      "metadata": {
        "colab": {
          "base_uri": "https://localhost:8080/"
        },
        "id": "a_RgwAlv-yO3",
        "outputId": "753512ed-d6c4-4bc8-e876-bff1d4b6c684"
      },
      "execution_count": 38,
      "outputs": [
        {
          "output_type": "stream",
          "name": "stdout",
          "text": [
            "La crítica es \"El sabor no es rico\"\n",
            "Sentimiento: Neutral\n",
            "Cluster: 1\n",
            "Tópico: Sabor y Textura\n"
          ]
        }
      ]
    },
    {
      "cell_type": "code",
      "source": [
        "analisis_critica()"
      ],
      "metadata": {
        "colab": {
          "base_uri": "https://localhost:8080/",
          "height": 54
        },
        "id": "8h6n3z8lKJ1J",
        "outputId": "c1a25f21-3777-420e-ece8-3c758d416566"
      },
      "execution_count": 40,
      "outputs": [
        {
          "name": "stdout",
          "output_type": "stream",
          "text": [
            "Ingrese la reseña de su producto: El batido proteico tenia un gusto raro\n"
          ]
        },
        {
          "output_type": "execute_result",
          "data": {
            "text/plain": [
              "'Gracias por sus comentarios. Lamentamos que su experiencia no haya sido la mejor. Nos comunicaremos con usted para ofrecerle una respuesta personalizada.'"
            ],
            "application/vnd.google.colaboratory.intrinsic+json": {
              "type": "string"
            }
          },
          "metadata": {},
          "execution_count": 40
        }
      ]
    },
    {
      "cell_type": "markdown",
      "source": [
        "# ETAPA 3: FRONT END\n"
      ],
      "metadata": {
        "id": "pAEmNr7jZNph"
      }
    },
    {
      "cell_type": "markdown",
      "source": [
        "## OPCIÓN 1: GRADIO\n",
        "\n",
        "Elegí Gradio porque es fácil de integrar con jupyter Notebook para permitir una interfaz un poco más amena.\n",
        "\n",
        "- Entrada de reseña: El usuario ingresa una reseña de un producto en un cuadro de texto.\n",
        "- Análisis de la reseña: La reseña se procesa para determinar su sentimiento (positivo, negativo o neutral) y se agrupa en un tema.\n",
        "- Generación de respuesta: Según el sentimiento y el tema detectado, se genera una respuesta personalizada utilizando el llm para simular una respuesta profesional y empática.\n",
        "- Interfaz visual: La interfaz muestra una imagen de ícono y un campo para que el usuario ingrese su reseña. Después de hacer clic en \"Enviar\", la respuesta se muestra en otro cuadro de texto."
      ],
      "metadata": {
        "id": "uU2iIQ50a81f"
      }
    },
    {
      "cell_type": "code",
      "source": [
        "def obtener_imagen():\n",
        "    url = \"https://thumbs.dreamstime.com/b/vitamin-supplement-inspiration-illustration-logo-vitamin-supplement-inspiration-illustration-logo-design-228764978.jpg\"\n",
        "    response = requests.get(url)\n",
        "    img = Image.open(BytesIO(response.content))\n",
        "    return img\n"
      ],
      "metadata": {
        "id": "7T7yEIs7cdFX"
      },
      "execution_count": 41,
      "outputs": []
    },
    {
      "cell_type": "code",
      "source": [
        "import gradio as gr\n",
        "import time\n",
        "import requests\n",
        "from io import BytesIO\n",
        "from PIL import Image\n",
        "\n",
        "# Función para simular escritura más lenta\n",
        "def simulacion_escritura(respuesta):\n",
        "    texto = \"\"\n",
        "    for char in respuesta:\n",
        "        texto += char\n",
        "        yield texto\n",
        "        time.sleep(0.5)  # Retraso mayor para simular una escritura más lenta\n",
        "\n",
        "\n",
        "# Función de análisis de crítica adaptada para Gradio\n",
        "def analisis_critica(reseña):\n",
        "    ''' Esta función permite realizar el análisis de la reseña ingresada y devolver una respuesta acorde'''\n",
        "\n",
        "    if not reseña:\n",
        "        return \"No se ha ingresado una reseña. Intentarlo nuevamente\"\n",
        "\n",
        "    # Inicializar el cliente de Groq\n",
        "    client = Groq(api_key='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')\n",
        "\n",
        "    # Mapear el sentimiento\n",
        "    sentimiento_mapeo = {\n",
        "        0: \"Negativo\",\n",
        "        1: \"Neutral\",\n",
        "        2: \"Positivo\"\n",
        "    }\n",
        "\n",
        "    try:\n",
        "        # Limpieza del texto\n",
        "        texto_limpio = clean(reseña)\n",
        "\n",
        "        # Transformación a embeddings\n",
        "        embeddings_final = get_embedding(texto_limpio).reshape(1, -1)\n",
        "\n",
        "        # Predicción del sentimiento\n",
        "        sentimiento_num = model_lr.predict(embeddings_final)[0]\n",
        "        sentimiento = sentimiento_mapeo.get(sentimiento_num, \"Desconocido\")\n",
        "\n",
        "        # Asignar un cluster\n",
        "        cluster_id = kmeans.predict(embeddings_final)[0]\n",
        "\n",
        "        # Obtener el tema del cluster\n",
        "        tema = get_topic(cluster_id)\n",
        "\n",
        "        # Generar respuesta personalizada con LLM\n",
        "        chat_completion = client.chat.completions.create(\n",
        "            messages=[{\n",
        "                \"role\": \"system\",\n",
        "                \"content\": f\"\"\"\n",
        "Eres un empleado de atención al cliente especializado en gestión de reseñas para una empresa de suplementos nutricionales.\n",
        "Tu función es responder las reseñas según el {sentimiento} y {tema} detectados:\n",
        "Responde de manera breve, profesional y empática:\n",
        "- Si el {sentimiento} es **Positivo**: Agradece y celebra la experiencia positiva. Ejemplo: Gracias por sus comentarios. Nos alegra que haya sido una excelente experiencia.\n",
        "- Si el {sentimiento} es **Negativo**: Muestra empatía y ofrece resolver el problema. Ejemplo: Gracias por sus comentarios. Lamentamos que su experiencia no fuera la mejor. Nos comunicaremos con usted para ofrecerle una respuesta personalizada.\n",
        "- Si el {sentimiento} es **Neutral**: Agradece de forma clara e invita al cliente a comprar nuevamente. Ejemplo: Gracias por sus comentarios. Lo esperamos nuevamente cuando desee.\n",
        "\n",
        "No incluyas preguntas, comentarios fuera de contexto, ni frases adicionales.\n",
        "\"\"\"\n",
        "            }, {\n",
        "                \"role\": \"user\",\n",
        "                \"content\": reseña\n",
        "            }],\n",
        "            model=\"llama-3.2-1b-preview\",\n",
        "            temperature=0.1\n",
        "        )\n",
        "\n",
        "        # Retornar respuesta generada\n",
        "        return chat_completion.choices[0].message.content\n",
        "\n",
        "    except Exception as e:\n",
        "        return f\"Error al procesar la reseña: {str(e)}\"\n",
        "\n",
        "\n",
        "# Descargar la imagen desde la URL\n",
        "def obtener_imagen():\n",
        "    url = \"https://thumbs.dreamstime.com/b/vitamin-supplement-inspiration-illustration-logo-vitamin-supplement-inspiration-illustration-logo-design-228764978.jpg\"\n",
        "    response = requests.get(url)\n",
        "    img = Image.open(BytesIO(response.content))\n",
        "    img = img.resize((200, 200))  # Aumentar el tamaño de la imagen (200x200 píxeles)\n",
        "    return img\n",
        "\n",
        "\n",
        "# Crear la interfaz Gradio usando Blocks para un diseño más flexible\n",
        "with gr.Blocks() as demo:\n",
        "    gr.Markdown(\"\"\"\n",
        "    <h1 style=\"text-align:center; color: #FFFFFF; font-family: 'Arial', sans-serif;\">🤖 SUPPLEMENTS IA</h1>\n",
        "    <p style=\"text-align:center; color: #BBBBBB; font-size: 16px;\">Ingrese una reseña de su producto y le responderemos a la brevedad.</p>\n",
        "    \"\"\")\n",
        "\n",
        "    # Imagen de ícono del chatbot (se descarga la imagen desde la URL)\n",
        "    chat_icon = gr.Image(value=obtener_imagen(), label=\"Chatbot Icon\", elem_id=\"chat_icon\", type=\"pil\", visible=True)\n",
        "\n",
        "    # Campo de entrada de texto\n",
        "    reseña = gr.Textbox(\n",
        "        label=\"Ingrese su reseña\",\n",
        "        placeholder=\"Escribe aquí...\",\n",
        "        lines=4,\n",
        "        max_length=500,\n",
        "        elem_id=\"input_box\",\n",
        "        show_label=False\n",
        "    )\n",
        "\n",
        "    # Salida de texto con simulación de escritura\n",
        "    output = gr.Textbox(label=\"Respuesta\", interactive=False, show_label=False)\n",
        "\n",
        "    # Botón para ejecutar la función de análisis\n",
        "    button = gr.Button(\"Enviar\")\n",
        "\n",
        "    # Definir la acción del botón\n",
        "    button.click(fn=analisis_critica, inputs=reseña, outputs=output)\n",
        "\n",
        "    # Personalizar los estilos con CSS para un diseño de chatbot moderno\n",
        "    demo.css = '''\n",
        "        .gradio-container {\n",
        "            background-color: #121212;\n",
        "            border-radius: 20px;\n",
        "            padding: 40px;\n",
        "            max-width: 900px;\n",
        "            margin: auto;\n",
        "            box-shadow: 0px 6px 30px rgba(0, 0, 0, 0.1);\n",
        "        }\n",
        "        #input_box {\n",
        "            font-size: 16px;\n",
        "            padding: 15px;\n",
        "            border-radius: 12px;\n",
        "            background-color: #333333;\n",
        "            border: 1px solid #03DAC6;\n",
        "            width: 100%;\n",
        "            box-shadow: 0px 2px 8px rgba(59, 130, 246, 0.2);\n",
        "        }\n",
        "        .gradio-button {\n",
        "            background-color: #BB86FC;\n",
        "            color: white;\n",
        "            border-radius: 12px;\n",
        "            font-size: 18px;\n",
        "            padding: 18px 30px;\n",
        "            width: 100%;\n",
        "            box-shadow: 0px 4px 8px rgba(187, 134, 252, 0.3);\n",
        "            transition: background-color 0.3s;\n",
        "        }\n",
        "        .gradio-button:hover {\n",
        "            background-color: #3700B3;\n",
        "        }\n",
        "        .gradio-title {\n",
        "            font-size: 30px;\n",
        "            color: #FFFFFF;\n",
        "            font-weight: 700;\n",
        "            text-align: center;\n",
        "            margin-bottom: 30px;\n",
        "        }\n",
        "        .gradio-description {\n",
        "            font-size: 16px;\n",
        "            text-align: center;\n",
        "            color: #BBBBBB;\n",
        "            margin-bottom: 25px;\n",
        "        }\n",
        "        .gradio-textbox {\n",
        "            font-size: 14px;\n",
        "            padding: 15px;\n",
        "            border-radius: 12px;\n",
        "            background-color: #333333;\n",
        "            border: 1px solid #03DAC6;\n",
        "        }\n",
        "        .gradio-textbox:focus {\n",
        "            border-color: #BB86FC;\n",
        "        }\n",
        "        .gradio-image {\n",
        "            display: block;\n",
        "            margin: 0 auto;\n",
        "            border-radius: 50%;\n",
        "            box-shadow: 0px 3px 10px rgba(0, 0, 0, 0.1);\n",
        "        }\n",
        "    '''\n",
        "\n",
        "# Lanzar la interfaz\n",
        "demo.launch(share=True)\n",
        "\n",
        "\n",
        "\n"
      ],
      "metadata": {
        "colab": {
          "base_uri": "https://localhost:8080/",
          "height": 614
        },
        "id": "ibK3uk4xXnDR",
        "outputId": "5b76e404-0e10-4e81-a51a-222c6f3a98d4"
      },
      "execution_count": 42,
      "outputs": [
        {
          "output_type": "stream",
          "name": "stdout",
          "text": [
            "Colab notebook detected. To show errors in colab notebook, set debug=True in launch()\n",
            "* Running on public URL: https://bd9ad7f9d1b43f46e0.gradio.live\n",
            "\n",
            "This share link expires in 72 hours. For free permanent hosting and GPU upgrades, run `gradio deploy` from the terminal in the working directory to deploy to Hugging Face Spaces (https://huggingface.co/spaces)\n"
          ]
        },
        {
          "output_type": "display_data",
          "data": {
            "text/plain": [
              "<IPython.core.display.HTML object>"
            ],
            "text/html": [
              "<div><iframe src=\"https://bd9ad7f9d1b43f46e0.gradio.live\" width=\"100%\" height=\"500\" allow=\"autoplay; camera; microphone; clipboard-read; clipboard-write;\" frameborder=\"0\" allowfullscreen></iframe></div>"
            ]
          },
          "metadata": {}
        },
        {
          "output_type": "execute_result",
          "data": {
            "text/plain": []
          },
          "metadata": {},
          "execution_count": 42
        }
      ]
    },
    {
      "cell_type": "markdown",
      "source": [
        "## OPCIÓN 2: STREAMLIT\n",
        "\n",
        "Exporté el archivo de Jupyter Notebook a un archivo .py y lo subí a un repositorio en GitHub, donde estoy integrando todo el proyecto. Luego, creé una interfaz más avanzada y completa utilizando Streamlit.\n",
        "\n",
        "Al intentar integrarlo directamente en Google Colab, encontré algunas dificultades, por lo que decidí adjuntar las imágenes directamente en el Jupyter Notebook para mejorar la visualización y el flujo del proyecto."
      ],
      "metadata": {
        "id": "RkkPpxHZensZ"
      }
    },
    {
      "cell_type": "markdown",
      "source": [
        "### Respuesta ante review Negativa"
      ],
      "metadata": {
        "id": "Pq1DvNFS3pLP"
      }
    },
    {
      "cell_type": "code",
      "source": [
        "\n",
        "# Insertar la imagen con tamaño ajustado\n",
        "HTML('<img src=\"https://raw.githubusercontent.com/Dantelarroy/suplements-chatbot/refs/heads/main/Images/Supplements_Reviews.jpg\" width=\"1300\"/>')"
      ],
      "metadata": {
        "colab": {
          "base_uri": "https://localhost:8080/",
          "height": 585
        },
        "id": "f2GjWIhP0c3r",
        "outputId": "9d2d1e99-c540-4428-d04a-feff34b56df1"
      },
      "execution_count": 52,
      "outputs": [
        {
          "output_type": "execute_result",
          "data": {
            "text/plain": [
              "<IPython.core.display.HTML object>"
            ],
            "text/html": [
              "<img src=\"https://raw.githubusercontent.com/Dantelarroy/suplements-chatbot/refs/heads/main/Images/Supplements_Reviews.jpg\" width=\"1300\"/>"
            ]
          },
          "metadata": {},
          "execution_count": 52
        }
      ]
    },
    {
      "cell_type": "markdown",
      "source": [
        "### Respuesta ante Review Positiva"
      ],
      "metadata": {
        "id": "PiVOpC_B3s21"
      }
    },
    {
      "cell_type": "code",
      "source": [
        "# Insertar la imagen con tamaño ajustado\n",
        "HTML('<img src=\"https://raw.githubusercontent.com/Dantelarroy/suplements-chatbot/refs/heads/main/Images/Supplements_Reviews_positivo.jpg\" width=\"1300\"/>')"
      ],
      "metadata": {
        "colab": {
          "base_uri": "https://localhost:8080/",
          "height": 562
        },
        "id": "6bZg0_400qXy",
        "outputId": "c05d20e9-7b80-474b-c886-b2ed97bf6da9"
      },
      "execution_count": 53,
      "outputs": [
        {
          "output_type": "execute_result",
          "data": {
            "text/plain": [
              "<IPython.core.display.HTML object>"
            ],
            "text/html": [
              "<img src=\"https://raw.githubusercontent.com/Dantelarroy/suplements-chatbot/refs/heads/main/Images/Supplements_Reviews_positivo.jpg\" width=\"1300\"/>"
            ]
          },
          "metadata": {},
          "execution_count": 53
        }
      ]
    },
    {
      "cell_type": "code",
      "source": [],
      "metadata": {
        "id": "Wn0inBKq31Pb"
      },
      "execution_count": null,
      "outputs": []
    }
  ]
}