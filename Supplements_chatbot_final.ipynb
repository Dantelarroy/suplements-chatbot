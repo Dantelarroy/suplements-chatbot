{
  "cells": [
    {
      "cell_type": "markdown",
      "metadata": {
        "colab_type": "text",
        "id": "view-in-github"
      },
      "source": [
        "<a href=\"https://colab.research.google.com/github/Dantelarroy/suplements-chatbot/blob/main/Supplements_chatbot_final.ipynb\" target=\"_parent\"><img src=\"https://colab.research.google.com/assets/colab-badge.svg\" alt=\"Open In Colab\"/></a>"
      ]
    },
    {
      "cell_type": "markdown",
      "metadata": {
        "id": "py9iD-mEKA7-"
      },
      "source": [
        "#**Supplements Chatbot**\n"
      ]
    },
    {
      "cell_type": "markdown",
      "metadata": {
        "id": "u-Bi86T_J16M"
      },
      "source": [
        "**Autor**: Dante Larroy  \n",
        "**Fecha**: 18/12/2024  \n",
        "**Fecha de Entrega**: 02/01/2025  \n",
        "\n",
        "Resumen de Fechas:\n",
        "- EDA y Preprocesamiento de Datos: `18/12 - 21/12`\n",
        "- Desarrollo del Modelo de Sentimiento: `22/12 - 24/12`\n",
        "- Desarrollo del Modelo de Clasificación de Tópicos: `22/12 - 24/12`\n",
        "- Desarrollo de la Función IA Generativa: `22/12 - 24/12`\n",
        "- FrontEnd `25/12`\n",
        "- Pruebas, Evaluación y Ajustes: `26/12 - 02/01`\n",
        "  - Validar que pueda ejecutarse por completo en cualquier ambiente de jupyter\n",
        "  - Subir e integrar todo al repositorio github\n",
        "- Entrega Final: `2/01/2025`"
      ]
    },
    {
      "cell_type": "markdown",
      "metadata": {
        "id": "zYSA4AfABvur"
      },
      "source": [
        "---\n",
        "\n",
        "## **`Introducción`**\n",
        "El objetivo de este desafío es aplicar tus conocimientos en DS e IA\n",
        "Generativa para diseñar un prototipo funcional, que eventualmente se convierta\n",
        "en un chatbot capaz de ofrecer soporte a usuarios en base a sus comentarios.\n",
        "---\n",
        "## **`Contexto`**\n",
        "El cliente es una destacada empresa de venta de suplementos nutricionales en\n",
        "línea.\n",
        "\n",
        "- **`Problema`** Recientemente, se ha observado un aumento significativo en las reseñas\n",
        "negativas por parte de los usuarios, algo que anteriormente no sucedía.\n",
        "Ante esta situación, la empresa busca comprender las causas detrás de esta tendencia.\n",
        "\n",
        "- **`Solución buscada:`** Analizar los datos disponibles y desarrollar herramientas útiles para abordar el problema.\n",
        "---\n",
        "## **`Objetivo`**\n",
        "Este proyecto tiene como objetivo desarrollar una herramienta que:\n",
        "1. Analice el sentimiento y clasifique los comentarios de los clientes por temática.\n",
        "2. Genere respuestas personalizadas basadas en el análisis.  \n",
        "---\n",
        "## **`Dataset:`**\n",
        "\n",
        "- Comentarios de usuarios sobre productos de suplementos nutricionales con etiquetas de sentimientos (positivo, neutral, negativo).\n",
        "---\n",
        "## **`Etapas del Proyecto`**\n",
        "### `EDA`\n",
        "- Cargar Dataset (Asegurar que se cargue independientemente del lugar de ejecución) ☑\n",
        "- Revisar calidad de los datos ☑\n",
        "- Analizar distribución de sentimientos ☑\n",
        "- Word Cloud ☑\n",
        "- Complementar con un top de palabras ☑\n",
        "- Longitud de los comentarios ☑\n",
        "\n",
        "### `Preprocesamiento y Limpieza de Datos`\n",
        "- Preprocesar texto:\n",
        "- Mínusculas ☑\n",
        "- Eliminar caracteres especiales y puntuación ☑\n",
        "- Eliminar stopwords ☑\n",
        "- Lematización ☑\n",
        "- Tokenización ☑\n",
        "- Gestionar datos desbalanceados si hace falta ☑\n",
        "\n",
        "### `Feature Engineering`\n",
        "- Embeddings ☑\n",
        "\n",
        "### `Modelado Predictivo`\n",
        "\n",
        "  1. `Sentimental Analysis:`(Tenemos el target = Supervisado) ☑\n",
        "- Pensar que tipo de modelo necesito\n",
        "- Pensar que problema podría surgir a la hora de entrenarlo para elegir el algoritmo.\n",
        "\n",
        "2. `Topic Modeling:` Predecir el tema del que están hablando (No tenemos el target = No supervisado) ☑\n",
        "- Pensar que tipo de modelo necesito\n",
        "- Pensar que problema podría surgir a la hora de entrenarlo para elegir el algoritmo.\n",
        "\n",
        "3. `Evaluar el Modelo` ☑\n",
        "\n",
        "### `IA Generativa` ☑\n",
        "\n",
        "  1. `Generar una funcion` que tenga:\n",
        "  - Input: Comentario\n",
        "  - Tareas:\n",
        "    - Calcular el sentimiento\n",
        "    - Calcular el tópico\n",
        "  - Output: Respuesta personalizada de un LLM utilizando esa función\n",
        "\n",
        "\n",
        "### `FrontEnd` ☑\n",
        "- Realizar pruebas en distintas herramientas para lograr una interfaz gráfica\n",
        "\n",
        "---\n",
        "## **Recursos adicionales**\n",
        "Links que pueden ser de útilidad (y que probablemente influyan en su\n",
        "entregable):\n",
        "1. https://huggingface.co/intfloat/multilingual-e5-large - Modelo de\n",
        "Embedding multilenguaje.\n",
        "2. https://console.groq.com/playground - Plataforma que permite utilizar\n",
        "LLMs Open Source de manera gratuita a través de una API.\n",
        "\n",
        "---"
      ]
    },
    {
      "cell_type": "markdown",
      "metadata": {
        "id": "MAXb7RJkLYYn"
      },
      "source": [
        "## Research Claves por etapas:\n",
        "\n",
        "- Etapa 1: Modelado Predictivo:\n",
        "https://huggingface.co/intfloat/multilingual-e5-large - Modelo de Embedding multilenguaje.\n",
        "  - **1. Sentimental Analysis (Supervisado)**:\n",
        "    - `Text Preprocesing`: Tokenization. Stop word removal, lemmatization/stemming\n",
        "    - `Text Vectorization`: TF-IDF, Word Embeddings\n",
        "    - `Sentimental Analysis`: Elegir y analizar modelo a utilizar\n",
        "  - **2. Topic Classification (No supervisado)**\n",
        "    \n",
        "\n",
        "- Etapa 2: IA Generativa\n",
        "  - https://console.groq.com/playground - Plataforma que permite utilizar LLMs Open Source de manera gratuita a través de una API.\n",
        "\n",
        "---"
      ]
    },
    {
      "cell_type": "markdown",
      "metadata": {
        "id": "d9D0KScbQQ5Q"
      },
      "source": [
        "# Configuración del Entorno de Trabajo"
      ]
    },
    {
      "cell_type": "markdown",
      "metadata": {
        "id": "pVesRmp5QZWy"
      },
      "source": [
        "## Instalar librerias necesarias"
      ]
    },
    {
      "cell_type": "markdown",
      "metadata": {},
      "source": [
        "`Si se ejecuta desde Vscode instalar requirements`"
      ]
    },
    {
      "cell_type": "code",
      "execution_count": 3,
      "metadata": {},
      "outputs": [],
      "source": [
        "# pip install -r requirements.txt"
      ]
    },
    {
      "cell_type": "markdown",
      "metadata": {},
      "source": [
        "`Si se ejecuta desde google Collab ejecutar este código`"
      ]
    },
    {
      "cell_type": "code",
      "execution_count": 34,
      "metadata": {},
      "outputs": [
        {
          "data": {
            "text/plain": [
              "'\\n!pip install openpyxl\\n!pip install nltk\\n!pip install groq\\n!pip install gradio\\n\\n'"
            ]
          },
          "execution_count": 34,
          "metadata": {},
          "output_type": "execute_result"
        }
      ],
      "source": [
        "'''\n",
        "!pip install openpyxl\n",
        "!pip install nltk\n",
        "!pip install groq\n",
        "!pip install gradio\n",
        "\n",
        "'''"
      ]
    },
    {
      "cell_type": "markdown",
      "metadata": {
        "id": "CpVtkiGhJw11"
      },
      "source": [
        "## Importaciones"
      ]
    },
    {
      "cell_type": "code",
      "execution_count": 4,
      "metadata": {
        "colab": {
          "base_uri": "https://localhost:8080/"
        },
        "id": "dYoGuu9qBGps",
        "outputId": "2bbd3784-3ab4-4acb-e92f-e6b83615de65"
      },
      "outputs": [
        {
          "name": "stderr",
          "output_type": "stream",
          "text": [
            "[nltk_data] Downloading package stopwords to\n",
            "[nltk_data]     C:\\Users\\dalarroy\\AppData\\Roaming\\nltk_data...\n",
            "[nltk_data]   Package stopwords is already up-to-date!\n",
            "[nltk_data] Downloading package wordnet to\n",
            "[nltk_data]     C:\\Users\\dalarroy\\AppData\\Roaming\\nltk_data...\n",
            "[nltk_data]   Package wordnet is already up-to-date!\n",
            "[nltk_data] Downloading package punkt to\n",
            "[nltk_data]     C:\\Users\\dalarroy\\AppData\\Roaming\\nltk_data...\n",
            "[nltk_data]   Package punkt is already up-to-date!\n",
            "[nltk_data] Downloading package omw-1.4 to\n",
            "[nltk_data]     C:\\Users\\dalarroy\\AppData\\Roaming\\nltk_data...\n",
            "[nltk_data]   Package omw-1.4 is already up-to-date!\n",
            "[nltk_data] Downloading package punkt_tab to\n",
            "[nltk_data]     C:\\Users\\dalarroy\\AppData\\Roaming\\nltk_data...\n",
            "[nltk_data]   Package punkt_tab is already up-to-date!\n"
          ]
        },
        {
          "data": {
            "text/plain": [
              "True"
            ]
          },
          "execution_count": 4,
          "metadata": {},
          "output_type": "execute_result"
        }
      ],
      "source": [
        "\n",
        "import os\n",
        "import pandas as pd\n",
        "import seaborn as sns\n",
        "from sklearn.manifold import TSNE\n",
        "import numpy as np\n",
        "import matplotlib.pyplot as plt\n",
        "from wordcloud import WordCloud\n",
        "import re\n",
        "import nltk\n",
        "from sklearn.feature_extraction.text import CountVectorizer\n",
        "from nltk.tokenize import word_tokenize\n",
        "from nltk.corpus import stopwords\n",
        "from nltk.stem import WordNetLemmatizer\n",
        "import torch\n",
        "from transformers import AutoTokenizer, AutoModel\n",
        "from sklearn.metrics import pairwise_distances\n",
        "from sklearn.model_selection import train_test_split\n",
        "from sklearn.preprocessing import LabelEncoder\n",
        "from sklearn.linear_model import LogisticRegression\n",
        "from sklearn.metrics import classification_report\n",
        "from sklearn.ensemble import RandomForestClassifier\n",
        "from sklearn.svm import SVC\n",
        "from sklearn.metrics import confusion_matrix\n",
        "from sklearn.metrics import confusion_matrix, accuracy_score\n",
        "from sklearn.cluster import KMeans\n",
        "from IPython.display import Image\n",
        "from IPython.display import HTML\n",
        "from groq import Groq\n",
        "\n",
        "\n",
        "\n",
        "\n",
        "\n",
        "# Descargas\n",
        "nltk.download('stopwords')\n",
        "nltk.download('wordnet')\n",
        "nltk.download('punkt')\n",
        "nltk.download('omw-1.4')\n",
        "nltk.download('punkt_tab')\n",
        "\n",
        "\n",
        "\n",
        "\n"
      ]
    },
    {
      "cell_type": "code",
      "execution_count": 5,
      "metadata": {
        "id": "KmM8iCKnHGYM"
      },
      "outputs": [],
      "source": [
        "#!git clone https://github.com/Dantelarroy/suplements-chatbot.git"
      ]
    },
    {
      "cell_type": "markdown",
      "metadata": {
        "id": "UWwX8jXcKu7p"
      },
      "source": [
        "## Cargar el Dataset"
      ]
    },
    {
      "cell_type": "code",
      "execution_count": 6,
      "metadata": {
        "id": "gk87UCVJGJBm"
      },
      "outputs": [],
      "source": [
        "# URL del repositorio de Github donde se encuentra el Dataset\n",
        "url = 'https://github.com/Dantelarroy/suplements-chatbot/raw/main/Dataset.xlsx'"
      ]
    },
    {
      "cell_type": "code",
      "execution_count": 7,
      "metadata": {
        "id": "rtM8r91UKwCw"
      },
      "outputs": [],
      "source": [
        "df_supplements = pd.read_excel(url)\n"
      ]
    },
    {
      "cell_type": "code",
      "execution_count": 8,
      "metadata": {
        "colab": {
          "base_uri": "https://localhost:8080/",
          "height": 206
        },
        "id": "SGvEpPiYO4lF",
        "outputId": "9e7927a6-bdd2-4a74-fd2d-aabec7bcd787"
      },
      "outputs": [
        {
          "data": {
            "text/html": [
              "<div>\n",
              "<style scoped>\n",
              "    .dataframe tbody tr th:only-of-type {\n",
              "        vertical-align: middle;\n",
              "    }\n",
              "\n",
              "    .dataframe tbody tr th {\n",
              "        vertical-align: top;\n",
              "    }\n",
              "\n",
              "    .dataframe thead th {\n",
              "        text-align: right;\n",
              "    }\n",
              "</style>\n",
              "<table border=\"1\" class=\"dataframe\">\n",
              "  <thead>\n",
              "    <tr style=\"text-align: right;\">\n",
              "      <th></th>\n",
              "      <th>Texto</th>\n",
              "      <th>Sentimiento</th>\n",
              "    </tr>\n",
              "  </thead>\n",
              "  <tbody>\n",
              "    <tr>\n",
              "      <th>0</th>\n",
              "      <td>El sabor es increíble, lo mejor que he probado</td>\n",
              "      <td>positivo</td>\n",
              "    </tr>\n",
              "    <tr>\n",
              "      <th>1</th>\n",
              "      <td>Llegó tarde y el paquete estaba dañado</td>\n",
              "      <td>negativo</td>\n",
              "    </tr>\n",
              "    <tr>\n",
              "      <th>2</th>\n",
              "      <td>El precio es razonable para la calidad</td>\n",
              "      <td>positivo</td>\n",
              "    </tr>\n",
              "    <tr>\n",
              "      <th>3</th>\n",
              "      <td>No noto diferencia con otros productos similares</td>\n",
              "      <td>neutral</td>\n",
              "    </tr>\n",
              "    <tr>\n",
              "      <th>4</th>\n",
              "      <td>El envío fue rápido y sin problemas</td>\n",
              "      <td>positivo</td>\n",
              "    </tr>\n",
              "  </tbody>\n",
              "</table>\n",
              "</div>"
            ],
            "text/plain": [
              "                                              Texto Sentimiento\n",
              "0    El sabor es increíble, lo mejor que he probado    positivo\n",
              "1            Llegó tarde y el paquete estaba dañado    negativo\n",
              "2            El precio es razonable para la calidad    positivo\n",
              "3  No noto diferencia con otros productos similares     neutral\n",
              "4               El envío fue rápido y sin problemas    positivo"
            ]
          },
          "execution_count": 8,
          "metadata": {},
          "output_type": "execute_result"
        }
      ],
      "source": [
        "df_supplements.head()"
      ]
    },
    {
      "cell_type": "markdown",
      "metadata": {
        "id": "Rea7LfsVMDbj"
      },
      "source": [
        "# EDA\n",
        "\n",
        "Research:\n",
        "- https://medium.com/dscier/eda-nlp-fe483c6871ba\n",
        "- https://neptune.ai/blog/exploratory-data-analysis-natural-language-processing-tools\n",
        "- https://medium.com/@berthelinmargot/eda-and-data-preparation-for-nlp-project-a-hands-on-example-step-by-step-3b95a37318db\n",
        "- https://medium.com/@KC-James/basic-implementation-of-a-word-cloud-in-python-8b2f9d92d381\n",
        "- https://medium.com/dscier/eda-nlp-fe483c6871ba"
      ]
    },
    {
      "cell_type": "markdown",
      "metadata": {
        "id": "09SlNCJflPwB"
      },
      "source": [
        "`Información General`\n",
        "---\n",
        "- Contiene dos columnas con Dtype: Object\n",
        "- No hay nulos\n",
        "- Cantidad de filas (299)"
      ]
    },
    {
      "cell_type": "code",
      "execution_count": 9,
      "metadata": {
        "colab": {
          "base_uri": "https://localhost:8080/"
        },
        "id": "eeKdYIR3k05A",
        "outputId": "5237e102-2c15-40d3-8101-5c9f70162954"
      },
      "outputs": [
        {
          "name": "stdout",
          "output_type": "stream",
          "text": [
            "<class 'pandas.core.frame.DataFrame'>\n",
            "RangeIndex: 299 entries, 0 to 298\n",
            "Data columns (total 2 columns):\n",
            " #   Column       Non-Null Count  Dtype \n",
            "---  ------       --------------  ----- \n",
            " 0   Texto        299 non-null    object\n",
            " 1   Sentimiento  299 non-null    object\n",
            "dtypes: object(2)\n",
            "memory usage: 4.8+ KB\n"
          ]
        }
      ],
      "source": [
        "# Veo la información general de las columnas\n",
        "df_supplements.info()"
      ]
    },
    {
      "cell_type": "markdown",
      "metadata": {
        "id": "vC6hXdFGYQvA"
      },
      "source": [
        "`Nulos`\n",
        "---\n",
        "\n",
        "El dataset no presenta valores nulos (lo vi en el código anterior), vuelvo a hacer un check."
      ]
    },
    {
      "cell_type": "code",
      "execution_count": 10,
      "metadata": {
        "colab": {
          "base_uri": "https://localhost:8080/",
          "height": 147
        },
        "id": "LX6ict6qQuwy",
        "outputId": "bf9f31b3-0dab-412a-8371-60765edfde5e"
      },
      "outputs": [
        {
          "data": {
            "text/plain": [
              "Texto          0\n",
              "Sentimiento    0\n",
              "dtype: int64"
            ]
          },
          "execution_count": 10,
          "metadata": {},
          "output_type": "execute_result"
        }
      ],
      "source": [
        "# Cuantifico numero total de nulos por columna\n",
        "df_supplements.isnull().sum()"
      ]
    },
    {
      "cell_type": "markdown",
      "metadata": {
        "id": "njOw2Bj3mXog"
      },
      "source": [
        "`Describe:`\n",
        "---\n",
        "- No hay nulos (299 valores en ambas columnas)\n",
        "- En la columna Sentimiento encuentro 3 filas repetidas\n",
        "- El valor más frecuente es:\n",
        "  - Texto: \"Estoy satisfecho con la calidad del producto\". Esto podría ser un buen indicio sobre el producto ofrecido.\n",
        "  - Sentimiento: Positivo. Confirma que el indicio anterior. Frecuencia positiva más recurrente."
      ]
    },
    {
      "cell_type": "code",
      "execution_count": 11,
      "metadata": {
        "colab": {
          "base_uri": "https://localhost:8080/",
          "height": 175
        },
        "id": "joX1cy3sldvF",
        "outputId": "64037b0c-d819-4d95-ae2a-7a85f2d54b02"
      },
      "outputs": [
        {
          "data": {
            "text/html": [
              "<div>\n",
              "<style scoped>\n",
              "    .dataframe tbody tr th:only-of-type {\n",
              "        vertical-align: middle;\n",
              "    }\n",
              "\n",
              "    .dataframe tbody tr th {\n",
              "        vertical-align: top;\n",
              "    }\n",
              "\n",
              "    .dataframe thead th {\n",
              "        text-align: right;\n",
              "    }\n",
              "</style>\n",
              "<table border=\"1\" class=\"dataframe\">\n",
              "  <thead>\n",
              "    <tr style=\"text-align: right;\">\n",
              "      <th></th>\n",
              "      <th>Texto</th>\n",
              "      <th>Sentimiento</th>\n",
              "    </tr>\n",
              "  </thead>\n",
              "  <tbody>\n",
              "    <tr>\n",
              "      <th>count</th>\n",
              "      <td>299</td>\n",
              "      <td>299</td>\n",
              "    </tr>\n",
              "    <tr>\n",
              "      <th>unique</th>\n",
              "      <td>296</td>\n",
              "      <td>3</td>\n",
              "    </tr>\n",
              "    <tr>\n",
              "      <th>top</th>\n",
              "      <td>Por el precio, esperaba algo de mejor calidad</td>\n",
              "      <td>positivo</td>\n",
              "    </tr>\n",
              "    <tr>\n",
              "      <th>freq</th>\n",
              "      <td>2</td>\n",
              "      <td>129</td>\n",
              "    </tr>\n",
              "  </tbody>\n",
              "</table>\n",
              "</div>"
            ],
            "text/plain": [
              "                                                Texto Sentimiento\n",
              "count                                             299         299\n",
              "unique                                            296           3\n",
              "top     Por el precio, esperaba algo de mejor calidad    positivo\n",
              "freq                                                2         129"
            ]
          },
          "execution_count": 11,
          "metadata": {},
          "output_type": "execute_result"
        }
      ],
      "source": [
        "# Resumen estadístico de las columnas\n",
        "df_supplements.describe()\n"
      ]
    },
    {
      "cell_type": "markdown",
      "metadata": {
        "id": "Rtz3NNIXovRC"
      },
      "source": [
        "`Distribución de sentimientos`\n",
        "---\n"
      ]
    },
    {
      "cell_type": "markdown",
      "metadata": {
        "id": "g2UcXxNynwKj"
      },
      "source": [
        "Busco identificar si el datset se encuentra o no desbalanceado.\n",
        "\n",
        "Identifico una distribución algo desbalanceada con una predominancia de \"Positivo\" sobre el resto de las categorías.\n",
        "\n",
        "Como aspecto positivo por otro lado veo que \"neutral\" y \"negativo\" tienen una distribución similar entre ellos.\n",
        "\n",
        "Ultimo aspecto es que \"neutral\" es el que menor frecuencia tiene. Lo veo natural ya que el cliente suele expresarse cuando algo le disgusta o le gusta.\n",
        "\n",
        "Riesgos:\n",
        "- Que el modelo entrenado genere \"sesgo\" hacia lo positivo.\n",
        "- Es posible que haya que realizar un ajuste en caso de que eso ocurra."
      ]
    },
    {
      "cell_type": "code",
      "execution_count": 12,
      "metadata": {
        "colab": {
          "base_uri": "https://localhost:8080/"
        },
        "id": "j2-xwewHPyXi",
        "outputId": "60b02f7f-871b-4ab2-bad0-dc859d61159e"
      },
      "outputs": [
        {
          "name": "stdout",
          "output_type": "stream",
          "text": [
            "Sentimiento\n",
            "positivo    129\n",
            "negativo     97\n",
            "neutral      73\n",
            "Name: count, dtype: int64\n"
          ]
        }
      ],
      "source": [
        "# Distribución de Sentimientos\n",
        "distribucion_sentimientos = df_supplements['Sentimiento'].value_counts()\n",
        "print(distribucion_sentimientos)"
      ]
    },
    {
      "cell_type": "markdown",
      "metadata": {
        "id": "CRTCb4_zKgyo"
      },
      "source": [
        "El Dataset tiene una distribución bastante equilibrada entre las clases de sentimientos.\n",
        "\n",
        "- Desbalance Neutral: Visualizo una menor cantidad de comentarios \"Neutrales\" lo cuál podría generar un sesgo a la hora de entrenar el modelo.\n",
        "El chatbot podría no identificar adecuadamente los comentarios neutrales.\n",
        "\n",
        "- Desbalance Positivo: El modelo podría inclinarse mayoritariamente en predecir Positivos por sobre negativos y neutrales.\n",
        "\n",
        "Por el momento decido no trabajar este aspecto, ya que no considero que sea significativo.\n",
        "\n",
        "En caso de que los modelos generen un sesgo trabajaré con herramientas para solucionarlo (imbalanced data tools & oversamplig, undersampling).\n",
        "\n",
        "- https://medium.com/@abdallahashraf90x/oversampling-for-better-machine-learning-with-imbalanced-data-68f9b5ac2696\n",
        "- https://www.analyticsvidhya.com/blog/2020/10/improve-class-imbalance-class-weights/"
      ]
    },
    {
      "cell_type": "code",
      "execution_count": 13,
      "metadata": {
        "colab": {
          "base_uri": "https://localhost:8080/",
          "height": 825
        },
        "id": "msrCLJj9pwP_",
        "outputId": "ddaa0a87-6dad-412f-962d-0df90cb38857"
      },
      "outputs": [
        {
          "name": "stderr",
          "output_type": "stream",
          "text": [
            "C:\\Users\\dalarroy\\AppData\\Local\\Temp\\ipykernel_35676\\2125716983.py:4: FutureWarning: \n",
            "\n",
            "Passing `palette` without assigning `hue` is deprecated and will be removed in v0.14.0. Assign the `x` variable to `hue` and set `legend=False` for the same effect.\n",
            "\n",
            "  sns.countplot(x='Sentimiento', data= df_supplements, palette='Set2')\n"
          ]
        },
        {
          "data": {
            "text/plain": [
              "<function matplotlib.pyplot.show(close=None, block=None)>"
            ]
          },
          "execution_count": 13,
          "metadata": {},
          "output_type": "execute_result"
        },
        {
          "data": {
            "image/png": "[encoded data removed]",
            "text/plain": [
              "<Figure size 800x600 with 1 Axes>"
            ]
          },
          "metadata": {},
          "output_type": "display_data"
        }
      ],
      "source": [
        "# Grafico la distribución\n",
        "\n",
        "plt.figure(figsize=(8,6))\n",
        "sns.countplot(x='Sentimiento', data= df_supplements, palette='Set2')\n",
        "plt.title('Distribución de Sentimientos')\n",
        "plt.xlabel('Sentimiento')\n",
        "plt.ylabel('Frecuencia')\n",
        "plt.show\n"
      ]
    },
    {
      "cell_type": "code",
      "execution_count": 14,
      "metadata": {
        "id": "5YISKTi-PxAD"
      },
      "outputs": [],
      "source": [
        "# Revisión de tipo de datos\n",
        "df_supplements['Texto'] = df_supplements['Texto'].astype(str)\n",
        "df_supplements['Sentimiento'] = df_supplements['Sentimiento'].astype(str)"
      ]
    },
    {
      "cell_type": "markdown",
      "metadata": {
        "id": "PhxiV0WPtYa5"
      },
      "source": [
        "`Longitud del \"Texto\"`\n",
        "---\n",
        "\n",
        "Anaalizo la longitud de los comentarios para identificar sobre todo si los comentarios son similares en cuanto a longitud entre los \"Positivos\" y los \"Negativos\".\n",
        "\n",
        "- Detectar patrones en cuánto al detalle de las críticas\n",
        "- Analizar las criticas cortas o largas en relación al sentimiento de la crítica\n"
      ]
    },
    {
      "cell_type": "code",
      "execution_count": 15,
      "metadata": {
        "colab": {
          "base_uri": "https://localhost:8080/",
          "height": 637
        },
        "id": "OrcOStRQtbvv",
        "outputId": "56cc259a-da7c-4c44-d35f-b59de05d8bd4"
      },
      "outputs": [
        {
          "name": "stdout",
          "output_type": "stream",
          "text": [
            "count    299.000000\n",
            "mean       7.053512\n",
            "std        1.372236\n",
            "min        3.000000\n",
            "25%        6.000000\n",
            "50%        7.000000\n",
            "75%        8.000000\n",
            "max       11.000000\n",
            "Name: longitud_palabras, dtype: float64\n"
          ]
        },
        {
          "data": {
            "image/png": "[encoded data removed]",
            "text/plain": [
              "<Figure size 640x480 with 1 Axes>"
            ]
          },
          "metadata": {},
          "output_type": "display_data"
        }
      ],
      "source": [
        "# Función para contar palabras\n",
        "def contar_palabras(texto):\n",
        "  return len(texto.split())\n",
        "\n",
        "# Longitud del texto en palabras\n",
        "df_supplements[\"longitud_palabras\"] = df_supplements[\"Texto\"].apply(contar_palabras)\n",
        "\n",
        "# Resumen estadístico\n",
        "print(df_supplements['longitud_palabras'].describe())\n",
        "\n",
        "# Gráfico de la distribución de la longitud en palabras\n",
        "df_supplements['longitud_palabras'].hist(bins=15, color='skyblue', edgecolor='black')\n",
        "plt.title('Distribución de Longitud de Críticas (en palabras)')\n",
        "plt.xlabel('Número de palabras')\n",
        "plt.ylabel('Frecuencia')\n",
        "plt.show()"
      ]
    },
    {
      "cell_type": "markdown",
      "metadata": {
        "id": "9ejluAIBusyf"
      },
      "source": [
        "Identifico que el promedio de palabras por crítica es de 7 palabras.\n",
        "\n",
        "Ahora voy a desarrollar esto:\n",
        "- Gráficar el promedio de palabras por crítica de cada tipo de crítica \"Negativa\", \"Positiva\" y \"Neutra\" para buscar patrones.\n",
        "Ej. Las críticas positivas son mas breves y las negativas son más cortas.\n",
        "- Analizar las críticas más cortas y más largas en relación al sentimiento"
      ]
    },
    {
      "cell_type": "code",
      "execution_count": 16,
      "metadata": {
        "colab": {
          "base_uri": "https://localhost:8080/",
          "height": 334
        },
        "id": "3gB5hSgiu3Qi",
        "outputId": "01661673-e538-4580-bf87-e43cd7142ec2"
      },
      "outputs": [
        {
          "data": {
            "image/png": "[encoded data removed]",
            "text/plain": [
              "<Figure size 600x300 with 1 Axes>"
            ]
          },
          "metadata": {},
          "output_type": "display_data"
        }
      ],
      "source": [
        "# Graficar el promedio de palabras por sentimiento\n",
        "promedio_palabras = df_supplements.groupby('Sentimiento')['longitud_palabras'].mean()\n",
        "\n",
        "# Graficarlo\n",
        "promedio_palabras.plot(kind='bar', color=['red','orange','green'],figsize=(6,3))\n",
        "plt.title('Promedio de Palabras por Crítica según Sentimiento')\n",
        "plt.xlabel('Sentimiento')\n",
        "plt.ylabel('Promedio de Palabras')\n",
        "plt.xticks(rotation=0)\n",
        "plt.show()\n"
      ]
    },
    {
      "cell_type": "markdown",
      "metadata": {
        "id": "hexwEVpJO15m"
      },
      "source": [
        "Analizar las críticas más cortas y más largas en relación al sentimiento (Top 10 de cada una)\n",
        "\n",
        "https://pandas.pydata.org/pandas-docs/stable/reference/api/pandas.DataFrame.nsmallest.html\n"
      ]
    },
    {
      "cell_type": "code",
      "execution_count": 17,
      "metadata": {
        "colab": {
          "base_uri": "https://localhost:8080/"
        },
        "id": "1qj_K4_3u3yo",
        "outputId": "230bbd44-3c34-4a18-8e0f-a40c60b50f6c"
      },
      "outputs": [
        {
          "name": "stdout",
          "output_type": "stream",
          "text": [
            "Críticas más cortas (top 10):\n",
            "                                     Texto  longitud_palabras Sentimiento\n",
            "20       Excelente relación calidad-precio                  3    positivo\n",
            "206      Excelente relación precio-calidad                  3    positivo\n",
            "86               Todo perfecto, sin quejas                  4    positivo\n",
            "96           Producto promedio, no destaca                  4     neutral\n",
            "158         Producto increíble, me encanta                  4    positivo\n",
            "233    Excelente atención, muy profesional                  4    positivo\n",
            "242           Todo perfecto, lo recomiendo                  4    positivo\n",
            "262         Me causó molestias estomacales                  4    negativo\n",
            "24          El envío tomó demasiado tiempo                  5    negativo\n",
            "41   Excelente sabor, estoy muy satisfecho                  5    positivo\n"
          ]
        }
      ],
      "source": [
        "# Críticas más cortas (top 10)\n",
        "criticas_cortas = df_supplements.nsmallest(10, 'longitud_palabras')\n",
        "print(\"Críticas más cortas (top 10):\")\n",
        "print(criticas_cortas[['Texto', 'longitud_palabras', 'Sentimiento']])"
      ]
    },
    {
      "cell_type": "code",
      "execution_count": 18,
      "metadata": {
        "colab": {
          "base_uri": "https://localhost:8080/"
        },
        "id": "9IoTCxTvO-SP",
        "outputId": "7093ab9a-ec6d-4ab9-c2b0-25c369413bc3"
      },
      "outputs": [
        {
          "name": "stdout",
          "output_type": "stream",
          "text": [
            "\n",
            "Críticas más largas (top 10):\n",
            "                                                 Texto  longitud_palabras  \\\n",
            "88   El sabor no está mal, pero no lo volvería a co...                 11   \n",
            "263   El sabor no es lo que esperaba, pero no está mal                 11   \n",
            "14    El tiempo de envío fue más rápido de lo esperado                 10   \n",
            "21       La textura del producto es rara y no me gustó                 10   \n",
            "134       El precio es un poco alto, pero vale la pena                 10   \n",
            "180  El paquete llegó con un golpe, pero estaba tod...                 10   \n",
            "203          El sabor es muy dulce, no es de mi agrado                 10   \n",
            "205  El paquete llegó bien, aunque tardó más de lo ...                 10   \n",
            "217   Me generó dolor de cabeza, no lo volveré a tomar                 10   \n",
            "224     Creo que el precio es justo para lo que ofrece                 10   \n",
            "\n",
            "    Sentimiento  \n",
            "88      neutral  \n",
            "263     neutral  \n",
            "14     positivo  \n",
            "21     negativo  \n",
            "134     neutral  \n",
            "180     neutral  \n",
            "203    negativo  \n",
            "205     neutral  \n",
            "217    negativo  \n",
            "224    positivo  \n"
          ]
        }
      ],
      "source": [
        "# Críticas más largas (top 10)\n",
        "criticas_largas = df_supplements.nlargest(10, 'longitud_palabras')\n",
        "print(\"\\nCríticas más largas (top 10):\")\n",
        "print(criticas_largas[['Texto', 'longitud_palabras', 'Sentimiento']])"
      ]
    },
    {
      "cell_type": "code",
      "execution_count": 19,
      "metadata": {
        "colab": {
          "base_uri": "https://localhost:8080/",
          "height": 606
        },
        "id": "Un_-K2tqPJNp",
        "outputId": "b6513776-5c77-4a87-922a-b880a8436d37"
      },
      "outputs": [
        {
          "data": {
            "image/png": "[encoded data removed]",
            "text/plain": [
              "<Figure size 1200x600 with 2 Axes>"
            ]
          },
          "metadata": {},
          "output_type": "display_data"
        }
      ],
      "source": [
        "# Creo una figura con dos gráficos uno al lado del otro\n",
        "fig, axs = plt.subplots(1, 2, figsize=(12, 6), sharey=True)\n",
        "\n",
        "# Distribución de sentimientos en críticas cortas\n",
        "criticas_cortas['Sentimiento'].value_counts().plot(\n",
        "    kind='bar', color='lightcoral', ax=axs[0], edgecolor='black')\n",
        "\n",
        "# Etiqueta y titulo del primer gráfico (Criticas cortas)\n",
        "axs[0].set_title('Distribución de Sentimientos (Críticas Cortas)')\n",
        "axs[0].set_xlabel('Sentimiento')\n",
        "axs[0].set_ylabel('Cantidad')\n",
        "\n",
        "# Distribución de sentimientos en críticas largas\n",
        "criticas_largas['Sentimiento'].value_counts().plot(\n",
        "    kind='bar', color='lightblue', ax=axs[1], edgecolor='black')\n",
        "\n",
        "# Título del segundo gráfico (Criticas largas)\n",
        "axs[1].set_title('Distribución de Sentimientos (Críticas Largas)')\n",
        "axs[1].set_xlabel('Sentimiento')\n",
        "\n",
        "plt.tight_layout()\n",
        "plt.show()"
      ]
    },
    {
      "cell_type": "markdown",
      "metadata": {
        "id": "KvpRkZ_EQK5W"
      },
      "source": [
        "A simple vista se puede ver como las críticas más cortas tienen una tendencia de ser positivas.\n",
        "Y las críticas más largas tienen una tendencia de ser neutrales."
      ]
    },
    {
      "cell_type": "markdown",
      "metadata": {
        "id": "Z74UJWfQcPgw"
      },
      "source": [
        "---\n",
        "# Preprocesamiento de Texto\n",
        "\n",
        "Realizo el preprocesamiento del texto previo al analisis final, Feature Engineering y modelado.\n",
        "Con el fin de evitar redundancias a la hora de hacer un Word Cloud pero sobre todo hacerlo un texto procesable para el feature engineering posterior y el modelado.\n",
        "\n",
        "1. `Normalización` (Minúsculas, elimino puntuaciones y caracteres especiales (dejo las tildes, ñ, números y espacios porque considero que puede ser significativo en español).\n",
        "2. Elimino `stopwords` que no generan un valor semántico.\n",
        "3.  `Lematización`: Reduzco las palabras a su base para evitar duplicar términos que tengan un significado similar semanticamente\n",
        "\n",
        "La `Tokenización` la realizaré directo con el modelo \"multilingual-e5-large\"\n",
        "\n"
      ]
    },
    {
      "cell_type": "code",
      "execution_count": 20,
      "metadata": {
        "id": "vxlzpUQG6je4"
      },
      "outputs": [],
      "source": [
        "# Limpieza y normalización del texto para realizar el Word Cloud\n",
        "\n",
        "# Inicializar el lematizador\n",
        "lemmatizer = WordNetLemmatizer()\n",
        "\n",
        "# Función para limpiar y procesar el texto\n",
        "def clean(texto):\n",
        "    # Convertir a minúscula\n",
        "    texto = texto.lower()\n",
        "\n",
        "    # Eliminar puntuaciones y caracteres especiales\n",
        "    texto = re.sub(r'[^a-záéíóúüñ0-9\\s]+', '', texto)\n",
        "\n",
        "    # Eliminar stopwords\n",
        "    tokens = [word for word in texto.split() if word not in stopwords.words('spanish')]\n",
        "\n",
        "    # Lematización\n",
        "    tokens = [lemmatizer.lemmatize(word) for word in tokens]\n",
        "\n",
        "    # Unir las palabras lematizadas en un texto limpio\n",
        "    cleaned_text = ' '.join(tokens)\n",
        "\n",
        "    return cleaned_text\n",
        "\n",
        "# Aplicar la función de limpieza al DataFrame\n",
        "df_supplements['Texto_Limpio'] = df_supplements['Texto'].apply(clean)\n"
      ]
    },
    {
      "cell_type": "code",
      "execution_count": 21,
      "metadata": {
        "colab": {
          "base_uri": "https://localhost:8080/",
          "height": 206
        },
        "id": "3inB0Tlj92wD",
        "outputId": "ce7a466c-1972-4358-dc53-4191eeea7ed2"
      },
      "outputs": [
        {
          "data": {
            "text/html": [
              "<div>\n",
              "<style scoped>\n",
              "    .dataframe tbody tr th:only-of-type {\n",
              "        vertical-align: middle;\n",
              "    }\n",
              "\n",
              "    .dataframe tbody tr th {\n",
              "        vertical-align: top;\n",
              "    }\n",
              "\n",
              "    .dataframe thead th {\n",
              "        text-align: right;\n",
              "    }\n",
              "</style>\n",
              "<table border=\"1\" class=\"dataframe\">\n",
              "  <thead>\n",
              "    <tr style=\"text-align: right;\">\n",
              "      <th></th>\n",
              "      <th>Texto</th>\n",
              "      <th>Sentimiento</th>\n",
              "      <th>longitud_palabras</th>\n",
              "      <th>Texto_Limpio</th>\n",
              "    </tr>\n",
              "  </thead>\n",
              "  <tbody>\n",
              "    <tr>\n",
              "      <th>0</th>\n",
              "      <td>El sabor es increíble, lo mejor que he probado</td>\n",
              "      <td>positivo</td>\n",
              "      <td>9</td>\n",
              "      <td>sabor increíble mejor probado</td>\n",
              "    </tr>\n",
              "    <tr>\n",
              "      <th>1</th>\n",
              "      <td>Llegó tarde y el paquete estaba dañado</td>\n",
              "      <td>negativo</td>\n",
              "      <td>7</td>\n",
              "      <td>llegó tarde paquete dañado</td>\n",
              "    </tr>\n",
              "    <tr>\n",
              "      <th>2</th>\n",
              "      <td>El precio es razonable para la calidad</td>\n",
              "      <td>positivo</td>\n",
              "      <td>7</td>\n",
              "      <td>precio razonable calidad</td>\n",
              "    </tr>\n",
              "    <tr>\n",
              "      <th>3</th>\n",
              "      <td>No noto diferencia con otros productos similares</td>\n",
              "      <td>neutral</td>\n",
              "      <td>7</td>\n",
              "      <td>noto diferencia productos similares</td>\n",
              "    </tr>\n",
              "    <tr>\n",
              "      <th>4</th>\n",
              "      <td>El envío fue rápido y sin problemas</td>\n",
              "      <td>positivo</td>\n",
              "      <td>7</td>\n",
              "      <td>envío rápido problemas</td>\n",
              "    </tr>\n",
              "  </tbody>\n",
              "</table>\n",
              "</div>"
            ],
            "text/plain": [
              "                                              Texto Sentimiento  \\\n",
              "0    El sabor es increíble, lo mejor que he probado    positivo   \n",
              "1            Llegó tarde y el paquete estaba dañado    negativo   \n",
              "2            El precio es razonable para la calidad    positivo   \n",
              "3  No noto diferencia con otros productos similares     neutral   \n",
              "4               El envío fue rápido y sin problemas    positivo   \n",
              "\n",
              "   longitud_palabras                         Texto_Limpio  \n",
              "0                  9        sabor increíble mejor probado  \n",
              "1                  7           llegó tarde paquete dañado  \n",
              "2                  7             precio razonable calidad  \n",
              "3                  7  noto diferencia productos similares  \n",
              "4                  7               envío rápido problemas  "
            ]
          },
          "execution_count": 21,
          "metadata": {},
          "output_type": "execute_result"
        }
      ],
      "source": [
        "df_supplements.head()"
      ]
    },
    {
      "cell_type": "markdown",
      "metadata": {
        "id": "hT9AvT41DJOr"
      },
      "source": [
        "`WordCloud`\n",
        "---\n",
        "\n",
        "Visualización de las palabras más frecuentes (cualitativamente).\n",
        "A simple vista son las principales palabras. :\n",
        "- Sabor\n",
        "- Producto\n",
        "- Precio\n",
        "- Calidad\n",
        "- Servicio\n",
        "- llego\n",
        "- rapido\n",
        "\n",
        "Entiendo que va de la mano con el desbalance positivo de los comentarios.\n",
        "\n",
        "A simple vista pareciera que el producto es el principal eje de los comentarios y que el precio, el sabor y la velocidad son las variables más comentadas por los clientes."
      ]
    },
    {
      "cell_type": "code",
      "execution_count": 22,
      "metadata": {
        "colab": {
          "base_uri": "https://localhost:8080/",
          "height": 424
        },
        "id": "_UnnK0CPCQNt",
        "outputId": "d4eb52ac-7fba-4581-94e8-5ac630fb456b"
      },
      "outputs": [
        {
          "data": {
            "image/png": "[encoded data removed]",
            "text/plain": [
              "<Figure size 1000x600 with 1 Axes>"
            ]
          },
          "metadata": {},
          "output_type": "display_data"
        }
      ],
      "source": [
        "# Wordcloud para visualizar las palabras más frecuentes en los comentarios de los usuarios\n",
        "\n",
        "# Lista para almacenar todos los textos limpios\n",
        "texto_completo = \" \".join(df_supplements['Texto_Limpio'])\n",
        "\n",
        "# Generación del WordCloud\n",
        "wordcloud = WordCloud(width=800, height=400, background_color='white').generate(texto_completo)\n",
        "\n",
        "# Mostrar la imagen del WordCloud\n",
        "plt.figure(figsize=(10, 6))\n",
        "plt.imshow(wordcloud, interpolation='bilinear')  # 'bilinear' para suavizar la imagen\n",
        "plt.axis('off')  # Quitar los ejes\n",
        "plt.show()"
      ]
    },
    {
      "cell_type": "markdown",
      "metadata": {
        "id": "4ZXutXk3fwUc"
      },
      "source": [
        "`CounterVectorizer`\n",
        "---\n",
        "\n",
        "En este caso quiero ver de manera cuantitativa y más detallada la misma repetición.\n",
        "\n",
        "Voy a analizar el top 10 de palabras más frecuentas.\n",
        "\n",
        "De esta manera voy a buscar complementar la Word Cloud con esta herramienta.\n",
        "\n",
        "Analizando el gráfico refuerzo la idea anterior, eje de los comentarios \"Producto\" y variables principales \"Sabor\", \"Precio\", \"Entrega\" y \"Atención\""
      ]
    },
    {
      "cell_type": "code",
      "execution_count": 23,
      "metadata": {
        "colab": {
          "base_uri": "https://localhost:8080/",
          "height": 565
        },
        "id": "YSg-uGs5ECQy",
        "outputId": "07adad7e-d8ca-40bb-e935-976b5b07c882"
      },
      "outputs": [
        {
          "data": {
            "image/png": "[encoded data removed]",
            "text/plain": [
              "<Figure size 1000x600 with 1 Axes>"
            ]
          },
          "metadata": {},
          "output_type": "display_data"
        }
      ],
      "source": [
        "# CountVectorizer para complementar el ánalisis de las palabras más frecuentes\n",
        "\n",
        "# Inicializar el CountVectorizer\n",
        "vectorizer = CountVectorizer(max_features=10)\n",
        "\n",
        "# Aplicar el vectorizer al texto completo\n",
        "X = vectorizer.fit_transform([texto_completo])\n",
        "\n",
        "# Obtener las palabras y sus frecuencias\n",
        "palabras = vectorizer.get_feature_names_out()\n",
        "frecuencias = X.toarray().sum(axis=0)\n",
        "\n",
        "# Crear un DataFrame para visualizar las palabras más frecuentes\n",
        "df_palabras = pd.DataFrame({'Palabra': palabras, 'Frecuencia': frecuencias})\n",
        "\n",
        "# Ordenar el DataFrame por frecuencia en orden descendente\n",
        "df_palabras = df_palabras.sort_values(by='Frecuencia', ascending=False)\n",
        "\n",
        "# Visualizar las top 10 palabras más frecuentes\n",
        "plt.figure(figsize=(10, 6))\n",
        "plt.barh(df_palabras['Palabra'], df_palabras['Frecuencia'], color='skyblue')\n",
        "plt.title('Top 10 Palabras Más Frecuentes')\n",
        "plt.xlabel('Frecuencia')\n",
        "plt.ylabel('Palabras')\n",
        "plt.gca().invert_yaxis()  # Para que la palabra más frecuente esté arriba\n",
        "plt.show()\n"
      ]
    },
    {
      "cell_type": "markdown",
      "metadata": {
        "id": "DYjxHTTaMhXW"
      },
      "source": [
        "# Feature Engineering\n",
        "\n",
        "El objetivo de esta sección es transformar el texto para que pueda ser interpretado por los algoritmos de ML que voy a usar posteriormente."
      ]
    },
    {
      "cell_type": "markdown",
      "metadata": {
        "id": "N7ibvtUmWl2A"
      },
      "source": [
        "NLP Representation"
      ]
    },
    {
      "cell_type": "markdown",
      "metadata": {
        "id": "Sn-TG6l5Q95M"
      },
      "source": [
        "`Embedding Models`\n",
        "---\n",
        "\n",
        "Me va a permitir representar el texto en un espacio numerico. A diferencia de métodos más clásicos como TF-IDF que captura la frecuencia de palabras, los embedings me van a permitir capturar representaciones densas del texto que incluyen relaciones tanto semánticas como contextuales entre palabras.\n",
        "\n",
        "Esto va a ser fundamental a la hora de aplicar los modelos de ML, ya que va a permitir que comprendan no solo las palabras individuales, sino el contexto general de las oraciones.\n",
        "\n",
        "Voy a utilizar el tokenizador y el modelo de HuggingFace (intfloat/multilingual-e5-large)para obtener los embeddings de las frases ya que es un modelo open-source que soporta distintos lenguajes especializado en texto semantico."
      ]
    },
    {
      "cell_type": "code",
      "execution_count": 24,
      "metadata": {
        "colab": {
          "base_uri": "https://localhost:8080/",
          "height": 811,
          "referenced_widgets": [
            "b7baec79376f4c98a4146ee459ecbb8f",
            "d9a483761a9f43b99ab0322dcaea7b93",
            "67baa3b9b2bb4d6ebaac18985ed777d1",
            "14661e4d95e846e9afefbccab13d5e51",
            "be729aa977ee4feabce9b78144178cae",
            "52990a5de5ad4b729f956d4adab4a246",
            "54419c8e634f47b492185c63bdde054d",
            "16fc063570444b61b93c8926c8903e1c",
            "5ac9a53f92e44e30b360038a43cb41f3",
            "d057f80087ea4650b426884386787313",
            "b8b530f7101c463d8d9e7f9aced12d49",
            "021a49a05b0c4c8394ef967bd1102d1b",
            "f13ecf0b8ecf44b38626d10897757789",
            "42441d09799848cf9cc67433e2f668f4",
            "648b67dd664a440096858e79a2d01ef0",
            "c406a97d5c624e6cb756ebca56d48aaa",
            "a4d39b09979d4adebbecf102a55ac3ba",
            "9379413e81f047e18db74421c85d9fd0",
            "c9dd5663ce8a429a9182fe54273cdd34",
            "f05cc7bac6cd408599ba9184635c94d2",
            "5dc9dc3767bc45599e8fd55f4bfc490e",
            "21d15ce9d3cd4bafad30cd8275b2b1a3",
            "66d98a477d844b1a9a32ca64f82bf5cb",
            "11db311f318c4d8b8aa82089657aaa22",
            "ee5278a0d59f424287aee8a08d505578",
            "023b89294351449f85f7bbb49b8367c2",
            "ea97a4a252b8490caee9ff5b0ff4180d",
            "4cab6c8f3c5b4dc3b8130e53d2639997",
            "e706474299b34c7480518e75ae298d69",
            "7074b66ebf12437680b9c030b20a373d",
            "d846c09989524681bdae3cd7243d0ba9",
            "6462580b3e02481f936449d869000ae3",
            "f2dc9fe704cd4c45b012c4f111f8bce1",
            "740ab691ad0742cdb85f94f5439ad2e5",
            "7fd259cc4afa4e6a870b3d6f4d1349ec",
            "88e3c3886c1c46c6908d77e044796031",
            "054194296b9f4c66a8641fe644f05104",
            "cef0f49a625248808a36c1795853716b",
            "1a12b91af4f54009baf25010a54f4dfc",
            "dd4ba9830d2542ba892c2aac7f61abc8",
            "82e112c1dfa84de8855fdbccb0c42cad",
            "e875dc55081e422fa79859a4226866c7",
            "1c566c1978734edc8597b2378fbeee24",
            "62f69c7b8b774cec93252b654a1a9f13",
            "eec0960a6a6145e29ca3e3dcace1c7c0",
            "6564519de1c147f1ba61f9574afb7acd",
            "3907254e422c4d9e9fe2be3858f5c057",
            "1bb7b3413dd04ac2a55105e398402f3b",
            "abf44134faa849f2892ef4303e833f24",
            "dd25c88042d149ca839054c19a9fe3b4",
            "a5457c48736f43ffbbfeb45efded9ac5",
            "922b7799b67a47a390f66e9fbc3fd340",
            "e10bee694f434a25adce52139ffdec2d",
            "f12ae42aba1346e693deafb1fc111f67",
            "aa268a23eeb64237b5a5c831b34b8ebd",
            "947c1fc4079347288a2022a31d709a52",
            "269392509ed54534ac019d7f292da084",
            "a9872e2e4f3c45a7926d911a7a9b865f",
            "67cb1d250bab4db3a13a8e9d9d708834",
            "666b2b9cd3a5458ab2a5a99d41c70ed3",
            "03ae02d35cf94e65a55a28c7619d2819",
            "aad2e946fdef460c97789bdec15304c7",
            "670f367924594e3cb2d435eb06b6b4c7",
            "3f1b9a859a0d4bf0b0de70c5986d700e",
            "385400fb1ab54312995ec051f010f453",
            "9ac9f87d43cb43ea9ff585305a0882cf"
          ]
        },
        "id": "XySV7zuU8PxB",
        "outputId": "82a1273a-d88b-40ed-c453-2ee02f14cf67"
      },
      "outputs": [
        {
          "name": "stdout",
          "output_type": "stream",
          "text": [
            "                            Texto_Limpio  \\\n",
            "0          sabor increíble mejor probado   \n",
            "1             llegó tarde paquete dañado   \n",
            "2               precio razonable calidad   \n",
            "3    noto diferencia productos similares   \n",
            "4                 envío rápido problemas   \n",
            "..                                   ...   \n",
            "294                 siento vitalidad uso   \n",
            "295  excelente calidad vale cada centavo   \n",
            "296         sabor aceptable sorprendente   \n",
            "297           problemas atención cliente   \n",
            "298              llegó tiempo confiables   \n",
            "\n",
            "                                             Embedding  \n",
            "0    [0.3794937, 0.018281313, -0.31692454, -1.42772...  \n",
            "1    [0.29727998, 0.101082414, 0.25446936, -1.07511...  \n",
            "2    [0.3472684, -0.25522006, -0.34541115, -1.44135...  \n",
            "3    [0.6026258, -0.6301529, -0.7458469, -0.9598014...  \n",
            "4    [0.10878229, -0.042309348, 0.1820356, -0.80993...  \n",
            "..                                                 ...  \n",
            "294  [0.4743576, -0.290002, -0.79885006, -0.9351194...  \n",
            "295  [0.68689036, -0.79065084, -0.5556582, -1.04013...  \n",
            "296  [0.8104705, 0.20235781, 0.30657974, -1.7499385...  \n",
            "297  [0.26974282, -0.26296467, -0.21612199, -2.0473...  \n",
            "298  [0.9664135, -0.43883395, -0.71803695, -1.11425...  \n",
            "\n",
            "[299 rows x 2 columns]\n"
          ]
        }
      ],
      "source": [
        "# Embedding Models\n",
        "\n",
        "# Cargar el modelo y tokenizer desde HuggingFace\n",
        "tokenizer = AutoTokenizer.from_pretrained(\"intfloat/multilingual-e5-large\")\n",
        "model = AutoModel.from_pretrained(\"intfloat/multilingual-e5-large\")\n",
        "\n",
        "# Función para obtener embeddings\n",
        "def get_embedding(text):\n",
        "    # Tokenizar la oración\n",
        "    inputs = tokenizer(text, return_tensors=\"pt\", padding=True, truncation=True)\n",
        "\n",
        "    # Obtener el embedding de la oración\n",
        "    with torch.no_grad():\n",
        "        embedding = model(**inputs).last_hidden_state.mean(dim=1)\n",
        "\n",
        "    return embedding.squeeze().numpy()\n",
        "\n",
        "# Aplicar la función a la columna 'Texto_Limpio' de tu DataFrame\n",
        "df_supplements['Embedding'] = df_supplements['Texto_Limpio'].apply(get_embedding)\n",
        "\n",
        "# Ver el DataFrame con embeddings\n",
        "print(df_supplements[['Texto_Limpio', 'Embedding']])"
      ]
    },
    {
      "cell_type": "markdown",
      "metadata": {
        "id": "mu0hyjv-DYX0"
      },
      "source": [
        "`t-SNE Reducción de Dimensionalidad`\n",
        "---\n",
        "\n",
        "El obtetivo es crear un mapa reducido e 2D para visualizar e interpretar los embeddings realizados en el paso previo a través de t-SNE.\n",
        "\n",
        "- n_components = Elegí 2 componentes para reducir los embeddings a un plano 2D, para facilitar la visualización.\n",
        "- Perplexity: Tomo un valor medio dado que se recomienda 5-15 para enfocar en relaciones locales y 50 a 100 para dar prioridad a patrones globales.\n",
        "- random_state = 42 para permitir la reproducibilidad\n",
        "\n"
      ]
    },
    {
      "cell_type": "code",
      "execution_count": 25,
      "metadata": {
        "colab": {
          "base_uri": "https://localhost:8080/",
          "height": 622
        },
        "id": "5WtRl5-wXxua",
        "outputId": "20d58ea0-5e1c-4a09-e060-c9c56435edfb"
      },
      "outputs": [
        {
          "data": {
            "image/png": "[encoded data removed]",
            "text/plain": [
              "<Figure size 1000x700 with 1 Axes>"
            ]
          },
          "metadata": {},
          "output_type": "display_data"
        }
      ],
      "source": [
        "# Visualización 2D de los embeddings\n",
        "\n",
        "# Extraer los embeddings (asegúrate de convertirlos a una matriz NumPy)\n",
        "embeddings = np.vstack(df_supplements['Embedding'])\n",
        "\n",
        "labels = df_supplements['Sentimiento']\n",
        "\n",
        "# Aplicar t-SNE para reducir dimensiones\n",
        "tsne = TSNE(n_components=2, random_state=42, perplexity=30)\n",
        "embeddings_2d = tsne.fit_transform(embeddings)\n",
        "\n",
        "# Crear el gráfico de dispersión\n",
        "plt.figure(figsize=(10, 7))\n",
        "for cluster in set(labels):\n",
        "    idx = labels == cluster\n",
        "    plt.scatter(embeddings_2d[idx, 0], embeddings_2d[idx, 1], label=f'{cluster}', alpha=0.7)\n",
        "\n",
        "plt.title(\"Distribución de Embeddings con t-SNE\")\n",
        "plt.legend()\n",
        "plt.show()\n"
      ]
    },
    {
      "cell_type": "markdown",
      "metadata": {
        "id": "ELALTb2yLVv_"
      },
      "source": [
        "A simple vista percibo un aceptable agrupamiento de las críticas `positivas`.\n",
        "\n",
        "Indica que las expresiones positivas tienen una representación semántica distintiva en el espacio de embeddings.\n",
        "\n",
        "Los puntos `negativos` también tienen a formar grupos aunque aparecen globalmente un poco más dispersos que los positivos.\n",
        "\n",
        "Los `neutrales` estan más intercalados entre los dos grupos, lo que podría hablar de cierta ambiguedad de las críticas a nivel semántico."
      ]
    },
    {
      "cell_type": "markdown",
      "metadata": {
        "id": "_GwIW25pJTnW"
      },
      "source": [
        "`Calculo la matriz de distancias `\n",
        "---\n",
        "\n",
        "Realizo el cálculo de distancias entre los puntos en el espacio 2D generado por t-SNE con el objetivo de analizar que tan cerca o lejos están entre sí las observaciones.\n",
        "\n",
        "**Pairwise_distances**: Se utiliza en este caso para calcular la distiancia entre cada par de puntos en el espacio 2D generado previamente.\n",
        "Me crea una matriz de distancias utilizando metrica Euclidiana."
      ]
    },
    {
      "cell_type": "code",
      "execution_count": 26,
      "metadata": {
        "colab": {
          "base_uri": "https://localhost:8080/",
          "height": 607
        },
        "id": "f2iMuRHJH_yp",
        "outputId": "3f6f417b-206d-412d-865e-99703487807b"
      },
      "outputs": [
        {
          "data": {
            "image/png": "[encoded data removed]",
            "text/plain": [
              "<Figure size 1200x600 with 2 Axes>"
            ]
          },
          "metadata": {},
          "output_type": "display_data"
        }
      ],
      "source": [
        "# Creo una matriz de distancias entre todos los puntos\n",
        "distance_matrix = pairwise_distances(embeddings_2d)\n",
        "\n",
        "# Crear máscaras para distancias intra-cluster y entre clusters\n",
        "intra_distances = []\n",
        "inter_distances = []\n",
        "\n",
        "# Se itera sobre las distancias y dependiendo si pertenece al mismo cluster o a diferentes clusters se agregan a dicha lista.\n",
        "for i, label_i in enumerate(labels):\n",
        "    for j, label_j in enumerate(labels):\n",
        "        if i < j:  # Evitar duplicar cálculos\n",
        "        # Si los puntos pertenecen al mismo cluster se agregan a la lista intra\n",
        "            if label_i == label_j:\n",
        "                intra_distances.append(distance_matrix[i, j])\n",
        "        # Sino se agregan a la lista inter\n",
        "            else:\n",
        "                inter_distances.append(distance_matrix[i, j])\n",
        "\n",
        "# Visualizar histogramas\n",
        "plt.figure(figsize=(12, 6))\n",
        "\n",
        "# Histogramas de distancias intra-cluster\n",
        "plt.subplot(1, 2, 1)\n",
        "sns.histplot(intra_distances, kde=True, color='blue', bins=20)\n",
        "plt.title('Distancias Intra-Cluster')\n",
        "plt.xlabel('Distancia')\n",
        "plt.ylabel('Frecuencia')\n",
        "\n",
        "# Histogramas de distancias entre clusters\n",
        "plt.subplot(1, 2, 2)\n",
        "sns.histplot(inter_distances, kde=True, color='red', bins=20)\n",
        "plt.title('Distancias Entre Clusters')\n",
        "plt.xlabel('Distancia')\n",
        "plt.ylabel('Frecuencia')\n",
        "\n",
        "plt.tight_layout()\n",
        "plt.show()\n"
      ]
    },
    {
      "cell_type": "markdown",
      "metadata": {
        "id": "tIUIeQyYWX4m"
      },
      "source": [
        "- Distancias intra-cluster: Las distancias entre los puntos de una misma etiqueta tiene un pico entre 10 y 20. Lo interpreto como algo positivo ya que sugiere que los puntos dentro del mismo grupo están semánticamente cercanos.\n",
        "\n",
        "- Distancias inter-cluster: La separación entre los diferentes grupos tiene un pico en el rango de 10 a 30, por encima de las distancias intra cluster.\n",
        "No es muy grande pero lo considero aceptable.\n"
      ]
    },
    {
      "cell_type": "markdown",
      "metadata": {
        "id": "D8rhLAuRM1Lk"
      },
      "source": [
        "# ETAPA 1: Modelado Predictivo"
      ]
    },
    {
      "cell_type": "markdown",
      "metadata": {
        "id": "zo8Mk5VRM9ZE"
      },
      "source": [
        "`Clasificación de Sentimiento (Sentimental Classification)`\n",
        "---\n",
        "\n",
        "Research inicial:\n",
        "- https://towardsdatascience.com/a-guide-to-text-classification-and-sentiment-analysis-2ab021796317\n",
        "- https://cookbook.openai.com/examples/classification_using_embeddings"
      ]
    },
    {
      "cell_type": "markdown",
      "metadata": {
        "id": "6XubbdnKsoue"
      },
      "source": [
        "Para esta etapa voy a utilizar modelos eficientes y a la vez accesibles en cualquier tipo de entorno para la clasificación de sentimientos.\n",
        "\n",
        "https://www.geeksforgeeks.org/random-forest-algorithm-in-machine-learning/\n",
        "https://www.geeksforgeeks.org/support-vector-machine-algorithm/\n",
        "https://www.geeksforgeeks.org/support-vector-machine-algorithm/\n",
        "\n",
        "Principalmente voy a probar:\n",
        "- Logistic Regression\n",
        "- Random Forest\n",
        "- Support Vector Machine (SVM)\n",
        "\n",
        "Tienen una buena capacidad para manejar datos de alta dimensionalidad como embeddings y como ventaja no requieren mucha capacidad computacional.\n",
        "\n",
        "Como problematicas que puedan surgir en primera instancia se me ocurren los analizados en la etapa de EDA:\n",
        "\n",
        "- Desbalanceo de clases: Hay más positivos que neutrales y negativos.\n",
        "En ese caso habrá que evaluar undersampling o oversampling."
      ]
    },
    {
      "cell_type": "markdown",
      "metadata": {
        "id": "qFENdtpQ3nVK"
      },
      "source": [
        "`Preparación del df para trabajar los modelos` `Código en línea`\n",
        "---"
      ]
    },
    {
      "cell_type": "code",
      "execution_count": 27,
      "metadata": {
        "id": "Il5_sMRJ8S04"
      },
      "outputs": [],
      "source": [
        "label_encoder = LabelEncoder()\n",
        "df_supplements['Sentimiento'] = label_encoder.fit_transform(df_supplements['Sentimiento'])"
      ]
    },
    {
      "cell_type": "code",
      "execution_count": 28,
      "metadata": {
        "colab": {
          "base_uri": "https://localhost:8080/"
        },
        "id": "J8pD7K_l8WIF",
        "outputId": "dcfe83f2-c043-4393-df99-5c9aff44cc28"
      },
      "outputs": [
        {
          "name": "stdout",
          "output_type": "stream",
          "text": [
            "[2 0 1]\n"
          ]
        }
      ],
      "source": [
        "# Verificar la columna de Sentimiento\n",
        "print(df_supplements['Sentimiento'].unique())  # Asegúrate de que las etiquetas son correctas\n"
      ]
    },
    {
      "cell_type": "code",
      "execution_count": 29,
      "metadata": {
        "id": "k8IQOlCF34MR"
      },
      "outputs": [],
      "source": [
        "# Preparo el df\n",
        "X = np.vstack(df_supplements['Embedding'].values)\n",
        "y = df_supplements[[\"Sentimiento\"]].values\n",
        "\n",
        "# Divido los datos\n",
        "X_train, X_test, y_train, y_test = train_test_split(X, y, test_size=0.2,random_state=42)\n"
      ]
    },
    {
      "cell_type": "markdown",
      "metadata": {
        "id": "098QazOVmcvs"
      },
      "source": [
        "`Modelos: Finalmente utilizo Logistic Regression`\n",
        "---"
      ]
    },
    {
      "cell_type": "markdown",
      "metadata": {
        "id": "Q86nMDRq5ju_"
      },
      "source": [
        "Logistic Regression"
      ]
    },
    {
      "cell_type": "code",
      "execution_count": 30,
      "metadata": {
        "colab": {
          "base_uri": "https://localhost:8080/"
        },
        "id": "TP45kLgR4TL3",
        "outputId": "a01b3bac-4891-4577-adc3-4a88f29354db"
      },
      "outputs": [
        {
          "name": "stdout",
          "output_type": "stream",
          "text": [
            "              precision    recall  f1-score   support\n",
            "\n",
            "           0       0.77      0.77      0.77        22\n",
            "           1       0.86      0.75      0.80        16\n",
            "           2       0.83      0.91      0.87        22\n",
            "\n",
            "    accuracy                           0.82        60\n",
            "   macro avg       0.82      0.81      0.81        60\n",
            "weighted avg       0.82      0.82      0.82        60\n",
            "\n"
          ]
        },
        {
          "name": "stderr",
          "output_type": "stream",
          "text": [
            "c:\\Users\\dalarroy\\OneDrive - NTT DATA EMEAL\\Escritorio\\Supplements_final\\venv\\lib\\site-packages\\sklearn\\utils\\validation.py:1408: DataConversionWarning: A column-vector y was passed when a 1d array was expected. Please change the shape of y to (n_samples, ), for example using ravel().\n",
            "  y = column_or_1d(y, warn=True)\n"
          ]
        }
      ],
      "source": [
        "# Crear y entrenar el modelo de regresión logística\n",
        "model_lr = LogisticRegression(max_iter=1000, class_weight=\"balanced\")\n",
        "model_lr.fit(X_train, y_train)\n",
        "\n",
        "# Evaluar el modelo\n",
        "y_pred_lr = model_lr.predict(X_test)\n",
        "print(classification_report(y_test, y_pred_lr))"
      ]
    },
    {
      "cell_type": "markdown",
      "metadata": {
        "id": "xmRB9NtfsRZI"
      },
      "source": [
        "Random Forest"
      ]
    },
    {
      "cell_type": "code",
      "execution_count": 31,
      "metadata": {
        "colab": {
          "base_uri": "https://localhost:8080/"
        },
        "id": "DZ6SHfxzsMyo",
        "outputId": "41786a5b-8212-44cb-96d4-49afec6253eb"
      },
      "outputs": [
        {
          "name": "stderr",
          "output_type": "stream",
          "text": [
            "c:\\Users\\dalarroy\\OneDrive - NTT DATA EMEAL\\Escritorio\\Supplements_final\\venv\\lib\\site-packages\\sklearn\\base.py:1389: DataConversionWarning: A column-vector y was passed when a 1d array was expected. Please change the shape of y to (n_samples,), for example using ravel().\n",
            "  return fit_method(estimator, *args, **kwargs)\n"
          ]
        },
        {
          "name": "stdout",
          "output_type": "stream",
          "text": [
            "              precision    recall  f1-score   support\n",
            "\n",
            "           0       0.76      0.73      0.74        22\n",
            "           1       0.80      0.50      0.62        16\n",
            "           2       0.72      0.95      0.82        22\n",
            "\n",
            "    accuracy                           0.75        60\n",
            "   macro avg       0.76      0.73      0.73        60\n",
            "weighted avg       0.76      0.75      0.74        60\n",
            "\n"
          ]
        }
      ],
      "source": [
        "# Creo y entreno el modelo de Random Forest\n",
        "# Entrenar el modelo de Random Forest\n",
        "model_rf = RandomForestClassifier(n_estimators=100, random_state=42)\n",
        "model_rf.fit(X_train, y_train)\n",
        "\n",
        "# Evaluar el modelo\n",
        "y_pred_rf = model_rf.predict(X_test)\n",
        "print(classification_report(y_test, y_pred_rf))"
      ]
    },
    {
      "cell_type": "markdown",
      "metadata": {
        "id": "2G7Tr0rdF_tJ"
      },
      "source": [
        "Suppor Vector Machine (SVM)"
      ]
    },
    {
      "cell_type": "code",
      "execution_count": 32,
      "metadata": {
        "colab": {
          "base_uri": "https://localhost:8080/"
        },
        "id": "__cmr61PGD7a",
        "outputId": "bbcae778-1b00-4dd4-c785-f0a0a5debc56"
      },
      "outputs": [
        {
          "name": "stdout",
          "output_type": "stream",
          "text": [
            "              precision    recall  f1-score   support\n",
            "\n",
            "           0       0.74      0.77      0.76        22\n",
            "           1       0.92      0.69      0.79        16\n",
            "           2       0.80      0.91      0.85        22\n",
            "\n",
            "    accuracy                           0.80        60\n",
            "   macro avg       0.82      0.79      0.80        60\n",
            "weighted avg       0.81      0.80      0.80        60\n",
            "\n"
          ]
        },
        {
          "name": "stderr",
          "output_type": "stream",
          "text": [
            "c:\\Users\\dalarroy\\OneDrive - NTT DATA EMEAL\\Escritorio\\Supplements_final\\venv\\lib\\site-packages\\sklearn\\utils\\validation.py:1408: DataConversionWarning: A column-vector y was passed when a 1d array was expected. Please change the shape of y to (n_samples, ), for example using ravel().\n",
            "  y = column_or_1d(y, warn=True)\n"
          ]
        }
      ],
      "source": [
        "# Crear y entrenar el modelo de SVM\n",
        "model_svm = SVC(kernel='linear', random_state=42)  # Puedes probar otros kernels si lo deseas (por ejemplo, 'rbf', 'poly')\n",
        "model_svm.fit(X_train, y_train)\n",
        "\n",
        "# Evaluar el modelo\n",
        "y_pred_svm = model_svm.predict(X_test)\n",
        "\n",
        "# Mostrar el reporte de clasificación\n",
        "print(classification_report(y_test, y_pred_svm))"
      ]
    },
    {
      "cell_type": "markdown",
      "metadata": {
        "id": "KtzurR6hJ1uD"
      },
      "source": [
        "`Metricas de Performance para clasificación`\n",
        "---\n",
        "`La precision`: Mide qué tan confiables son las predicciones positivas realizadas por el modelo. Indica la proporción de predicciones positivas que son realmente correctas.  \n",
        "\n",
        "Regresión Logistica:\n",
        "- Clase 0 (Negativo): 0.76\n",
        "- Clase 1 (Neutral): 0.86\n",
        "- Clase 2 (Positivo): 0.80\n",
        "\n",
        "Random Forest:\n",
        "- Clase 0 (Negativo): 0.76\n",
        "- Clase 1 (Neutral): 0.80\n",
        "- Clase 2 (Positivo): 0.72\n",
        "\n",
        "SVM:\n",
        "- Clase 0 (Negativo): 0.74\n",
        "- Clase 1 (Neutral): 0.92\n",
        "- Clase 2 (Positivo): 0.80\n",
        "\n",
        "La precisión es bastante alta y similar en los 3 modelos.\n",
        "\"neutral\" es la clase que mejor precisión tiene y \"Negativo\" es la que menor precisión tiene en general.\n",
        "Un detalle es que Random forest tiene menor precisión en genetal.\n",
        "\n",
        "---\n",
        "\n",
        "`El recall : Mide la capacidad del modelo para identificar correctamente todos los casos positivos reales. Indica cuántos de los positivos reales fueron detectados.\n",
        "\n",
        "Regresión Logistica:\n",
        "- Clase 0 (Negativo): 0.73\n",
        "- Clase 1 (Neutral): 0.75\n",
        "- Clase 2 (Positivo): 0.91\n",
        "\n",
        "Random Forest:\n",
        "- Clase 0 (Negativo): 0.73\n",
        "- Clase 1 (Neutral): 0.50\n",
        "- Clase 2 (Positivo): 0.95\n",
        "\n",
        "SVM:\n",
        "- Clase 0 (Negativo): 0.77\n",
        "- Clase 1 (Neutral): 0.69\n",
        "- Clase 2 (Positivo): 0.91\n",
        "\n",
        "El recall de la clase \"Positiva\" tiene un excelente desempeño.\n",
        "En la clase \"Neutral\" es donde se presenta la mayor diferencia y el menor desempeño sobre todo en Random Forest.\n",
        "\n",
        "---\n",
        "\n",
        "`El F1-Score `: Combina **precision** y **recall** en una única métrica. Es útil cuando las clases están desbalanceadas.\n",
        "En mi caso estan un tanto desbalanceadas por lo cual le voy a dar prioridad.\n",
        "\n",
        "Regresión Logistica:\n",
        "- Clase 0 (Negativo): 0.74\n",
        "- Clase 1 (Neutral): 0.80\n",
        "- Clase 2 (Negativo): 0.85\n",
        "\n",
        "Random Forest:\n",
        "- Clase 0 (Negativo): 0.74\n",
        "- Clase 1 (Neutral): 0.62\n",
        "- Clase 2 (Negativo): 0.82\n",
        "\n",
        "SVM:\n",
        "- Clase 0 (Negativo): 0.76\n",
        "- Clase 1 (Neutral): 0.79\n",
        "- Clase 2 (Negativo): 0.85\n",
        "\n",
        "El que mejor valores presenta es el modelo de regresión Logistica en terminos generales.\n",
        "Al ser un dataset un tanto desbalanceado voy a tomar la decisión de utilizar Regresión Logistica como modelo final.\n",
        "\n",
        "Descarto random forest por los valores de la clase neutral."
      ]
    },
    {
      "cell_type": "markdown",
      "metadata": {
        "id": "HkWUHmfSqMsv"
      },
      "source": [
        "`Matriz de Confusión`\n",
        "---"
      ]
    },
    {
      "cell_type": "code",
      "execution_count": 33,
      "metadata": {
        "colab": {
          "base_uri": "https://localhost:8080/",
          "height": 627
        },
        "id": "BvsiWTeQbosa",
        "outputId": "e1b860d9-df03-4065-b647-f15a4f504751"
      },
      "outputs": [
        {
          "name": "stdout",
          "output_type": "stream",
          "text": [
            "Accuracy: 0.8166666666666667\n"
          ]
        },
        {
          "ename": "ValueError",
          "evalue": "The truth value of an array with more than one element is ambiguous. Use a.any() or a.all()",
          "output_type": "error",
          "traceback": [
            "\u001b[1;31m---------------------------------------------------------------------------\u001b[0m",
            "\u001b[1;31mValueError\u001b[0m                                Traceback (most recent call last)",
            "Cell \u001b[1;32mIn[33], line 10\u001b[0m\n\u001b[0;32m      8\u001b[0m \u001b[38;5;66;03m# Visualizar la matriz de confusión\u001b[39;00m\n\u001b[0;32m      9\u001b[0m plt\u001b[38;5;241m.\u001b[39mfigure(figsize\u001b[38;5;241m=\u001b[39m(\u001b[38;5;241m8\u001b[39m, \u001b[38;5;241m6\u001b[39m))  \u001b[38;5;66;03m# Tamaño ajustado para mejor visualización\u001b[39;00m\n\u001b[1;32m---> 10\u001b[0m \u001b[43mplt\u001b[49m\u001b[38;5;241;43m.\u001b[39;49m\u001b[43mmatshow\u001b[49m\u001b[43m(\u001b[49m\u001b[43mcm\u001b[49m\u001b[43m,\u001b[49m\u001b[43m \u001b[49m\u001b[43mcmap\u001b[49m\u001b[38;5;241;43m=\u001b[39;49m\u001b[43mplt\u001b[49m\u001b[38;5;241;43m.\u001b[39;49m\u001b[43mcm\u001b[49m\u001b[38;5;241;43m.\u001b[39;49m\u001b[43mBlues\u001b[49m\u001b[43m,\u001b[49m\u001b[43m \u001b[49m\u001b[43mfignum\u001b[49m\u001b[38;5;241;43m=\u001b[39;49m\u001b[38;5;241;43m1\u001b[39;49m\u001b[43m)\u001b[49m  \u001b[38;5;66;03m# `fignum=1` mantiene la figura\u001b[39;00m\n\u001b[0;32m     11\u001b[0m plt\u001b[38;5;241m.\u001b[39mcolorbar()\n\u001b[0;32m     12\u001b[0m plt\u001b[38;5;241m.\u001b[39mylabel(\u001b[38;5;124m\"\u001b[39m\u001b[38;5;124mActual\u001b[39m\u001b[38;5;124m\"\u001b[39m)\n",
            "File \u001b[1;32mc:\\Users\\dalarroy\\OneDrive - NTT DATA EMEAL\\Escritorio\\Supplements_final\\venv\\lib\\site-packages\\matplotlib\\pyplot.py:2673\u001b[0m, in \u001b[0;36mmatshow\u001b[1;34m(A, fignum, **kwargs)\u001b[0m\n\u001b[0;32m   2669\u001b[0m     ax \u001b[38;5;241m=\u001b[39m gca()\n\u001b[0;32m   2670\u001b[0m \u001b[38;5;28;01melse\u001b[39;00m:\n\u001b[0;32m   2671\u001b[0m     \u001b[38;5;66;03m# Extract actual aspect ratio of array and make appropriately sized\u001b[39;00m\n\u001b[0;32m   2672\u001b[0m     \u001b[38;5;66;03m# figure.\u001b[39;00m\n\u001b[1;32m-> 2673\u001b[0m     fig \u001b[38;5;241m=\u001b[39m \u001b[43mfigure\u001b[49m\u001b[43m(\u001b[49m\u001b[43mfignum\u001b[49m\u001b[43m,\u001b[49m\u001b[43m \u001b[49m\u001b[43mfigsize\u001b[49m\u001b[38;5;241;43m=\u001b[39;49m\u001b[43mfigaspect\u001b[49m\u001b[43m(\u001b[49m\u001b[43mA\u001b[49m\u001b[43m)\u001b[49m\u001b[43m)\u001b[49m\n\u001b[0;32m   2674\u001b[0m     ax \u001b[38;5;241m=\u001b[39m fig\u001b[38;5;241m.\u001b[39madd_axes((\u001b[38;5;241m0.15\u001b[39m, \u001b[38;5;241m0.09\u001b[39m, \u001b[38;5;241m0.775\u001b[39m, \u001b[38;5;241m0.775\u001b[39m))\n\u001b[0;32m   2675\u001b[0m im \u001b[38;5;241m=\u001b[39m ax\u001b[38;5;241m.\u001b[39mmatshow(A, \u001b[38;5;241m*\u001b[39m\u001b[38;5;241m*\u001b[39mkwargs)\n",
            "File \u001b[1;32mc:\\Users\\dalarroy\\OneDrive - NTT DATA EMEAL\\Escritorio\\Supplements_final\\venv\\lib\\site-packages\\matplotlib\\pyplot.py:1010\u001b[0m, in \u001b[0;36mfigure\u001b[1;34m(num, figsize, dpi, facecolor, edgecolor, frameon, FigureClass, clear, **kwargs)\u001b[0m\n\u001b[0;32m   1008\u001b[0m     num \u001b[38;5;241m=\u001b[39m next_num\n\u001b[0;32m   1009\u001b[0m \u001b[38;5;28;01melse\u001b[39;00m:\n\u001b[1;32m-> 1010\u001b[0m     \u001b[38;5;28;01mif\u001b[39;00m \u001b[38;5;28;43many\u001b[39;49m\u001b[43m(\u001b[49m\u001b[43m[\u001b[49m\u001b[43mfigsize\u001b[49m\u001b[43m,\u001b[49m\u001b[43m \u001b[49m\u001b[43mdpi\u001b[49m\u001b[43m,\u001b[49m\u001b[43m \u001b[49m\u001b[43mfacecolor\u001b[49m\u001b[43m,\u001b[49m\u001b[43m \u001b[49m\u001b[43medgecolor\u001b[49m\u001b[43m,\u001b[49m\u001b[43m \u001b[49m\u001b[38;5;129;43;01mnot\u001b[39;49;00m\u001b[43m \u001b[49m\u001b[43mframeon\u001b[49m\u001b[43m,\u001b[49m\n\u001b[0;32m   1011\u001b[0m \u001b[43m            \u001b[49m\u001b[43mkwargs\u001b[49m\u001b[43m]\u001b[49m\u001b[43m)\u001b[49m \u001b[38;5;129;01mand\u001b[39;00m num \u001b[38;5;129;01min\u001b[39;00m allnums:\n\u001b[0;32m   1012\u001b[0m         _api\u001b[38;5;241m.\u001b[39mwarn_external(\n\u001b[0;32m   1013\u001b[0m             \u001b[38;5;124m\"\u001b[39m\u001b[38;5;124mIgnoring specified arguments in this call \u001b[39m\u001b[38;5;124m\"\u001b[39m\n\u001b[0;32m   1014\u001b[0m             \u001b[38;5;124mf\u001b[39m\u001b[38;5;124m\"\u001b[39m\u001b[38;5;124mbecause figure with num: \u001b[39m\u001b[38;5;132;01m{\u001b[39;00mnum\u001b[38;5;132;01m}\u001b[39;00m\u001b[38;5;124m already exists\u001b[39m\u001b[38;5;124m\"\u001b[39m)\n\u001b[0;32m   1015\u001b[0m     \u001b[38;5;28;01mif\u001b[39;00m \u001b[38;5;28misinstance\u001b[39m(num, \u001b[38;5;28mstr\u001b[39m):\n",
            "\u001b[1;31mValueError\u001b[0m: The truth value of an array with more than one element is ambiguous. Use a.any() or a.all()"
          ]
        },
        {
          "data": {
            "text/plain": [
              "<Figure size 800x600 with 0 Axes>"
            ]
          },
          "metadata": {},
          "output_type": "display_data"
        }
      ],
      "source": [
        "\n",
        "\n",
        "# Calcular la matriz de confusión\n",
        "cm = confusion_matrix(y_test, y_pred_lr)\n",
        "\n",
        "# Calcular la exactitud (accuracy)\n",
        "accuracy = accuracy_score(y_test, y_pred_lr)\n",
        "print(\"Accuracy:\", accuracy)\n",
        "\n",
        "# Visualizar la matriz de confusión\n",
        "plt.figure(figsize=(8, 6))  # Tamaño ajustado para mejor visualización\n",
        "plt.matshow(cm, cmap=plt.cm.Blues, fignum=1)  # `fignum=1` mantiene la figura\n",
        "plt.colorbar()\n",
        "plt.ylabel(\"Actual\")\n",
        "plt.xlabel(\"Predicted\")\n",
        "plt.title(\"Confusion Matrix\")\n",
        "\n",
        "# Añadir los valores a la matriz visualizada\n",
        "for i in range(cm.shape[0]):\n",
        "    for j in range(cm.shape[1]):\n",
        "        plt.text(j, i, f'{cm[i, j]}',\n",
        "                 ha='center',\n",
        "                 va='center',\n",
        "                 color='white' if cm[i, j] > cm.max()/2 else 'black')\n",
        "\n",
        "# Mostrar el gráfico\n",
        "plt.tight_layout()  # Ajusta los márgenes para evitar que los títulos se corten\n",
        "plt.show()\n"
      ]
    },
    {
      "cell_type": "markdown",
      "metadata": {
        "id": "FMefW-TxmtSO"
      },
      "source": [
        "Aca visualizo un poco como funciona el modelo.\n",
        "\n",
        "**Sentimiento Negativo:** 16 se predijeron correctamente como negativas y 6 incorrectas (5 de esas como positivo, eso me preocupa)\n",
        "\n",
        "**Sentimiento Neutral:** 12 fueron correctamente identificadas y 4 como algo negativo.\n",
        "\n",
        "**Sentimiento Positivo:** 20 fueron correctas y 2 incorrectas.\n",
        "\n",
        "Se ve naturalmente que la predicción positiva son las que mejor predicción tienen en el modelo.\n",
        "Se puede deber a que hay mayor cantidad de positivas en el dataset original."
      ]
    },
    {
      "cell_type": "code",
      "execution_count": 32,
      "metadata": {
        "id": "Bd1UZtqvrhPq"
      },
      "outputs": [],
      "source": [
        "# Probe realizar Oversampling y no hubo grandes modificaciones por lo cual lo mantengo como estaba"
      ]
    },
    {
      "cell_type": "markdown",
      "metadata": {
        "id": "MbCiYmc3LBvH"
      },
      "source": [
        "`Modelado de Topico (Clustering)`\n",
        "---\n",
        "\n",
        "- https://www.geeksforgeeks.org/topic-modeling-using-latent-dirichlet-allocation-lda/\n",
        "- https://medium.com/@daffabercerita/how-to-use-large-language-model-for-topic-modeling-a-comprehensive-guide-6c03d365cc90\n",
        "- https://towardsdatascience.com/unsupervised-learning-and-data-clustering-eeecb78b422a\n",
        "- https://www.geeksforgeeks.org/topic-modeling-using-latent-dirichlet-allocation-lda/"
      ]
    },
    {
      "cell_type": "markdown",
      "metadata": {
        "id": "Xp_Gd7Zox8uf"
      },
      "source": [
        "Para trabajar la clasificación no supervisada voy a utilizar `K-Means`  en primera instancia.\n",
        "\n",
        "Pensé en utilizar LDA, sin embargo por lo que leí es un modelo para grandes colecciones de texto y de mayor complejidad. No lo veo necesario en este caso y tampoco dispongo de colecciones PDF.\n",
        "\n",
        "K-Means me parece un buen algoritmo para trabajar en estos casos.\n",
        "\n",
        "Voy a aprovechar los embeddings ya desarrollados anteriormente.\n"
      ]
    },
    {
      "cell_type": "markdown",
      "metadata": {
        "id": "j3Wj-xVsGJZJ"
      },
      "source": [
        "`Elbow Method para analizar la cantidad de clusters en k-means`\n",
        "---\n",
        "\n",
        "- https://medium.com/@zalarushirajsinh07/the-elbow-method-finding-the-optimal-number-of-clusters-d297f5aeb189"
      ]
    },
    {
      "cell_type": "code",
      "execution_count": 33,
      "metadata": {
        "colab": {
          "base_uri": "https://localhost:8080/",
          "height": 564
        },
        "id": "gPoAsgsrGPk5",
        "outputId": "76aa1906-f542-4fd7-f386-9532a830926c"
      },
      "outputs": [
        {
          "data": {
            "image/png": "[encoded data removed]",
            "text/plain": [
              "<Figure size 800x600 with 1 Axes>"
            ]
          },
          "metadata": {},
          "output_type": "display_data"
        }
      ],
      "source": [
        "\n",
        "# Rango de valores para k (número de clusters)\n",
        "k_range = range(1, 11)\n",
        "\n",
        "# Lista para almacenar la inercia\n",
        "inertia = []\n",
        "\n",
        "# Calcular K-Means para cada k\n",
        "for k in k_range:\n",
        "    kmeans = KMeans(n_clusters=k, random_state=42)\n",
        "    kmeans.fit(embeddings)\n",
        "    inertia.append(kmeans.inertia_)\n",
        "\n",
        "# Graficar el método del codo\n",
        "plt.figure(figsize=(8, 6))\n",
        "plt.plot(k_range, inertia, marker='o')\n",
        "plt.title('Elbow Method')\n",
        "plt.xlabel('Número de clusters')\n",
        "plt.ylabel('Inercia')\n",
        "\n",
        "# Determinar el punto del codo y marcarlo (esto se puede hacer manualmente o por inspección visual)\n",
        "codo_k = 5  # Supongamos que el codo está en k=3, pero puedes ajustarlo tras visualizar el gráfico\n",
        "plt.axvline(x=codo_k, color='r', linestyle='--')  # Línea vertical en el codo\n",
        "# Añadir una anotación\n",
        "plt.text(codo_k, inertia[codo_k-1], f'  Elbow en k={codo_k}', color='r', fontsize=12)\n",
        "\n",
        "plt.show()\n"
      ]
    },
    {
      "cell_type": "markdown",
      "metadata": {
        "id": "P6EM2qAbJjbX"
      },
      "source": [
        "`K-Means`\n",
        "---"
      ]
    },
    {
      "cell_type": "code",
      "execution_count": 34,
      "metadata": {
        "colab": {
          "base_uri": "https://localhost:8080/"
        },
        "id": "kR5jkxGR4pJU",
        "outputId": "45ae2cfa-2d21-4217-8a67-b012b776af65"
      },
      "outputs": [
        {
          "name": "stdout",
          "output_type": "stream",
          "text": [
            "                                              Texto  Sentimiento  \\\n",
            "0    El sabor es increíble, lo mejor que he probado            2   \n",
            "1            Llegó tarde y el paquete estaba dañado            0   \n",
            "2            El precio es razonable para la calidad            2   \n",
            "3  No noto diferencia con otros productos similares            1   \n",
            "4               El envío fue rápido y sin problemas            2   \n",
            "\n",
            "   longitud_palabras                         Texto_Limpio  \\\n",
            "0                  9        sabor increíble mejor probado   \n",
            "1                  7           llegó tarde paquete dañado   \n",
            "2                  7             precio razonable calidad   \n",
            "3                  7  noto diferencia productos similares   \n",
            "4                  7               envío rápido problemas   \n",
            "\n",
            "                                           Embedding  Cluster  \n",
            "0  [0.37949297, 0.018278519, -0.31692043, -1.4277...        1  \n",
            "1  [0.29728043, 0.10108301, 0.2544717, -1.0751157...        4  \n",
            "2  [0.3472688, -0.25522107, -0.34541056, -1.44136...        3  \n",
            "3  [0.602626, -0.63015354, -0.7458455, -0.9598028...        2  \n",
            "4  [0.10878301, -0.04230996, 0.18203694, -0.80993...        4  \n"
          ]
        }
      ],
      "source": [
        "\n",
        "\n",
        "\n",
        "embeddings = np.vstack(df_supplements['Embedding'])  # Convertir los embeddings en una matriz NumPy\n",
        "\n",
        "# Lo ajusto en base a lo analizado en Elbow Method\n",
        "n_clusters = 5\n",
        "\n",
        "# Aplicar K-Means clustering\n",
        "kmeans = KMeans(n_clusters=n_clusters, random_state=42)\n",
        "labels_kmeans = kmeans.fit_predict(embeddings)\n",
        "\n",
        "# Añadir las etiquetas de los clusters al dataframe\n",
        "df_supplements['Cluster'] = labels_kmeans\n",
        "\n",
        "# Ver los primeros resultados\n",
        "print(df_supplements.head())\n"
      ]
    },
    {
      "cell_type": "code",
      "execution_count": 35,
      "metadata": {
        "colab": {
          "base_uri": "https://localhost:8080/"
        },
        "id": "XfL5xPbjENWh",
        "outputId": "42ed06cb-7d99-452d-a076-9f518c385319"
      },
      "outputs": [
        {
          "name": "stdout",
          "output_type": "stream",
          "text": [
            "Cluster 0:\n",
            " - La atención al cliente fue excelente\n",
            " - Tuve problemas y nadie respondió mis mensajes\n",
            " - El servicio al cliente no resolvió mi problema\n",
            " - La atención al cliente fue muy servicial\n",
            " - No me gustó el servicio al cliente\n",
            "\n",
            "\n",
            "Cluster 1:\n",
            " - El sabor es increíble, lo mejor que he probado\n",
            " - El sabor es aceptable, pero esperaba más\n",
            " - El sabor es artificial y desagradable\n",
            " - El sabor no es malo, pero podría mejorar\n",
            " - La textura del producto es rara y no me gustó\n",
            "\n",
            "\n",
            "Cluster 2:\n",
            " - No noto diferencia con otros productos similares\n",
            " - No recomendaría este producto a nadie\n",
            " - Todo llegó en perfecto estado, muy contento\n",
            " - Producto de calidad media, nada impresionante\n",
            " - Estoy satisfecho con la calidad del producto\n",
            "\n",
            "\n",
            "Cluster 3:\n",
            " - El precio es razonable para la calidad\n",
            " - El precio es excesivo para lo que ofrecen\n",
            " - El precio es competitivo comparado con otros\n",
            " - El precio es accesible para mi presupuesto\n",
            " - El precio podría ser un poco más bajo\n",
            "\n",
            "\n",
            "Cluster 4:\n",
            " - Llegó tarde y el paquete estaba dañado\n",
            " - El envío fue rápido y sin problemas\n",
            " - El tiempo de envío fue más rápido de lo esperado\n",
            " - El producto llegó tarde y sin aviso previo\n",
            " - Recibí mi pedido a tiempo y en buen estado\n",
            "\n",
            "\n"
          ]
        }
      ],
      "source": [
        "# Agrupar los comentarios por el clúster al que pertenecen\n",
        "clustered_comments = df_supplements.groupby('Cluster')['Texto'].apply(list)\n",
        "\n",
        "# Ver los comentarios agrupados por clúster\n",
        "for cluster, comments in clustered_comments.items():\n",
        "    print(f\"Cluster {cluster}:\")\n",
        "    for comment in comments[:5]:  # Muestra los primeros 5 comentarios del clúster\n",
        "        print(f\" - {comment}\")\n",
        "    print(\"\\n\")\n"
      ]
    },
    {
      "cell_type": "markdown",
      "metadata": {
        "id": "rLKQe7XYJnsV"
      },
      "source": [
        "`Identifico Manualmente los Clusters`\n",
        "---"
      ]
    },
    {
      "cell_type": "markdown",
      "metadata": {
        "id": "KFCVU9PANbgN"
      },
      "source": [
        "En este paso identifico manualmente los cluster principales\n",
        "\n",
        "0: \"Atención al Cliente\"\n",
        "\n",
        "1: \"Sabor y Textura\"\n",
        "\n",
        "2: \"Calidad del Producto\"\n",
        "\n",
        "3: \"Precio del Producto\"\n",
        "\n",
        "4: \"Envío y Logística\"\n",
        "\n",
        "Y finalmente creo una función que asigna el tópico identificado según el número de cluster que corresponda."
      ]
    },
    {
      "cell_type": "code",
      "execution_count": 36,
      "metadata": {
        "colab": {
          "base_uri": "https://localhost:8080/"
        },
        "id": "4B6yINuMIHiL",
        "outputId": "4d1d9700-3242-474c-b78d-39615cbe4d9b"
      },
      "outputs": [
        {
          "name": "stdout",
          "output_type": "stream",
          "text": [
            "                                              Texto  Cluster  \\\n",
            "0    El sabor es increíble, lo mejor que he probado        1   \n",
            "1            Llegó tarde y el paquete estaba dañado        4   \n",
            "2            El precio es razonable para la calidad        3   \n",
            "3  No noto diferencia con otros productos similares        2   \n",
            "4               El envío fue rápido y sin problemas        4   \n",
            "\n",
            "                   Tema  \n",
            "0       Sabor y Textura  \n",
            "1     Envío y Logística  \n",
            "2   Precio del Producto  \n",
            "3  Calidad del Producto  \n",
            "4     Envío y Logística  \n"
          ]
        }
      ],
      "source": [
        "# Crear una función para asignar el tema a cada cluster\n",
        "def get_topic(cluster_id):\n",
        "    topics = {\n",
        "        0: \"Atención al Cliente\",\n",
        "        1: \"Sabor y Textura\",\n",
        "        2: \"Calidad del Producto\",\n",
        "        3: \"Precio del Producto\",\n",
        "        4: \"Envío y Logística\",\n",
        "    }\n",
        "    return topics.get(cluster_id, \"Tema desconocido\")\n",
        "\n",
        "# Asignar los temas al DataFrame\n",
        "df_supplements['Tema'] = df_supplements['Cluster'].apply(get_topic)\n",
        "\n",
        "# Ver los resultados\n",
        "print(df_supplements[['Texto', 'Cluster', 'Tema']].head())\n"
      ]
    },
    {
      "cell_type": "markdown",
      "metadata": {
        "id": "ljQ0E_XrM4Ao"
      },
      "source": [
        "# ETAPA 2: IA GENERATIVA\n",
        "\n",
        "- https://programmingisfun.medium.com/an-interactive-chatbot-app-with-groqs-llms-using-streamlit-a-step-by-step-tutorial-4fa075ae43b8\n",
        "\n",
        "La función analisis_critica es la principal.\n",
        "Está diseñada para analizar comentarios de usuarios sobre los producto.\n",
        "Determinando su sentimiento (positivo, neutral o negativo), el tema mediante tópcio al que corresponde y finalmente una respuesta acorde.\n",
        "\n",
        "Primero, limpia el texto y lo convierte en embeddings para procesarlo.\n",
        "\n",
        "Luego, utiliza un modelo de regresión logística (model_lr) para predecir el sentimiento y un modelo de clustering (KMeans) para identificar el tema principal del comentario.\n",
        "\n",
        "Una vez obtenido eso, con esta información, interactúa con un modelo LLM (utilizando Groq) para generar una respuesta automática, breve y empática, adaptada al sentimiento y tema detectados.\n",
        "\n",
        "El modelo generativo utilizado es (Llama 3.2) y está ajustado para responder de manera profesional según reglas predefinidas.\n",
        "\n",
        "\n",
        "\n",
        "\n",
        "\n",
        "\n"
      ]
    },
    {
      "cell_type": "markdown",
      "metadata": {
        "id": "C0b6b8VRWy30"
      },
      "source": [
        "### Opcíon de `función` principal con **una reseña ya dada de input**"
      ]
    },
    {
      "cell_type": "code",
      "execution_count": 41,
      "metadata": {
        "id": "82ZgJcHA3c2R"
      },
      "outputs": [],
      "source": [
        "# Función de análisis de crítica\n",
        "def analisis_critica(reseña):\n",
        "    ''' Esta función permite realizar el análisis de la reseña ingresada y devolver una respuesta acorde'''\n",
        "\n",
        "    if not reseña:\n",
        "        return \"No se ha ingresado una reseña. Intentarlo nuevamente\"\n",
        "\n",
        "    # Inicializar el cliente de Groq\n",
        "    client = Groq(api_key='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')\n",
        "\n",
        "    # Mapear el sentimiento\n",
        "    sentimiento_mapeo = {\n",
        "        0: \"Negativo\",\n",
        "        1: \"Neutral\",\n",
        "        2: \"Positivo\"\n",
        "    }\n",
        "\n",
        "    try:\n",
        "        # Limpieza del texto\n",
        "        texto_limpio = clean(reseña)\n",
        "\n",
        "        # Transformación a embeddings\n",
        "        embeddings_final = get_embedding(texto_limpio).reshape(1, -1)\n",
        "\n",
        "        # Predicción del sentimiento\n",
        "        sentimiento_num = model_lr.predict(embeddings_final)[0]\n",
        "        sentimiento = sentimiento_mapeo.get(sentimiento_num, \"Desconocido\")\n",
        "\n",
        "        # Asignar un cluster\n",
        "        cluster_id = kmeans.predict(embeddings_final)[0]\n",
        "\n",
        "        # Obtener el tema del cluster\n",
        "        tema = get_topic(cluster_id)\n",
        "\n",
        "        # Generar respuesta personalizada con LLM\n",
        "        chat_completion = client.chat.completions.create(\n",
        "            messages=[{\n",
        "                \"role\": \"system\",\n",
        "                \"content\": f\"\"\"\n",
        "Eres un empleado de atención al cliente especializado en gestión de reseñas para una empresa de suplementos nutricionales.\n",
        "Tu función es responder las reseñas según el {sentimiento} y {tema} detectados:\n",
        "Responde de manera breve, profesional y empática:\n",
        "- Si el {sentimiento} es **Positivo**: Agradece y celebra la experiencia positiva. Ejemplo: Gracias por sus comentarios. Nos alegra que haya sido una excelente experiencia.\n",
        "- Si el {sentimiento} es **Negativo**: Muestra empatía y ofrece resolver el problema. Ejemplo: Gracias por sus comentarios. Lamentamos que su experiencia no fuera la mejor. Nos comunicaremos con usted para ofrecerle una respuesta personalizada.\n",
        "- Si el {sentimiento} es **Neutral**: Agradece de forma clara e invita al cliente a comprar nuevamente. Ejemplo: Gracias por sus comentarios. Lo esperamos nuevamente cuando desee.\n",
        "\n",
        "No incluyas preguntas, comentarios fuera de contexto, ni frases adicionales.\n",
        "\"\"\"\n",
        "            }, {\n",
        "                \"role\": \"user\",\n",
        "                \"content\": reseña\n",
        "            }],\n",
        "            model=\"llama-3.2-1b-preview\",\n",
        "            temperature=0.1\n",
        "        )\n",
        "\n",
        "        # Retornar respuesta generada\n",
        "        return chat_completion.choices[0].message.content\n",
        "\n",
        "    except Exception as e:\n",
        "        return f\"Error al procesar la reseña: {str(e)}\"\n",
        "\n"
      ]
    },
    {
      "cell_type": "code",
      "execution_count": 42,
      "metadata": {
        "colab": {
          "base_uri": "https://localhost:8080/",
          "height": 54
        },
        "id": "a_RgwAlv-yO3",
        "outputId": "dda20754-4c2d-4557-bcdd-6216766a7a2a"
      },
      "outputs": [
        {
          "data": {
            "application/vnd.google.colaboratory.intrinsic+json": {
              "type": "string"
            },
            "text/plain": [
              "'Gracias por compartir tus comentarios. Nos alegra que hayas disfrutado de nuestra experiencia. Lamentamos que el sabor no haya sido lo que esperabas. Nos comunicaremos con usted para ofrecerle una respuesta personalizada y resolver cualquier problema que pueda haber tenido.'"
            ]
          },
          "execution_count": 42,
          "metadata": {},
          "output_type": "execute_result"
        }
      ],
      "source": [
        "# Prueba con un ejemplo\n",
        "analisis_critica('El sabor no es rico')"
      ]
    },
    {
      "cell_type": "markdown",
      "metadata": {
        "id": "dFvKzHWnW_bR"
      },
      "source": [
        "### Opcíon de `función` principal con **una reseña ya dada de input**"
      ]
    },
    {
      "cell_type": "code",
      "execution_count": 47,
      "metadata": {
        "id": "8h6n3z8lKJ1J"
      },
      "outputs": [],
      "source": [
        "# Función de análisis de crítica\n",
        "def analisis_critica_input():\n",
        "    ''' Esta función permite realizar el análisis de la reseña ingresada y devolver una respuesta acorde'''\n",
        "    reseña = input(\"Por favor ingresa tu reseña: \")\n",
        "    if not reseña:\n",
        "        return \"No se ha ingresado una reseña. Intentarlo nuevamente\"\n",
        "\n",
        "    # Inicializar el cliente de Groq\n",
        "    client = Groq(api_key='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')\n",
        "\n",
        "    # Mapear el sentimiento\n",
        "    sentimiento_mapeo = {\n",
        "        0: \"Negativo\",\n",
        "        1: \"Neutral\",\n",
        "        2: \"Positivo\"\n",
        "    }\n",
        "\n",
        "    try:\n",
        "        # Limpieza del texto\n",
        "        texto_limpio = clean(reseña)\n",
        "\n",
        "        # Transformación a embeddings\n",
        "        embeddings_final = get_embedding(texto_limpio).reshape(1, -1)\n",
        "\n",
        "        # Predicción del sentimiento\n",
        "        sentimiento_num = model_lr.predict(embeddings_final)[0]\n",
        "        sentimiento = sentimiento_mapeo.get(sentimiento_num, \"Desconocido\")\n",
        "\n",
        "        # Asignar un cluster\n",
        "        cluster_id = kmeans.predict(embeddings_final)[0]\n",
        "\n",
        "        # Obtener el tema del cluster\n",
        "        tema = get_topic(cluster_id)\n",
        "\n",
        "        # Generar respuesta personalizada con LLM\n",
        "        chat_completion = client.chat.completions.create(\n",
        "            messages=[{\n",
        "                \"role\": \"system\",\n",
        "                \"content\": f\"\"\"\n",
        "Eres un empleado de atención al cliente especializado en gestión de reseñas para una empresa de suplementos nutricionales.\n",
        "Tu función es responder las reseñas según el {sentimiento} y {tema} detectados:\n",
        "Responde de manera breve, profesional y empática:\n",
        "- Si el {sentimiento} es **Positivo**: Agradece y celebra la experiencia positiva. Ejemplo: Gracias por sus comentarios. Nos alegra que haya sido una excelente experiencia.\n",
        "- Si el {sentimiento} es **Negativo**: Muestra empatía y ofrece resolver el problema. Ejemplo: Gracias por sus comentarios. Lamentamos que su experiencia no fuera la mejor. Nos comunicaremos con usted para ofrecerle una respuesta personalizada.\n",
        "- Si el {sentimiento} es **Neutral**: Agradece de forma clara e invita al cliente a comprar nuevamente. Ejemplo: Gracias por sus comentarios. Lo esperamos nuevamente cuando desee.\n",
        "\n",
        "No incluyas preguntas, comentarios fuera de contexto, ni frases adicionales.\n",
        "\"\"\"\n",
        "            }, {\n",
        "                \"role\": \"user\",\n",
        "                \"content\": reseña\n",
        "            }],\n",
        "            model=\"llama-3.2-1b-preview\",\n",
        "            temperature=0.1\n",
        "        )\n",
        "\n",
        "        # Retornar respuesta generada\n",
        "        return chat_completion.choices[0].message.content\n",
        "\n",
        "    except Exception as e:\n",
        "        return f\"Error al procesar la reseña: {str(e)}\""
      ]
    },
    {
      "cell_type": "markdown",
      "metadata": {
        "id": "Y0hoiDbFX47f"
      },
      "source": [
        "En este código se puede probar ingresando un input"
      ]
    },
    {
      "cell_type": "code",
      "execution_count": 48,
      "metadata": {
        "colab": {
          "base_uri": "https://localhost:8080/",
          "height": 54
        },
        "id": "SzUwIQPMXyPH",
        "outputId": "389b4964-99f7-4825-f8a9-e55cfd5862f8"
      },
      "outputs": [
        {
          "name": "stdout",
          "output_type": "stream",
          "text": [
            "Por favor ingresa tu reseña: No me gusto para nada el producto\n"
          ]
        },
        {
          "data": {
            "application/vnd.google.colaboratory.intrinsic+json": {
              "type": "string"
            },
            "text/plain": [
              "'Gracias por compartir tus comentarios. Lamentamos que no hayas disfrutado de nuestro producto. Nos comunicaremos con usted para ofrecerle una respuesta personalizada.'"
            ]
          },
          "execution_count": 48,
          "metadata": {},
          "output_type": "execute_result"
        }
      ],
      "source": [
        "# analisis_critica_input()"
      ]
    },
    {
      "cell_type": "markdown",
      "metadata": {
        "id": "pAEmNr7jZNph"
      },
      "source": [
        "# ETAPA 3: FRONT END\n",
        "\n",
        "Además de realizar el análisis y generación de respuestas automáticas, integré una etapa de front-end interactivo utilizando Gradio y streamlit a nivel local para ofrecer una experiencia más amigable al usuario.\n",
        "\n",
        "Esta interfaz permite a los usuarios ingresar sus reseñas y visualizar de manera instantánea la respuesta generada por el modelo LLM.\n",
        "\n",
        "La incorporación de este front-end no solo facilita el uso de la función, sino que también hace que el proceso sea más accesible para usuarios sin conocimientos técnicos, mejorando la presentación del trabajo.\n",
        "\n",
        "Una dificultad observada en este enfoque es la lentitud en la generación de embeddings durante la ejecución en tiempo real, lo cual afecta la fluidez de la interfaz."
      ]
    },
    {
      "cell_type": "markdown",
      "metadata": {
        "id": "uU2iIQ50a81f"
      },
      "source": [
        "### Opción 1: GRADIO\n",
        "\n",
        "Elegí Gradio porque es fácil de integrar con jupyter Notebook para permitir una interfaz un poco más amena.\n",
        "\n",
        "- Entrada de reseña: El usuario ingresa una reseña de un producto en un cuadro de texto.\n",
        "- Análisis de la reseña: La reseña se procesa para determinar su sentimiento (positivo, negativo o neutral) y se agrupa en un tema.\n",
        "- Generación de respuesta: Según el sentimiento y el tema detectado, se genera una respuesta personalizada utilizando el llm para simular una respuesta profesional y empática.\n",
        "- Interfaz visual: La interfaz muestra una imagen de ícono y un campo para que el usuario ingrese su reseña. Después de hacer clic en \"Enviar\", la respuesta se muestra en otro cuadro de texto."
      ]
    },
    {
      "cell_type": "code",
      "execution_count": 35,
      "metadata": {
        "id": "7T7yEIs7cdFX"
      },
      "outputs": [],
      "source": [
        "def obtener_imagen():\n",
        "    url = \"https://thumbs.dreamstime.com/b/vitamin-supplement-inspiration-illustration-logo-vitamin-supplement-inspiration-illustration-logo-design-228764978.jpg\"\n",
        "    response = requests.get(url)\n",
        "    img = Image.open(BytesIO(response.content))\n",
        "    return img\n"
      ]
    },
    {
      "cell_type": "code",
      "execution_count": 36,
      "metadata": {
        "colab": {
          "base_uri": "https://localhost:8080/",
          "height": 614
        },
        "id": "ibK3uk4xXnDR",
        "outputId": "9841ad97-177c-40f1-ee35-b9294adb7ddf"
      },
      "outputs": [
        {
          "name": "stdout",
          "output_type": "stream",
          "text": [
            "* Running on local URL:  http://127.0.0.1:7860\n",
            "* Running on public URL: https://1bc19ad31c4a553556.gradio.live\n",
            "\n",
            "This share link expires in 72 hours. For free permanent hosting and GPU upgrades, run `gradio deploy` from the terminal in the working directory to deploy to Hugging Face Spaces (https://huggingface.co/spaces)\n"
          ]
        },
        {
          "data": {
            "text/html": [
              "<div><iframe src=\"https://1bc19ad31c4a553556.gradio.live\" width=\"100%\" height=\"500\" allow=\"autoplay; camera; microphone; clipboard-read; clipboard-write;\" frameborder=\"0\" allowfullscreen></iframe></div>"
            ],
            "text/plain": [
              "<IPython.core.display.HTML object>"
            ]
          },
          "metadata": {},
          "output_type": "display_data"
        },
        {
          "data": {
            "text/plain": []
          },
          "execution_count": 36,
          "metadata": {},
          "output_type": "execute_result"
        }
      ],
      "source": [
        "import gradio as gr\n",
        "import time\n",
        "import requests\n",
        "from io import BytesIO\n",
        "from PIL import Image\n",
        "\n",
        "# Función para simular escritura más lenta\n",
        "def simulacion_escritura(respuesta):\n",
        "    texto = \"\"\n",
        "    for char in respuesta:\n",
        "        texto += char\n",
        "        yield texto\n",
        "        time.sleep(0.5)  # Retraso mayor para simular una escritura más lenta\n",
        "\n",
        "\n",
        "# Función de análisis de crítica adaptada para Gradio\n",
        "def analisis_critica(reseña):\n",
        "    ''' Esta función permite realizar el análisis de la reseña ingresada y devolver una respuesta acorde'''\n",
        "\n",
        "    if not reseña:\n",
        "        return \"No se ha ingresado una reseña. Intentarlo nuevamente\"\n",
        "\n",
        "    # Inicializar el cliente de Groq\n",
        "    client = Groq(api_key='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')\n",
        "\n",
        "    # Mapear el sentimiento\n",
        "    sentimiento_mapeo = {\n",
        "        0: \"Negativo\",\n",
        "        1: \"Neutral\",\n",
        "        2: \"Positivo\"\n",
        "    }\n",
        "\n",
        "    try:\n",
        "        # Limpieza del texto\n",
        "        texto_limpio = clean(reseña)\n",
        "\n",
        "        # Transformación a embeddings\n",
        "        embeddings_final = get_embedding(texto_limpio).reshape(1, -1)\n",
        "\n",
        "        # Predicción del sentimiento\n",
        "        sentimiento_num = model_lr.predict(embeddings_final)[0]\n",
        "        sentimiento = sentimiento_mapeo.get(sentimiento_num, \"Desconocido\")\n",
        "\n",
        "        # Asignar un cluster\n",
        "        cluster_id = kmeans.predict(embeddings_final)[0]\n",
        "\n",
        "        # Obtener el tema del cluster\n",
        "        tema = get_topic(cluster_id)\n",
        "\n",
        "        # Generar respuesta personalizada con LLM\n",
        "        chat_completion = client.chat.completions.create(\n",
        "            messages=[{\n",
        "                \"role\": \"system\",\n",
        "                \"content\": f\"\"\"\n",
        "Eres un empleado de atención al cliente especializado en gestión de reseñas para una empresa de suplementos nutricionales.\n",
        "Tu función es responder las reseñas según el {sentimiento} y {tema} detectados:\n",
        "Responde de manera breve, profesional y empática:\n",
        "- Si el {sentimiento} es **Positivo**: Agradece y celebra la experiencia positiva. Ejemplo: Gracias por sus comentarios. Nos alegra que haya sido una excelente experiencia.\n",
        "- Si el {sentimiento} es **Negativo**: Muestra empatía y ofrece resolver el problema. Ejemplo: Gracias por sus comentarios. Lamentamos que su experiencia no fuera la mejor. Nos comunicaremos con usted para ofrecerle una respuesta personalizada.\n",
        "- Si el {sentimiento} es **Neutral**: Agradece de forma clara e invita al cliente a comprar nuevamente. Ejemplo: Gracias por sus comentarios. Lo esperamos nuevamente cuando desee.\n",
        "\n",
        "No incluyas preguntas, comentarios fuera de contexto, ni frases adicionales.\n",
        "\"\"\"\n",
        "            }, {\n",
        "                \"role\": \"user\",\n",
        "                \"content\": reseña\n",
        "            }],\n",
        "            model=\"llama-3.2-1b-preview\",\n",
        "            temperature=0.1\n",
        "        )\n",
        "\n",
        "        # Retornar respuesta generada\n",
        "        return chat_completion.choices[0].message.content\n",
        "\n",
        "    except Exception as e:\n",
        "        return f\"Error al procesar la reseña: {str(e)}\"\n",
        "\n",
        "\n",
        "# Descargar la imagen desde la URL\n",
        "def obtener_imagen():\n",
        "    url = \"https://thumbs.dreamstime.com/b/vitamin-supplement-inspiration-illustration-logo-vitamin-supplement-inspiration-illustration-logo-design-228764978.jpg\"\n",
        "    response = requests.get(url)\n",
        "    img = Image.open(BytesIO(response.content))\n",
        "    img = img.resize((200, 200))  # Aumentar el tamaño de la imagen (200x200 píxeles)\n",
        "    return img\n",
        "\n",
        "\n",
        "# Crear la interfaz Gradio usando Blocks para un diseño más flexible\n",
        "with gr.Blocks() as demo:\n",
        "    gr.Markdown(\"\"\"\n",
        "    <h1 style=\"text-align:center; color: #FFFFFF; font-family: 'Arial', sans-serif;\">🤖 SUPPLEMENTS IA</h1>\n",
        "    <p style=\"text-align:center; color: #BBBBBB; font-size: 16px;\">Ingrese una reseña de su producto y le responderemos a la brevedad.</p>\n",
        "    \"\"\")\n",
        "\n",
        "    # Imagen de ícono del chatbot (se descarga la imagen desde la URL)\n",
        "    chat_icon = gr.Image(value=obtener_imagen(), label=\"Chatbot Icon\", elem_id=\"chat_icon\", type=\"pil\", visible=True)\n",
        "\n",
        "    # Campo de entrada de texto\n",
        "    reseña = gr.Textbox(\n",
        "        label=\"Ingrese su reseña\",\n",
        "        placeholder=\"Escribe aquí...\",\n",
        "        lines=4,\n",
        "        max_length=500,\n",
        "        elem_id=\"input_box\",\n",
        "        show_label=False\n",
        "    )\n",
        "\n",
        "    # Salida de texto con simulación de escritura\n",
        "    output = gr.Textbox(label=\"Respuesta\", interactive=False, show_label=False)\n",
        "\n",
        "    # Botón para ejecutar la función de análisis\n",
        "    button = gr.Button(\"Enviar\")\n",
        "\n",
        "    # Definir la acción del botón\n",
        "    button.click(fn=analisis_critica, inputs=reseña, outputs=output)\n",
        "\n",
        "    # Personalizar los estilos con CSS para un diseño de chatbot moderno\n",
        "    demo.css = '''\n",
        "        .gradio-container {\n",
        "            background-color: #121212;\n",
        "            border-radius: 20px;\n",
        "            padding: 40px;\n",
        "            max-width: 900px;\n",
        "            margin: auto;\n",
        "            box-shadow: 0px 6px 30px rgba(0, 0, 0, 0.1);\n",
        "        }\n",
        "        #input_box {\n",
        "            font-size: 16px;\n",
        "            padding: 15px;\n",
        "            border-radius: 12px;\n",
        "            background-color: #333333;\n",
        "            border: 1px solid #03DAC6;\n",
        "            width: 100%;\n",
        "            box-shadow: 0px 2px 8px rgba(59, 130, 246, 0.2);\n",
        "        }\n",
        "        .gradio-button {\n",
        "            background-color: #BB86FC;\n",
        "            color: white;\n",
        "            border-radius: 12px;\n",
        "            font-size: 18px;\n",
        "            padding: 18px 30px;\n",
        "            width: 100%;\n",
        "            box-shadow: 0px 4px 8px rgba(187, 134, 252, 0.3);\n",
        "            transition: background-color 0.3s;\n",
        "        }\n",
        "        .gradio-button:hover {\n",
        "            background-color: #3700B3;\n",
        "        }\n",
        "        .gradio-title {\n",
        "            font-size: 30px;\n",
        "            color: #FFFFFF;\n",
        "            font-weight: 700;\n",
        "            text-align: center;\n",
        "            margin-bottom: 30px;\n",
        "        }\n",
        "        .gradio-description {\n",
        "            font-size: 16px;\n",
        "            text-align: center;\n",
        "            color: #BBBBBB;\n",
        "            margin-bottom: 25px;\n",
        "        }\n",
        "        .gradio-textbox {\n",
        "            font-size: 14px;\n",
        "            padding: 15px;\n",
        "            border-radius: 12px;\n",
        "            background-color: #333333;\n",
        "            border: 1px solid #03DAC6;\n",
        "        }\n",
        "        .gradio-textbox:focus {\n",
        "            border-color: #BB86FC;\n",
        "        }\n",
        "        .gradio-image {\n",
        "            display: block;\n",
        "            margin: 0 auto;\n",
        "            border-radius: 50%;\n",
        "            box-shadow: 0px 3px 10px rgba(0, 0, 0, 0.1);\n",
        "        }\n",
        "    '''\n",
        "\n",
        "# Lanzar la interfaz\n",
        "demo.launch(share=True)\n",
        "\n",
        "\n",
        "\n"
      ]
    },
    {
      "cell_type": "markdown",
      "metadata": {
        "id": "RkkPpxHZensZ"
      },
      "source": [
        "### Opción 2: STREAMLIT\n",
        "\n",
        "Exporté el archivo de Jupyter Notebook a un archivo .py y lo subí a un repositorio en GitHub, donde estoy integrando todo el proyecto.\n",
        "\n",
        "Luego, creé una interfaz más avanzada y completa utilizando Streamlit.\n",
        "\n",
        "Al intentar integrarlo directamente en Google Colab, encontré algunas dificultades, por lo que decidí adjuntar las imágenes directamente en el Jupyter Notebook para mejorar la visualización y el flujo del proyecto."
      ]
    },
    {
      "cell_type": "markdown",
      "metadata": {
        "id": "Pq1DvNFS3pLP"
      },
      "source": [
        "#### Respuesta ante review Negativa"
      ]
    },
    {
      "cell_type": "code",
      "execution_count": 49,
      "metadata": {
        "colab": {
          "base_uri": "https://localhost:8080/",
          "height": 585
        },
        "id": "f2GjWIhP0c3r",
        "outputId": "8941159f-8bfd-41a2-a687-c148d3356bf8"
      },
      "outputs": [
        {
          "data": {
            "text/html": [
              "<img src=\"https://raw.githubusercontent.com/Dantelarroy/suplements-chatbot/refs/heads/main/Images/Supplements_Reviews.jpg\" width=\"1300\"/>"
            ],
            "text/plain": [
              "<IPython.core.display.HTML object>"
            ]
          },
          "execution_count": 49,
          "metadata": {},
          "output_type": "execute_result"
        }
      ],
      "source": [
        "\n",
        "# Insertar la imagen con tamaño ajustado\n",
        "HTML('<img src=\"https://raw.githubusercontent.com/Dantelarroy/suplements-chatbot/refs/heads/main/Images/Supplements_Reviews.jpg\" width=\"1300\"/>')"
      ]
    },
    {
      "cell_type": "markdown",
      "metadata": {
        "id": "PiVOpC_B3s21"
      },
      "source": [
        "#### Respuesta ante Review Positiva"
      ]
    },
    {
      "cell_type": "code",
      "execution_count": 50,
      "metadata": {
        "colab": {
          "base_uri": "https://localhost:8080/",
          "height": 562
        },
        "id": "6bZg0_400qXy",
        "outputId": "20cc488f-385a-445d-ccf8-0ef13bef7a4a"
      },
      "outputs": [
        {
          "data": {
            "text/html": [
              "<img src=\"https://raw.githubusercontent.com/Dantelarroy/suplements-chatbot/refs/heads/main/Images/Supplements_Reviews_positivo.jpg\" width=\"1300\"/>"
            ],
            "text/plain": [
              "<IPython.core.display.HTML object>"
            ]
          },
          "execution_count": 50,
          "metadata": {},
          "output_type": "execute_result"
        }
      ],
      "source": [
        "# Insertar la imagen con tamaño ajustado\n",
        "HTML('<img src=\"https://raw.githubusercontent.com/Dantelarroy/suplements-chatbot/refs/heads/main/Images/Supplements_Reviews_positivo.jpg\" width=\"1300\"/>')"
      ]
    }
  ],
  "metadata": {
    "colab": {
      "include_colab_link": true,
      "provenance": []
    },
    "kernelspec": {
      "display_name": "Python 3",
      "name": "python3"
    },
    "language_info": {
      "name": "python"
    },
    "widgets": {
      "application/vnd.jupyter.widget-state+json": {
        "021a49a05b0c4c8394ef967bd1102d1b": {
          "model_module": "@jupyter-widgets/controls",
          "model_module_version": "1.5.0",
          "model_name": "HBoxModel",
          "state": {
            "_dom_classes": [],
            "_model_module": "@jupyter-widgets/controls",
            "_model_module_version": "1.5.0",
            "_model_name": "HBoxModel",
            "_view_count": null,
            "_view_module": "@jupyter-widgets/controls",
            "_view_module_version": "1.5.0",
            "_view_name": "HBoxView",
            "box_style": "",
            "children": [
              "IPY_MODEL_f13ecf0b8ecf44b38626d10897757789",
              "IPY_MODEL_42441d09799848cf9cc67433e2f668f4",
              "IPY_MODEL_648b67dd664a440096858e79a2d01ef0"
            ],
            "layout": "IPY_MODEL_c406a97d5c624e6cb756ebca56d48aaa"
          }
        },
        "023b89294351449f85f7bbb49b8367c2": {
          "model_module": "@jupyter-widgets/controls",
          "model_module_version": "1.5.0",
          "model_name": "HTMLModel",
          "state": {
            "_dom_classes": [],
            "_model_module": "@jupyter-widgets/controls",
            "_model_module_version": "1.5.0",
            "_model_name": "HTMLModel",
            "_view_count": null,
            "_view_module": "@jupyter-widgets/controls",
            "_view_module_version": "1.5.0",
            "_view_name": "HTMLView",
            "description": "",
            "description_tooltip": null,
            "layout": "IPY_MODEL_6462580b3e02481f936449d869000ae3",
            "placeholder": "​",
            "style": "IPY_MODEL_f2dc9fe704cd4c45b012c4f111f8bce1",
            "value": " 17.1M/17.1M [00:00&lt;00:00, 43.2MB/s]"
          }
        },
        "03ae02d35cf94e65a55a28c7619d2819": {
          "model_module": "@jupyter-widgets/base",
          "model_module_version": "1.2.0",
          "model_name": "LayoutModel",
          "state": {
            "_model_module": "@jupyter-widgets/base",
            "_model_module_version": "1.2.0",
            "_model_name": "LayoutModel",
            "_view_count": null,
            "_view_module": "@jupyter-widgets/base",
            "_view_module_version": "1.2.0",
            "_view_name": "LayoutView",
            "align_content": null,
            "align_items": null,
            "align_self": null,
            "border": null,
            "bottom": null,
            "display": null,
            "flex": null,
            "flex_flow": null,
            "grid_area": null,
            "grid_auto_columns": null,
            "grid_auto_flow": null,
            "grid_auto_rows": null,
            "grid_column": null,
            "grid_gap": null,
            "grid_row": null,
            "grid_template_areas": null,
            "grid_template_columns": null,
            "grid_template_rows": null,
            "height": null,
            "justify_content": null,
            "justify_items": null,
            "left": null,
            "margin": null,
            "max_height": null,
            "max_width": null,
            "min_height": null,
            "min_width": null,
            "object_fit": null,
            "object_position": null,
            "order": null,
            "overflow": null,
            "overflow_x": null,
            "overflow_y": null,
            "padding": null,
            "right": null,
            "top": null,
            "visibility": null,
            "width": null
          }
        },
        "054194296b9f4c66a8641fe644f05104": {
          "model_module": "@jupyter-widgets/controls",
          "model_module_version": "1.5.0",
          "model_name": "HTMLModel",
          "state": {
            "_dom_classes": [],
            "_model_module": "@jupyter-widgets/controls",
            "_model_module_version": "1.5.0",
            "_model_name": "HTMLModel",
            "_view_count": null,
            "_view_module": "@jupyter-widgets/controls",
            "_view_module_version": "1.5.0",
            "_view_name": "HTMLView",
            "description": "",
            "description_tooltip": null,
            "layout": "IPY_MODEL_1c566c1978734edc8597b2378fbeee24",
            "placeholder": "​",
            "style": "IPY_MODEL_62f69c7b8b774cec93252b654a1a9f13",
            "value": " 280/280 [00:00&lt;00:00, 4.16kB/s]"
          }
        },
        "11db311f318c4d8b8aa82089657aaa22": {
          "model_module": "@jupyter-widgets/controls",
          "model_module_version": "1.5.0",
          "model_name": "HTMLModel",
          "state": {
            "_dom_classes": [],
            "_model_module": "@jupyter-widgets/controls",
            "_model_module_version": "1.5.0",
            "_model_name": "HTMLModel",
            "_view_count": null,
            "_view_module": "@jupyter-widgets/controls",
            "_view_module_version": "1.5.0",
            "_view_name": "HTMLView",
            "description": "",
            "description_tooltip": null,
            "layout": "IPY_MODEL_4cab6c8f3c5b4dc3b8130e53d2639997",
            "placeholder": "​",
            "style": "IPY_MODEL_e706474299b34c7480518e75ae298d69",
            "value": "tokenizer.json: 100%"
          }
        },
        "14661e4d95e846e9afefbccab13d5e51": {
          "model_module": "@jupyter-widgets/controls",
          "model_module_version": "1.5.0",
          "model_name": "HTMLModel",
          "state": {
            "_dom_classes": [],
            "_model_module": "@jupyter-widgets/controls",
            "_model_module_version": "1.5.0",
            "_model_name": "HTMLModel",
            "_view_count": null,
            "_view_module": "@jupyter-widgets/controls",
            "_view_module_version": "1.5.0",
            "_view_name": "HTMLView",
            "description": "",
            "description_tooltip": null,
            "layout": "IPY_MODEL_d057f80087ea4650b426884386787313",
            "placeholder": "​",
            "style": "IPY_MODEL_b8b530f7101c463d8d9e7f9aced12d49",
            "value": " 418/418 [00:00&lt;00:00, 11.1kB/s]"
          }
        },
        "16fc063570444b61b93c8926c8903e1c": {
          "model_module": "@jupyter-widgets/base",
          "model_module_version": "1.2.0",
          "model_name": "LayoutModel",
          "state": {
            "_model_module": "@jupyter-widgets/base",
            "_model_module_version": "1.2.0",
            "_model_name": "LayoutModel",
            "_view_count": null,
            "_view_module": "@jupyter-widgets/base",
            "_view_module_version": "1.2.0",
            "_view_name": "LayoutView",
            "align_content": null,
            "align_items": null,
            "align_self": null,
            "border": null,
            "bottom": null,
            "display": null,
            "flex": null,
            "flex_flow": null,
            "grid_area": null,
            "grid_auto_columns": null,
            "grid_auto_flow": null,
            "grid_auto_rows": null,
            "grid_column": null,
            "grid_gap": null,
            "grid_row": null,
            "grid_template_areas": null,
            "grid_template_columns": null,
            "grid_template_rows": null,
            "height": null,
            "justify_content": null,
            "justify_items": null,
            "left": null,
            "margin": null,
            "max_height": null,
            "max_width": null,
            "min_height": null,
            "min_width": null,
            "object_fit": null,
            "object_position": null,
            "order": null,
            "overflow": null,
            "overflow_x": null,
            "overflow_y": null,
            "padding": null,
            "right": null,
            "top": null,
            "visibility": null,
            "width": null
          }
        },
        "1a12b91af4f54009baf25010a54f4dfc": {
          "model_module": "@jupyter-widgets/base",
          "model_module_version": "1.2.0",
          "model_name": "LayoutModel",
          "state": {
            "_model_module": "@jupyter-widgets/base",
            "_model_module_version": "1.2.0",
            "_model_name": "LayoutModel",
            "_view_count": null,
            "_view_module": "@jupyter-widgets/base",
            "_view_module_version": "1.2.0",
            "_view_name": "LayoutView",
            "align_content": null,
            "align_items": null,
            "align_self": null,
            "border": null,
            "bottom": null,
            "display": null,
            "flex": null,
            "flex_flow": null,
            "grid_area": null,
            "grid_auto_columns": null,
            "grid_auto_flow": null,
            "grid_auto_rows": null,
            "grid_column": null,
            "grid_gap": null,
            "grid_row": null,
            "grid_template_areas": null,
            "grid_template_columns": null,
            "grid_template_rows": null,
            "height": null,
            "justify_content": null,
            "justify_items": null,
            "left": null,
            "margin": null,
            "max_height": null,
            "max_width": null,
            "min_height": null,
            "min_width": null,
            "object_fit": null,
            "object_position": null,
            "order": null,
            "overflow": null,
            "overflow_x": null,
            "overflow_y": null,
            "padding": null,
            "right": null,
            "top": null,
            "visibility": null,
            "width": null
          }
        },
        "1bb7b3413dd04ac2a55105e398402f3b": {
          "model_module": "@jupyter-widgets/controls",
          "model_module_version": "1.5.0",
          "model_name": "HTMLModel",
          "state": {
            "_dom_classes": [],
            "_model_module": "@jupyter-widgets/controls",
            "_model_module_version": "1.5.0",
            "_model_name": "HTMLModel",
            "_view_count": null,
            "_view_module": "@jupyter-widgets/controls",
            "_view_module_version": "1.5.0",
            "_view_name": "HTMLView",
            "description": "",
            "description_tooltip": null,
            "layout": "IPY_MODEL_f12ae42aba1346e693deafb1fc111f67",
            "placeholder": "​",
            "style": "IPY_MODEL_aa268a23eeb64237b5a5c831b34b8ebd",
            "value": " 690/690 [00:00&lt;00:00, 12.8kB/s]"
          }
        },
        "1c566c1978734edc8597b2378fbeee24": {
          "model_module": "@jupyter-widgets/base",
          "model_module_version": "1.2.0",
          "model_name": "LayoutModel",
          "state": {
            "_model_module": "@jupyter-widgets/base",
            "_model_module_version": "1.2.0",
            "_model_name": "LayoutModel",
            "_view_count": null,
            "_view_module": "@jupyter-widgets/base",
            "_view_module_version": "1.2.0",
            "_view_name": "LayoutView",
            "align_content": null,
            "align_items": null,
            "align_self": null,
            "border": null,
            "bottom": null,
            "display": null,
            "flex": null,
            "flex_flow": null,
            "grid_area": null,
            "grid_auto_columns": null,
            "grid_auto_flow": null,
            "grid_auto_rows": null,
            "grid_column": null,
            "grid_gap": null,
            "grid_row": null,
            "grid_template_areas": null,
            "grid_template_columns": null,
            "grid_template_rows": null,
            "height": null,
            "justify_content": null,
            "justify_items": null,
            "left": null,
            "margin": null,
            "max_height": null,
            "max_width": null,
            "min_height": null,
            "min_width": null,
            "object_fit": null,
            "object_position": null,
            "order": null,
            "overflow": null,
            "overflow_x": null,
            "overflow_y": null,
            "padding": null,
            "right": null,
            "top": null,
            "visibility": null,
            "width": null
          }
        },
        "21d15ce9d3cd4bafad30cd8275b2b1a3": {
          "model_module": "@jupyter-widgets/controls",
          "model_module_version": "1.5.0",
          "model_name": "DescriptionStyleModel",
          "state": {
            "_model_module": "@jupyter-widgets/controls",
            "_model_module_version": "1.5.0",
            "_model_name": "DescriptionStyleModel",
            "_view_count": null,
            "_view_module": "@jupyter-widgets/base",
            "_view_module_version": "1.2.0",
            "_view_name": "StyleView",
            "description_width": ""
          }
        },
        "269392509ed54534ac019d7f292da084": {
          "model_module": "@jupyter-widgets/controls",
          "model_module_version": "1.5.0",
          "model_name": "HTMLModel",
          "state": {
            "_dom_classes": [],
            "_model_module": "@jupyter-widgets/controls",
            "_model_module_version": "1.5.0",
            "_model_name": "HTMLModel",
            "_view_count": null,
            "_view_module": "@jupyter-widgets/controls",
            "_view_module_version": "1.5.0",
            "_view_name": "HTMLView",
            "description": "",
            "description_tooltip": null,
            "layout": "IPY_MODEL_03ae02d35cf94e65a55a28c7619d2819",
            "placeholder": "​",
            "style": "IPY_MODEL_aad2e946fdef460c97789bdec15304c7",
            "value": "model.safetensors: 100%"
          }
        },
        "385400fb1ab54312995ec051f010f453": {
          "model_module": "@jupyter-widgets/base",
          "model_module_version": "1.2.0",
          "model_name": "LayoutModel",
          "state": {
            "_model_module": "@jupyter-widgets/base",
            "_model_module_version": "1.2.0",
            "_model_name": "LayoutModel",
            "_view_count": null,
            "_view_module": "@jupyter-widgets/base",
            "_view_module_version": "1.2.0",
            "_view_name": "LayoutView",
            "align_content": null,
            "align_items": null,
            "align_self": null,
            "border": null,
            "bottom": null,
            "display": null,
            "flex": null,
            "flex_flow": null,
            "grid_area": null,
            "grid_auto_columns": null,
            "grid_auto_flow": null,
            "grid_auto_rows": null,
            "grid_column": null,
            "grid_gap": null,
            "grid_row": null,
            "grid_template_areas": null,
            "grid_template_columns": null,
            "grid_template_rows": null,
            "height": null,
            "justify_content": null,
            "justify_items": null,
            "left": null,
            "margin": null,
            "max_height": null,
            "max_width": null,
            "min_height": null,
            "min_width": null,
            "object_fit": null,
            "object_position": null,
            "order": null,
            "overflow": null,
            "overflow_x": null,
            "overflow_y": null,
            "padding": null,
            "right": null,
            "top": null,
            "visibility": null,
            "width": null
          }
        },
        "3907254e422c4d9e9fe2be3858f5c057": {
          "model_module": "@jupyter-widgets/controls",
          "model_module_version": "1.5.0",
          "model_name": "FloatProgressModel",
          "state": {
            "_dom_classes": [],
            "_model_module": "@jupyter-widgets/controls",
            "_model_module_version": "1.5.0",
            "_model_name": "FloatProgressModel",
            "_view_count": null,
            "_view_module": "@jupyter-widgets/controls",
            "_view_module_version": "1.5.0",
            "_view_name": "ProgressView",
            "bar_style": "success",
            "description": "",
            "description_tooltip": null,
            "layout": "IPY_MODEL_922b7799b67a47a390f66e9fbc3fd340",
            "max": 690,
            "min": 0,
            "orientation": "horizontal",
            "style": "IPY_MODEL_e10bee694f434a25adce52139ffdec2d",
            "value": 690
          }
        },
        "3f1b9a859a0d4bf0b0de70c5986d700e": {
          "model_module": "@jupyter-widgets/controls",
          "model_module_version": "1.5.0",
          "model_name": "ProgressStyleModel",
          "state": {
            "_model_module": "@jupyter-widgets/controls",
            "_model_module_version": "1.5.0",
            "_model_name": "ProgressStyleModel",
            "_view_count": null,
            "_view_module": "@jupyter-widgets/base",
            "_view_module_version": "1.2.0",
            "_view_name": "StyleView",
            "bar_color": null,
            "description_width": ""
          }
        },
        "42441d09799848cf9cc67433e2f668f4": {
          "model_module": "@jupyter-widgets/controls",
          "model_module_version": "1.5.0",
          "model_name": "FloatProgressModel",
          "state": {
            "_dom_classes": [],
            "_model_module": "@jupyter-widgets/controls",
            "_model_module_version": "1.5.0",
            "_model_name": "FloatProgressModel",
            "_view_count": null,
            "_view_module": "@jupyter-widgets/controls",
            "_view_module_version": "1.5.0",
            "_view_name": "ProgressView",
            "bar_style": "success",
            "description": "",
            "description_tooltip": null,
            "layout": "IPY_MODEL_c9dd5663ce8a429a9182fe54273cdd34",
            "max": 5069051,
            "min": 0,
            "orientation": "horizontal",
            "style": "IPY_MODEL_f05cc7bac6cd408599ba9184635c94d2",
            "value": 5069051
          }
        },
        "4cab6c8f3c5b4dc3b8130e53d2639997": {
          "model_module": "@jupyter-widgets/base",
          "model_module_version": "1.2.0",
          "model_name": "LayoutModel",
          "state": {
            "_model_module": "@jupyter-widgets/base",
            "_model_module_version": "1.2.0",
            "_model_name": "LayoutModel",
            "_view_count": null,
            "_view_module": "@jupyter-widgets/base",
            "_view_module_version": "1.2.0",
            "_view_name": "LayoutView",
            "align_content": null,
            "align_items": null,
            "align_self": null,
            "border": null,
            "bottom": null,
            "display": null,
            "flex": null,
            "flex_flow": null,
            "grid_area": null,
            "grid_auto_columns": null,
            "grid_auto_flow": null,
            "grid_auto_rows": null,
            "grid_column": null,
            "grid_gap": null,
            "grid_row": null,
            "grid_template_areas": null,
            "grid_template_columns": null,
            "grid_template_rows": null,
            "height": null,
            "justify_content": null,
            "justify_items": null,
            "left": null,
            "margin": null,
            "max_height": null,
            "max_width": null,
            "min_height": null,
            "min_width": null,
            "object_fit": null,
            "object_position": null,
            "order": null,
            "overflow": null,
            "overflow_x": null,
            "overflow_y": null,
            "padding": null,
            "right": null,
            "top": null,
            "visibility": null,
            "width": null
          }
        },
        "52990a5de5ad4b729f956d4adab4a246": {
          "model_module": "@jupyter-widgets/base",
          "model_module_version": "1.2.0",
          "model_name": "LayoutModel",
          "state": {
            "_model_module": "@jupyter-widgets/base",
            "_model_module_version": "1.2.0",
            "_model_name": "LayoutModel",
            "_view_count": null,
            "_view_module": "@jupyter-widgets/base",
            "_view_module_version": "1.2.0",
            "_view_name": "LayoutView",
            "align_content": null,
            "align_items": null,
            "align_self": null,
            "border": null,
            "bottom": null,
            "display": null,
            "flex": null,
            "flex_flow": null,
            "grid_area": null,
            "grid_auto_columns": null,
            "grid_auto_flow": null,
            "grid_auto_rows": null,
            "grid_column": null,
            "grid_gap": null,
            "grid_row": null,
            "grid_template_areas": null,
            "grid_template_columns": null,
            "grid_template_rows": null,
            "height": null,
            "justify_content": null,
            "justify_items": null,
            "left": null,
            "margin": null,
            "max_height": null,
            "max_width": null,
            "min_height": null,
            "min_width": null,
            "object_fit": null,
            "object_position": null,
            "order": null,
            "overflow": null,
            "overflow_x": null,
            "overflow_y": null,
            "padding": null,
            "right": null,
            "top": null,
            "visibility": null,
            "width": null
          }
        },
        "54419c8e634f47b492185c63bdde054d": {
          "model_module": "@jupyter-widgets/controls",
          "model_module_version": "1.5.0",
          "model_name": "DescriptionStyleModel",
          "state": {
            "_model_module": "@jupyter-widgets/controls",
            "_model_module_version": "1.5.0",
            "_model_name": "DescriptionStyleModel",
            "_view_count": null,
            "_view_module": "@jupyter-widgets/base",
            "_view_module_version": "1.2.0",
            "_view_name": "StyleView",
            "description_width": ""
          }
        },
        "5ac9a53f92e44e30b360038a43cb41f3": {
          "model_module": "@jupyter-widgets/controls",
          "model_module_version": "1.5.0",
          "model_name": "ProgressStyleModel",
          "state": {
            "_model_module": "@jupyter-widgets/controls",
            "_model_module_version": "1.5.0",
            "_model_name": "ProgressStyleModel",
            "_view_count": null,
            "_view_module": "@jupyter-widgets/base",
            "_view_module_version": "1.2.0",
            "_view_name": "StyleView",
            "bar_color": null,
            "description_width": ""
          }
        },
        "5dc9dc3767bc45599e8fd55f4bfc490e": {
          "model_module": "@jupyter-widgets/base",
          "model_module_version": "1.2.0",
          "model_name": "LayoutModel",
          "state": {
            "_model_module": "@jupyter-widgets/base",
            "_model_module_version": "1.2.0",
            "_model_name": "LayoutModel",
            "_view_count": null,
            "_view_module": "@jupyter-widgets/base",
            "_view_module_version": "1.2.0",
            "_view_name": "LayoutView",
            "align_content": null,
            "align_items": null,
            "align_self": null,
            "border": null,
            "bottom": null,
            "display": null,
            "flex": null,
            "flex_flow": null,
            "grid_area": null,
            "grid_auto_columns": null,
            "grid_auto_flow": null,
            "grid_auto_rows": null,
            "grid_column": null,
            "grid_gap": null,
            "grid_row": null,
            "grid_template_areas": null,
            "grid_template_columns": null,
            "grid_template_rows": null,
            "height": null,
            "justify_content": null,
            "justify_items": null,
            "left": null,
            "margin": null,
            "max_height": null,
            "max_width": null,
            "min_height": null,
            "min_width": null,
            "object_fit": null,
            "object_position": null,
            "order": null,
            "overflow": null,
            "overflow_x": null,
            "overflow_y": null,
            "padding": null,
            "right": null,
            "top": null,
            "visibility": null,
            "width": null
          }
        },
        "62f69c7b8b774cec93252b654a1a9f13": {
          "model_module": "@jupyter-widgets/controls",
          "model_module_version": "1.5.0",
          "model_name": "DescriptionStyleModel",
          "state": {
            "_model_module": "@jupyter-widgets/controls",
            "_model_module_version": "1.5.0",
            "_model_name": "DescriptionStyleModel",
            "_view_count": null,
            "_view_module": "@jupyter-widgets/base",
            "_view_module_version": "1.2.0",
            "_view_name": "StyleView",
            "description_width": ""
          }
        },
        "6462580b3e02481f936449d869000ae3": {
          "model_module": "@jupyter-widgets/base",
          "model_module_version": "1.2.0",
          "model_name": "LayoutModel",
          "state": {
            "_model_module": "@jupyter-widgets/base",
            "_model_module_version": "1.2.0",
            "_model_name": "LayoutModel",
            "_view_count": null,
            "_view_module": "@jupyter-widgets/base",
            "_view_module_version": "1.2.0",
            "_view_name": "LayoutView",
            "align_content": null,
            "align_items": null,
            "align_self": null,
            "border": null,
            "bottom": null,
            "display": null,
            "flex": null,
            "flex_flow": null,
            "grid_area": null,
            "grid_auto_columns": null,
            "grid_auto_flow": null,
            "grid_auto_rows": null,
            "grid_column": null,
            "grid_gap": null,
            "grid_row": null,
            "grid_template_areas": null,
            "grid_template_columns": null,
            "grid_template_rows": null,
            "height": null,
            "justify_content": null,
            "justify_items": null,
            "left": null,
            "margin": null,
            "max_height": null,
            "max_width": null,
            "min_height": null,
            "min_width": null,
            "object_fit": null,
            "object_position": null,
            "order": null,
            "overflow": null,
            "overflow_x": null,
            "overflow_y": null,
            "padding": null,
            "right": null,
            "top": null,
            "visibility": null,
            "width": null
          }
        },
        "648b67dd664a440096858e79a2d01ef0": {
          "model_module": "@jupyter-widgets/controls",
          "model_module_version": "1.5.0",
          "model_name": "HTMLModel",
          "state": {
            "_dom_classes": [],
            "_model_module": "@jupyter-widgets/controls",
            "_model_module_version": "1.5.0",
            "_model_name": "HTMLModel",
            "_view_count": null,
            "_view_module": "@jupyter-widgets/controls",
            "_view_module_version": "1.5.0",
            "_view_name": "HTMLView",
            "description": "",
            "description_tooltip": null,
            "layout": "IPY_MODEL_5dc9dc3767bc45599e8fd55f4bfc490e",
            "placeholder": "​",
            "style": "IPY_MODEL_21d15ce9d3cd4bafad30cd8275b2b1a3",
            "value": " 5.07M/5.07M [00:00&lt;00:00, 14.1MB/s]"
          }
        },
        "6564519de1c147f1ba61f9574afb7acd": {
          "model_module": "@jupyter-widgets/controls",
          "model_module_version": "1.5.0",
          "model_name": "HTMLModel",
          "state": {
            "_dom_classes": [],
            "_model_module": "@jupyter-widgets/controls",
            "_model_module_version": "1.5.0",
            "_model_name": "HTMLModel",
            "_view_count": null,
            "_view_module": "@jupyter-widgets/controls",
            "_view_module_version": "1.5.0",
            "_view_name": "HTMLView",
            "description": "",
            "description_tooltip": null,
            "layout": "IPY_MODEL_dd25c88042d149ca839054c19a9fe3b4",
            "placeholder": "​",
            "style": "IPY_MODEL_a5457c48736f43ffbbfeb45efded9ac5",
            "value": "config.json: 100%"
          }
        },
        "666b2b9cd3a5458ab2a5a99d41c70ed3": {
          "model_module": "@jupyter-widgets/base",
          "model_module_version": "1.2.0",
          "model_name": "LayoutModel",
          "state": {
            "_model_module": "@jupyter-widgets/base",
            "_model_module_version": "1.2.0",
            "_model_name": "LayoutModel",
            "_view_count": null,
            "_view_module": "@jupyter-widgets/base",
            "_view_module_version": "1.2.0",
            "_view_name": "LayoutView",
            "align_content": null,
            "align_items": null,
            "align_self": null,
            "border": null,
            "bottom": null,
            "display": null,
            "flex": null,
            "flex_flow": null,
            "grid_area": null,
            "grid_auto_columns": null,
            "grid_auto_flow": null,
            "grid_auto_rows": null,
            "grid_column": null,
            "grid_gap": null,
            "grid_row": null,
            "grid_template_areas": null,
            "grid_template_columns": null,
            "grid_template_rows": null,
            "height": null,
            "justify_content": null,
            "justify_items": null,
            "left": null,
            "margin": null,
            "max_height": null,
            "max_width": null,
            "min_height": null,
            "min_width": null,
            "object_fit": null,
            "object_position": null,
            "order": null,
            "overflow": null,
            "overflow_x": null,
            "overflow_y": null,
            "padding": null,
            "right": null,
            "top": null,
            "visibility": null,
            "width": null
          }
        },
        "66d98a477d844b1a9a32ca64f82bf5cb": {
          "model_module": "@jupyter-widgets/controls",
          "model_module_version": "1.5.0",
          "model_name": "HBoxModel",
          "state": {
            "_dom_classes": [],
            "_model_module": "@jupyter-widgets/controls",
            "_model_module_version": "1.5.0",
            "_model_name": "HBoxModel",
            "_view_count": null,
            "_view_module": "@jupyter-widgets/controls",
            "_view_module_version": "1.5.0",
            "_view_name": "HBoxView",
            "box_style": "",
            "children": [
              "IPY_MODEL_11db311f318c4d8b8aa82089657aaa22",
              "IPY_MODEL_ee5278a0d59f424287aee8a08d505578",
              "IPY_MODEL_023b89294351449f85f7bbb49b8367c2"
            ],
            "layout": "IPY_MODEL_ea97a4a252b8490caee9ff5b0ff4180d"
          }
        },
        "670f367924594e3cb2d435eb06b6b4c7": {
          "model_module": "@jupyter-widgets/base",
          "model_module_version": "1.2.0",
          "model_name": "LayoutModel",
          "state": {
            "_model_module": "@jupyter-widgets/base",
            "_model_module_version": "1.2.0",
            "_model_name": "LayoutModel",
            "_view_count": null,
            "_view_module": "@jupyter-widgets/base",
            "_view_module_version": "1.2.0",
            "_view_name": "LayoutView",
            "align_content": null,
            "align_items": null,
            "align_self": null,
            "border": null,
            "bottom": null,
            "display": null,
            "flex": null,
            "flex_flow": null,
            "grid_area": null,
            "grid_auto_columns": null,
            "grid_auto_flow": null,
            "grid_auto_rows": null,
            "grid_column": null,
            "grid_gap": null,
            "grid_row": null,
            "grid_template_areas": null,
            "grid_template_columns": null,
            "grid_template_rows": null,
            "height": null,
            "justify_content": null,
            "justify_items": null,
            "left": null,
            "margin": null,
            "max_height": null,
            "max_width": null,
            "min_height": null,
            "min_width": null,
            "object_fit": null,
            "object_position": null,
            "order": null,
            "overflow": null,
            "overflow_x": null,
            "overflow_y": null,
            "padding": null,
            "right": null,
            "top": null,
            "visibility": null,
            "width": null
          }
        },
        "67baa3b9b2bb4d6ebaac18985ed777d1": {
          "model_module": "@jupyter-widgets/controls",
          "model_module_version": "1.5.0",
          "model_name": "FloatProgressModel",
          "state": {
            "_dom_classes": [],
            "_model_module": "@jupyter-widgets/controls",
            "_model_module_version": "1.5.0",
            "_model_name": "FloatProgressModel",
            "_view_count": null,
            "_view_module": "@jupyter-widgets/controls",
            "_view_module_version": "1.5.0",
            "_view_name": "ProgressView",
            "bar_style": "success",
            "description": "",
            "description_tooltip": null,
            "layout": "IPY_MODEL_16fc063570444b61b93c8926c8903e1c",
            "max": 418,
            "min": 0,
            "orientation": "horizontal",
            "style": "IPY_MODEL_5ac9a53f92e44e30b360038a43cb41f3",
            "value": 418
          }
        },
        "67cb1d250bab4db3a13a8e9d9d708834": {
          "model_module": "@jupyter-widgets/controls",
          "model_module_version": "1.5.0",
          "model_name": "HTMLModel",
          "state": {
            "_dom_classes": [],
            "_model_module": "@jupyter-widgets/controls",
            "_model_module_version": "1.5.0",
            "_model_name": "HTMLModel",
            "_view_count": null,
            "_view_module": "@jupyter-widgets/controls",
            "_view_module_version": "1.5.0",
            "_view_name": "HTMLView",
            "description": "",
            "description_tooltip": null,
            "layout": "IPY_MODEL_385400fb1ab54312995ec051f010f453",
            "placeholder": "​",
            "style": "IPY_MODEL_9ac9f87d43cb43ea9ff585305a0882cf",
            "value": " 2.24G/2.24G [00:20&lt;00:00, 193MB/s]"
          }
        },
        "7074b66ebf12437680b9c030b20a373d": {
          "model_module": "@jupyter-widgets/base",
          "model_module_version": "1.2.0",
          "model_name": "LayoutModel",
          "state": {
            "_model_module": "@jupyter-widgets/base",
            "_model_module_version": "1.2.0",
            "_model_name": "LayoutModel",
            "_view_count": null,
            "_view_module": "@jupyter-widgets/base",
            "_view_module_version": "1.2.0",
            "_view_name": "LayoutView",
            "align_content": null,
            "align_items": null,
            "align_self": null,
            "border": null,
            "bottom": null,
            "display": null,
            "flex": null,
            "flex_flow": null,
            "grid_area": null,
            "grid_auto_columns": null,
            "grid_auto_flow": null,
            "grid_auto_rows": null,
            "grid_column": null,
            "grid_gap": null,
            "grid_row": null,
            "grid_template_areas": null,
            "grid_template_columns": null,
            "grid_template_rows": null,
            "height": null,
            "justify_content": null,
            "justify_items": null,
            "left": null,
            "margin": null,
            "max_height": null,
            "max_width": null,
            "min_height": null,
            "min_width": null,
            "object_fit": null,
            "object_position": null,
            "order": null,
            "overflow": null,
            "overflow_x": null,
            "overflow_y": null,
            "padding": null,
            "right": null,
            "top": null,
            "visibility": null,
            "width": null
          }
        },
        "740ab691ad0742cdb85f94f5439ad2e5": {
          "model_module": "@jupyter-widgets/controls",
          "model_module_version": "1.5.0",
          "model_name": "HBoxModel",
          "state": {
            "_dom_classes": [],
            "_model_module": "@jupyter-widgets/controls",
            "_model_module_version": "1.5.0",
            "_model_name": "HBoxModel",
            "_view_count": null,
            "_view_module": "@jupyter-widgets/controls",
            "_view_module_version": "1.5.0",
            "_view_name": "HBoxView",
            "box_style": "",
            "children": [
              "IPY_MODEL_7fd259cc4afa4e6a870b3d6f4d1349ec",
              "IPY_MODEL_88e3c3886c1c46c6908d77e044796031",
              "IPY_MODEL_054194296b9f4c66a8641fe644f05104"
            ],
            "layout": "IPY_MODEL_cef0f49a625248808a36c1795853716b"
          }
        },
        "7fd259cc4afa4e6a870b3d6f4d1349ec": {
          "model_module": "@jupyter-widgets/controls",
          "model_module_version": "1.5.0",
          "model_name": "HTMLModel",
          "state": {
            "_dom_classes": [],
            "_model_module": "@jupyter-widgets/controls",
            "_model_module_version": "1.5.0",
            "_model_name": "HTMLModel",
            "_view_count": null,
            "_view_module": "@jupyter-widgets/controls",
            "_view_module_version": "1.5.0",
            "_view_name": "HTMLView",
            "description": "",
            "description_tooltip": null,
            "layout": "IPY_MODEL_1a12b91af4f54009baf25010a54f4dfc",
            "placeholder": "​",
            "style": "IPY_MODEL_dd4ba9830d2542ba892c2aac7f61abc8",
            "value": "special_tokens_map.json: 100%"
          }
        },
        "82e112c1dfa84de8855fdbccb0c42cad": {
          "model_module": "@jupyter-widgets/base",
          "model_module_version": "1.2.0",
          "model_name": "LayoutModel",
          "state": {
            "_model_module": "@jupyter-widgets/base",
            "_model_module_version": "1.2.0",
            "_model_name": "LayoutModel",
            "_view_count": null,
            "_view_module": "@jupyter-widgets/base",
            "_view_module_version": "1.2.0",
            "_view_name": "LayoutView",
            "align_content": null,
            "align_items": null,
            "align_self": null,
            "border": null,
            "bottom": null,
            "display": null,
            "flex": null,
            "flex_flow": null,
            "grid_area": null,
            "grid_auto_columns": null,
            "grid_auto_flow": null,
            "grid_auto_rows": null,
            "grid_column": null,
            "grid_gap": null,
            "grid_row": null,
            "grid_template_areas": null,
            "grid_template_columns": null,
            "grid_template_rows": null,
            "height": null,
            "justify_content": null,
            "justify_items": null,
            "left": null,
            "margin": null,
            "max_height": null,
            "max_width": null,
            "min_height": null,
            "min_width": null,
            "object_fit": null,
            "object_position": null,
            "order": null,
            "overflow": null,
            "overflow_x": null,
            "overflow_y": null,
            "padding": null,
            "right": null,
            "top": null,
            "visibility": null,
            "width": null
          }
        },
        "88e3c3886c1c46c6908d77e044796031": {
          "model_module": "@jupyter-widgets/controls",
          "model_module_version": "1.5.0",
          "model_name": "FloatProgressModel",
          "state": {
            "_dom_classes": [],
            "_model_module": "@jupyter-widgets/controls",
            "_model_module_version": "1.5.0",
            "_model_name": "FloatProgressModel",
            "_view_count": null,
            "_view_module": "@jupyter-widgets/controls",
            "_view_module_version": "1.5.0",
            "_view_name": "ProgressView",
            "bar_style": "success",
            "description": "",
            "description_tooltip": null,
            "layout": "IPY_MODEL_82e112c1dfa84de8855fdbccb0c42cad",
            "max": 280,
            "min": 0,
            "orientation": "horizontal",
            "style": "IPY_MODEL_e875dc55081e422fa79859a4226866c7",
            "value": 280
          }
        },
        "922b7799b67a47a390f66e9fbc3fd340": {
          "model_module": "@jupyter-widgets/base",
          "model_module_version": "1.2.0",
          "model_name": "LayoutModel",
          "state": {
            "_model_module": "@jupyter-widgets/base",
            "_model_module_version": "1.2.0",
            "_model_name": "LayoutModel",
            "_view_count": null,
            "_view_module": "@jupyter-widgets/base",
            "_view_module_version": "1.2.0",
            "_view_name": "LayoutView",
            "align_content": null,
            "align_items": null,
            "align_self": null,
            "border": null,
            "bottom": null,
            "display": null,
            "flex": null,
            "flex_flow": null,
            "grid_area": null,
            "grid_auto_columns": null,
            "grid_auto_flow": null,
            "grid_auto_rows": null,
            "grid_column": null,
            "grid_gap": null,
            "grid_row": null,
            "grid_template_areas": null,
            "grid_template_columns": null,
            "grid_template_rows": null,
            "height": null,
            "justify_content": null,
            "justify_items": null,
            "left": null,
            "margin": null,
            "max_height": null,
            "max_width": null,
            "min_height": null,
            "min_width": null,
            "object_fit": null,
            "object_position": null,
            "order": null,
            "overflow": null,
            "overflow_x": null,
            "overflow_y": null,
            "padding": null,
            "right": null,
            "top": null,
            "visibility": null,
            "width": null
          }
        },
        "9379413e81f047e18db74421c85d9fd0": {
          "model_module": "@jupyter-widgets/controls",
          "model_module_version": "1.5.0",
          "model_name": "DescriptionStyleModel",
          "state": {
            "_model_module": "@jupyter-widgets/controls",
            "_model_module_version": "1.5.0",
            "_model_name": "DescriptionStyleModel",
            "_view_count": null,
            "_view_module": "@jupyter-widgets/base",
            "_view_module_version": "1.2.0",
            "_view_name": "StyleView",
            "description_width": ""
          }
        },
        "947c1fc4079347288a2022a31d709a52": {
          "model_module": "@jupyter-widgets/controls",
          "model_module_version": "1.5.0",
          "model_name": "HBoxModel",
          "state": {
            "_dom_classes": [],
            "_model_module": "@jupyter-widgets/controls",
            "_model_module_version": "1.5.0",
            "_model_name": "HBoxModel",
            "_view_count": null,
            "_view_module": "@jupyter-widgets/controls",
            "_view_module_version": "1.5.0",
            "_view_name": "HBoxView",
            "box_style": "",
            "children": [
              "IPY_MODEL_269392509ed54534ac019d7f292da084",
              "IPY_MODEL_a9872e2e4f3c45a7926d911a7a9b865f",
              "IPY_MODEL_67cb1d250bab4db3a13a8e9d9d708834"
            ],
            "layout": "IPY_MODEL_666b2b9cd3a5458ab2a5a99d41c70ed3"
          }
        },
        "9ac9f87d43cb43ea9ff585305a0882cf": {
          "model_module": "@jupyter-widgets/controls",
          "model_module_version": "1.5.0",
          "model_name": "DescriptionStyleModel",
          "state": {
            "_model_module": "@jupyter-widgets/controls",
            "_model_module_version": "1.5.0",
            "_model_name": "DescriptionStyleModel",
            "_view_count": null,
            "_view_module": "@jupyter-widgets/base",
            "_view_module_version": "1.2.0",
            "_view_name": "StyleView",
            "description_width": ""
          }
        },
        "a4d39b09979d4adebbecf102a55ac3ba": {
          "model_module": "@jupyter-widgets/base",
          "model_module_version": "1.2.0",
          "model_name": "LayoutModel",
          "state": {
            "_model_module": "@jupyter-widgets/base",
            "_model_module_version": "1.2.0",
            "_model_name": "LayoutModel",
            "_view_count": null,
            "_view_module": "@jupyter-widgets/base",
            "_view_module_version": "1.2.0",
            "_view_name": "LayoutView",
            "align_content": null,
            "align_items": null,
            "align_self": null,
            "border": null,
            "bottom": null,
            "display": null,
            "flex": null,
            "flex_flow": null,
            "grid_area": null,
            "grid_auto_columns": null,
            "grid_auto_flow": null,
            "grid_auto_rows": null,
            "grid_column": null,
            "grid_gap": null,
            "grid_row": null,
            "grid_template_areas": null,
            "grid_template_columns": null,
            "grid_template_rows": null,
            "height": null,
            "justify_content": null,
            "justify_items": null,
            "left": null,
            "margin": null,
            "max_height": null,
            "max_width": null,
            "min_height": null,
            "min_width": null,
            "object_fit": null,
            "object_position": null,
            "order": null,
            "overflow": null,
            "overflow_x": null,
            "overflow_y": null,
            "padding": null,
            "right": null,
            "top": null,
            "visibility": null,
            "width": null
          }
        },
        "a5457c48736f43ffbbfeb45efded9ac5": {
          "model_module": "@jupyter-widgets/controls",
          "model_module_version": "1.5.0",
          "model_name": "DescriptionStyleModel",
          "state": {
            "_model_module": "@jupyter-widgets/controls",
            "_model_module_version": "1.5.0",
            "_model_name": "DescriptionStyleModel",
            "_view_count": null,
            "_view_module": "@jupyter-widgets/base",
            "_view_module_version": "1.2.0",
            "_view_name": "StyleView",
            "description_width": ""
          }
        },
        "a9872e2e4f3c45a7926d911a7a9b865f": {
          "model_module": "@jupyter-widgets/controls",
          "model_module_version": "1.5.0",
          "model_name": "FloatProgressModel",
          "state": {
            "_dom_classes": [],
            "_model_module": "@jupyter-widgets/controls",
            "_model_module_version": "1.5.0",
            "_model_name": "FloatProgressModel",
            "_view_count": null,
            "_view_module": "@jupyter-widgets/controls",
            "_view_module_version": "1.5.0",
            "_view_name": "ProgressView",
            "bar_style": "success",
            "description": "",
            "description_tooltip": null,
            "layout": "IPY_MODEL_670f367924594e3cb2d435eb06b6b4c7",
            "max": 2239611368,
            "min": 0,
            "orientation": "horizontal",
            "style": "IPY_MODEL_3f1b9a859a0d4bf0b0de70c5986d700e",
            "value": 2239611368
          }
        },
        "aa268a23eeb64237b5a5c831b34b8ebd": {
          "model_module": "@jupyter-widgets/controls",
          "model_module_version": "1.5.0",
          "model_name": "DescriptionStyleModel",
          "state": {
            "_model_module": "@jupyter-widgets/controls",
            "_model_module_version": "1.5.0",
            "_model_name": "DescriptionStyleModel",
            "_view_count": null,
            "_view_module": "@jupyter-widgets/base",
            "_view_module_version": "1.2.0",
            "_view_name": "StyleView",
            "description_width": ""
          }
        },
        "aad2e946fdef460c97789bdec15304c7": {
          "model_module": "@jupyter-widgets/controls",
          "model_module_version": "1.5.0",
          "model_name": "DescriptionStyleModel",
          "state": {
            "_model_module": "@jupyter-widgets/controls",
            "_model_module_version": "1.5.0",
            "_model_name": "DescriptionStyleModel",
            "_view_count": null,
            "_view_module": "@jupyter-widgets/base",
            "_view_module_version": "1.2.0",
            "_view_name": "StyleView",
            "description_width": ""
          }
        },
        "abf44134faa849f2892ef4303e833f24": {
          "model_module": "@jupyter-widgets/base",
          "model_module_version": "1.2.0",
          "model_name": "LayoutModel",
          "state": {
            "_model_module": "@jupyter-widgets/base",
            "_model_module_version": "1.2.0",
            "_model_name": "LayoutModel",
            "_view_count": null,
            "_view_module": "@jupyter-widgets/base",
            "_view_module_version": "1.2.0",
            "_view_name": "LayoutView",
            "align_content": null,
            "align_items": null,
            "align_self": null,
            "border": null,
            "bottom": null,
            "display": null,
            "flex": null,
            "flex_flow": null,
            "grid_area": null,
            "grid_auto_columns": null,
            "grid_auto_flow": null,
            "grid_auto_rows": null,
            "grid_column": null,
            "grid_gap": null,
            "grid_row": null,
            "grid_template_areas": null,
            "grid_template_columns": null,
            "grid_template_rows": null,
            "height": null,
            "justify_content": null,
            "justify_items": null,
            "left": null,
            "margin": null,
            "max_height": null,
            "max_width": null,
            "min_height": null,
            "min_width": null,
            "object_fit": null,
            "object_position": null,
            "order": null,
            "overflow": null,
            "overflow_x": null,
            "overflow_y": null,
            "padding": null,
            "right": null,
            "top": null,
            "visibility": null,
            "width": null
          }
        },
        "b7baec79376f4c98a4146ee459ecbb8f": {
          "model_module": "@jupyter-widgets/controls",
          "model_module_version": "1.5.0",
          "model_name": "HBoxModel",
          "state": {
            "_dom_classes": [],
            "_model_module": "@jupyter-widgets/controls",
            "_model_module_version": "1.5.0",
            "_model_name": "HBoxModel",
            "_view_count": null,
            "_view_module": "@jupyter-widgets/controls",
            "_view_module_version": "1.5.0",
            "_view_name": "HBoxView",
            "box_style": "",
            "children": [
              "IPY_MODEL_d9a483761a9f43b99ab0322dcaea7b93",
              "IPY_MODEL_67baa3b9b2bb4d6ebaac18985ed777d1",
              "IPY_MODEL_14661e4d95e846e9afefbccab13d5e51"
            ],
            "layout": "IPY_MODEL_be729aa977ee4feabce9b78144178cae"
          }
        },
        "b8b530f7101c463d8d9e7f9aced12d49": {
          "model_module": "@jupyter-widgets/controls",
          "model_module_version": "1.5.0",
          "model_name": "DescriptionStyleModel",
          "state": {
            "_model_module": "@jupyter-widgets/controls",
            "_model_module_version": "1.5.0",
            "_model_name": "DescriptionStyleModel",
            "_view_count": null,
            "_view_module": "@jupyter-widgets/base",
            "_view_module_version": "1.2.0",
            "_view_name": "StyleView",
            "description_width": ""
          }
        },
        "be729aa977ee4feabce9b78144178cae": {
          "model_module": "@jupyter-widgets/base",
          "model_module_version": "1.2.0",
          "model_name": "LayoutModel",
          "state": {
            "_model_module": "@jupyter-widgets/base",
            "_model_module_version": "1.2.0",
            "_model_name": "LayoutModel",
            "_view_count": null,
            "_view_module": "@jupyter-widgets/base",
            "_view_module_version": "1.2.0",
            "_view_name": "LayoutView",
            "align_content": null,
            "align_items": null,
            "align_self": null,
            "border": null,
            "bottom": null,
            "display": null,
            "flex": null,
            "flex_flow": null,
            "grid_area": null,
            "grid_auto_columns": null,
            "grid_auto_flow": null,
            "grid_auto_rows": null,
            "grid_column": null,
            "grid_gap": null,
            "grid_row": null,
            "grid_template_areas": null,
            "grid_template_columns": null,
            "grid_template_rows": null,
            "height": null,
            "justify_content": null,
            "justify_items": null,
            "left": null,
            "margin": null,
            "max_height": null,
            "max_width": null,
            "min_height": null,
            "min_width": null,
            "object_fit": null,
            "object_position": null,
            "order": null,
            "overflow": null,
            "overflow_x": null,
            "overflow_y": null,
            "padding": null,
            "right": null,
            "top": null,
            "visibility": null,
            "width": null
          }
        },
        "c406a97d5c624e6cb756ebca56d48aaa": {
          "model_module": "@jupyter-widgets/base",
          "model_module_version": "1.2.0",
          "model_name": "LayoutModel",
          "state": {
            "_model_module": "@jupyter-widgets/base",
            "_model_module_version": "1.2.0",
            "_model_name": "LayoutModel",
            "_view_count": null,
            "_view_module": "@jupyter-widgets/base",
            "_view_module_version": "1.2.0",
            "_view_name": "LayoutView",
            "align_content": null,
            "align_items": null,
            "align_self": null,
            "border": null,
            "bottom": null,
            "display": null,
            "flex": null,
            "flex_flow": null,
            "grid_area": null,
            "grid_auto_columns": null,
            "grid_auto_flow": null,
            "grid_auto_rows": null,
            "grid_column": null,
            "grid_gap": null,
            "grid_row": null,
            "grid_template_areas": null,
            "grid_template_columns": null,
            "grid_template_rows": null,
            "height": null,
            "justify_content": null,
            "justify_items": null,
            "left": null,
            "margin": null,
            "max_height": null,
            "max_width": null,
            "min_height": null,
            "min_width": null,
            "object_fit": null,
            "object_position": null,
            "order": null,
            "overflow": null,
            "overflow_x": null,
            "overflow_y": null,
            "padding": null,
            "right": null,
            "top": null,
            "visibility": null,
            "width": null
          }
        },
        "c9dd5663ce8a429a9182fe54273cdd34": {
          "model_module": "@jupyter-widgets/base",
          "model_module_version": "1.2.0",
          "model_name": "LayoutModel",
          "state": {
            "_model_module": "@jupyter-widgets/base",
            "_model_module_version": "1.2.0",
            "_model_name": "LayoutModel",
            "_view_count": null,
            "_view_module": "@jupyter-widgets/base",
            "_view_module_version": "1.2.0",
            "_view_name": "LayoutView",
            "align_content": null,
            "align_items": null,
            "align_self": null,
            "border": null,
            "bottom": null,
            "display": null,
            "flex": null,
            "flex_flow": null,
            "grid_area": null,
            "grid_auto_columns": null,
            "grid_auto_flow": null,
            "grid_auto_rows": null,
            "grid_column": null,
            "grid_gap": null,
            "grid_row": null,
            "grid_template_areas": null,
            "grid_template_columns": null,
            "grid_template_rows": null,
            "height": null,
            "justify_content": null,
            "justify_items": null,
            "left": null,
            "margin": null,
            "max_height": null,
            "max_width": null,
            "min_height": null,
            "min_width": null,
            "object_fit": null,
            "object_position": null,
            "order": null,
            "overflow": null,
            "overflow_x": null,
            "overflow_y": null,
            "padding": null,
            "right": null,
            "top": null,
            "visibility": null,
            "width": null
          }
        },
        "cef0f49a625248808a36c1795853716b": {
          "model_module": "@jupyter-widgets/base",
          "model_module_version": "1.2.0",
          "model_name": "LayoutModel",
          "state": {
            "_model_module": "@jupyter-widgets/base",
            "_model_module_version": "1.2.0",
            "_model_name": "LayoutModel",
            "_view_count": null,
            "_view_module": "@jupyter-widgets/base",
            "_view_module_version": "1.2.0",
            "_view_name": "LayoutView",
            "align_content": null,
            "align_items": null,
            "align_self": null,
            "border": null,
            "bottom": null,
            "display": null,
            "flex": null,
            "flex_flow": null,
            "grid_area": null,
            "grid_auto_columns": null,
            "grid_auto_flow": null,
            "grid_auto_rows": null,
            "grid_column": null,
            "grid_gap": null,
            "grid_row": null,
            "grid_template_areas": null,
            "grid_template_columns": null,
            "grid_template_rows": null,
            "height": null,
            "justify_content": null,
            "justify_items": null,
            "left": null,
            "margin": null,
            "max_height": null,
            "max_width": null,
            "min_height": null,
            "min_width": null,
            "object_fit": null,
            "object_position": null,
            "order": null,
            "overflow": null,
            "overflow_x": null,
            "overflow_y": null,
            "padding": null,
            "right": null,
            "top": null,
            "visibility": null,
            "width": null
          }
        },
        "d057f80087ea4650b426884386787313": {
          "model_module": "@jupyter-widgets/base",
          "model_module_version": "1.2.0",
          "model_name": "LayoutModel",
          "state": {
            "_model_module": "@jupyter-widgets/base",
            "_model_module_version": "1.2.0",
            "_model_name": "LayoutModel",
            "_view_count": null,
            "_view_module": "@jupyter-widgets/base",
            "_view_module_version": "1.2.0",
            "_view_name": "LayoutView",
            "align_content": null,
            "align_items": null,
            "align_self": null,
            "border": null,
            "bottom": null,
            "display": null,
            "flex": null,
            "flex_flow": null,
            "grid_area": null,
            "grid_auto_columns": null,
            "grid_auto_flow": null,
            "grid_auto_rows": null,
            "grid_column": null,
            "grid_gap": null,
            "grid_row": null,
            "grid_template_areas": null,
            "grid_template_columns": null,
            "grid_template_rows": null,
            "height": null,
            "justify_content": null,
            "justify_items": null,
            "left": null,
            "margin": null,
            "max_height": null,
            "max_width": null,
            "min_height": null,
            "min_width": null,
            "object_fit": null,
            "object_position": null,
            "order": null,
            "overflow": null,
            "overflow_x": null,
            "overflow_y": null,
            "padding": null,
            "right": null,
            "top": null,
            "visibility": null,
            "width": null
          }
        },
        "d846c09989524681bdae3cd7243d0ba9": {
          "model_module": "@jupyter-widgets/controls",
          "model_module_version": "1.5.0",
          "model_name": "ProgressStyleModel",
          "state": {
            "_model_module": "@jupyter-widgets/controls",
            "_model_module_version": "1.5.0",
            "_model_name": "ProgressStyleModel",
            "_view_count": null,
            "_view_module": "@jupyter-widgets/base",
            "_view_module_version": "1.2.0",
            "_view_name": "StyleView",
            "bar_color": null,
            "description_width": ""
          }
        },
        "d9a483761a9f43b99ab0322dcaea7b93": {
          "model_module": "@jupyter-widgets/controls",
          "model_module_version": "1.5.0",
          "model_name": "HTMLModel",
          "state": {
            "_dom_classes": [],
            "_model_module": "@jupyter-widgets/controls",
            "_model_module_version": "1.5.0",
            "_model_name": "HTMLModel",
            "_view_count": null,
            "_view_module": "@jupyter-widgets/controls",
            "_view_module_version": "1.5.0",
            "_view_name": "HTMLView",
            "description": "",
            "description_tooltip": null,
            "layout": "IPY_MODEL_52990a5de5ad4b729f956d4adab4a246",
            "placeholder": "​",
            "style": "IPY_MODEL_54419c8e634f47b492185c63bdde054d",
            "value": "tokenizer_config.json: 100%"
          }
        },
        "dd25c88042d149ca839054c19a9fe3b4": {
          "model_module": "@jupyter-widgets/base",
          "model_module_version": "1.2.0",
          "model_name": "LayoutModel",
          "state": {
            "_model_module": "@jupyter-widgets/base",
            "_model_module_version": "1.2.0",
            "_model_name": "LayoutModel",
            "_view_count": null,
            "_view_module": "@jupyter-widgets/base",
            "_view_module_version": "1.2.0",
            "_view_name": "LayoutView",
            "align_content": null,
            "align_items": null,
            "align_self": null,
            "border": null,
            "bottom": null,
            "display": null,
            "flex": null,
            "flex_flow": null,
            "grid_area": null,
            "grid_auto_columns": null,
            "grid_auto_flow": null,
            "grid_auto_rows": null,
            "grid_column": null,
            "grid_gap": null,
            "grid_row": null,
            "grid_template_areas": null,
            "grid_template_columns": null,
            "grid_template_rows": null,
            "height": null,
            "justify_content": null,
            "justify_items": null,
            "left": null,
            "margin": null,
            "max_height": null,
            "max_width": null,
            "min_height": null,
            "min_width": null,
            "object_fit": null,
            "object_position": null,
            "order": null,
            "overflow": null,
            "overflow_x": null,
            "overflow_y": null,
            "padding": null,
            "right": null,
            "top": null,
            "visibility": null,
            "width": null
          }
        },
        "dd4ba9830d2542ba892c2aac7f61abc8": {
          "model_module": "@jupyter-widgets/controls",
          "model_module_version": "1.5.0",
          "model_name": "DescriptionStyleModel",
          "state": {
            "_model_module": "@jupyter-widgets/controls",
            "_model_module_version": "1.5.0",
            "_model_name": "DescriptionStyleModel",
            "_view_count": null,
            "_view_module": "@jupyter-widgets/base",
            "_view_module_version": "1.2.0",
            "_view_name": "StyleView",
            "description_width": ""
          }
        },
        "e10bee694f434a25adce52139ffdec2d": {
          "model_module": "@jupyter-widgets/controls",
          "model_module_version": "1.5.0",
          "model_name": "ProgressStyleModel",
          "state": {
            "_model_module": "@jupyter-widgets/controls",
            "_model_module_version": "1.5.0",
            "_model_name": "ProgressStyleModel",
            "_view_count": null,
            "_view_module": "@jupyter-widgets/base",
            "_view_module_version": "1.2.0",
            "_view_name": "StyleView",
            "bar_color": null,
            "description_width": ""
          }
        },
        "e706474299b34c7480518e75ae298d69": {
          "model_module": "@jupyter-widgets/controls",
          "model_module_version": "1.5.0",
          "model_name": "DescriptionStyleModel",
          "state": {
            "_model_module": "@jupyter-widgets/controls",
            "_model_module_version": "1.5.0",
            "_model_name": "DescriptionStyleModel",
            "_view_count": null,
            "_view_module": "@jupyter-widgets/base",
            "_view_module_version": "1.2.0",
            "_view_name": "StyleView",
            "description_width": ""
          }
        },
        "e875dc55081e422fa79859a4226866c7": {
          "model_module": "@jupyter-widgets/controls",
          "model_module_version": "1.5.0",
          "model_name": "ProgressStyleModel",
          "state": {
            "_model_module": "@jupyter-widgets/controls",
            "_model_module_version": "1.5.0",
            "_model_name": "ProgressStyleModel",
            "_view_count": null,
            "_view_module": "@jupyter-widgets/base",
            "_view_module_version": "1.2.0",
            "_view_name": "StyleView",
            "bar_color": null,
            "description_width": ""
          }
        },
        "ea97a4a252b8490caee9ff5b0ff4180d": {
          "model_module": "@jupyter-widgets/base",
          "model_module_version": "1.2.0",
          "model_name": "LayoutModel",
          "state": {
            "_model_module": "@jupyter-widgets/base",
            "_model_module_version": "1.2.0",
            "_model_name": "LayoutModel",
            "_view_count": null,
            "_view_module": "@jupyter-widgets/base",
            "_view_module_version": "1.2.0",
            "_view_name": "LayoutView",
            "align_content": null,
            "align_items": null,
            "align_self": null,
            "border": null,
            "bottom": null,
            "display": null,
            "flex": null,
            "flex_flow": null,
            "grid_area": null,
            "grid_auto_columns": null,
            "grid_auto_flow": null,
            "grid_auto_rows": null,
            "grid_column": null,
            "grid_gap": null,
            "grid_row": null,
            "grid_template_areas": null,
            "grid_template_columns": null,
            "grid_template_rows": null,
            "height": null,
            "justify_content": null,
            "justify_items": null,
            "left": null,
            "margin": null,
            "max_height": null,
            "max_width": null,
            "min_height": null,
            "min_width": null,
            "object_fit": null,
            "object_position": null,
            "order": null,
            "overflow": null,
            "overflow_x": null,
            "overflow_y": null,
            "padding": null,
            "right": null,
            "top": null,
            "visibility": null,
            "width": null
          }
        },
        "ee5278a0d59f424287aee8a08d505578": {
          "model_module": "@jupyter-widgets/controls",
          "model_module_version": "1.5.0",
          "model_name": "FloatProgressModel",
          "state": {
            "_dom_classes": [],
            "_model_module": "@jupyter-widgets/controls",
            "_model_module_version": "1.5.0",
            "_model_name": "FloatProgressModel",
            "_view_count": null,
            "_view_module": "@jupyter-widgets/controls",
            "_view_module_version": "1.5.0",
            "_view_name": "ProgressView",
            "bar_style": "success",
            "description": "",
            "description_tooltip": null,
            "layout": "IPY_MODEL_7074b66ebf12437680b9c030b20a373d",
            "max": 17082660,
            "min": 0,
            "orientation": "horizontal",
            "style": "IPY_MODEL_d846c09989524681bdae3cd7243d0ba9",
            "value": 17082660
          }
        },
        "eec0960a6a6145e29ca3e3dcace1c7c0": {
          "model_module": "@jupyter-widgets/controls",
          "model_module_version": "1.5.0",
          "model_name": "HBoxModel",
          "state": {
            "_dom_classes": [],
            "_model_module": "@jupyter-widgets/controls",
            "_model_module_version": "1.5.0",
            "_model_name": "HBoxModel",
            "_view_count": null,
            "_view_module": "@jupyter-widgets/controls",
            "_view_module_version": "1.5.0",
            "_view_name": "HBoxView",
            "box_style": "",
            "children": [
              "IPY_MODEL_6564519de1c147f1ba61f9574afb7acd",
              "IPY_MODEL_3907254e422c4d9e9fe2be3858f5c057",
              "IPY_MODEL_1bb7b3413dd04ac2a55105e398402f3b"
            ],
            "layout": "IPY_MODEL_abf44134faa849f2892ef4303e833f24"
          }
        },
        "f05cc7bac6cd408599ba9184635c94d2": {
          "model_module": "@jupyter-widgets/controls",
          "model_module_version": "1.5.0",
          "model_name": "ProgressStyleModel",
          "state": {
            "_model_module": "@jupyter-widgets/controls",
            "_model_module_version": "1.5.0",
            "_model_name": "ProgressStyleModel",
            "_view_count": null,
            "_view_module": "@jupyter-widgets/base",
            "_view_module_version": "1.2.0",
            "_view_name": "StyleView",
            "bar_color": null,
            "description_width": ""
          }
        },
        "f12ae42aba1346e693deafb1fc111f67": {
          "model_module": "@jupyter-widgets/base",
          "model_module_version": "1.2.0",
          "model_name": "LayoutModel",
          "state": {
            "_model_module": "@jupyter-widgets/base",
            "_model_module_version": "1.2.0",
            "_model_name": "LayoutModel",
            "_view_count": null,
            "_view_module": "@jupyter-widgets/base",
            "_view_module_version": "1.2.0",
            "_view_name": "LayoutView",
            "align_content": null,
            "align_items": null,
            "align_self": null,
            "border": null,
            "bottom": null,
            "display": null,
            "flex": null,
            "flex_flow": null,
            "grid_area": null,
            "grid_auto_columns": null,
            "grid_auto_flow": null,
            "grid_auto_rows": null,
            "grid_column": null,
            "grid_gap": null,
            "grid_row": null,
            "grid_template_areas": null,
            "grid_template_columns": null,
            "grid_template_rows": null,
            "height": null,
            "justify_content": null,
            "justify_items": null,
            "left": null,
            "margin": null,
            "max_height": null,
            "max_width": null,
            "min_height": null,
            "min_width": null,
            "object_fit": null,
            "object_position": null,
            "order": null,
            "overflow": null,
            "overflow_x": null,
            "overflow_y": null,
            "padding": null,
            "right": null,
            "top": null,
            "visibility": null,
            "width": null
          }
        },
        "f13ecf0b8ecf44b38626d10897757789": {
          "model_module": "@jupyter-widgets/controls",
          "model_module_version": "1.5.0",
          "model_name": "HTMLModel",
          "state": {
            "_dom_classes": [],
            "_model_module": "@jupyter-widgets/controls",
            "_model_module_version": "1.5.0",
            "_model_name": "HTMLModel",
            "_view_count": null,
            "_view_module": "@jupyter-widgets/controls",
            "_view_module_version": "1.5.0",
            "_view_name": "HTMLView",
            "description": "",
            "description_tooltip": null,
            "layout": "IPY_MODEL_a4d39b09979d4adebbecf102a55ac3ba",
            "placeholder": "​",
            "style": "IPY_MODEL_9379413e81f047e18db74421c85d9fd0",
            "value": "sentencepiece.bpe.model: 100%"
          }
        },
        "f2dc9fe704cd4c45b012c4f111f8bce1": {
          "model_module": "@jupyter-widgets/controls",
          "model_module_version": "1.5.0",
          "model_name": "DescriptionStyleModel",
          "state": {
            "_model_module": "@jupyter-widgets/controls",
            "_model_module_version": "1.5.0",
            "_model_name": "DescriptionStyleModel",
            "_view_count": null,
            "_view_module": "@jupyter-widgets/base",
            "_view_module_version": "1.2.0",
            "_view_name": "StyleView",
            "description_width": ""
          }
        }
      }
    }
  },
  "nbformat": 4,
  "nbformat_minor": 0
}
